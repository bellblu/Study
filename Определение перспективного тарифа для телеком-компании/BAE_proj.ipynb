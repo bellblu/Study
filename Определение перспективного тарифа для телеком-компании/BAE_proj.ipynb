{
 "cells": [
  {
   "cell_type": "markdown",
   "metadata": {},
   "source": [
    "# Определение перспективного тарифа компании \"Мегалайн\""
   ]
  },
  {
   "cell_type": "markdown",
   "metadata": {},
   "source": [
    "В данном проекте будут проведены иследования двух тарифных планов \"Смарт\" и \"Ультра\"\n",
    "\n",
    "**Цель иследования** - выявить тариф который приносит больше денег компании \"Мегалайн\"\n",
    "\n",
    "**Описание тарифов**\n",
    "Тариф \"Смарт\":\n",
    "1. Ежемесячная плата: 550 рублей\n",
    "2. Включено 500 минут разговора, 50 сообщений и 15 Гб интернет-трафика\n",
    "3. Стоимость услуг сверх тарифного пакета: 1. минута разговора: 3 рубля («Мегалайн» всегда округляет вверх значения минут и мегабайтов. Если пользователь проговорил всего 1 секунду, в тарифе засчитывается целая минута); 2. сообщение: 3 рубля; 3. 1 Гб интернет-трафика: 200 рублей.\n",
    "\n",
    "Тариф \"Ультра\":\n",
    "1. Ежемесячная плата: 1950 рублей\n",
    "2. Включено 3000 минут разговора, 1000 сообщений и 30 Гб интернет-трафика\n",
    "3. Стоимость услуг сверх тарифного пакета: 1. минута разговора: 1 рубль; 2. сообщение: 1 рубль; 3. 1 Гб интернет-трафика: 150 рублей.\n",
    "\n",
    "**Имеющиеся данные** - Небольшая выборка клиентов. Данные 500 пользователей «Мегалайна»: кто они, откуда, каким тарифом пользуются, сколько звонков и сообщений каждый отправил за 2018 год.\n",
    "\n",
    "**План иследования:**\n",
    "1. Знакомство с данными\n",
    "2. Предобработка данных\n",
    "3. Анализ данных\n",
    "4. Формулировка и проверка гипотез\n",
    "5. Вывод"
   ]
  },
  {
   "cell_type": "markdown",
   "metadata": {},
   "source": [
    "**Импорт необходимых для проекта библиотек**"
   ]
  },
  {
   "cell_type": "code",
   "execution_count": 1,
   "metadata": {},
   "outputs": [],
   "source": [
    "import pandas as pd\n",
    "import numpy as np\n",
    "from scipy import stats as st\n",
    "from matplotlib import pyplot as plt\n",
    "pd.set_option('display.max_columns', 500)\n",
    "pd.set_option('display.float_format', '{:.2f}'.format)"
   ]
  },
  {
   "cell_type": "markdown",
   "metadata": {},
   "source": [
    "## Знакомство с данными"
   ]
  },
  {
   "cell_type": "markdown",
   "metadata": {},
   "source": [
    "Открываем файлы"
   ]
  },
  {
   "cell_type": "code",
   "execution_count": 2,
   "metadata": {},
   "outputs": [],
   "source": [
    "calls = pd.read_csv('/datasets/calls.csv')\n",
    "internet = pd.read_csv('/datasets/internet.csv')\n",
    "messages = pd.read_csv('/datasets/messages.csv')\n",
    "tariffs = pd.read_csv('/datasets/tariffs.csv')\n",
    "users = pd.read_csv('/datasets/users.csv')\n"
   ]
  },
  {
   "cell_type": "markdown",
   "metadata": {},
   "source": [
    "Изучим данные"
   ]
  },
  {
   "cell_type": "code",
   "execution_count": 3,
   "metadata": {},
   "outputs": [
    {
     "name": "stdout",
     "output_type": "stream",
     "text": [
      "<class 'pandas.core.frame.DataFrame'>\n",
      "RangeIndex: 202607 entries, 0 to 202606\n",
      "Data columns (total 4 columns):\n",
      "id           202607 non-null object\n",
      "call_date    202607 non-null object\n",
      "duration     202607 non-null float64\n",
      "user_id      202607 non-null int64\n",
      "dtypes: float64(1), int64(1), object(2)\n",
      "memory usage: 6.2+ MB\n"
     ]
    },
    {
     "data": {
      "text/html": [
       "<div>\n",
       "<style scoped>\n",
       "    .dataframe tbody tr th:only-of-type {\n",
       "        vertical-align: middle;\n",
       "    }\n",
       "\n",
       "    .dataframe tbody tr th {\n",
       "        vertical-align: top;\n",
       "    }\n",
       "\n",
       "    .dataframe thead th {\n",
       "        text-align: right;\n",
       "    }\n",
       "</style>\n",
       "<table border=\"1\" class=\"dataframe\">\n",
       "  <thead>\n",
       "    <tr style=\"text-align: right;\">\n",
       "      <th></th>\n",
       "      <th>id</th>\n",
       "      <th>call_date</th>\n",
       "      <th>duration</th>\n",
       "      <th>user_id</th>\n",
       "    </tr>\n",
       "  </thead>\n",
       "  <tbody>\n",
       "    <tr>\n",
       "      <td>0</td>\n",
       "      <td>1000_0</td>\n",
       "      <td>2018-07-25</td>\n",
       "      <td>0.00</td>\n",
       "      <td>1000</td>\n",
       "    </tr>\n",
       "    <tr>\n",
       "      <td>1</td>\n",
       "      <td>1000_1</td>\n",
       "      <td>2018-08-17</td>\n",
       "      <td>0.00</td>\n",
       "      <td>1000</td>\n",
       "    </tr>\n",
       "    <tr>\n",
       "      <td>2</td>\n",
       "      <td>1000_2</td>\n",
       "      <td>2018-06-11</td>\n",
       "      <td>2.85</td>\n",
       "      <td>1000</td>\n",
       "    </tr>\n",
       "    <tr>\n",
       "      <td>3</td>\n",
       "      <td>1000_3</td>\n",
       "      <td>2018-09-21</td>\n",
       "      <td>13.80</td>\n",
       "      <td>1000</td>\n",
       "    </tr>\n",
       "    <tr>\n",
       "      <td>4</td>\n",
       "      <td>1000_4</td>\n",
       "      <td>2018-12-15</td>\n",
       "      <td>5.18</td>\n",
       "      <td>1000</td>\n",
       "    </tr>\n",
       "  </tbody>\n",
       "</table>\n",
       "</div>"
      ],
      "text/plain": [
       "       id   call_date  duration  user_id\n",
       "0  1000_0  2018-07-25      0.00     1000\n",
       "1  1000_1  2018-08-17      0.00     1000\n",
       "2  1000_2  2018-06-11      2.85     1000\n",
       "3  1000_3  2018-09-21     13.80     1000\n",
       "4  1000_4  2018-12-15      5.18     1000"
      ]
     },
     "execution_count": 3,
     "metadata": {},
     "output_type": "execute_result"
    }
   ],
   "source": [
    "calls.info()\n",
    "calls.head()"
   ]
  },
  {
   "cell_type": "code",
   "execution_count": 4,
   "metadata": {},
   "outputs": [
    {
     "data": {
      "text/plain": [
       "Index(['id', 'call_date', 'duration', 'user_id'], dtype='object')"
      ]
     },
     "execution_count": 4,
     "metadata": {},
     "output_type": "execute_result"
    }
   ],
   "source": [
    "calls.columns"
   ]
  },
  {
   "cell_type": "code",
   "execution_count": 5,
   "metadata": {},
   "outputs": [
    {
     "data": {
      "text/plain": [
       "0"
      ]
     },
     "execution_count": 5,
     "metadata": {},
     "output_type": "execute_result"
    }
   ],
   "source": [
    "calls.duplicated().sum()"
   ]
  },
  {
   "cell_type": "code",
   "execution_count": 6,
   "metadata": {},
   "outputs": [
    {
     "data": {
      "text/html": [
       "<div>\n",
       "<style scoped>\n",
       "    .dataframe tbody tr th:only-of-type {\n",
       "        vertical-align: middle;\n",
       "    }\n",
       "\n",
       "    .dataframe tbody tr th {\n",
       "        vertical-align: top;\n",
       "    }\n",
       "\n",
       "    .dataframe thead th {\n",
       "        text-align: right;\n",
       "    }\n",
       "</style>\n",
       "<table border=\"1\" class=\"dataframe\">\n",
       "  <thead>\n",
       "    <tr style=\"text-align: right;\">\n",
       "      <th></th>\n",
       "      <th>duration</th>\n",
       "      <th>user_id</th>\n",
       "    </tr>\n",
       "  </thead>\n",
       "  <tbody>\n",
       "    <tr>\n",
       "      <td>count</td>\n",
       "      <td>202607.00</td>\n",
       "      <td>202607.00</td>\n",
       "    </tr>\n",
       "    <tr>\n",
       "      <td>mean</td>\n",
       "      <td>6.76</td>\n",
       "      <td>1253.94</td>\n",
       "    </tr>\n",
       "    <tr>\n",
       "      <td>std</td>\n",
       "      <td>5.84</td>\n",
       "      <td>144.72</td>\n",
       "    </tr>\n",
       "    <tr>\n",
       "      <td>min</td>\n",
       "      <td>0.00</td>\n",
       "      <td>1000.00</td>\n",
       "    </tr>\n",
       "    <tr>\n",
       "      <td>25%</td>\n",
       "      <td>1.30</td>\n",
       "      <td>1126.00</td>\n",
       "    </tr>\n",
       "    <tr>\n",
       "      <td>50%</td>\n",
       "      <td>6.00</td>\n",
       "      <td>1260.00</td>\n",
       "    </tr>\n",
       "    <tr>\n",
       "      <td>75%</td>\n",
       "      <td>10.70</td>\n",
       "      <td>1379.00</td>\n",
       "    </tr>\n",
       "    <tr>\n",
       "      <td>max</td>\n",
       "      <td>38.00</td>\n",
       "      <td>1499.00</td>\n",
       "    </tr>\n",
       "  </tbody>\n",
       "</table>\n",
       "</div>"
      ],
      "text/plain": [
       "       duration   user_id\n",
       "count 202607.00 202607.00\n",
       "mean       6.76   1253.94\n",
       "std        5.84    144.72\n",
       "min        0.00   1000.00\n",
       "25%        1.30   1126.00\n",
       "50%        6.00   1260.00\n",
       "75%       10.70   1379.00\n",
       "max       38.00   1499.00"
      ]
     },
     "execution_count": 6,
     "metadata": {},
     "output_type": "execute_result"
    }
   ],
   "source": [
    "calls.describe()"
   ]
  },
  {
   "cell_type": "code",
   "execution_count": 7,
   "metadata": {},
   "outputs": [
    {
     "data": {
      "text/plain": [
       "492"
      ]
     },
     "execution_count": 7,
     "metadata": {},
     "output_type": "execute_result"
    }
   ],
   "source": [
    "len(calls['user_id'].unique())"
   ]
  },
  {
   "cell_type": "markdown",
   "metadata": {},
   "source": [
    "**В данных calls:** \n",
    "1. Отсутсвуют пропуски и дубликаты, нет ошибок в названии столбцов\n",
    "2. Необхотимо перевести call_date в формат datetime64\n",
    "3. По количеству уникальных данных в user_id, можно предположить что не все пользователи делали звонки."
   ]
  },
  {
   "cell_type": "code",
   "execution_count": 8,
   "metadata": {
    "scrolled": false
   },
   "outputs": [
    {
     "name": "stdout",
     "output_type": "stream",
     "text": [
      "<class 'pandas.core.frame.DataFrame'>\n",
      "RangeIndex: 149396 entries, 0 to 149395\n",
      "Data columns (total 5 columns):\n",
      "Unnamed: 0      149396 non-null int64\n",
      "id              149396 non-null object\n",
      "mb_used         149396 non-null float64\n",
      "session_date    149396 non-null object\n",
      "user_id         149396 non-null int64\n",
      "dtypes: float64(1), int64(2), object(2)\n",
      "memory usage: 5.7+ MB\n"
     ]
    },
    {
     "data": {
      "text/html": [
       "<div>\n",
       "<style scoped>\n",
       "    .dataframe tbody tr th:only-of-type {\n",
       "        vertical-align: middle;\n",
       "    }\n",
       "\n",
       "    .dataframe tbody tr th {\n",
       "        vertical-align: top;\n",
       "    }\n",
       "\n",
       "    .dataframe thead th {\n",
       "        text-align: right;\n",
       "    }\n",
       "</style>\n",
       "<table border=\"1\" class=\"dataframe\">\n",
       "  <thead>\n",
       "    <tr style=\"text-align: right;\">\n",
       "      <th></th>\n",
       "      <th>Unnamed: 0</th>\n",
       "      <th>id</th>\n",
       "      <th>mb_used</th>\n",
       "      <th>session_date</th>\n",
       "      <th>user_id</th>\n",
       "    </tr>\n",
       "  </thead>\n",
       "  <tbody>\n",
       "    <tr>\n",
       "      <td>0</td>\n",
       "      <td>0</td>\n",
       "      <td>1000_0</td>\n",
       "      <td>112.95</td>\n",
       "      <td>2018-11-25</td>\n",
       "      <td>1000</td>\n",
       "    </tr>\n",
       "    <tr>\n",
       "      <td>1</td>\n",
       "      <td>1</td>\n",
       "      <td>1000_1</td>\n",
       "      <td>1052.81</td>\n",
       "      <td>2018-09-07</td>\n",
       "      <td>1000</td>\n",
       "    </tr>\n",
       "    <tr>\n",
       "      <td>2</td>\n",
       "      <td>2</td>\n",
       "      <td>1000_2</td>\n",
       "      <td>1197.26</td>\n",
       "      <td>2018-06-25</td>\n",
       "      <td>1000</td>\n",
       "    </tr>\n",
       "    <tr>\n",
       "      <td>3</td>\n",
       "      <td>3</td>\n",
       "      <td>1000_3</td>\n",
       "      <td>550.27</td>\n",
       "      <td>2018-08-22</td>\n",
       "      <td>1000</td>\n",
       "    </tr>\n",
       "    <tr>\n",
       "      <td>4</td>\n",
       "      <td>4</td>\n",
       "      <td>1000_4</td>\n",
       "      <td>302.56</td>\n",
       "      <td>2018-09-24</td>\n",
       "      <td>1000</td>\n",
       "    </tr>\n",
       "  </tbody>\n",
       "</table>\n",
       "</div>"
      ],
      "text/plain": [
       "   Unnamed: 0      id  mb_used session_date  user_id\n",
       "0           0  1000_0   112.95   2018-11-25     1000\n",
       "1           1  1000_1  1052.81   2018-09-07     1000\n",
       "2           2  1000_2  1197.26   2018-06-25     1000\n",
       "3           3  1000_3   550.27   2018-08-22     1000\n",
       "4           4  1000_4   302.56   2018-09-24     1000"
      ]
     },
     "execution_count": 8,
     "metadata": {},
     "output_type": "execute_result"
    }
   ],
   "source": [
    "internet.info()\n",
    "internet.head()"
   ]
  },
  {
   "cell_type": "code",
   "execution_count": 9,
   "metadata": {},
   "outputs": [
    {
     "data": {
      "text/plain": [
       "Index(['Unnamed: 0', 'id', 'mb_used', 'session_date', 'user_id'], dtype='object')"
      ]
     },
     "execution_count": 9,
     "metadata": {},
     "output_type": "execute_result"
    }
   ],
   "source": [
    "internet.columns"
   ]
  },
  {
   "cell_type": "code",
   "execution_count": 10,
   "metadata": {},
   "outputs": [
    {
     "data": {
      "text/plain": [
       "0"
      ]
     },
     "execution_count": 10,
     "metadata": {},
     "output_type": "execute_result"
    }
   ],
   "source": [
    "internet.duplicated().sum()"
   ]
  },
  {
   "cell_type": "code",
   "execution_count": 11,
   "metadata": {},
   "outputs": [
    {
     "data": {
      "text/html": [
       "<div>\n",
       "<style scoped>\n",
       "    .dataframe tbody tr th:only-of-type {\n",
       "        vertical-align: middle;\n",
       "    }\n",
       "\n",
       "    .dataframe tbody tr th {\n",
       "        vertical-align: top;\n",
       "    }\n",
       "\n",
       "    .dataframe thead th {\n",
       "        text-align: right;\n",
       "    }\n",
       "</style>\n",
       "<table border=\"1\" class=\"dataframe\">\n",
       "  <thead>\n",
       "    <tr style=\"text-align: right;\">\n",
       "      <th></th>\n",
       "      <th>Unnamed: 0</th>\n",
       "      <th>mb_used</th>\n",
       "      <th>user_id</th>\n",
       "    </tr>\n",
       "  </thead>\n",
       "  <tbody>\n",
       "    <tr>\n",
       "      <td>count</td>\n",
       "      <td>149396.00</td>\n",
       "      <td>149396.00</td>\n",
       "      <td>149396.00</td>\n",
       "    </tr>\n",
       "    <tr>\n",
       "      <td>mean</td>\n",
       "      <td>74697.50</td>\n",
       "      <td>370.19</td>\n",
       "      <td>1252.10</td>\n",
       "    </tr>\n",
       "    <tr>\n",
       "      <td>std</td>\n",
       "      <td>43127.05</td>\n",
       "      <td>278.30</td>\n",
       "      <td>144.05</td>\n",
       "    </tr>\n",
       "    <tr>\n",
       "      <td>min</td>\n",
       "      <td>0.00</td>\n",
       "      <td>0.00</td>\n",
       "      <td>1000.00</td>\n",
       "    </tr>\n",
       "    <tr>\n",
       "      <td>25%</td>\n",
       "      <td>37348.75</td>\n",
       "      <td>138.19</td>\n",
       "      <td>1130.00</td>\n",
       "    </tr>\n",
       "    <tr>\n",
       "      <td>50%</td>\n",
       "      <td>74697.50</td>\n",
       "      <td>348.01</td>\n",
       "      <td>1251.00</td>\n",
       "    </tr>\n",
       "    <tr>\n",
       "      <td>75%</td>\n",
       "      <td>112046.25</td>\n",
       "      <td>559.55</td>\n",
       "      <td>1380.00</td>\n",
       "    </tr>\n",
       "    <tr>\n",
       "      <td>max</td>\n",
       "      <td>149395.00</td>\n",
       "      <td>1724.83</td>\n",
       "      <td>1499.00</td>\n",
       "    </tr>\n",
       "  </tbody>\n",
       "</table>\n",
       "</div>"
      ],
      "text/plain": [
       "       Unnamed: 0   mb_used   user_id\n",
       "count   149396.00 149396.00 149396.00\n",
       "mean     74697.50    370.19   1252.10\n",
       "std      43127.05    278.30    144.05\n",
       "min          0.00      0.00   1000.00\n",
       "25%      37348.75    138.19   1130.00\n",
       "50%      74697.50    348.01   1251.00\n",
       "75%     112046.25    559.55   1380.00\n",
       "max     149395.00   1724.83   1499.00"
      ]
     },
     "execution_count": 11,
     "metadata": {},
     "output_type": "execute_result"
    }
   ],
   "source": [
    "internet.describe()"
   ]
  },
  {
   "cell_type": "code",
   "execution_count": 12,
   "metadata": {},
   "outputs": [
    {
     "data": {
      "text/plain": [
       "497"
      ]
     },
     "execution_count": 12,
     "metadata": {},
     "output_type": "execute_result"
    }
   ],
   "source": [
    "len(internet['user_id'].unique())"
   ]
  },
  {
   "cell_type": "markdown",
   "metadata": {},
   "source": [
    "**В данных internet:**\n",
    "1. Отсутсвуют пропуски и дубликаты\n",
    "2. Необхотимо перевести session_date в формат datetime64\n",
    "3. Присутствует столбец Unnamed: 0 дублирующий индексы.\n",
    "4. По количеству уникальных данных в user_id, можно предположить что не все пользователи пользовались услугами интернета."
   ]
  },
  {
   "cell_type": "code",
   "execution_count": 13,
   "metadata": {
    "scrolled": false
   },
   "outputs": [
    {
     "name": "stdout",
     "output_type": "stream",
     "text": [
      "<class 'pandas.core.frame.DataFrame'>\n",
      "RangeIndex: 123036 entries, 0 to 123035\n",
      "Data columns (total 3 columns):\n",
      "id              123036 non-null object\n",
      "message_date    123036 non-null object\n",
      "user_id         123036 non-null int64\n",
      "dtypes: int64(1), object(2)\n",
      "memory usage: 2.8+ MB\n"
     ]
    },
    {
     "data": {
      "text/html": [
       "<div>\n",
       "<style scoped>\n",
       "    .dataframe tbody tr th:only-of-type {\n",
       "        vertical-align: middle;\n",
       "    }\n",
       "\n",
       "    .dataframe tbody tr th {\n",
       "        vertical-align: top;\n",
       "    }\n",
       "\n",
       "    .dataframe thead th {\n",
       "        text-align: right;\n",
       "    }\n",
       "</style>\n",
       "<table border=\"1\" class=\"dataframe\">\n",
       "  <thead>\n",
       "    <tr style=\"text-align: right;\">\n",
       "      <th></th>\n",
       "      <th>id</th>\n",
       "      <th>message_date</th>\n",
       "      <th>user_id</th>\n",
       "    </tr>\n",
       "  </thead>\n",
       "  <tbody>\n",
       "    <tr>\n",
       "      <td>0</td>\n",
       "      <td>1000_0</td>\n",
       "      <td>2018-06-27</td>\n",
       "      <td>1000</td>\n",
       "    </tr>\n",
       "    <tr>\n",
       "      <td>1</td>\n",
       "      <td>1000_1</td>\n",
       "      <td>2018-10-08</td>\n",
       "      <td>1000</td>\n",
       "    </tr>\n",
       "    <tr>\n",
       "      <td>2</td>\n",
       "      <td>1000_2</td>\n",
       "      <td>2018-08-04</td>\n",
       "      <td>1000</td>\n",
       "    </tr>\n",
       "    <tr>\n",
       "      <td>3</td>\n",
       "      <td>1000_3</td>\n",
       "      <td>2018-06-16</td>\n",
       "      <td>1000</td>\n",
       "    </tr>\n",
       "    <tr>\n",
       "      <td>4</td>\n",
       "      <td>1000_4</td>\n",
       "      <td>2018-12-05</td>\n",
       "      <td>1000</td>\n",
       "    </tr>\n",
       "  </tbody>\n",
       "</table>\n",
       "</div>"
      ],
      "text/plain": [
       "       id message_date  user_id\n",
       "0  1000_0   2018-06-27     1000\n",
       "1  1000_1   2018-10-08     1000\n",
       "2  1000_2   2018-08-04     1000\n",
       "3  1000_3   2018-06-16     1000\n",
       "4  1000_4   2018-12-05     1000"
      ]
     },
     "execution_count": 13,
     "metadata": {},
     "output_type": "execute_result"
    }
   ],
   "source": [
    "messages.info()\n",
    "messages.head()"
   ]
  },
  {
   "cell_type": "code",
   "execution_count": 14,
   "metadata": {},
   "outputs": [
    {
     "data": {
      "text/html": [
       "<div>\n",
       "<style scoped>\n",
       "    .dataframe tbody tr th:only-of-type {\n",
       "        vertical-align: middle;\n",
       "    }\n",
       "\n",
       "    .dataframe tbody tr th {\n",
       "        vertical-align: top;\n",
       "    }\n",
       "\n",
       "    .dataframe thead th {\n",
       "        text-align: right;\n",
       "    }\n",
       "</style>\n",
       "<table border=\"1\" class=\"dataframe\">\n",
       "  <thead>\n",
       "    <tr style=\"text-align: right;\">\n",
       "      <th></th>\n",
       "      <th>user_id</th>\n",
       "    </tr>\n",
       "  </thead>\n",
       "  <tbody>\n",
       "    <tr>\n",
       "      <td>count</td>\n",
       "      <td>123036.00</td>\n",
       "    </tr>\n",
       "    <tr>\n",
       "      <td>mean</td>\n",
       "      <td>1256.99</td>\n",
       "    </tr>\n",
       "    <tr>\n",
       "      <td>std</td>\n",
       "      <td>143.52</td>\n",
       "    </tr>\n",
       "    <tr>\n",
       "      <td>min</td>\n",
       "      <td>1000.00</td>\n",
       "    </tr>\n",
       "    <tr>\n",
       "      <td>25%</td>\n",
       "      <td>1134.00</td>\n",
       "    </tr>\n",
       "    <tr>\n",
       "      <td>50%</td>\n",
       "      <td>1271.00</td>\n",
       "    </tr>\n",
       "    <tr>\n",
       "      <td>75%</td>\n",
       "      <td>1381.00</td>\n",
       "    </tr>\n",
       "    <tr>\n",
       "      <td>max</td>\n",
       "      <td>1499.00</td>\n",
       "    </tr>\n",
       "  </tbody>\n",
       "</table>\n",
       "</div>"
      ],
      "text/plain": [
       "        user_id\n",
       "count 123036.00\n",
       "mean    1256.99\n",
       "std      143.52\n",
       "min     1000.00\n",
       "25%     1134.00\n",
       "50%     1271.00\n",
       "75%     1381.00\n",
       "max     1499.00"
      ]
     },
     "execution_count": 14,
     "metadata": {},
     "output_type": "execute_result"
    }
   ],
   "source": [
    "messages.describe()"
   ]
  },
  {
   "cell_type": "code",
   "execution_count": 15,
   "metadata": {},
   "outputs": [
    {
     "data": {
      "text/plain": [
       "Index(['id', 'message_date', 'user_id'], dtype='object')"
      ]
     },
     "execution_count": 15,
     "metadata": {},
     "output_type": "execute_result"
    }
   ],
   "source": [
    "messages.columns"
   ]
  },
  {
   "cell_type": "code",
   "execution_count": 16,
   "metadata": {},
   "outputs": [
    {
     "data": {
      "text/plain": [
       "0"
      ]
     },
     "execution_count": 16,
     "metadata": {},
     "output_type": "execute_result"
    }
   ],
   "source": [
    "messages.duplicated().sum()"
   ]
  },
  {
   "cell_type": "code",
   "execution_count": 17,
   "metadata": {},
   "outputs": [
    {
     "data": {
      "text/plain": [
       "426"
      ]
     },
     "execution_count": 17,
     "metadata": {},
     "output_type": "execute_result"
    }
   ],
   "source": [
    "len(messages['user_id'].unique())"
   ]
  },
  {
   "cell_type": "markdown",
   "metadata": {},
   "source": [
    "**В данных messages:**\n",
    "1. Отсутсвуют пропуски и дубликаты, нет ошибок в названии столбцов\n",
    "2. Необхотимо перевести message_date в формат datetime64\n",
    "3. По количеству уникальных данных в user_id, можно предположить что не все пользователи пользовались услугами сообщений."
   ]
  },
  {
   "cell_type": "code",
   "execution_count": 18,
   "metadata": {
    "scrolled": false
   },
   "outputs": [
    {
     "name": "stdout",
     "output_type": "stream",
     "text": [
      "<class 'pandas.core.frame.DataFrame'>\n",
      "RangeIndex: 2 entries, 0 to 1\n",
      "Data columns (total 8 columns):\n",
      "messages_included        2 non-null int64\n",
      "mb_per_month_included    2 non-null int64\n",
      "minutes_included         2 non-null int64\n",
      "rub_monthly_fee          2 non-null int64\n",
      "rub_per_gb               2 non-null int64\n",
      "rub_per_message          2 non-null int64\n",
      "rub_per_minute           2 non-null int64\n",
      "tariff_name              2 non-null object\n",
      "dtypes: int64(7), object(1)\n",
      "memory usage: 256.0+ bytes\n"
     ]
    },
    {
     "data": {
      "text/html": [
       "<div>\n",
       "<style scoped>\n",
       "    .dataframe tbody tr th:only-of-type {\n",
       "        vertical-align: middle;\n",
       "    }\n",
       "\n",
       "    .dataframe tbody tr th {\n",
       "        vertical-align: top;\n",
       "    }\n",
       "\n",
       "    .dataframe thead th {\n",
       "        text-align: right;\n",
       "    }\n",
       "</style>\n",
       "<table border=\"1\" class=\"dataframe\">\n",
       "  <thead>\n",
       "    <tr style=\"text-align: right;\">\n",
       "      <th></th>\n",
       "      <th>messages_included</th>\n",
       "      <th>mb_per_month_included</th>\n",
       "      <th>minutes_included</th>\n",
       "      <th>rub_monthly_fee</th>\n",
       "      <th>rub_per_gb</th>\n",
       "      <th>rub_per_message</th>\n",
       "      <th>rub_per_minute</th>\n",
       "      <th>tariff_name</th>\n",
       "    </tr>\n",
       "  </thead>\n",
       "  <tbody>\n",
       "    <tr>\n",
       "      <td>0</td>\n",
       "      <td>50</td>\n",
       "      <td>15360</td>\n",
       "      <td>500</td>\n",
       "      <td>550</td>\n",
       "      <td>200</td>\n",
       "      <td>3</td>\n",
       "      <td>3</td>\n",
       "      <td>smart</td>\n",
       "    </tr>\n",
       "    <tr>\n",
       "      <td>1</td>\n",
       "      <td>1000</td>\n",
       "      <td>30720</td>\n",
       "      <td>3000</td>\n",
       "      <td>1950</td>\n",
       "      <td>150</td>\n",
       "      <td>1</td>\n",
       "      <td>1</td>\n",
       "      <td>ultra</td>\n",
       "    </tr>\n",
       "  </tbody>\n",
       "</table>\n",
       "</div>"
      ],
      "text/plain": [
       "   messages_included  mb_per_month_included  minutes_included  \\\n",
       "0                 50                  15360               500   \n",
       "1               1000                  30720              3000   \n",
       "\n",
       "   rub_monthly_fee  rub_per_gb  rub_per_message  rub_per_minute tariff_name  \n",
       "0              550         200                3               3       smart  \n",
       "1             1950         150                1               1       ultra  "
      ]
     },
     "execution_count": 18,
     "metadata": {},
     "output_type": "execute_result"
    }
   ],
   "source": [
    "tariffs.info()\n",
    "tariffs.head()"
   ]
  },
  {
   "cell_type": "markdown",
   "metadata": {},
   "source": [
    "**В данных tariffs:**\n",
    "1. Отсутсвуют пропуски и дубликаты"
   ]
  },
  {
   "cell_type": "code",
   "execution_count": 19,
   "metadata": {
    "scrolled": false
   },
   "outputs": [
    {
     "name": "stdout",
     "output_type": "stream",
     "text": [
      "<class 'pandas.core.frame.DataFrame'>\n",
      "RangeIndex: 500 entries, 0 to 499\n",
      "Data columns (total 8 columns):\n",
      "user_id       500 non-null int64\n",
      "age           500 non-null int64\n",
      "churn_date    38 non-null object\n",
      "city          500 non-null object\n",
      "first_name    500 non-null object\n",
      "last_name     500 non-null object\n",
      "reg_date      500 non-null object\n",
      "tariff        500 non-null object\n",
      "dtypes: int64(2), object(6)\n",
      "memory usage: 31.4+ KB\n"
     ]
    },
    {
     "data": {
      "text/html": [
       "<div>\n",
       "<style scoped>\n",
       "    .dataframe tbody tr th:only-of-type {\n",
       "        vertical-align: middle;\n",
       "    }\n",
       "\n",
       "    .dataframe tbody tr th {\n",
       "        vertical-align: top;\n",
       "    }\n",
       "\n",
       "    .dataframe thead th {\n",
       "        text-align: right;\n",
       "    }\n",
       "</style>\n",
       "<table border=\"1\" class=\"dataframe\">\n",
       "  <thead>\n",
       "    <tr style=\"text-align: right;\">\n",
       "      <th></th>\n",
       "      <th>user_id</th>\n",
       "      <th>age</th>\n",
       "      <th>churn_date</th>\n",
       "      <th>city</th>\n",
       "      <th>first_name</th>\n",
       "      <th>last_name</th>\n",
       "      <th>reg_date</th>\n",
       "      <th>tariff</th>\n",
       "    </tr>\n",
       "  </thead>\n",
       "  <tbody>\n",
       "    <tr>\n",
       "      <td>0</td>\n",
       "      <td>1000</td>\n",
       "      <td>52</td>\n",
       "      <td>NaN</td>\n",
       "      <td>Краснодар</td>\n",
       "      <td>Рафаил</td>\n",
       "      <td>Верещагин</td>\n",
       "      <td>2018-05-25</td>\n",
       "      <td>ultra</td>\n",
       "    </tr>\n",
       "    <tr>\n",
       "      <td>1</td>\n",
       "      <td>1001</td>\n",
       "      <td>41</td>\n",
       "      <td>NaN</td>\n",
       "      <td>Москва</td>\n",
       "      <td>Иван</td>\n",
       "      <td>Ежов</td>\n",
       "      <td>2018-11-01</td>\n",
       "      <td>smart</td>\n",
       "    </tr>\n",
       "    <tr>\n",
       "      <td>2</td>\n",
       "      <td>1002</td>\n",
       "      <td>59</td>\n",
       "      <td>NaN</td>\n",
       "      <td>Стерлитамак</td>\n",
       "      <td>Евгений</td>\n",
       "      <td>Абрамович</td>\n",
       "      <td>2018-06-17</td>\n",
       "      <td>smart</td>\n",
       "    </tr>\n",
       "    <tr>\n",
       "      <td>3</td>\n",
       "      <td>1003</td>\n",
       "      <td>23</td>\n",
       "      <td>NaN</td>\n",
       "      <td>Москва</td>\n",
       "      <td>Белла</td>\n",
       "      <td>Белякова</td>\n",
       "      <td>2018-08-17</td>\n",
       "      <td>ultra</td>\n",
       "    </tr>\n",
       "    <tr>\n",
       "      <td>4</td>\n",
       "      <td>1004</td>\n",
       "      <td>68</td>\n",
       "      <td>NaN</td>\n",
       "      <td>Новокузнецк</td>\n",
       "      <td>Татьяна</td>\n",
       "      <td>Авдеенко</td>\n",
       "      <td>2018-05-14</td>\n",
       "      <td>ultra</td>\n",
       "    </tr>\n",
       "  </tbody>\n",
       "</table>\n",
       "</div>"
      ],
      "text/plain": [
       "   user_id  age churn_date         city first_name  last_name    reg_date  \\\n",
       "0     1000   52        NaN    Краснодар     Рафаил  Верещагин  2018-05-25   \n",
       "1     1001   41        NaN       Москва       Иван       Ежов  2018-11-01   \n",
       "2     1002   59        NaN  Стерлитамак    Евгений  Абрамович  2018-06-17   \n",
       "3     1003   23        NaN       Москва      Белла   Белякова  2018-08-17   \n",
       "4     1004   68        NaN  Новокузнецк    Татьяна   Авдеенко  2018-05-14   \n",
       "\n",
       "  tariff  \n",
       "0  ultra  \n",
       "1  smart  \n",
       "2  smart  \n",
       "3  ultra  \n",
       "4  ultra  "
      ]
     },
     "execution_count": 19,
     "metadata": {},
     "output_type": "execute_result"
    }
   ],
   "source": [
    "users.info()\n",
    "users.head()"
   ]
  },
  {
   "cell_type": "code",
   "execution_count": 20,
   "metadata": {
    "scrolled": true
   },
   "outputs": [
    {
     "data": {
      "text/html": [
       "<div>\n",
       "<style scoped>\n",
       "    .dataframe tbody tr th:only-of-type {\n",
       "        vertical-align: middle;\n",
       "    }\n",
       "\n",
       "    .dataframe tbody tr th {\n",
       "        vertical-align: top;\n",
       "    }\n",
       "\n",
       "    .dataframe thead th {\n",
       "        text-align: right;\n",
       "    }\n",
       "</style>\n",
       "<table border=\"1\" class=\"dataframe\">\n",
       "  <thead>\n",
       "    <tr style=\"text-align: right;\">\n",
       "      <th></th>\n",
       "      <th>user_id</th>\n",
       "      <th>age</th>\n",
       "      <th>churn_date</th>\n",
       "      <th>city</th>\n",
       "      <th>first_name</th>\n",
       "      <th>last_name</th>\n",
       "      <th>reg_date</th>\n",
       "      <th>tariff</th>\n",
       "    </tr>\n",
       "  </thead>\n",
       "  <tbody>\n",
       "    <tr>\n",
       "      <td>19</td>\n",
       "      <td>1019</td>\n",
       "      <td>63</td>\n",
       "      <td>2018-10-05</td>\n",
       "      <td>Томск</td>\n",
       "      <td>Игнатий</td>\n",
       "      <td>Круглов</td>\n",
       "      <td>2018-05-16</td>\n",
       "      <td>ultra</td>\n",
       "    </tr>\n",
       "    <tr>\n",
       "      <td>20</td>\n",
       "      <td>1020</td>\n",
       "      <td>59</td>\n",
       "      <td>2018-12-18</td>\n",
       "      <td>Чита</td>\n",
       "      <td>Тала</td>\n",
       "      <td>Костина</td>\n",
       "      <td>2018-10-22</td>\n",
       "      <td>smart</td>\n",
       "    </tr>\n",
       "    <tr>\n",
       "      <td>34</td>\n",
       "      <td>1034</td>\n",
       "      <td>66</td>\n",
       "      <td>2018-11-21</td>\n",
       "      <td>Вологда</td>\n",
       "      <td>Святослав</td>\n",
       "      <td>Бондарев</td>\n",
       "      <td>2018-08-26</td>\n",
       "      <td>smart</td>\n",
       "    </tr>\n",
       "    <tr>\n",
       "      <td>50</td>\n",
       "      <td>1050</td>\n",
       "      <td>44</td>\n",
       "      <td>2018-10-03</td>\n",
       "      <td>Тюмень</td>\n",
       "      <td>Рузана</td>\n",
       "      <td>Аничкина</td>\n",
       "      <td>2018-06-16</td>\n",
       "      <td>ultra</td>\n",
       "    </tr>\n",
       "    <tr>\n",
       "      <td>51</td>\n",
       "      <td>1051</td>\n",
       "      <td>37</td>\n",
       "      <td>2018-10-14</td>\n",
       "      <td>Москва</td>\n",
       "      <td>Кристина</td>\n",
       "      <td>Сомова</td>\n",
       "      <td>2018-05-28</td>\n",
       "      <td>smart</td>\n",
       "    </tr>\n",
       "    <tr>\n",
       "      <td>56</td>\n",
       "      <td>1056</td>\n",
       "      <td>73</td>\n",
       "      <td>2018-10-14</td>\n",
       "      <td>Иркутск</td>\n",
       "      <td>Радислав</td>\n",
       "      <td>Артемьев</td>\n",
       "      <td>2018-04-13</td>\n",
       "      <td>smart</td>\n",
       "    </tr>\n",
       "    <tr>\n",
       "      <td>62</td>\n",
       "      <td>1062</td>\n",
       "      <td>24</td>\n",
       "      <td>2018-12-09</td>\n",
       "      <td>Москва</td>\n",
       "      <td>Александр</td>\n",
       "      <td>Коршунов</td>\n",
       "      <td>2018-11-16</td>\n",
       "      <td>smart</td>\n",
       "    </tr>\n",
       "    <tr>\n",
       "      <td>63</td>\n",
       "      <td>1063</td>\n",
       "      <td>45</td>\n",
       "      <td>2018-12-11</td>\n",
       "      <td>Тула</td>\n",
       "      <td>Таира</td>\n",
       "      <td>Климова</td>\n",
       "      <td>2018-04-12</td>\n",
       "      <td>ultra</td>\n",
       "    </tr>\n",
       "    <tr>\n",
       "      <td>64</td>\n",
       "      <td>1064</td>\n",
       "      <td>55</td>\n",
       "      <td>2018-12-26</td>\n",
       "      <td>Якутск</td>\n",
       "      <td>Динара</td>\n",
       "      <td>Алфеева</td>\n",
       "      <td>2018-03-17</td>\n",
       "      <td>smart</td>\n",
       "    </tr>\n",
       "    <tr>\n",
       "      <td>65</td>\n",
       "      <td>1065</td>\n",
       "      <td>53</td>\n",
       "      <td>2018-12-09</td>\n",
       "      <td>Москва</td>\n",
       "      <td>Роза</td>\n",
       "      <td>Игнатова</td>\n",
       "      <td>2018-03-08</td>\n",
       "      <td>smart</td>\n",
       "    </tr>\n",
       "    <tr>\n",
       "      <td>71</td>\n",
       "      <td>1071</td>\n",
       "      <td>20</td>\n",
       "      <td>2018-08-31</td>\n",
       "      <td>Омск</td>\n",
       "      <td>Гектор</td>\n",
       "      <td>Чумаков</td>\n",
       "      <td>2018-01-09</td>\n",
       "      <td>smart</td>\n",
       "    </tr>\n",
       "    <tr>\n",
       "      <td>90</td>\n",
       "      <td>1090</td>\n",
       "      <td>54</td>\n",
       "      <td>2018-12-03</td>\n",
       "      <td>Череповец</td>\n",
       "      <td>Екатерина</td>\n",
       "      <td>Астафьева</td>\n",
       "      <td>2018-10-11</td>\n",
       "      <td>ultra</td>\n",
       "    </tr>\n",
       "    <tr>\n",
       "      <td>128</td>\n",
       "      <td>1128</td>\n",
       "      <td>51</td>\n",
       "      <td>2018-12-23</td>\n",
       "      <td>Волжский</td>\n",
       "      <td>Ксения</td>\n",
       "      <td>Агаева</td>\n",
       "      <td>2018-12-15</td>\n",
       "      <td>ultra</td>\n",
       "    </tr>\n",
       "    <tr>\n",
       "      <td>161</td>\n",
       "      <td>1161</td>\n",
       "      <td>65</td>\n",
       "      <td>2018-11-07</td>\n",
       "      <td>Набережные Челны</td>\n",
       "      <td>Татьяна</td>\n",
       "      <td>Голованова</td>\n",
       "      <td>2018-07-03</td>\n",
       "      <td>smart</td>\n",
       "    </tr>\n",
       "    <tr>\n",
       "      <td>163</td>\n",
       "      <td>1163</td>\n",
       "      <td>21</td>\n",
       "      <td>2018-12-16</td>\n",
       "      <td>Москва</td>\n",
       "      <td>Лев</td>\n",
       "      <td>Вишневский</td>\n",
       "      <td>2018-11-03</td>\n",
       "      <td>smart</td>\n",
       "    </tr>\n",
       "    <tr>\n",
       "      <td>191</td>\n",
       "      <td>1191</td>\n",
       "      <td>64</td>\n",
       "      <td>2018-10-03</td>\n",
       "      <td>Набережные Челны</td>\n",
       "      <td>Александр</td>\n",
       "      <td>Акиндинов</td>\n",
       "      <td>2018-06-30</td>\n",
       "      <td>smart</td>\n",
       "    </tr>\n",
       "    <tr>\n",
       "      <td>201</td>\n",
       "      <td>1201</td>\n",
       "      <td>32</td>\n",
       "      <td>2018-12-03</td>\n",
       "      <td>Москва</td>\n",
       "      <td>Геннадий</td>\n",
       "      <td>Веселов</td>\n",
       "      <td>2018-08-06</td>\n",
       "      <td>ultra</td>\n",
       "    </tr>\n",
       "    <tr>\n",
       "      <td>206</td>\n",
       "      <td>1206</td>\n",
       "      <td>35</td>\n",
       "      <td>2018-12-20</td>\n",
       "      <td>Москва</td>\n",
       "      <td>Елена</td>\n",
       "      <td>Шарапова</td>\n",
       "      <td>2018-11-03</td>\n",
       "      <td>smart</td>\n",
       "    </tr>\n",
       "    <tr>\n",
       "      <td>232</td>\n",
       "      <td>1232</td>\n",
       "      <td>60</td>\n",
       "      <td>2018-11-30</td>\n",
       "      <td>Томск</td>\n",
       "      <td>Виктория</td>\n",
       "      <td>Ларина</td>\n",
       "      <td>2018-10-07</td>\n",
       "      <td>smart</td>\n",
       "    </tr>\n",
       "    <tr>\n",
       "      <td>242</td>\n",
       "      <td>1242</td>\n",
       "      <td>39</td>\n",
       "      <td>2018-12-21</td>\n",
       "      <td>Хабаровск</td>\n",
       "      <td>Радим</td>\n",
       "      <td>Федосеев</td>\n",
       "      <td>2018-11-18</td>\n",
       "      <td>smart</td>\n",
       "    </tr>\n",
       "    <tr>\n",
       "      <td>254</td>\n",
       "      <td>1254</td>\n",
       "      <td>75</td>\n",
       "      <td>2018-08-17</td>\n",
       "      <td>Москва</td>\n",
       "      <td>Александра</td>\n",
       "      <td>Сухарева</td>\n",
       "      <td>2018-01-04</td>\n",
       "      <td>ultra</td>\n",
       "    </tr>\n",
       "    <tr>\n",
       "      <td>255</td>\n",
       "      <td>1255</td>\n",
       "      <td>40</td>\n",
       "      <td>2018-09-02</td>\n",
       "      <td>Саранск</td>\n",
       "      <td>Серафима</td>\n",
       "      <td>Пономарева</td>\n",
       "      <td>2018-02-19</td>\n",
       "      <td>ultra</td>\n",
       "    </tr>\n",
       "    <tr>\n",
       "      <td>265</td>\n",
       "      <td>1265</td>\n",
       "      <td>24</td>\n",
       "      <td>2018-10-04</td>\n",
       "      <td>Омск</td>\n",
       "      <td>Радим</td>\n",
       "      <td>Адамов</td>\n",
       "      <td>2018-06-24</td>\n",
       "      <td>ultra</td>\n",
       "    </tr>\n",
       "    <tr>\n",
       "      <td>271</td>\n",
       "      <td>1271</td>\n",
       "      <td>69</td>\n",
       "      <td>2018-11-13</td>\n",
       "      <td>Челябинск</td>\n",
       "      <td>Аурелия</td>\n",
       "      <td>Чижова</td>\n",
       "      <td>2018-07-14</td>\n",
       "      <td>ultra</td>\n",
       "    </tr>\n",
       "    <tr>\n",
       "      <td>293</td>\n",
       "      <td>1293</td>\n",
       "      <td>39</td>\n",
       "      <td>2018-11-22</td>\n",
       "      <td>Санкт-Петербург</td>\n",
       "      <td>Эдита</td>\n",
       "      <td>Дубинина</td>\n",
       "      <td>2018-09-05</td>\n",
       "      <td>smart</td>\n",
       "    </tr>\n",
       "    <tr>\n",
       "      <td>343</td>\n",
       "      <td>1343</td>\n",
       "      <td>30</td>\n",
       "      <td>2018-10-28</td>\n",
       "      <td>Кострома</td>\n",
       "      <td>Анита</td>\n",
       "      <td>Верещагина</td>\n",
       "      <td>2018-08-15</td>\n",
       "      <td>ultra</td>\n",
       "    </tr>\n",
       "    <tr>\n",
       "      <td>353</td>\n",
       "      <td>1353</td>\n",
       "      <td>57</td>\n",
       "      <td>2018-11-26</td>\n",
       "      <td>Санкт-Петербург</td>\n",
       "      <td>Доминика</td>\n",
       "      <td>Анищенко</td>\n",
       "      <td>2018-04-22</td>\n",
       "      <td>smart</td>\n",
       "    </tr>\n",
       "    <tr>\n",
       "      <td>355</td>\n",
       "      <td>1355</td>\n",
       "      <td>33</td>\n",
       "      <td>2018-11-27</td>\n",
       "      <td>Киров</td>\n",
       "      <td>Сара</td>\n",
       "      <td>Абрикосова</td>\n",
       "      <td>2018-07-21</td>\n",
       "      <td>smart</td>\n",
       "    </tr>\n",
       "    <tr>\n",
       "      <td>367</td>\n",
       "      <td>1367</td>\n",
       "      <td>43</td>\n",
       "      <td>2018-11-16</td>\n",
       "      <td>Москва</td>\n",
       "      <td>Всеволод</td>\n",
       "      <td>Антоненко</td>\n",
       "      <td>2018-09-14</td>\n",
       "      <td>ultra</td>\n",
       "    </tr>\n",
       "    <tr>\n",
       "      <td>370</td>\n",
       "      <td>1370</td>\n",
       "      <td>48</td>\n",
       "      <td>2018-10-27</td>\n",
       "      <td>Новороссийск</td>\n",
       "      <td>Гектор</td>\n",
       "      <td>Сысоев</td>\n",
       "      <td>2018-02-06</td>\n",
       "      <td>smart</td>\n",
       "    </tr>\n",
       "    <tr>\n",
       "      <td>371</td>\n",
       "      <td>1371</td>\n",
       "      <td>50</td>\n",
       "      <td>2018-12-30</td>\n",
       "      <td>Омск</td>\n",
       "      <td>Ириней</td>\n",
       "      <td>Трофимов</td>\n",
       "      <td>2018-12-25</td>\n",
       "      <td>smart</td>\n",
       "    </tr>\n",
       "    <tr>\n",
       "      <td>392</td>\n",
       "      <td>1392</td>\n",
       "      <td>54</td>\n",
       "      <td>2018-09-27</td>\n",
       "      <td>Челябинск</td>\n",
       "      <td>Алла</td>\n",
       "      <td>Беликова</td>\n",
       "      <td>2018-02-27</td>\n",
       "      <td>ultra</td>\n",
       "    </tr>\n",
       "    <tr>\n",
       "      <td>399</td>\n",
       "      <td>1399</td>\n",
       "      <td>31</td>\n",
       "      <td>2018-12-25</td>\n",
       "      <td>Уфа</td>\n",
       "      <td>Алиса</td>\n",
       "      <td>Абрашина</td>\n",
       "      <td>2018-11-06</td>\n",
       "      <td>ultra</td>\n",
       "    </tr>\n",
       "    <tr>\n",
       "      <td>416</td>\n",
       "      <td>1416</td>\n",
       "      <td>50</td>\n",
       "      <td>2018-12-14</td>\n",
       "      <td>Санкт-Петербург</td>\n",
       "      <td>Валерия</td>\n",
       "      <td>Ёлчина</td>\n",
       "      <td>2018-07-16</td>\n",
       "      <td>ultra</td>\n",
       "    </tr>\n",
       "    <tr>\n",
       "      <td>422</td>\n",
       "      <td>1422</td>\n",
       "      <td>60</td>\n",
       "      <td>2018-12-21</td>\n",
       "      <td>Москва</td>\n",
       "      <td>Клара</td>\n",
       "      <td>Устинова</td>\n",
       "      <td>2018-10-12</td>\n",
       "      <td>smart</td>\n",
       "    </tr>\n",
       "    <tr>\n",
       "      <td>438</td>\n",
       "      <td>1438</td>\n",
       "      <td>24</td>\n",
       "      <td>2018-12-24</td>\n",
       "      <td>Екатеринбург</td>\n",
       "      <td>Нателла</td>\n",
       "      <td>Бородина</td>\n",
       "      <td>2018-10-05</td>\n",
       "      <td>smart</td>\n",
       "    </tr>\n",
       "    <tr>\n",
       "      <td>480</td>\n",
       "      <td>1480</td>\n",
       "      <td>29</td>\n",
       "      <td>2018-09-26</td>\n",
       "      <td>Новокузнецк</td>\n",
       "      <td>Гелена</td>\n",
       "      <td>Емельянова</td>\n",
       "      <td>2018-02-14</td>\n",
       "      <td>smart</td>\n",
       "    </tr>\n",
       "    <tr>\n",
       "      <td>498</td>\n",
       "      <td>1498</td>\n",
       "      <td>68</td>\n",
       "      <td>2018-10-25</td>\n",
       "      <td>Владикавказ</td>\n",
       "      <td>Всеволод</td>\n",
       "      <td>Акимчин</td>\n",
       "      <td>2018-07-19</td>\n",
       "      <td>smart</td>\n",
       "    </tr>\n",
       "  </tbody>\n",
       "</table>\n",
       "</div>"
      ],
      "text/plain": [
       "     user_id  age  churn_date              city  first_name   last_name  \\\n",
       "19      1019   63  2018-10-05             Томск     Игнатий     Круглов   \n",
       "20      1020   59  2018-12-18              Чита        Тала     Костина   \n",
       "34      1034   66  2018-11-21           Вологда   Святослав    Бондарев   \n",
       "50      1050   44  2018-10-03            Тюмень      Рузана    Аничкина   \n",
       "51      1051   37  2018-10-14            Москва    Кристина      Сомова   \n",
       "56      1056   73  2018-10-14           Иркутск    Радислав    Артемьев   \n",
       "62      1062   24  2018-12-09            Москва   Александр    Коршунов   \n",
       "63      1063   45  2018-12-11              Тула       Таира     Климова   \n",
       "64      1064   55  2018-12-26            Якутск      Динара     Алфеева   \n",
       "65      1065   53  2018-12-09            Москва        Роза    Игнатова   \n",
       "71      1071   20  2018-08-31              Омск      Гектор     Чумаков   \n",
       "90      1090   54  2018-12-03         Череповец   Екатерина   Астафьева   \n",
       "128     1128   51  2018-12-23          Волжский      Ксения      Агаева   \n",
       "161     1161   65  2018-11-07  Набережные Челны     Татьяна  Голованова   \n",
       "163     1163   21  2018-12-16            Москва         Лев  Вишневский   \n",
       "191     1191   64  2018-10-03  Набережные Челны   Александр   Акиндинов   \n",
       "201     1201   32  2018-12-03            Москва    Геннадий     Веселов   \n",
       "206     1206   35  2018-12-20            Москва       Елена    Шарапова   \n",
       "232     1232   60  2018-11-30             Томск    Виктория      Ларина   \n",
       "242     1242   39  2018-12-21         Хабаровск       Радим    Федосеев   \n",
       "254     1254   75  2018-08-17            Москва  Александра    Сухарева   \n",
       "255     1255   40  2018-09-02           Саранск    Серафима  Пономарева   \n",
       "265     1265   24  2018-10-04              Омск       Радим      Адамов   \n",
       "271     1271   69  2018-11-13         Челябинск     Аурелия      Чижова   \n",
       "293     1293   39  2018-11-22   Санкт-Петербург       Эдита    Дубинина   \n",
       "343     1343   30  2018-10-28          Кострома       Анита  Верещагина   \n",
       "353     1353   57  2018-11-26   Санкт-Петербург    Доминика    Анищенко   \n",
       "355     1355   33  2018-11-27             Киров        Сара  Абрикосова   \n",
       "367     1367   43  2018-11-16            Москва    Всеволод   Антоненко   \n",
       "370     1370   48  2018-10-27      Новороссийск      Гектор      Сысоев   \n",
       "371     1371   50  2018-12-30              Омск      Ириней    Трофимов   \n",
       "392     1392   54  2018-09-27         Челябинск        Алла    Беликова   \n",
       "399     1399   31  2018-12-25               Уфа       Алиса    Абрашина   \n",
       "416     1416   50  2018-12-14   Санкт-Петербург     Валерия      Ёлчина   \n",
       "422     1422   60  2018-12-21            Москва       Клара    Устинова   \n",
       "438     1438   24  2018-12-24      Екатеринбург     Нателла    Бородина   \n",
       "480     1480   29  2018-09-26       Новокузнецк      Гелена  Емельянова   \n",
       "498     1498   68  2018-10-25       Владикавказ    Всеволод     Акимчин   \n",
       "\n",
       "       reg_date tariff  \n",
       "19   2018-05-16  ultra  \n",
       "20   2018-10-22  smart  \n",
       "34   2018-08-26  smart  \n",
       "50   2018-06-16  ultra  \n",
       "51   2018-05-28  smart  \n",
       "56   2018-04-13  smart  \n",
       "62   2018-11-16  smart  \n",
       "63   2018-04-12  ultra  \n",
       "64   2018-03-17  smart  \n",
       "65   2018-03-08  smart  \n",
       "71   2018-01-09  smart  \n",
       "90   2018-10-11  ultra  \n",
       "128  2018-12-15  ultra  \n",
       "161  2018-07-03  smart  \n",
       "163  2018-11-03  smart  \n",
       "191  2018-06-30  smart  \n",
       "201  2018-08-06  ultra  \n",
       "206  2018-11-03  smart  \n",
       "232  2018-10-07  smart  \n",
       "242  2018-11-18  smart  \n",
       "254  2018-01-04  ultra  \n",
       "255  2018-02-19  ultra  \n",
       "265  2018-06-24  ultra  \n",
       "271  2018-07-14  ultra  \n",
       "293  2018-09-05  smart  \n",
       "343  2018-08-15  ultra  \n",
       "353  2018-04-22  smart  \n",
       "355  2018-07-21  smart  \n",
       "367  2018-09-14  ultra  \n",
       "370  2018-02-06  smart  \n",
       "371  2018-12-25  smart  \n",
       "392  2018-02-27  ultra  \n",
       "399  2018-11-06  ultra  \n",
       "416  2018-07-16  ultra  \n",
       "422  2018-10-12  smart  \n",
       "438  2018-10-05  smart  \n",
       "480  2018-02-14  smart  \n",
       "498  2018-07-19  smart  "
      ]
     },
     "execution_count": 20,
     "metadata": {},
     "output_type": "execute_result"
    }
   ],
   "source": [
    "users[users['churn_date'].notna()]"
   ]
  },
  {
   "cell_type": "code",
   "execution_count": 21,
   "metadata": {},
   "outputs": [
    {
     "data": {
      "text/html": [
       "<div>\n",
       "<style scoped>\n",
       "    .dataframe tbody tr th:only-of-type {\n",
       "        vertical-align: middle;\n",
       "    }\n",
       "\n",
       "    .dataframe tbody tr th {\n",
       "        vertical-align: top;\n",
       "    }\n",
       "\n",
       "    .dataframe thead th {\n",
       "        text-align: right;\n",
       "    }\n",
       "</style>\n",
       "<table border=\"1\" class=\"dataframe\">\n",
       "  <thead>\n",
       "    <tr style=\"text-align: right;\">\n",
       "      <th></th>\n",
       "      <th>user_id</th>\n",
       "      <th>age</th>\n",
       "    </tr>\n",
       "  </thead>\n",
       "  <tbody>\n",
       "    <tr>\n",
       "      <td>count</td>\n",
       "      <td>500.00</td>\n",
       "      <td>500.00</td>\n",
       "    </tr>\n",
       "    <tr>\n",
       "      <td>mean</td>\n",
       "      <td>1249.50</td>\n",
       "      <td>46.59</td>\n",
       "    </tr>\n",
       "    <tr>\n",
       "      <td>std</td>\n",
       "      <td>144.48</td>\n",
       "      <td>16.67</td>\n",
       "    </tr>\n",
       "    <tr>\n",
       "      <td>min</td>\n",
       "      <td>1000.00</td>\n",
       "      <td>18.00</td>\n",
       "    </tr>\n",
       "    <tr>\n",
       "      <td>25%</td>\n",
       "      <td>1124.75</td>\n",
       "      <td>32.00</td>\n",
       "    </tr>\n",
       "    <tr>\n",
       "      <td>50%</td>\n",
       "      <td>1249.50</td>\n",
       "      <td>46.00</td>\n",
       "    </tr>\n",
       "    <tr>\n",
       "      <td>75%</td>\n",
       "      <td>1374.25</td>\n",
       "      <td>62.00</td>\n",
       "    </tr>\n",
       "    <tr>\n",
       "      <td>max</td>\n",
       "      <td>1499.00</td>\n",
       "      <td>75.00</td>\n",
       "    </tr>\n",
       "  </tbody>\n",
       "</table>\n",
       "</div>"
      ],
      "text/plain": [
       "       user_id    age\n",
       "count   500.00 500.00\n",
       "mean   1249.50  46.59\n",
       "std     144.48  16.67\n",
       "min    1000.00  18.00\n",
       "25%    1124.75  32.00\n",
       "50%    1249.50  46.00\n",
       "75%    1374.25  62.00\n",
       "max    1499.00  75.00"
      ]
     },
     "execution_count": 21,
     "metadata": {},
     "output_type": "execute_result"
    }
   ],
   "source": [
    "users.describe()"
   ]
  },
  {
   "cell_type": "code",
   "execution_count": 22,
   "metadata": {},
   "outputs": [
    {
     "data": {
      "text/plain": [
       "Index(['user_id', 'age', 'churn_date', 'city', 'first_name', 'last_name',\n",
       "       'reg_date', 'tariff'],\n",
       "      dtype='object')"
      ]
     },
     "execution_count": 22,
     "metadata": {},
     "output_type": "execute_result"
    }
   ],
   "source": [
    "users.columns"
   ]
  },
  {
   "cell_type": "code",
   "execution_count": 23,
   "metadata": {},
   "outputs": [
    {
     "data": {
      "text/plain": [
       "0"
      ]
     },
     "execution_count": 23,
     "metadata": {},
     "output_type": "execute_result"
    }
   ],
   "source": [
    "users.duplicated().sum()"
   ]
  },
  {
   "cell_type": "code",
   "execution_count": 24,
   "metadata": {},
   "outputs": [
    {
     "data": {
      "text/plain": [
       "smart    351\n",
       "ultra    149\n",
       "Name: tariff, dtype: int64"
      ]
     },
     "execution_count": 24,
     "metadata": {},
     "output_type": "execute_result"
    },
    {
     "data": {
      "image/png": "[encoded data removed]",
      "text/plain": [
       "<Figure size 432x288 with 1 Axes>"
      ]
     },
     "metadata": {
      "needs_background": "light"
     },
     "output_type": "display_data"
    }
   ],
   "source": [
    "users['tariff'].value_counts().plot(kind='bar')\n",
    "users['tariff'].value_counts()"
   ]
  },
  {
   "cell_type": "markdown",
   "metadata": {},
   "source": [
    "Проверим есть ли совпадающие пользователи под разным user_id"
   ]
  },
  {
   "cell_type": "code",
   "execution_count": 25,
   "metadata": {},
   "outputs": [
    {
     "data": {
      "text/plain": [
       "0"
      ]
     },
     "execution_count": 25,
     "metadata": {},
     "output_type": "execute_result"
    }
   ],
   "source": [
    "users[['city', 'first_name', 'last_name']].duplicated().sum()"
   ]
  },
  {
   "cell_type": "code",
   "execution_count": 26,
   "metadata": {},
   "outputs": [
    {
     "data": {
      "text/plain": [
       "500"
      ]
     },
     "execution_count": 26,
     "metadata": {},
     "output_type": "execute_result"
    }
   ],
   "source": [
    "len(users['user_id'].unique())"
   ]
  },
  {
   "cell_type": "markdown",
   "metadata": {},
   "source": [
    "**В данных users:**\n",
    "1. Отсутсвуют явные дубликаты\n",
    "2. Есть пропуски в churn_date, но это означает что тариф еще действует\n",
    "3. Необхотимо перевести churn_date и reg_date в формат datetime64\n",
    "4. Количество пользователей тарифа smart в 2.35 раз превышает количества пользователей тарифа ultra"
   ]
  },
  {
   "cell_type": "markdown",
   "metadata": {},
   "source": [
    "### Вывод"
   ]
  },
  {
   "cell_type": "markdown",
   "metadata": {},
   "source": [
    "Ознакомившись с данными:\n",
    "1. Во всех данных данны с датой необходимо перевести в формат datetime64\n",
    "2. В каждой категории услуг уникальное значение user_id находится в диапозоне от 1000 до 1499, так же как в данных с пользователями, но количество уникальных значений user_id в данных с услугами меньше 500, возможно не все пользователи пользовались той или иной услугой.\n",
    "3. В internet присутствует столбец Unnamed: 0 дублирующий индексы.\n",
    "4. Количество пользователей тарифа smart в 2.35 раз превышает количества пользователей тарифа ultra"
   ]
  },
  {
   "cell_type": "markdown",
   "metadata": {},
   "source": [
    "## Предобработка данных"
   ]
  },
  {
   "cell_type": "markdown",
   "metadata": {},
   "source": [
    "**Для проведения дальнейшего исследования нам необходимо:**\n",
    "1. Првести столбцы с датой в каждом файле к типу datetime64 и выделить месяц\n",
    "2. Удалить столбец Unnamed: 0 в internet\n",
    "3. Округлить длительность звонка до минут в большую сторону и посчитать ежемесечное количество использованных минут для каждого пользователя\n",
    "4. Посчитать ежемесечное использование трафика, перевести значения в гигабайты и округлить в большую сторону\n",
    "5. Посчитать ежемесечное количество сообщений для каждого пользователя\n",
    "6. Посчитать ежемесечную выручку с каждого пользователя"
   ]
  },
  {
   "cell_type": "markdown",
   "metadata": {},
   "source": [
    "Переведем столбцы с датами в фармат datetime64 и создадим столбец с месяцами"
   ]
  },
  {
   "cell_type": "code",
   "execution_count": 27,
   "metadata": {},
   "outputs": [],
   "source": [
    "calls['call_date'] = pd.to_datetime(calls['call_date'], format='%Y-%m-%d')\n",
    "calls['month'] = calls['call_date'].dt.month\n",
    "internet['session_date'] = pd.to_datetime(internet['session_date'], format='%Y-%m-%d')\n",
    "internet['month'] = internet['session_date'].dt.month\n",
    "messages['message_date'] = pd.to_datetime(messages['message_date'], format='%Y-%m-%d')\n",
    "messages['month'] = messages['message_date'].dt.month\n",
    "users['churn_date'] = pd.to_datetime(users['churn_date'], format='%Y-%m-%d')\n",
    "users['churn_month'] = users['churn_date'].dt.month\n",
    "users['reg_date'] = pd.to_datetime(users['reg_date'], format='%Y-%m-%d')\n",
    "users['reg_month'] = users['reg_date'].dt.month"
   ]
  },
  {
   "cell_type": "markdown",
   "metadata": {},
   "source": [
    "Проверим типы данных, пропуски и значения в month"
   ]
  },
  {
   "cell_type": "code",
   "execution_count": 28,
   "metadata": {},
   "outputs": [
    {
     "name": "stdout",
     "output_type": "stream",
     "text": [
      "<class 'pandas.core.frame.DataFrame'>\n",
      "RangeIndex: 202607 entries, 0 to 202606\n",
      "Data columns (total 5 columns):\n",
      "id           202607 non-null object\n",
      "call_date    202607 non-null datetime64[ns]\n",
      "duration     202607 non-null float64\n",
      "user_id      202607 non-null int64\n",
      "month        202607 non-null int64\n",
      "dtypes: datetime64[ns](1), float64(1), int64(2), object(1)\n",
      "memory usage: 7.7+ MB\n",
      "<class 'pandas.core.frame.DataFrame'>\n",
      "RangeIndex: 149396 entries, 0 to 149395\n",
      "Data columns (total 6 columns):\n",
      "Unnamed: 0      149396 non-null int64\n",
      "id              149396 non-null object\n",
      "mb_used         149396 non-null float64\n",
      "session_date    149396 non-null datetime64[ns]\n",
      "user_id         149396 non-null int64\n",
      "month           149396 non-null int64\n",
      "dtypes: datetime64[ns](1), float64(1), int64(3), object(1)\n",
      "memory usage: 6.8+ MB\n",
      "<class 'pandas.core.frame.DataFrame'>\n",
      "RangeIndex: 123036 entries, 0 to 123035\n",
      "Data columns (total 4 columns):\n",
      "id              123036 non-null object\n",
      "message_date    123036 non-null datetime64[ns]\n",
      "user_id         123036 non-null int64\n",
      "month           123036 non-null int64\n",
      "dtypes: datetime64[ns](1), int64(2), object(1)\n",
      "memory usage: 3.8+ MB\n",
      "<class 'pandas.core.frame.DataFrame'>\n",
      "RangeIndex: 500 entries, 0 to 499\n",
      "Data columns (total 10 columns):\n",
      "user_id        500 non-null int64\n",
      "age            500 non-null int64\n",
      "churn_date     38 non-null datetime64[ns]\n",
      "city           500 non-null object\n",
      "first_name     500 non-null object\n",
      "last_name      500 non-null object\n",
      "reg_date       500 non-null datetime64[ns]\n",
      "tariff         500 non-null object\n",
      "churn_month    38 non-null float64\n",
      "reg_month      500 non-null int64\n",
      "dtypes: datetime64[ns](2), float64(1), int64(3), object(4)\n",
      "memory usage: 39.2+ KB\n"
     ]
    }
   ],
   "source": [
    "calls.info()\n",
    "internet.info()\n",
    "messages.info()\n",
    "users.info()"
   ]
  },
  {
   "cell_type": "code",
   "execution_count": 29,
   "metadata": {},
   "outputs": [
    {
     "data": {
      "text/html": [
       "<div>\n",
       "<style scoped>\n",
       "    .dataframe tbody tr th:only-of-type {\n",
       "        vertical-align: middle;\n",
       "    }\n",
       "\n",
       "    .dataframe tbody tr th {\n",
       "        vertical-align: top;\n",
       "    }\n",
       "\n",
       "    .dataframe thead th {\n",
       "        text-align: right;\n",
       "    }\n",
       "</style>\n",
       "<table border=\"1\" class=\"dataframe\">\n",
       "  <thead>\n",
       "    <tr style=\"text-align: right;\">\n",
       "      <th></th>\n",
       "      <th>id</th>\n",
       "      <th>call_date</th>\n",
       "      <th>duration</th>\n",
       "      <th>user_id</th>\n",
       "      <th>month</th>\n",
       "    </tr>\n",
       "  </thead>\n",
       "  <tbody>\n",
       "    <tr>\n",
       "      <td>0</td>\n",
       "      <td>1000_0</td>\n",
       "      <td>2018-07-25</td>\n",
       "      <td>0.00</td>\n",
       "      <td>1000</td>\n",
       "      <td>7</td>\n",
       "    </tr>\n",
       "    <tr>\n",
       "      <td>1</td>\n",
       "      <td>1000_1</td>\n",
       "      <td>2018-08-17</td>\n",
       "      <td>0.00</td>\n",
       "      <td>1000</td>\n",
       "      <td>8</td>\n",
       "    </tr>\n",
       "    <tr>\n",
       "      <td>2</td>\n",
       "      <td>1000_2</td>\n",
       "      <td>2018-06-11</td>\n",
       "      <td>2.85</td>\n",
       "      <td>1000</td>\n",
       "      <td>6</td>\n",
       "    </tr>\n",
       "    <tr>\n",
       "      <td>3</td>\n",
       "      <td>1000_3</td>\n",
       "      <td>2018-09-21</td>\n",
       "      <td>13.80</td>\n",
       "      <td>1000</td>\n",
       "      <td>9</td>\n",
       "    </tr>\n",
       "    <tr>\n",
       "      <td>4</td>\n",
       "      <td>1000_4</td>\n",
       "      <td>2018-12-15</td>\n",
       "      <td>5.18</td>\n",
       "      <td>1000</td>\n",
       "      <td>12</td>\n",
       "    </tr>\n",
       "  </tbody>\n",
       "</table>\n",
       "</div>"
      ],
      "text/plain": [
       "       id  call_date  duration  user_id  month\n",
       "0  1000_0 2018-07-25      0.00     1000      7\n",
       "1  1000_1 2018-08-17      0.00     1000      8\n",
       "2  1000_2 2018-06-11      2.85     1000      6\n",
       "3  1000_3 2018-09-21     13.80     1000      9\n",
       "4  1000_4 2018-12-15      5.18     1000     12"
      ]
     },
     "metadata": {},
     "output_type": "display_data"
    },
    {
     "data": {
      "text/html": [
       "<div>\n",
       "<style scoped>\n",
       "    .dataframe tbody tr th:only-of-type {\n",
       "        vertical-align: middle;\n",
       "    }\n",
       "\n",
       "    .dataframe tbody tr th {\n",
       "        vertical-align: top;\n",
       "    }\n",
       "\n",
       "    .dataframe thead th {\n",
       "        text-align: right;\n",
       "    }\n",
       "</style>\n",
       "<table border=\"1\" class=\"dataframe\">\n",
       "  <thead>\n",
       "    <tr style=\"text-align: right;\">\n",
       "      <th></th>\n",
       "      <th>Unnamed: 0</th>\n",
       "      <th>id</th>\n",
       "      <th>mb_used</th>\n",
       "      <th>session_date</th>\n",
       "      <th>user_id</th>\n",
       "      <th>month</th>\n",
       "    </tr>\n",
       "  </thead>\n",
       "  <tbody>\n",
       "    <tr>\n",
       "      <td>0</td>\n",
       "      <td>0</td>\n",
       "      <td>1000_0</td>\n",
       "      <td>112.95</td>\n",
       "      <td>2018-11-25</td>\n",
       "      <td>1000</td>\n",
       "      <td>11</td>\n",
       "    </tr>\n",
       "    <tr>\n",
       "      <td>1</td>\n",
       "      <td>1</td>\n",
       "      <td>1000_1</td>\n",
       "      <td>1052.81</td>\n",
       "      <td>2018-09-07</td>\n",
       "      <td>1000</td>\n",
       "      <td>9</td>\n",
       "    </tr>\n",
       "    <tr>\n",
       "      <td>2</td>\n",
       "      <td>2</td>\n",
       "      <td>1000_2</td>\n",
       "      <td>1197.26</td>\n",
       "      <td>2018-06-25</td>\n",
       "      <td>1000</td>\n",
       "      <td>6</td>\n",
       "    </tr>\n",
       "    <tr>\n",
       "      <td>3</td>\n",
       "      <td>3</td>\n",
       "      <td>1000_3</td>\n",
       "      <td>550.27</td>\n",
       "      <td>2018-08-22</td>\n",
       "      <td>1000</td>\n",
       "      <td>8</td>\n",
       "    </tr>\n",
       "    <tr>\n",
       "      <td>4</td>\n",
       "      <td>4</td>\n",
       "      <td>1000_4</td>\n",
       "      <td>302.56</td>\n",
       "      <td>2018-09-24</td>\n",
       "      <td>1000</td>\n",
       "      <td>9</td>\n",
       "    </tr>\n",
       "  </tbody>\n",
       "</table>\n",
       "</div>"
      ],
      "text/plain": [
       "   Unnamed: 0      id  mb_used session_date  user_id  month\n",
       "0           0  1000_0   112.95   2018-11-25     1000     11\n",
       "1           1  1000_1  1052.81   2018-09-07     1000      9\n",
       "2           2  1000_2  1197.26   2018-06-25     1000      6\n",
       "3           3  1000_3   550.27   2018-08-22     1000      8\n",
       "4           4  1000_4   302.56   2018-09-24     1000      9"
      ]
     },
     "metadata": {},
     "output_type": "display_data"
    },
    {
     "data": {
      "text/html": [
       "<div>\n",
       "<style scoped>\n",
       "    .dataframe tbody tr th:only-of-type {\n",
       "        vertical-align: middle;\n",
       "    }\n",
       "\n",
       "    .dataframe tbody tr th {\n",
       "        vertical-align: top;\n",
       "    }\n",
       "\n",
       "    .dataframe thead th {\n",
       "        text-align: right;\n",
       "    }\n",
       "</style>\n",
       "<table border=\"1\" class=\"dataframe\">\n",
       "  <thead>\n",
       "    <tr style=\"text-align: right;\">\n",
       "      <th></th>\n",
       "      <th>id</th>\n",
       "      <th>message_date</th>\n",
       "      <th>user_id</th>\n",
       "      <th>month</th>\n",
       "    </tr>\n",
       "  </thead>\n",
       "  <tbody>\n",
       "    <tr>\n",
       "      <td>0</td>\n",
       "      <td>1000_0</td>\n",
       "      <td>2018-06-27</td>\n",
       "      <td>1000</td>\n",
       "      <td>6</td>\n",
       "    </tr>\n",
       "    <tr>\n",
       "      <td>1</td>\n",
       "      <td>1000_1</td>\n",
       "      <td>2018-10-08</td>\n",
       "      <td>1000</td>\n",
       "      <td>10</td>\n",
       "    </tr>\n",
       "    <tr>\n",
       "      <td>2</td>\n",
       "      <td>1000_2</td>\n",
       "      <td>2018-08-04</td>\n",
       "      <td>1000</td>\n",
       "      <td>8</td>\n",
       "    </tr>\n",
       "    <tr>\n",
       "      <td>3</td>\n",
       "      <td>1000_3</td>\n",
       "      <td>2018-06-16</td>\n",
       "      <td>1000</td>\n",
       "      <td>6</td>\n",
       "    </tr>\n",
       "    <tr>\n",
       "      <td>4</td>\n",
       "      <td>1000_4</td>\n",
       "      <td>2018-12-05</td>\n",
       "      <td>1000</td>\n",
       "      <td>12</td>\n",
       "    </tr>\n",
       "  </tbody>\n",
       "</table>\n",
       "</div>"
      ],
      "text/plain": [
       "       id message_date  user_id  month\n",
       "0  1000_0   2018-06-27     1000      6\n",
       "1  1000_1   2018-10-08     1000     10\n",
       "2  1000_2   2018-08-04     1000      8\n",
       "3  1000_3   2018-06-16     1000      6\n",
       "4  1000_4   2018-12-05     1000     12"
      ]
     },
     "metadata": {},
     "output_type": "display_data"
    },
    {
     "data": {
      "text/html": [
       "<div>\n",
       "<style scoped>\n",
       "    .dataframe tbody tr th:only-of-type {\n",
       "        vertical-align: middle;\n",
       "    }\n",
       "\n",
       "    .dataframe tbody tr th {\n",
       "        vertical-align: top;\n",
       "    }\n",
       "\n",
       "    .dataframe thead th {\n",
       "        text-align: right;\n",
       "    }\n",
       "</style>\n",
       "<table border=\"1\" class=\"dataframe\">\n",
       "  <thead>\n",
       "    <tr style=\"text-align: right;\">\n",
       "      <th></th>\n",
       "      <th>user_id</th>\n",
       "      <th>age</th>\n",
       "      <th>churn_date</th>\n",
       "      <th>city</th>\n",
       "      <th>first_name</th>\n",
       "      <th>last_name</th>\n",
       "      <th>reg_date</th>\n",
       "      <th>tariff</th>\n",
       "      <th>churn_month</th>\n",
       "      <th>reg_month</th>\n",
       "    </tr>\n",
       "  </thead>\n",
       "  <tbody>\n",
       "    <tr>\n",
       "      <td>19</td>\n",
       "      <td>1019</td>\n",
       "      <td>63</td>\n",
       "      <td>2018-10-05</td>\n",
       "      <td>Томск</td>\n",
       "      <td>Игнатий</td>\n",
       "      <td>Круглов</td>\n",
       "      <td>2018-05-16</td>\n",
       "      <td>ultra</td>\n",
       "      <td>10.00</td>\n",
       "      <td>5</td>\n",
       "    </tr>\n",
       "    <tr>\n",
       "      <td>20</td>\n",
       "      <td>1020</td>\n",
       "      <td>59</td>\n",
       "      <td>2018-12-18</td>\n",
       "      <td>Чита</td>\n",
       "      <td>Тала</td>\n",
       "      <td>Костина</td>\n",
       "      <td>2018-10-22</td>\n",
       "      <td>smart</td>\n",
       "      <td>12.00</td>\n",
       "      <td>10</td>\n",
       "    </tr>\n",
       "    <tr>\n",
       "      <td>34</td>\n",
       "      <td>1034</td>\n",
       "      <td>66</td>\n",
       "      <td>2018-11-21</td>\n",
       "      <td>Вологда</td>\n",
       "      <td>Святослав</td>\n",
       "      <td>Бондарев</td>\n",
       "      <td>2018-08-26</td>\n",
       "      <td>smart</td>\n",
       "      <td>11.00</td>\n",
       "      <td>8</td>\n",
       "    </tr>\n",
       "    <tr>\n",
       "      <td>50</td>\n",
       "      <td>1050</td>\n",
       "      <td>44</td>\n",
       "      <td>2018-10-03</td>\n",
       "      <td>Тюмень</td>\n",
       "      <td>Рузана</td>\n",
       "      <td>Аничкина</td>\n",
       "      <td>2018-06-16</td>\n",
       "      <td>ultra</td>\n",
       "      <td>10.00</td>\n",
       "      <td>6</td>\n",
       "    </tr>\n",
       "    <tr>\n",
       "      <td>51</td>\n",
       "      <td>1051</td>\n",
       "      <td>37</td>\n",
       "      <td>2018-10-14</td>\n",
       "      <td>Москва</td>\n",
       "      <td>Кристина</td>\n",
       "      <td>Сомова</td>\n",
       "      <td>2018-05-28</td>\n",
       "      <td>smart</td>\n",
       "      <td>10.00</td>\n",
       "      <td>5</td>\n",
       "    </tr>\n",
       "  </tbody>\n",
       "</table>\n",
       "</div>"
      ],
      "text/plain": [
       "    user_id  age churn_date     city first_name last_name   reg_date tariff  \\\n",
       "19     1019   63 2018-10-05    Томск    Игнатий   Круглов 2018-05-16  ultra   \n",
       "20     1020   59 2018-12-18     Чита       Тала   Костина 2018-10-22  smart   \n",
       "34     1034   66 2018-11-21  Вологда  Святослав  Бондарев 2018-08-26  smart   \n",
       "50     1050   44 2018-10-03   Тюмень     Рузана  Аничкина 2018-06-16  ultra   \n",
       "51     1051   37 2018-10-14   Москва   Кристина    Сомова 2018-05-28  smart   \n",
       "\n",
       "    churn_month  reg_month  \n",
       "19        10.00          5  \n",
       "20        12.00         10  \n",
       "34        11.00          8  \n",
       "50        10.00          6  \n",
       "51        10.00          5  "
      ]
     },
     "execution_count": 29,
     "metadata": {},
     "output_type": "execute_result"
    }
   ],
   "source": [
    "display(calls.head())\n",
    "display(internet.head())\n",
    "display(messages.head())\n",
    "users[users['churn_month'].notna()].head()"
   ]
  },
  {
   "cell_type": "markdown",
   "metadata": {},
   "source": [
    "**Проверяю наличие неявных дубликатов в city**"
   ]
  },
  {
   "cell_type": "code",
   "execution_count": 30,
   "metadata": {},
   "outputs": [
    {
     "data": {
      "text/plain": [
       "array(['Архангельск', 'Астрахань', 'Балашиха', 'Барнаул', 'Белгород',\n",
       "       'Брянск', 'Владивосток', 'Владикавказ', 'Владимир', 'Волгоград',\n",
       "       'Волжский', 'Вологда', 'Воронеж', 'Грозный', 'Екатеринбург',\n",
       "       'Иваново', 'Ижевск', 'Иркутск', 'Казань', 'Калининград', 'Калуга',\n",
       "       'Кемерово', 'Киров', 'Кострома', 'Краснодар', 'Красноярск',\n",
       "       'Курган', 'Курск', 'Липецк', 'Магнитогорск', 'Махачкала', 'Москва',\n",
       "       'Мурманск', 'Набережные Челны', 'Нижневартовск', 'Нижний Новгород',\n",
       "       'Нижний Тагил', 'Новокузнецк', 'Новороссийск', 'Новосибирск',\n",
       "       'Омск', 'Оренбург', 'Орёл', 'Пенза', 'Пермь', 'Петрозаводск',\n",
       "       'Подольск', 'Ростов-на-Дону', 'Рязань', 'Самара',\n",
       "       'Санкт-Петербург', 'Саранск', 'Саратов', 'Севастополь', 'Смоленск',\n",
       "       'Сочи', 'Ставрополь', 'Стерлитамак', 'Сургут', 'Тамбов', 'Тверь',\n",
       "       'Тольятти', 'Томск', 'Тула', 'Тюмень', 'Улан-Удэ', 'Ульяновск',\n",
       "       'Уфа', 'Хабаровск', 'Химки', 'Чебоксары', 'Челябинск', 'Череповец',\n",
       "       'Чита', 'Якутск', 'Ярославль'], dtype=object)"
      ]
     },
     "execution_count": 30,
     "metadata": {},
     "output_type": "execute_result"
    }
   ],
   "source": [
    "city = users['city'].unique()\n",
    "city.sort()\n",
    "city"
   ]
  },
  {
   "cell_type": "markdown",
   "metadata": {},
   "source": [
    "Неявных дубликатов нет"
   ]
  },
  {
   "cell_type": "markdown",
   "metadata": {},
   "source": [
    "Удалим столбец Unnamed: 0 в internet"
   ]
  },
  {
   "cell_type": "code",
   "execution_count": 31,
   "metadata": {},
   "outputs": [
    {
     "data": {
      "text/html": [
       "<div>\n",
       "<style scoped>\n",
       "    .dataframe tbody tr th:only-of-type {\n",
       "        vertical-align: middle;\n",
       "    }\n",
       "\n",
       "    .dataframe tbody tr th {\n",
       "        vertical-align: top;\n",
       "    }\n",
       "\n",
       "    .dataframe thead th {\n",
       "        text-align: right;\n",
       "    }\n",
       "</style>\n",
       "<table border=\"1\" class=\"dataframe\">\n",
       "  <thead>\n",
       "    <tr style=\"text-align: right;\">\n",
       "      <th></th>\n",
       "      <th>id</th>\n",
       "      <th>mb_used</th>\n",
       "      <th>session_date</th>\n",
       "      <th>user_id</th>\n",
       "      <th>month</th>\n",
       "    </tr>\n",
       "  </thead>\n",
       "  <tbody>\n",
       "    <tr>\n",
       "      <td>0</td>\n",
       "      <td>1000_0</td>\n",
       "      <td>112.95</td>\n",
       "      <td>2018-11-25</td>\n",
       "      <td>1000</td>\n",
       "      <td>11</td>\n",
       "    </tr>\n",
       "    <tr>\n",
       "      <td>1</td>\n",
       "      <td>1000_1</td>\n",
       "      <td>1052.81</td>\n",
       "      <td>2018-09-07</td>\n",
       "      <td>1000</td>\n",
       "      <td>9</td>\n",
       "    </tr>\n",
       "    <tr>\n",
       "      <td>2</td>\n",
       "      <td>1000_2</td>\n",
       "      <td>1197.26</td>\n",
       "      <td>2018-06-25</td>\n",
       "      <td>1000</td>\n",
       "      <td>6</td>\n",
       "    </tr>\n",
       "    <tr>\n",
       "      <td>3</td>\n",
       "      <td>1000_3</td>\n",
       "      <td>550.27</td>\n",
       "      <td>2018-08-22</td>\n",
       "      <td>1000</td>\n",
       "      <td>8</td>\n",
       "    </tr>\n",
       "    <tr>\n",
       "      <td>4</td>\n",
       "      <td>1000_4</td>\n",
       "      <td>302.56</td>\n",
       "      <td>2018-09-24</td>\n",
       "      <td>1000</td>\n",
       "      <td>9</td>\n",
       "    </tr>\n",
       "    <tr>\n",
       "      <td>...</td>\n",
       "      <td>...</td>\n",
       "      <td>...</td>\n",
       "      <td>...</td>\n",
       "      <td>...</td>\n",
       "      <td>...</td>\n",
       "    </tr>\n",
       "    <tr>\n",
       "      <td>149391</td>\n",
       "      <td>1499_152</td>\n",
       "      <td>318.90</td>\n",
       "      <td>2018-10-03</td>\n",
       "      <td>1499</td>\n",
       "      <td>10</td>\n",
       "    </tr>\n",
       "    <tr>\n",
       "      <td>149392</td>\n",
       "      <td>1499_153</td>\n",
       "      <td>490.13</td>\n",
       "      <td>2018-12-14</td>\n",
       "      <td>1499</td>\n",
       "      <td>12</td>\n",
       "    </tr>\n",
       "    <tr>\n",
       "      <td>149393</td>\n",
       "      <td>1499_154</td>\n",
       "      <td>0.00</td>\n",
       "      <td>2018-10-27</td>\n",
       "      <td>1499</td>\n",
       "      <td>10</td>\n",
       "    </tr>\n",
       "    <tr>\n",
       "      <td>149394</td>\n",
       "      <td>1499_155</td>\n",
       "      <td>1246.32</td>\n",
       "      <td>2018-11-26</td>\n",
       "      <td>1499</td>\n",
       "      <td>11</td>\n",
       "    </tr>\n",
       "    <tr>\n",
       "      <td>149395</td>\n",
       "      <td>1499_156</td>\n",
       "      <td>544.37</td>\n",
       "      <td>2018-10-26</td>\n",
       "      <td>1499</td>\n",
       "      <td>10</td>\n",
       "    </tr>\n",
       "  </tbody>\n",
       "</table>\n",
       "<p>149396 rows × 5 columns</p>\n",
       "</div>"
      ],
      "text/plain": [
       "              id  mb_used session_date  user_id  month\n",
       "0         1000_0   112.95   2018-11-25     1000     11\n",
       "1         1000_1  1052.81   2018-09-07     1000      9\n",
       "2         1000_2  1197.26   2018-06-25     1000      6\n",
       "3         1000_3   550.27   2018-08-22     1000      8\n",
       "4         1000_4   302.56   2018-09-24     1000      9\n",
       "...          ...      ...          ...      ...    ...\n",
       "149391  1499_152   318.90   2018-10-03     1499     10\n",
       "149392  1499_153   490.13   2018-12-14     1499     12\n",
       "149393  1499_154     0.00   2018-10-27     1499     10\n",
       "149394  1499_155  1246.32   2018-11-26     1499     11\n",
       "149395  1499_156   544.37   2018-10-26     1499     10\n",
       "\n",
       "[149396 rows x 5 columns]"
      ]
     },
     "execution_count": 31,
     "metadata": {},
     "output_type": "execute_result"
    }
   ],
   "source": [
    "del internet['Unnamed: 0']\n",
    "internet"
   ]
  },
  {
   "cell_type": "markdown",
   "metadata": {},
   "source": [
    "**Округлю длительность звонка в большую сторону и проведу группировку данных по user_id и month**"
   ]
  },
  {
   "cell_type": "code",
   "execution_count": 32,
   "metadata": {},
   "outputs": [
    {
     "data": {
      "text/html": [
       "<div>\n",
       "<style scoped>\n",
       "    .dataframe tbody tr th:only-of-type {\n",
       "        vertical-align: middle;\n",
       "    }\n",
       "\n",
       "    .dataframe tbody tr th {\n",
       "        vertical-align: top;\n",
       "    }\n",
       "\n",
       "    .dataframe thead th {\n",
       "        text-align: right;\n",
       "    }\n",
       "</style>\n",
       "<table border=\"1\" class=\"dataframe\">\n",
       "  <thead>\n",
       "    <tr style=\"text-align: right;\">\n",
       "      <th></th>\n",
       "      <th>id</th>\n",
       "      <th>call_date</th>\n",
       "      <th>duration</th>\n",
       "      <th>user_id</th>\n",
       "      <th>month</th>\n",
       "      <th>duration_ceil</th>\n",
       "    </tr>\n",
       "  </thead>\n",
       "  <tbody>\n",
       "    <tr>\n",
       "      <td>0</td>\n",
       "      <td>1000_0</td>\n",
       "      <td>2018-07-25</td>\n",
       "      <td>0.00</td>\n",
       "      <td>1000</td>\n",
       "      <td>7</td>\n",
       "      <td>0.00</td>\n",
       "    </tr>\n",
       "    <tr>\n",
       "      <td>1</td>\n",
       "      <td>1000_1</td>\n",
       "      <td>2018-08-17</td>\n",
       "      <td>0.00</td>\n",
       "      <td>1000</td>\n",
       "      <td>8</td>\n",
       "      <td>0.00</td>\n",
       "    </tr>\n",
       "    <tr>\n",
       "      <td>2</td>\n",
       "      <td>1000_2</td>\n",
       "      <td>2018-06-11</td>\n",
       "      <td>2.85</td>\n",
       "      <td>1000</td>\n",
       "      <td>6</td>\n",
       "      <td>3.00</td>\n",
       "    </tr>\n",
       "    <tr>\n",
       "      <td>3</td>\n",
       "      <td>1000_3</td>\n",
       "      <td>2018-09-21</td>\n",
       "      <td>13.80</td>\n",
       "      <td>1000</td>\n",
       "      <td>9</td>\n",
       "      <td>14.00</td>\n",
       "    </tr>\n",
       "    <tr>\n",
       "      <td>4</td>\n",
       "      <td>1000_4</td>\n",
       "      <td>2018-12-15</td>\n",
       "      <td>5.18</td>\n",
       "      <td>1000</td>\n",
       "      <td>12</td>\n",
       "      <td>6.00</td>\n",
       "    </tr>\n",
       "    <tr>\n",
       "      <td>...</td>\n",
       "      <td>...</td>\n",
       "      <td>...</td>\n",
       "      <td>...</td>\n",
       "      <td>...</td>\n",
       "      <td>...</td>\n",
       "      <td>...</td>\n",
       "    </tr>\n",
       "    <tr>\n",
       "      <td>202602</td>\n",
       "      <td>1499_215</td>\n",
       "      <td>2018-12-26</td>\n",
       "      <td>0.76</td>\n",
       "      <td>1499</td>\n",
       "      <td>12</td>\n",
       "      <td>1.00</td>\n",
       "    </tr>\n",
       "    <tr>\n",
       "      <td>202603</td>\n",
       "      <td>1499_216</td>\n",
       "      <td>2018-10-18</td>\n",
       "      <td>18.83</td>\n",
       "      <td>1499</td>\n",
       "      <td>10</td>\n",
       "      <td>19.00</td>\n",
       "    </tr>\n",
       "    <tr>\n",
       "      <td>202604</td>\n",
       "      <td>1499_217</td>\n",
       "      <td>2018-11-10</td>\n",
       "      <td>10.81</td>\n",
       "      <td>1499</td>\n",
       "      <td>11</td>\n",
       "      <td>11.00</td>\n",
       "    </tr>\n",
       "    <tr>\n",
       "      <td>202605</td>\n",
       "      <td>1499_218</td>\n",
       "      <td>2018-10-06</td>\n",
       "      <td>4.27</td>\n",
       "      <td>1499</td>\n",
       "      <td>10</td>\n",
       "      <td>5.00</td>\n",
       "    </tr>\n",
       "    <tr>\n",
       "      <td>202606</td>\n",
       "      <td>1499_219</td>\n",
       "      <td>2018-12-14</td>\n",
       "      <td>19.62</td>\n",
       "      <td>1499</td>\n",
       "      <td>12</td>\n",
       "      <td>20.00</td>\n",
       "    </tr>\n",
       "  </tbody>\n",
       "</table>\n",
       "<p>202607 rows × 6 columns</p>\n",
       "</div>"
      ],
      "text/plain": [
       "              id  call_date  duration  user_id  month  duration_ceil\n",
       "0         1000_0 2018-07-25      0.00     1000      7           0.00\n",
       "1         1000_1 2018-08-17      0.00     1000      8           0.00\n",
       "2         1000_2 2018-06-11      2.85     1000      6           3.00\n",
       "3         1000_3 2018-09-21     13.80     1000      9          14.00\n",
       "4         1000_4 2018-12-15      5.18     1000     12           6.00\n",
       "...          ...        ...       ...      ...    ...            ...\n",
       "202602  1499_215 2018-12-26      0.76     1499     12           1.00\n",
       "202603  1499_216 2018-10-18     18.83     1499     10          19.00\n",
       "202604  1499_217 2018-11-10     10.81     1499     11          11.00\n",
       "202605  1499_218 2018-10-06      4.27     1499     10           5.00\n",
       "202606  1499_219 2018-12-14     19.62     1499     12          20.00\n",
       "\n",
       "[202607 rows x 6 columns]"
      ]
     },
     "execution_count": 32,
     "metadata": {},
     "output_type": "execute_result"
    }
   ],
   "source": [
    "calls['duration_ceil'] = np.ceil(calls['duration'])\n",
    "calls"
   ]
  },
  {
   "cell_type": "code",
   "execution_count": 33,
   "metadata": {},
   "outputs": [
    {
     "name": "stdout",
     "output_type": "stream",
     "text": [
      "<class 'pandas.core.frame.DataFrame'>\n",
      "MultiIndex: 3174 entries, (1000, 5) to (1499, 12)\n",
      "Data columns (total 1 columns):\n",
      "duration_ceil    3174 non-null float64\n",
      "dtypes: float64(1)\n",
      "memory usage: 38.1 KB\n"
     ]
    },
    {
     "data": {
      "text/html": [
       "<div>\n",
       "<style scoped>\n",
       "    .dataframe tbody tr th:only-of-type {\n",
       "        vertical-align: middle;\n",
       "    }\n",
       "\n",
       "    .dataframe tbody tr th {\n",
       "        vertical-align: top;\n",
       "    }\n",
       "\n",
       "    .dataframe thead th {\n",
       "        text-align: right;\n",
       "    }\n",
       "</style>\n",
       "<table border=\"1\" class=\"dataframe\">\n",
       "  <thead>\n",
       "    <tr style=\"text-align: right;\">\n",
       "      <th></th>\n",
       "      <th></th>\n",
       "      <th>duration_ceil</th>\n",
       "    </tr>\n",
       "    <tr>\n",
       "      <th>user_id</th>\n",
       "      <th>month</th>\n",
       "      <th></th>\n",
       "    </tr>\n",
       "  </thead>\n",
       "  <tbody>\n",
       "    <tr>\n",
       "      <td rowspan=\"5\" valign=\"top\">1000</td>\n",
       "      <td>5</td>\n",
       "      <td>159.00</td>\n",
       "    </tr>\n",
       "    <tr>\n",
       "      <td>6</td>\n",
       "      <td>172.00</td>\n",
       "    </tr>\n",
       "    <tr>\n",
       "      <td>7</td>\n",
       "      <td>340.00</td>\n",
       "    </tr>\n",
       "    <tr>\n",
       "      <td>8</td>\n",
       "      <td>408.00</td>\n",
       "    </tr>\n",
       "    <tr>\n",
       "      <td>9</td>\n",
       "      <td>466.00</td>\n",
       "    </tr>\n",
       "    <tr>\n",
       "      <td>...</td>\n",
       "      <td>...</td>\n",
       "      <td>...</td>\n",
       "    </tr>\n",
       "    <tr>\n",
       "      <td>1498</td>\n",
       "      <td>10</td>\n",
       "      <td>247.00</td>\n",
       "    </tr>\n",
       "    <tr>\n",
       "      <td rowspan=\"4\" valign=\"top\">1499</td>\n",
       "      <td>9</td>\n",
       "      <td>70.00</td>\n",
       "    </tr>\n",
       "    <tr>\n",
       "      <td>10</td>\n",
       "      <td>449.00</td>\n",
       "    </tr>\n",
       "    <tr>\n",
       "      <td>11</td>\n",
       "      <td>612.00</td>\n",
       "    </tr>\n",
       "    <tr>\n",
       "      <td>12</td>\n",
       "      <td>492.00</td>\n",
       "    </tr>\n",
       "  </tbody>\n",
       "</table>\n",
       "<p>3174 rows × 1 columns</p>\n",
       "</div>"
      ],
      "text/plain": [
       "               duration_ceil\n",
       "user_id month               \n",
       "1000    5             159.00\n",
       "        6             172.00\n",
       "        7             340.00\n",
       "        8             408.00\n",
       "        9             466.00\n",
       "...                      ...\n",
       "1498    10            247.00\n",
       "1499    9              70.00\n",
       "        10            449.00\n",
       "        11            612.00\n",
       "        12            492.00\n",
       "\n",
       "[3174 rows x 1 columns]"
      ]
     },
     "execution_count": 33,
     "metadata": {},
     "output_type": "execute_result"
    }
   ],
   "source": [
    "calls_pivot = calls.pivot_table(index=['user_id', 'month'], values='duration_ceil', aggfunc='sum')\n",
    "#calls_pivot.reset_index(inplace=True)\n",
    "calls_pivot.info()\n",
    "calls_pivot"
   ]
  },
  {
   "cell_type": "markdown",
   "metadata": {},
   "source": [
    "**Считаю общий ежемесячный расход трафика в мб для каждого пользователя и перевожу его в гб с округлением вверх**"
   ]
  },
  {
   "cell_type": "code",
   "execution_count": 34,
   "metadata": {},
   "outputs": [
    {
     "name": "stdout",
     "output_type": "stream",
     "text": [
      "<class 'pandas.core.frame.DataFrame'>\n",
      "MultiIndex: 3203 entries, (1000, 5) to (1499, 12)\n",
      "Data columns (total 1 columns):\n",
      "gb_used    3203 non-null float64\n",
      "dtypes: float64(1)\n",
      "memory usage: 38.5 KB\n"
     ]
    },
    {
     "data": {
      "text/html": [
       "<div>\n",
       "<style scoped>\n",
       "    .dataframe tbody tr th:only-of-type {\n",
       "        vertical-align: middle;\n",
       "    }\n",
       "\n",
       "    .dataframe tbody tr th {\n",
       "        vertical-align: top;\n",
       "    }\n",
       "\n",
       "    .dataframe thead th {\n",
       "        text-align: right;\n",
       "    }\n",
       "</style>\n",
       "<table border=\"1\" class=\"dataframe\">\n",
       "  <thead>\n",
       "    <tr style=\"text-align: right;\">\n",
       "      <th></th>\n",
       "      <th></th>\n",
       "      <th>gb_used</th>\n",
       "    </tr>\n",
       "    <tr>\n",
       "      <th>user_id</th>\n",
       "      <th>month</th>\n",
       "      <th></th>\n",
       "    </tr>\n",
       "  </thead>\n",
       "  <tbody>\n",
       "    <tr>\n",
       "      <td rowspan=\"5\" valign=\"top\">1000</td>\n",
       "      <td>5</td>\n",
       "      <td>3.00</td>\n",
       "    </tr>\n",
       "    <tr>\n",
       "      <td>6</td>\n",
       "      <td>23.00</td>\n",
       "    </tr>\n",
       "    <tr>\n",
       "      <td>7</td>\n",
       "      <td>14.00</td>\n",
       "    </tr>\n",
       "    <tr>\n",
       "      <td>8</td>\n",
       "      <td>14.00</td>\n",
       "    </tr>\n",
       "    <tr>\n",
       "      <td>9</td>\n",
       "      <td>15.00</td>\n",
       "    </tr>\n",
       "    <tr>\n",
       "      <td>...</td>\n",
       "      <td>...</td>\n",
       "      <td>...</td>\n",
       "    </tr>\n",
       "    <tr>\n",
       "      <td>1498</td>\n",
       "      <td>10</td>\n",
       "      <td>21.00</td>\n",
       "    </tr>\n",
       "    <tr>\n",
       "      <td rowspan=\"4\" valign=\"top\">1499</td>\n",
       "      <td>9</td>\n",
       "      <td>2.00</td>\n",
       "    </tr>\n",
       "    <tr>\n",
       "      <td>10</td>\n",
       "      <td>18.00</td>\n",
       "    </tr>\n",
       "    <tr>\n",
       "      <td>11</td>\n",
       "      <td>18.00</td>\n",
       "    </tr>\n",
       "    <tr>\n",
       "      <td>12</td>\n",
       "      <td>13.00</td>\n",
       "    </tr>\n",
       "  </tbody>\n",
       "</table>\n",
       "<p>3203 rows × 1 columns</p>\n",
       "</div>"
      ],
      "text/plain": [
       "               gb_used\n",
       "user_id month         \n",
       "1000    5         3.00\n",
       "        6        23.00\n",
       "        7        14.00\n",
       "        8        14.00\n",
       "        9        15.00\n",
       "...                ...\n",
       "1498    10       21.00\n",
       "1499    9         2.00\n",
       "        10       18.00\n",
       "        11       18.00\n",
       "        12       13.00\n",
       "\n",
       "[3203 rows x 1 columns]"
      ]
     },
     "execution_count": 34,
     "metadata": {},
     "output_type": "execute_result"
    }
   ],
   "source": [
    "internet_pivot = internet.pivot_table(index=['user_id', 'month'], values='mb_used', aggfunc='sum')\n",
    "#internet_pivot.reset_index(inplace=True)\n",
    "internet_pivot['gb_used'] = np.ceil(internet_pivot['mb_used'] / 1024)\n",
    "del internet_pivot['mb_used']\n",
    "internet_pivot.info()\n",
    "internet_pivot"
   ]
  },
  {
   "cell_type": "markdown",
   "metadata": {},
   "source": [
    "**Посчитаю количество сообщений выполненное каждым пользователем в месяц**"
   ]
  },
  {
   "cell_type": "code",
   "execution_count": 35,
   "metadata": {},
   "outputs": [
    {
     "name": "stdout",
     "output_type": "stream",
     "text": [
      "<class 'pandas.core.frame.DataFrame'>\n",
      "MultiIndex: 2717 entries, (1000, 5) to (1499, 12)\n",
      "Data columns (total 1 columns):\n",
      "messages_count    2717 non-null int64\n",
      "dtypes: int64(1)\n",
      "memory usage: 32.7 KB\n"
     ]
    },
    {
     "data": {
      "text/html": [
       "<div>\n",
       "<style scoped>\n",
       "    .dataframe tbody tr th:only-of-type {\n",
       "        vertical-align: middle;\n",
       "    }\n",
       "\n",
       "    .dataframe tbody tr th {\n",
       "        vertical-align: top;\n",
       "    }\n",
       "\n",
       "    .dataframe thead th {\n",
       "        text-align: right;\n",
       "    }\n",
       "</style>\n",
       "<table border=\"1\" class=\"dataframe\">\n",
       "  <thead>\n",
       "    <tr style=\"text-align: right;\">\n",
       "      <th></th>\n",
       "      <th></th>\n",
       "      <th>messages_count</th>\n",
       "    </tr>\n",
       "    <tr>\n",
       "      <th>user_id</th>\n",
       "      <th>month</th>\n",
       "      <th></th>\n",
       "    </tr>\n",
       "  </thead>\n",
       "  <tbody>\n",
       "    <tr>\n",
       "      <td rowspan=\"5\" valign=\"top\">1000</td>\n",
       "      <td>5</td>\n",
       "      <td>22</td>\n",
       "    </tr>\n",
       "    <tr>\n",
       "      <td>6</td>\n",
       "      <td>60</td>\n",
       "    </tr>\n",
       "    <tr>\n",
       "      <td>7</td>\n",
       "      <td>75</td>\n",
       "    </tr>\n",
       "    <tr>\n",
       "      <td>8</td>\n",
       "      <td>81</td>\n",
       "    </tr>\n",
       "    <tr>\n",
       "      <td>9</td>\n",
       "      <td>57</td>\n",
       "    </tr>\n",
       "    <tr>\n",
       "      <td>...</td>\n",
       "      <td>...</td>\n",
       "      <td>...</td>\n",
       "    </tr>\n",
       "    <tr>\n",
       "      <td>1498</td>\n",
       "      <td>10</td>\n",
       "      <td>42</td>\n",
       "    </tr>\n",
       "    <tr>\n",
       "      <td rowspan=\"4\" valign=\"top\">1499</td>\n",
       "      <td>9</td>\n",
       "      <td>11</td>\n",
       "    </tr>\n",
       "    <tr>\n",
       "      <td>10</td>\n",
       "      <td>48</td>\n",
       "    </tr>\n",
       "    <tr>\n",
       "      <td>11</td>\n",
       "      <td>59</td>\n",
       "    </tr>\n",
       "    <tr>\n",
       "      <td>12</td>\n",
       "      <td>66</td>\n",
       "    </tr>\n",
       "  </tbody>\n",
       "</table>\n",
       "<p>2717 rows × 1 columns</p>\n",
       "</div>"
      ],
      "text/plain": [
       "               messages_count\n",
       "user_id month                \n",
       "1000    5                  22\n",
       "        6                  60\n",
       "        7                  75\n",
       "        8                  81\n",
       "        9                  57\n",
       "...                       ...\n",
       "1498    10                 42\n",
       "1499    9                  11\n",
       "        10                 48\n",
       "        11                 59\n",
       "        12                 66\n",
       "\n",
       "[2717 rows x 1 columns]"
      ]
     },
     "execution_count": 35,
     "metadata": {},
     "output_type": "execute_result"
    }
   ],
   "source": [
    "messages_pivot = messages.pivot_table(index=['user_id', 'month'], values='id', aggfunc='count')\n",
    "#messages_pivot.reset_index()\n",
    "messages_pivot = messages_pivot.rename(columns = {'id':'messages_count'})\n",
    "messages_pivot.info()\n",
    "messages_pivot"
   ]
  },
  {
   "cell_type": "raw",
   "metadata": {},
   "source": [
    "messages.groupby(by='user_id').agg({'id':'count'})"
   ]
  },
  {
   "cell_type": "raw",
   "metadata": {},
   "source": [
    "user = users.groupby(by='user_id')\n",
    "display(user)"
   ]
  },
  {
   "cell_type": "markdown",
   "metadata": {},
   "source": [
    "**Объединяю в одну таблицу всю информацию по ежемесечному использованию пользователями услуг сотовой связи, так же проверяю вошли ли в данную таблицу все ползователи с выборки**"
   ]
  },
  {
   "cell_type": "code",
   "execution_count": 36,
   "metadata": {},
   "outputs": [
    {
     "name": "stdout",
     "output_type": "stream",
     "text": [
      "Число пользователей воспользовавшихся услугами: 498\n",
      "Число пользователей в выборке 500\n"
     ]
    },
    {
     "data": {
      "text/html": [
       "<div>\n",
       "<style scoped>\n",
       "    .dataframe tbody tr th:only-of-type {\n",
       "        vertical-align: middle;\n",
       "    }\n",
       "\n",
       "    .dataframe tbody tr th {\n",
       "        vertical-align: top;\n",
       "    }\n",
       "\n",
       "    .dataframe thead th {\n",
       "        text-align: right;\n",
       "    }\n",
       "</style>\n",
       "<table border=\"1\" class=\"dataframe\">\n",
       "  <thead>\n",
       "    <tr style=\"text-align: right;\">\n",
       "      <th></th>\n",
       "      <th>user_id</th>\n",
       "      <th>month</th>\n",
       "      <th>duration_ceil</th>\n",
       "      <th>messages_count</th>\n",
       "      <th>gb_used</th>\n",
       "    </tr>\n",
       "  </thead>\n",
       "  <tbody>\n",
       "    <tr>\n",
       "      <td>0</td>\n",
       "      <td>1000</td>\n",
       "      <td>5</td>\n",
       "      <td>159.00</td>\n",
       "      <td>22.00</td>\n",
       "      <td>3.00</td>\n",
       "    </tr>\n",
       "    <tr>\n",
       "      <td>1</td>\n",
       "      <td>1000</td>\n",
       "      <td>6</td>\n",
       "      <td>172.00</td>\n",
       "      <td>60.00</td>\n",
       "      <td>23.00</td>\n",
       "    </tr>\n",
       "    <tr>\n",
       "      <td>2</td>\n",
       "      <td>1000</td>\n",
       "      <td>7</td>\n",
       "      <td>340.00</td>\n",
       "      <td>75.00</td>\n",
       "      <td>14.00</td>\n",
       "    </tr>\n",
       "    <tr>\n",
       "      <td>3</td>\n",
       "      <td>1000</td>\n",
       "      <td>8</td>\n",
       "      <td>408.00</td>\n",
       "      <td>81.00</td>\n",
       "      <td>14.00</td>\n",
       "    </tr>\n",
       "    <tr>\n",
       "      <td>4</td>\n",
       "      <td>1000</td>\n",
       "      <td>9</td>\n",
       "      <td>466.00</td>\n",
       "      <td>57.00</td>\n",
       "      <td>15.00</td>\n",
       "    </tr>\n",
       "    <tr>\n",
       "      <td>...</td>\n",
       "      <td>...</td>\n",
       "      <td>...</td>\n",
       "      <td>...</td>\n",
       "      <td>...</td>\n",
       "      <td>...</td>\n",
       "    </tr>\n",
       "    <tr>\n",
       "      <td>3209</td>\n",
       "      <td>1498</td>\n",
       "      <td>10</td>\n",
       "      <td>247.00</td>\n",
       "      <td>42.00</td>\n",
       "      <td>21.00</td>\n",
       "    </tr>\n",
       "    <tr>\n",
       "      <td>3210</td>\n",
       "      <td>1499</td>\n",
       "      <td>9</td>\n",
       "      <td>70.00</td>\n",
       "      <td>11.00</td>\n",
       "      <td>2.00</td>\n",
       "    </tr>\n",
       "    <tr>\n",
       "      <td>3211</td>\n",
       "      <td>1499</td>\n",
       "      <td>10</td>\n",
       "      <td>449.00</td>\n",
       "      <td>48.00</td>\n",
       "      <td>18.00</td>\n",
       "    </tr>\n",
       "    <tr>\n",
       "      <td>3212</td>\n",
       "      <td>1499</td>\n",
       "      <td>11</td>\n",
       "      <td>612.00</td>\n",
       "      <td>59.00</td>\n",
       "      <td>18.00</td>\n",
       "    </tr>\n",
       "    <tr>\n",
       "      <td>3213</td>\n",
       "      <td>1499</td>\n",
       "      <td>12</td>\n",
       "      <td>492.00</td>\n",
       "      <td>66.00</td>\n",
       "      <td>13.00</td>\n",
       "    </tr>\n",
       "  </tbody>\n",
       "</table>\n",
       "<p>3214 rows × 5 columns</p>\n",
       "</div>"
      ],
      "text/plain": [
       "      user_id  month  duration_ceil  messages_count  gb_used\n",
       "0        1000      5         159.00           22.00     3.00\n",
       "1        1000      6         172.00           60.00    23.00\n",
       "2        1000      7         340.00           75.00    14.00\n",
       "3        1000      8         408.00           81.00    14.00\n",
       "4        1000      9         466.00           57.00    15.00\n",
       "...       ...    ...            ...             ...      ...\n",
       "3209     1498     10         247.00           42.00    21.00\n",
       "3210     1499      9          70.00           11.00     2.00\n",
       "3211     1499     10         449.00           48.00    18.00\n",
       "3212     1499     11         612.00           59.00    18.00\n",
       "3213     1499     12         492.00           66.00    13.00\n",
       "\n",
       "[3214 rows x 5 columns]"
      ]
     },
     "execution_count": 36,
     "metadata": {},
     "output_type": "execute_result"
    }
   ],
   "source": [
    "data = calls_pivot.merge(messages_pivot, left_index=True, right_index=True, how='outer')\n",
    "data = data.merge(internet_pivot, left_index=True, right_index=True, how='outer')\n",
    "data = data.reset_index()\n",
    "print(f'Число пользователей воспользовавшихся услугами: {len(data[\"user_id\"].unique())}')\n",
    "print(f'Число пользователей в выборке {len(users[\"user_id\"].unique())}')\n",
    "data\n"
   ]
  },
  {
   "cell_type": "markdown",
   "metadata": {},
   "source": [
    "Выделю user_id пользователей, которые не пользовались услугами"
   ]
  },
  {
   "cell_type": "code",
   "execution_count": 37,
   "metadata": {},
   "outputs": [
    {
     "data": {
      "text/plain": [
       "[1128, 1371]"
      ]
     },
     "execution_count": 37,
     "metadata": {},
     "output_type": "execute_result"
    }
   ],
   "source": [
    "user_afk = []\n",
    "for user in users['user_id']:\n",
    "    if user not in data['user_id'].unique():\n",
    "        user_afk.append(user)\n",
    "user_afk"
   ]
  },
  {
   "cell_type": "markdown",
   "metadata": {},
   "source": [
    "Объединяю датафреймы: данные по услугам, информацию о пользователях и информацию о тарифах (предварительно в тарифе переведу мб в гб)."
   ]
  },
  {
   "cell_type": "code",
   "execution_count": 38,
   "metadata": {},
   "outputs": [],
   "source": [
    "data = users.merge(data, on='user_id', how='left')"
   ]
  },
  {
   "cell_type": "code",
   "execution_count": 39,
   "metadata": {},
   "outputs": [],
   "source": [
    "tariffs['gb_per_month_included'] = tariffs['mb_per_month_included'] / 1024\n",
    "data = data.merge(tariffs, left_on='tariff', right_on='tariff_name', how='left')"
   ]
  },
  {
   "cell_type": "code",
   "execution_count": 40,
   "metadata": {},
   "outputs": [
    {
     "data": {
      "text/plain": [
       "500"
      ]
     },
     "execution_count": 40,
     "metadata": {},
     "output_type": "execute_result"
    }
   ],
   "source": [
    "len(data['user_id'].unique())"
   ]
  },
  {
   "cell_type": "code",
   "execution_count": 41,
   "metadata": {},
   "outputs": [
    {
     "name": "stdout",
     "output_type": "stream",
     "text": [
      "<class 'pandas.core.frame.DataFrame'>\n",
      "Int64Index: 3216 entries, 0 to 3215\n",
      "Data columns (total 23 columns):\n",
      "user_id                  3216 non-null int64\n",
      "age                      3216 non-null int64\n",
      "churn_date               189 non-null datetime64[ns]\n",
      "city                     3216 non-null object\n",
      "first_name               3216 non-null object\n",
      "last_name                3216 non-null object\n",
      "reg_date                 3216 non-null datetime64[ns]\n",
      "tariff                   3216 non-null object\n",
      "churn_month              189 non-null float64\n",
      "reg_month                3216 non-null int64\n",
      "month                    3214 non-null float64\n",
      "duration_ceil            3174 non-null float64\n",
      "messages_count           2717 non-null float64\n",
      "gb_used                  3203 non-null float64\n",
      "messages_included        3216 non-null int64\n",
      "mb_per_month_included    3216 non-null int64\n",
      "minutes_included         3216 non-null int64\n",
      "rub_monthly_fee          3216 non-null int64\n",
      "rub_per_gb               3216 non-null int64\n",
      "rub_per_message          3216 non-null int64\n",
      "rub_per_minute           3216 non-null int64\n",
      "tariff_name              3216 non-null object\n",
      "gb_per_month_included    3216 non-null float64\n",
      "dtypes: datetime64[ns](2), float64(6), int64(10), object(5)\n",
      "memory usage: 603.0+ KB\n"
     ]
    }
   ],
   "source": [
    "data.info()"
   ]
  },
  {
   "cell_type": "markdown",
   "metadata": {},
   "source": [
    "Проверим использовались ли услуги пользователями после даты прекращения пользованием тарифа."
   ]
  },
  {
   "cell_type": "code",
   "execution_count": 42,
   "metadata": {
    "scrolled": false
   },
   "outputs": [
    {
     "data": {
      "text/html": [
       "<div>\n",
       "<style scoped>\n",
       "    .dataframe tbody tr th:only-of-type {\n",
       "        vertical-align: middle;\n",
       "    }\n",
       "\n",
       "    .dataframe tbody tr th {\n",
       "        vertical-align: top;\n",
       "    }\n",
       "\n",
       "    .dataframe thead th {\n",
       "        text-align: right;\n",
       "    }\n",
       "</style>\n",
       "<table border=\"1\" class=\"dataframe\">\n",
       "  <thead>\n",
       "    <tr style=\"text-align: right;\">\n",
       "      <th></th>\n",
       "      <th>user_id</th>\n",
       "      <th>age</th>\n",
       "      <th>churn_date</th>\n",
       "      <th>city</th>\n",
       "      <th>first_name</th>\n",
       "      <th>last_name</th>\n",
       "      <th>reg_date</th>\n",
       "      <th>tariff</th>\n",
       "      <th>churn_month</th>\n",
       "      <th>reg_month</th>\n",
       "      <th>month</th>\n",
       "      <th>duration_ceil</th>\n",
       "      <th>messages_count</th>\n",
       "      <th>gb_used</th>\n",
       "      <th>messages_included</th>\n",
       "      <th>mb_per_month_included</th>\n",
       "      <th>minutes_included</th>\n",
       "      <th>rub_monthly_fee</th>\n",
       "      <th>rub_per_gb</th>\n",
       "      <th>rub_per_message</th>\n",
       "      <th>rub_per_minute</th>\n",
       "      <th>tariff_name</th>\n",
       "      <th>gb_per_month_included</th>\n",
       "    </tr>\n",
       "  </thead>\n",
       "  <tbody>\n",
       "  </tbody>\n",
       "</table>\n",
       "</div>"
      ],
      "text/plain": [
       "Empty DataFrame\n",
       "Columns: [user_id, age, churn_date, city, first_name, last_name, reg_date, tariff, churn_month, reg_month, month, duration_ceil, messages_count, gb_used, messages_included, mb_per_month_included, minutes_included, rub_monthly_fee, rub_per_gb, rub_per_message, rub_per_minute, tariff_name, gb_per_month_included]\n",
       "Index: []"
      ]
     },
     "execution_count": 42,
     "metadata": {},
     "output_type": "execute_result"
    }
   ],
   "source": [
    "data.query('month > churn_month')"
   ]
  },
  {
   "cell_type": "markdown",
   "metadata": {},
   "source": [
    "Проверим есть ли данные в которых месяц подключения больше или равен месяцу прекращения ползованием тарифа"
   ]
  },
  {
   "cell_type": "code",
   "execution_count": 43,
   "metadata": {},
   "outputs": [
    {
     "data": {
      "text/html": [
       "<div>\n",
       "<style scoped>\n",
       "    .dataframe tbody tr th:only-of-type {\n",
       "        vertical-align: middle;\n",
       "    }\n",
       "\n",
       "    .dataframe tbody tr th {\n",
       "        vertical-align: top;\n",
       "    }\n",
       "\n",
       "    .dataframe thead th {\n",
       "        text-align: right;\n",
       "    }\n",
       "</style>\n",
       "<table border=\"1\" class=\"dataframe\">\n",
       "  <thead>\n",
       "    <tr style=\"text-align: right;\">\n",
       "      <th></th>\n",
       "      <th>user_id</th>\n",
       "      <th>age</th>\n",
       "      <th>churn_date</th>\n",
       "      <th>city</th>\n",
       "      <th>first_name</th>\n",
       "      <th>last_name</th>\n",
       "      <th>reg_date</th>\n",
       "      <th>tariff</th>\n",
       "      <th>churn_month</th>\n",
       "      <th>reg_month</th>\n",
       "      <th>month</th>\n",
       "      <th>duration_ceil</th>\n",
       "      <th>messages_count</th>\n",
       "      <th>gb_used</th>\n",
       "      <th>messages_included</th>\n",
       "      <th>mb_per_month_included</th>\n",
       "      <th>minutes_included</th>\n",
       "      <th>rub_monthly_fee</th>\n",
       "      <th>rub_per_gb</th>\n",
       "      <th>rub_per_message</th>\n",
       "      <th>rub_per_minute</th>\n",
       "      <th>tariff_name</th>\n",
       "      <th>gb_per_month_included</th>\n",
       "    </tr>\n",
       "  </thead>\n",
       "  <tbody>\n",
       "    <tr>\n",
       "      <td>827</td>\n",
       "      <td>1128</td>\n",
       "      <td>51</td>\n",
       "      <td>2018-12-23</td>\n",
       "      <td>Волжский</td>\n",
       "      <td>Ксения</td>\n",
       "      <td>Агаева</td>\n",
       "      <td>2018-12-15</td>\n",
       "      <td>ultra</td>\n",
       "      <td>12.00</td>\n",
       "      <td>12</td>\n",
       "      <td>nan</td>\n",
       "      <td>nan</td>\n",
       "      <td>nan</td>\n",
       "      <td>nan</td>\n",
       "      <td>1000</td>\n",
       "      <td>30720</td>\n",
       "      <td>3000</td>\n",
       "      <td>1950</td>\n",
       "      <td>150</td>\n",
       "      <td>1</td>\n",
       "      <td>1</td>\n",
       "      <td>ultra</td>\n",
       "      <td>30.00</td>\n",
       "    </tr>\n",
       "    <tr>\n",
       "      <td>2335</td>\n",
       "      <td>1371</td>\n",
       "      <td>50</td>\n",
       "      <td>2018-12-30</td>\n",
       "      <td>Омск</td>\n",
       "      <td>Ириней</td>\n",
       "      <td>Трофимов</td>\n",
       "      <td>2018-12-25</td>\n",
       "      <td>smart</td>\n",
       "      <td>12.00</td>\n",
       "      <td>12</td>\n",
       "      <td>nan</td>\n",
       "      <td>nan</td>\n",
       "      <td>nan</td>\n",
       "      <td>nan</td>\n",
       "      <td>50</td>\n",
       "      <td>15360</td>\n",
       "      <td>500</td>\n",
       "      <td>550</td>\n",
       "      <td>200</td>\n",
       "      <td>3</td>\n",
       "      <td>3</td>\n",
       "      <td>smart</td>\n",
       "      <td>15.00</td>\n",
       "    </tr>\n",
       "  </tbody>\n",
       "</table>\n",
       "</div>"
      ],
      "text/plain": [
       "      user_id  age churn_date      city first_name last_name   reg_date  \\\n",
       "827      1128   51 2018-12-23  Волжский     Ксения    Агаева 2018-12-15   \n",
       "2335     1371   50 2018-12-30      Омск     Ириней  Трофимов 2018-12-25   \n",
       "\n",
       "     tariff  churn_month  reg_month  month  duration_ceil  messages_count  \\\n",
       "827   ultra        12.00         12    nan            nan             nan   \n",
       "2335  smart        12.00         12    nan            nan             nan   \n",
       "\n",
       "      gb_used  messages_included  mb_per_month_included  minutes_included  \\\n",
       "827       nan               1000                  30720              3000   \n",
       "2335      nan                 50                  15360               500   \n",
       "\n",
       "      rub_monthly_fee  rub_per_gb  rub_per_message  rub_per_minute  \\\n",
       "827              1950         150                1               1   \n",
       "2335              550         200                3               3   \n",
       "\n",
       "     tariff_name  gb_per_month_included  \n",
       "827        ultra                  30.00  \n",
       "2335       smart                  15.00  "
      ]
     },
     "execution_count": 43,
     "metadata": {},
     "output_type": "execute_result"
    }
   ],
   "source": [
    "data.query('reg_month >= churn_month')"
   ]
  },
  {
   "cell_type": "markdown",
   "metadata": {},
   "source": [
    "Имеются два пользователя подключившие и отключившие тариф в одном месяце. user_id этих пользователей совпадает с user_afk.\n",
    "\n",
    "Учитывая что компания \"Мегалайн\" любит все сильно округлять наверх, в дальнейшем исследовании буду считать что данные пользователи заплатили абонентскую плату за месяц. "
   ]
  },
  {
   "cell_type": "markdown",
   "metadata": {},
   "source": [
    "**Посчитаю ежемесечную выручку с каждого пользователя**\n",
    "\n",
    "Для начала найдем услуги которыми пользователи пользовались свыше трафика (отрицательные и пропущенные значения заменим на 0), затем посчитаем сумму ежемесечного платежа по тарифу и стоимости использования услуг сверх тарифа."
   ]
  },
  {
   "cell_type": "code",
   "execution_count": 44,
   "metadata": {},
   "outputs": [
    {
     "name": "stdout",
     "output_type": "stream",
     "text": [
      "<class 'pandas.core.frame.DataFrame'>\n",
      "Int64Index: 3216 entries, 0 to 3215\n",
      "Data columns (total 26 columns):\n",
      "user_id                  3216 non-null int64\n",
      "age                      3216 non-null int64\n",
      "churn_date               189 non-null datetime64[ns]\n",
      "city                     3216 non-null object\n",
      "first_name               3216 non-null object\n",
      "last_name                3216 non-null object\n",
      "reg_date                 3216 non-null datetime64[ns]\n",
      "tariff                   3216 non-null object\n",
      "churn_month              189 non-null float64\n",
      "reg_month                3216 non-null int64\n",
      "month                    3214 non-null float64\n",
      "duration_ceil            3174 non-null float64\n",
      "messages_count           2717 non-null float64\n",
      "gb_used                  3203 non-null float64\n",
      "messages_included        3216 non-null int64\n",
      "mb_per_month_included    3216 non-null int64\n",
      "minutes_included         3216 non-null int64\n",
      "rub_monthly_fee          3216 non-null int64\n",
      "rub_per_gb               3216 non-null int64\n",
      "rub_per_message          3216 non-null int64\n",
      "rub_per_minute           3216 non-null int64\n",
      "tariff_name              3216 non-null object\n",
      "gb_per_month_included    3216 non-null float64\n",
      "gb_over                  3216 non-null float64\n",
      "messages_over            3216 non-null float64\n",
      "minutes_over             3216 non-null float64\n",
      "dtypes: datetime64[ns](2), float64(9), int64(10), object(5)\n",
      "memory usage: 678.4+ KB\n"
     ]
    }
   ],
   "source": [
    "data['gb_over'] = data['gb_used'] - data['gb_per_month_included']\n",
    "data['gb_over'] = data['gb_over'].apply(lambda x: 0 if x<0 else x)\n",
    "data['messages_over'] = data['messages_count'] - data['messages_included']\n",
    "data['messages_over'] = data['messages_over'].apply(lambda x: 0 if x<0 else x)\n",
    "data['minutes_over'] = data['duration_ceil'] - data['minutes_included']\n",
    "data['minutes_over'] = data['minutes_over'].apply(lambda x: 0 if x<0 else x)\n",
    "data[['gb_over','messages_over','minutes_over']] = data[['gb_over','messages_over','minutes_over']].fillna(0)\n",
    "data.info()\n",
    "data['final_pay'] = data['rub_monthly_fee'] + data['gb_over'] * data['rub_per_gb']\\\n",
    " + data['messages_over'] * data['rub_per_message'] + data['minutes_over'] * data['rub_per_minute']"
   ]
  },
  {
   "cell_type": "markdown",
   "metadata": {},
   "source": [
    "Посмотрим как распределились ежемесечная выручка с каждого пользователя в общей таблице."
   ]
  },
  {
   "cell_type": "code",
   "execution_count": 45,
   "metadata": {},
   "outputs": [
    {
     "data": {
      "image/png": "[encoded data removed]",
      "text/plain": [
       "<Figure size 432x288 with 1 Axes>"
      ]
     },
     "metadata": {
      "needs_background": "light"
     },
     "output_type": "display_data"
    },
    {
     "data": {
      "text/plain": [
       "count   3216.00\n",
       "mean    1528.90\n",
       "std      798.22\n",
       "min      550.00\n",
       "25%      750.00\n",
       "50%     1653.50\n",
       "75%     1950.00\n",
       "max     6770.00\n",
       "Name: final_pay, dtype: float64"
      ]
     },
     "execution_count": 45,
     "metadata": {},
     "output_type": "execute_result"
    }
   ],
   "source": [
    "ax = data['final_pay'].hist(bins=25)\n",
    "ax.set_title('Гистограмма распределения платежей')\n",
    "ax.set_xlabel('Сумма платежа (руб.)')\n",
    "ax.set_ylabel('Количество платежей (шт)')\n",
    "plt.show()\n",
    "data['final_pay'].describe()"
   ]
  },
  {
   "cell_type": "markdown",
   "metadata": {},
   "source": [
    "На графике видны большое количество оплат а размере ежемесечной стоимости тарифа."
   ]
  },
  {
   "cell_type": "markdown",
   "metadata": {},
   "source": [
    "### Вывод\n",
    "\n",
    "**Во время предобработки данных:**\n",
    "1. Првел столбцы с датой в каждом файле к типу datetime64 и выделил месяц\n",
    "2. Удалить столбец Unnamed: 0 в internet\n",
    "3. Посчитал ежемесячное использование услуг тарифа согласно условиям \"Мегалайн\"\n",
    "4. Собрана общая таблица с ежемесечной информацией по каждому пользователю\n",
    "5. Посичитана ежемесечная выручка по каждому пользователю."
   ]
  },
  {
   "cell_type": "markdown",
   "metadata": {},
   "source": [
    "## Анализ данных"
   ]
  },
  {
   "cell_type": "markdown",
   "metadata": {},
   "source": [
    "По предобработанным данным проведем анализ:\n",
    "1. Сколько минут разговора, сколько сообщений и какой объём интернет-трафика требуется пользователям каждого тарифа в месяц.\n",
    "2. Посчитаю среднее количество, дисперсию и стандартное отклонение вышеперечисленных данных.\n",
    "3. Визуализирую и опишу распределение."
   ]
  },
  {
   "cell_type": "markdown",
   "metadata": {},
   "source": [
    "Для дальнейшего исследования отсортирую данные по тарифам и посмотрю распределения значений в используемых услугах."
   ]
  },
  {
   "cell_type": "code",
   "execution_count": 46,
   "metadata": {},
   "outputs": [],
   "source": [
    "data_ultra = data[data['tariff'] == 'ultra']\n",
    "data_smart = data[data['tariff'] == 'smart']\n"
   ]
  },
  {
   "cell_type": "markdown",
   "metadata": {},
   "source": [
    "**Посчитаю как распределяются данные использования услуг у пользователей разных тарифов**"
   ]
  },
  {
   "cell_type": "code",
   "execution_count": 47,
   "metadata": {},
   "outputs": [
    {
     "data": {
      "text/html": [
       "<div>\n",
       "<style scoped>\n",
       "    .dataframe tbody tr th:only-of-type {\n",
       "        vertical-align: middle;\n",
       "    }\n",
       "\n",
       "    .dataframe tbody tr th {\n",
       "        vertical-align: top;\n",
       "    }\n",
       "\n",
       "    .dataframe thead th {\n",
       "        text-align: right;\n",
       "    }\n",
       "</style>\n",
       "<table border=\"1\" class=\"dataframe\">\n",
       "  <thead>\n",
       "    <tr style=\"text-align: right;\">\n",
       "      <th></th>\n",
       "      <th>duration_ceil</th>\n",
       "      <th>messages_count</th>\n",
       "      <th>gb_used</th>\n",
       "    </tr>\n",
       "  </thead>\n",
       "  <tbody>\n",
       "    <tr>\n",
       "      <td>count</td>\n",
       "      <td>2223.00</td>\n",
       "      <td>1922.00</td>\n",
       "      <td>2228.00</td>\n",
       "    </tr>\n",
       "    <tr>\n",
       "      <td>mean</td>\n",
       "      <td>419.06</td>\n",
       "      <td>38.72</td>\n",
       "      <td>16.34</td>\n",
       "    </tr>\n",
       "    <tr>\n",
       "      <td>std</td>\n",
       "      <td>189.33</td>\n",
       "      <td>26.79</td>\n",
       "      <td>5.74</td>\n",
       "    </tr>\n",
       "    <tr>\n",
       "      <td>min</td>\n",
       "      <td>0.00</td>\n",
       "      <td>1.00</td>\n",
       "      <td>0.00</td>\n",
       "    </tr>\n",
       "    <tr>\n",
       "      <td>25%</td>\n",
       "      <td>285.00</td>\n",
       "      <td>17.00</td>\n",
       "      <td>13.00</td>\n",
       "    </tr>\n",
       "    <tr>\n",
       "      <td>50%</td>\n",
       "      <td>423.00</td>\n",
       "      <td>34.00</td>\n",
       "      <td>17.00</td>\n",
       "    </tr>\n",
       "    <tr>\n",
       "      <td>75%</td>\n",
       "      <td>545.50</td>\n",
       "      <td>55.00</td>\n",
       "      <td>20.00</td>\n",
       "    </tr>\n",
       "    <tr>\n",
       "      <td>max</td>\n",
       "      <td>1435.00</td>\n",
       "      <td>143.00</td>\n",
       "      <td>38.00</td>\n",
       "    </tr>\n",
       "  </tbody>\n",
       "</table>\n",
       "</div>"
      ],
      "text/plain": [
       "       duration_ceil  messages_count  gb_used\n",
       "count        2223.00         1922.00  2228.00\n",
       "mean          419.06           38.72    16.34\n",
       "std           189.33           26.79     5.74\n",
       "min             0.00            1.00     0.00\n",
       "25%           285.00           17.00    13.00\n",
       "50%           423.00           34.00    17.00\n",
       "75%           545.50           55.00    20.00\n",
       "max          1435.00          143.00    38.00"
      ]
     },
     "execution_count": 47,
     "metadata": {},
     "output_type": "execute_result"
    }
   ],
   "source": [
    "data_smart[['duration_ceil', 'messages_count', 'gb_used']].describe()"
   ]
  },
  {
   "cell_type": "code",
   "execution_count": 48,
   "metadata": {},
   "outputs": [
    {
     "data": {
      "text/html": [
       "<div>\n",
       "<style scoped>\n",
       "    .dataframe tbody tr th:only-of-type {\n",
       "        vertical-align: middle;\n",
       "    }\n",
       "\n",
       "    .dataframe tbody tr th {\n",
       "        vertical-align: top;\n",
       "    }\n",
       "\n",
       "    .dataframe thead th {\n",
       "        text-align: right;\n",
       "    }\n",
       "</style>\n",
       "<table border=\"1\" class=\"dataframe\">\n",
       "  <thead>\n",
       "    <tr style=\"text-align: right;\">\n",
       "      <th></th>\n",
       "      <th>duration_ceil</th>\n",
       "      <th>messages_count</th>\n",
       "      <th>gb_used</th>\n",
       "    </tr>\n",
       "  </thead>\n",
       "  <tbody>\n",
       "    <tr>\n",
       "      <td>count</td>\n",
       "      <td>951.00</td>\n",
       "      <td>795.00</td>\n",
       "      <td>975.00</td>\n",
       "    </tr>\n",
       "    <tr>\n",
       "      <td>mean</td>\n",
       "      <td>545.45</td>\n",
       "      <td>61.16</td>\n",
       "      <td>19.69</td>\n",
       "    </tr>\n",
       "    <tr>\n",
       "      <td>std</td>\n",
       "      <td>306.93</td>\n",
       "      <td>45.93</td>\n",
       "      <td>9.70</td>\n",
       "    </tr>\n",
       "    <tr>\n",
       "      <td>min</td>\n",
       "      <td>0.00</td>\n",
       "      <td>1.00</td>\n",
       "      <td>0.00</td>\n",
       "    </tr>\n",
       "    <tr>\n",
       "      <td>25%</td>\n",
       "      <td>310.00</td>\n",
       "      <td>24.00</td>\n",
       "      <td>12.00</td>\n",
       "    </tr>\n",
       "    <tr>\n",
       "      <td>50%</td>\n",
       "      <td>528.00</td>\n",
       "      <td>51.00</td>\n",
       "      <td>19.00</td>\n",
       "    </tr>\n",
       "    <tr>\n",
       "      <td>75%</td>\n",
       "      <td>756.50</td>\n",
       "      <td>87.50</td>\n",
       "      <td>27.00</td>\n",
       "    </tr>\n",
       "    <tr>\n",
       "      <td>max</td>\n",
       "      <td>1673.00</td>\n",
       "      <td>224.00</td>\n",
       "      <td>49.00</td>\n",
       "    </tr>\n",
       "  </tbody>\n",
       "</table>\n",
       "</div>"
      ],
      "text/plain": [
       "       duration_ceil  messages_count  gb_used\n",
       "count         951.00          795.00   975.00\n",
       "mean          545.45           61.16    19.69\n",
       "std           306.93           45.93     9.70\n",
       "min             0.00            1.00     0.00\n",
       "25%           310.00           24.00    12.00\n",
       "50%           528.00           51.00    19.00\n",
       "75%           756.50           87.50    27.00\n",
       "max          1673.00          224.00    49.00"
      ]
     },
     "execution_count": 48,
     "metadata": {},
     "output_type": "execute_result"
    }
   ],
   "source": [
    "data_ultra[['duration_ceil', 'messages_count', 'gb_used']].describe()"
   ]
  },
  {
   "cell_type": "markdown",
   "metadata": {},
   "source": [
    "1. Пользователи тарифа smart давольно часто используют минуты сверх тарифа, это касается и сообщений. Услуги интернета пользователи смарта более чем в 50% случаев оплачивают сверх тарифа.\n",
    "2. Пользователи тарифа ultra ни разу за период выборки не использовали минут и сообщений сверх тарифа. Более 75% пользователей укладываются в предоставленный тарифом интернет трафик."
   ]
  },
  {
   "cell_type": "markdown",
   "metadata": {},
   "source": [
    "**Посчитаю среднее, дисперсию и стандартное отклонение данных.**"
   ]
  },
  {
   "cell_type": "code",
   "execution_count": 49,
   "metadata": {},
   "outputs": [
    {
     "data": {
      "text/html": [
       "<div>\n",
       "<style scoped>\n",
       "    .dataframe tbody tr th:only-of-type {\n",
       "        vertical-align: middle;\n",
       "    }\n",
       "\n",
       "    .dataframe tbody tr th {\n",
       "        vertical-align: top;\n",
       "    }\n",
       "\n",
       "    .dataframe thead tr th {\n",
       "        text-align: left;\n",
       "    }\n",
       "</style>\n",
       "<table border=\"1\" class=\"dataframe\">\n",
       "  <thead>\n",
       "    <tr>\n",
       "      <th></th>\n",
       "      <th>tariff</th>\n",
       "      <th colspan=\"3\" halign=\"left\">mean</th>\n",
       "      <th colspan=\"3\" halign=\"left\">std</th>\n",
       "      <th colspan=\"3\" halign=\"left\">var</th>\n",
       "    </tr>\n",
       "    <tr>\n",
       "      <th></th>\n",
       "      <th></th>\n",
       "      <th>duration_ceil</th>\n",
       "      <th>gb_used</th>\n",
       "      <th>messages_count</th>\n",
       "      <th>duration_ceil</th>\n",
       "      <th>gb_used</th>\n",
       "      <th>messages_count</th>\n",
       "      <th>duration_ceil</th>\n",
       "      <th>gb_used</th>\n",
       "      <th>messages_count</th>\n",
       "    </tr>\n",
       "  </thead>\n",
       "  <tbody>\n",
       "    <tr>\n",
       "      <td>0</td>\n",
       "      <td>smart</td>\n",
       "      <td>419.06</td>\n",
       "      <td>16.34</td>\n",
       "      <td>38.72</td>\n",
       "      <td>189.33</td>\n",
       "      <td>5.74</td>\n",
       "      <td>26.79</td>\n",
       "      <td>35844.19</td>\n",
       "      <td>32.92</td>\n",
       "      <td>717.59</td>\n",
       "    </tr>\n",
       "    <tr>\n",
       "      <td>1</td>\n",
       "      <td>ultra</td>\n",
       "      <td>545.45</td>\n",
       "      <td>19.69</td>\n",
       "      <td>61.16</td>\n",
       "      <td>306.93</td>\n",
       "      <td>9.70</td>\n",
       "      <td>45.93</td>\n",
       "      <td>94203.42</td>\n",
       "      <td>94.15</td>\n",
       "      <td>2109.66</td>\n",
       "    </tr>\n",
       "  </tbody>\n",
       "</table>\n",
       "</div>"
      ],
      "text/plain": [
       "  tariff          mean                                  std          \\\n",
       "         duration_ceil gb_used messages_count duration_ceil gb_used   \n",
       "0  smart        419.06   16.34          38.72        189.33    5.74   \n",
       "1  ultra        545.45   19.69          61.16        306.93    9.70   \n",
       "\n",
       "                           var                         \n",
       "  messages_count duration_ceil gb_used messages_count  \n",
       "0          26.79      35844.19   32.92         717.59  \n",
       "1          45.93      94203.42   94.15        2109.66  "
      ]
     },
     "execution_count": 49,
     "metadata": {},
     "output_type": "execute_result"
    }
   ],
   "source": [
    "data.pivot_table(index='tariff', values = ['duration_ceil', 'messages_count', 'gb_used'],\n",
    "                 aggfunc=['mean', 'std','var']).reset_index()"
   ]
  },
  {
   "cell_type": "markdown",
   "metadata": {},
   "source": [
    "**Вывод**\n",
    "\n",
    "Средние значения данных по использованию услуг пользователями разных тарифов имеют небольшие расхождения, но значения дисперсии и среднего отклонения данных сильно различаются. У пользователей тарифа ultra  дисперися в разы больше, это связано с более широким диапазоном данных и меньшем количеством пользователей."
   ]
  },
  {
   "cell_type": "markdown",
   "metadata": {},
   "source": [
    "**Распределение данных**"
   ]
  },
  {
   "cell_type": "markdown",
   "metadata": {},
   "source": [
    "Построю графики распределения занчений использования услуг пользователями."
   ]
  },
  {
   "cell_type": "code",
   "execution_count": 50,
   "metadata": {},
   "outputs": [
    {
     "data": {
      "image/png": "[encoded data removed]",
      "text/plain": [
       "<Figure size 720x1296 with 6 Axes>"
      ]
     },
     "metadata": {
      "needs_background": "light"
     },
     "output_type": "display_data"
    }
   ],
   "source": [
    "fig, ax = plt.subplots(nrows=3, ncols=2, figsize=(10,18))\n",
    "\n",
    "data_smart['duration_ceil'].plot(kind='hist', bins=50, ax=ax[0,0])\n",
    "ax[0,0].vlines(500, 0, 140, color = 'r', linestyle='--')\n",
    "ax[0,0].set(title = 'Звонки smart')\n",
    "\n",
    "data_ultra['duration_ceil'].plot(kind='hist', bins=50, ax=ax[0,1])\n",
    "ax[0,1].vlines(3000, 0, 60, color = 'r', linestyle='--')\n",
    "ax[0,0].set(title = 'Звонки ultra')\n",
    "\n",
    "data_smart['messages_count'].plot(kind='hist', bins=50, ax=ax[1,0])\n",
    "ax[1,0].vlines(50, 0, 100, color = 'r', linestyle='--')\n",
    "ax[1,0].set(title = 'Сообщения smart')\n",
    "\n",
    "data_ultra['messages_count'].plot(kind='hist', bins=50, ax=ax[1,1])\n",
    "ax[1,1].vlines(1000, 0, 60, color = 'r', linestyle='--')\n",
    "ax[1,1].set(title = 'Сообщения ultra')\n",
    "\n",
    "data_smart['gb_used'].plot(kind='hist', bins=50, ax=ax[2,0])\n",
    "ax[2,0].vlines(15, 0, 175, color = 'r', linestyle='--')\n",
    "ax[2,0].set(title = 'Интернет smart')\n",
    "\n",
    "data_ultra['gb_used'].plot(kind='hist', bins=50, ax=ax[2,1])\n",
    "ax[2,1].vlines(30, 0, 50, color = 'r', linestyle='--')\n",
    "ax[2,1].set(title = 'Интернет ultra')\n",
    "\n",
    "plt.show()"
   ]
  },
  {
   "cell_type": "code",
   "execution_count": 51,
   "metadata": {},
   "outputs": [
    {
     "data": {
      "image/png": "[encoded data removed]",
      "text/plain": [
       "<Figure size 1080x360 with 1 Axes>"
      ]
     },
     "metadata": {
      "needs_background": "light"
     },
     "output_type": "display_data"
    },
    {
     "data": {
      "image/png": "[encoded data removed]",
      "text/plain": [
       "<Figure size 1080x360 with 1 Axes>"
      ]
     },
     "metadata": {
      "needs_background": "light"
     },
     "output_type": "display_data"
    },
    {
     "data": {
      "image/png": "[encoded data removed]",
      "text/plain": [
       "<Figure size 1080x360 with 1 Axes>"
      ]
     },
     "metadata": {
      "needs_background": "light"
     },
     "output_type": "display_data"
    }
   ],
   "source": [
    "fig, ax = plt.subplots(nrows=1, ncols=1, figsize=(15,5))\n",
    "data_smart['duration_ceil'].plot(kind='hist', bins=50, ax=ax)\n",
    "data_ultra['duration_ceil'].plot(kind='hist', bins=50, alpha=0.6, ax=ax)\n",
    "ax.vlines(500, 0, 140, color = 'r', linestyle='--')\n",
    "ax.vlines(3000, 0, 140, color = 'g', linestyle='--')\n",
    "ax.set_title('Звонки')\n",
    "ax.set_xlabel('Минут в месяц')\n",
    "ax.set_ylabel('Количество пользователей')\n",
    "ax.legend(['Smart', 'Ultra', 'Smart included', 'Ultra included'])\n",
    "plt.show()\n",
    "\n",
    "fig, ax = plt.subplots(nrows=1, ncols=1, figsize=(15,5))\n",
    "data_smart['messages_count'].plot(kind='hist', bins=50, ax=ax)\n",
    "data_ultra['messages_count'].plot(kind='hist', bins=50, alpha=0.6, ax=ax)\n",
    "ax.vlines(50, 0, 100, color = 'r', linestyle='--')\n",
    "ax.vlines(1000, 0, 140, color = 'g', linestyle='--')\n",
    "ax.set_title('Сообщения')\n",
    "ax.set_xlabel('Сообщений в месяц')\n",
    "ax.set_ylabel('Количество пользователей')\n",
    "ax.legend(['Smart', 'Ultra', 'Smart included', 'Ultra included'])\n",
    "plt.show()\n",
    "\n",
    "fig, ax = plt.subplots(nrows=1, ncols=1, figsize=(15,5))\n",
    "data_smart['gb_used'].plot(kind='hist', bins=50, ax=ax)\n",
    "data_ultra['gb_used'].plot(kind='hist', bins=50, alpha=0.6, ax=ax)\n",
    "ax.vlines(15, 0, 175, color = 'r', linestyle='--')\n",
    "ax.vlines(30, 0, 175, color = 'g', linestyle='--')\n",
    "ax.set_title('Интернет')\n",
    "ax.set_xlabel('Гб в месяц')\n",
    "ax.set_ylabel('Количество пользователей')\n",
    "ax.legend(['Smart', 'Ultra', 'Smart included', 'Ultra included'])\n",
    "plt.show()\n"
   ]
  },
  {
   "cell_type": "markdown",
   "metadata": {},
   "source": [
    "**Посмотрев на гистаграммы:**\n",
    "1. Гистограммы использования звонков и интернета на обоих тарифах имеет похожее на нормальное распределение без явно замеченного скоса, средние значения имеют небольшое расхождения с медианными.\n",
    "2. Гистораммы использования сообщений на обоих тарифах имеют явно выраженный скос вправо, что подтверждается более значимым расхождением значений среднего и медианной, среднее больше.\n",
    "3. Красной линией отмечен входящий в стоимость тарифа объем услуг. На гистограммах использования минут и сообщений видно, что пользователи тарифа ultra используют данные услуги гараздо меньше чем расчитано в тарифе."
   ]
  },
  {
   "cell_type": "markdown",
   "metadata": {},
   "source": [
    "### Вывод\n",
    "\n",
    "1. Пользователи тарифа smart давольно часто используют минуты сверх тарифа, это касается и сообщений. Услуги интернета пользователи смарта более чем в 50% случаев оплачивают сверх тариф, это хорошо видно на гистаграммах\n",
    "2. Пользователи тарифа ultra ни разу за период выборки не использовали минут и сообщений сверх тарифа. Более 75% пользователей укладываются в предоставленный тарифом интернет трафик, это хорошо видно на гистаграммах\n",
    "3. Средние значения данных по использованию услуг пользователями разных тарифов имеют небольшие расхождения, но значения дисперсии и среднего отклонения данных сильно различаются. У пользователей тарифа ultra  дисперися в разы больше, это связано с более широким диапазоном данных и меньшем количеством пользователей.\n",
    "4. Гистограммы использования звонков и интернета на обоих тарифах имеет похожее на нормальное распределение без явно замеченного скоса, средние значения имеют небольшое расхождения с медианными.\n",
    "5. Гистораммы использования сообщений на обоих тарифах имеют явно выраженный скос вправо, что подтверждается более значимым расхождением значений среднего и медианной, среднее больше."
   ]
  },
  {
   "cell_type": "markdown",
   "metadata": {},
   "source": [
    "## Формулировка и проверка гипотез\n",
    "\n",
    "1. Cредняя выручка пользователей тарифов Ultra и Smart различаются\n",
    "2. Cредняя выручка пользователей из Москвы отличается от выручки пользователей из других регионов"
   ]
  },
  {
   "cell_type": "markdown",
   "metadata": {},
   "source": [
    "**Проверю гипотезу: \"Cредняя выручка пользователей тарифов Ultra и Smart различаются\"**\n",
    "\n",
    "Нулевая гипотеза: \"Cредняя выручка пользователей тарифов Ultra и Smart не различаются\"\n",
    "Данная гипотеза двухсторонняя и относятся к выборкам из разных генеральных совокупностей: клиенты smart и клиенты ultra."
   ]
  },
  {
   "cell_type": "markdown",
   "metadata": {},
   "source": [
    "Проверку двухсторонней гипотезы будем осуществлять методом t-test. Так как выборки разного размера и пользователи разных тарифов по разному используют услуги, будем считать что дисперсии наших совокупностей не равны. Критический уровень статистической значимости установим 0.05"
   ]
  },
  {
   "cell_type": "code",
   "execution_count": 52,
   "metadata": {},
   "outputs": [
    {
     "name": "stdout",
     "output_type": "stream",
     "text": [
      "p-значение:  1.9e-250\n",
      "Отвергаем нулевую гипотезу\n"
     ]
    }
   ],
   "source": [
    "alpha = .05\n",
    "results = st.ttest_ind(data_ultra['final_pay'],\n",
    "                     data_smart['final_pay'],\n",
    "                     equal_var = False)\n",
    "print('p-значение: ', '{:.2}'.format(results.pvalue))\n",
    "\n",
    "if results.pvalue < alpha:\n",
    "    print(\"Отвергаем нулевую гипотезу\")\n",
    "else:\n",
    "    print(\"Не получилось отвергнуть нулевую гипотезу\") "
   ]
  },
  {
   "cell_type": "code",
   "execution_count": 53,
   "metadata": {},
   "outputs": [
    {
     "name": "stdout",
     "output_type": "stream",
     "text": [
      "Выручка пользователей тарифа Ultra больше выручки пользователей тарифа Smart\n"
     ]
    }
   ],
   "source": [
    "if data_ultra['final_pay'].mean() < data_smart['final_pay'].mean():\n",
    "    print('Выручка пользователей тарифа Smart больше выручки пользователей тарифа Ultra')\n",
    "else:\n",
    "    print('Выручка пользователей тарифа Ultra больше выручки пользователей тарифа Smart')"
   ]
  },
  {
   "cell_type": "markdown",
   "metadata": {},
   "source": [
    "**Вывод:**\n",
    "\n",
    "Выручка пользователей тарифа Ultra больше выручки пользователей тарифа Smart\n",
    "\n",
    "По результатам проверки гипотеза \"Cредняя выручка пользователей тарифов Ultra и Smart не различаются\", была отвергнута в связи с слишком низкой вероятностью (стремится к 0) получить такое различие если бы нулевая гипотеза была верна. **Cредняя выручка пользователей тарифов Ultra и Smart различается.**"
   ]
  },
  {
   "cell_type": "markdown",
   "metadata": {},
   "source": [
    "**Проверю гипотезу: \"Cредняя выручка пользователей из Москвы отличается от выручки пользователей из других регионов\"**\n",
    "\n",
    "Нулевая гипотеза: \"Cредняя выручка пользователей из Москвы не отличается от выручки пользователей из других регионов\".\n",
    "\n",
    "Проверку двухсторонней гипотезы будем осуществлять методом t-test. Выборки по регионам относятся к одной генеральной совокупности. Критический уровень статистической значимости установим 0.05"
   ]
  },
  {
   "cell_type": "markdown",
   "metadata": {},
   "source": [
    "Получим две выборки с одинаковым количеством данных по Москве и другим регионам. Посмотрю какое количество данных по пользователям из Москвы и из других регионов."
   ]
  },
  {
   "cell_type": "code",
   "execution_count": 54,
   "metadata": {},
   "outputs": [
    {
     "data": {
      "text/plain": [
       "611"
      ]
     },
     "execution_count": 54,
     "metadata": {},
     "output_type": "execute_result"
    }
   ],
   "source": [
    "len(data.query('city == \"Москва\"'))"
   ]
  },
  {
   "cell_type": "code",
   "execution_count": 55,
   "metadata": {},
   "outputs": [
    {
     "data": {
      "text/plain": [
       "2605"
      ]
     },
     "execution_count": 55,
     "metadata": {},
     "output_type": "execute_result"
    }
   ],
   "source": [
    "len(data.query('city != \"Москва\"'))"
   ]
  },
  {
   "cell_type": "markdown",
   "metadata": {},
   "source": [
    "Чем больше выборка, тем ближе значения к нормальному распределению, поэтому возьмем выборку пользователей из регионов столько же, сколько у нас пользователей из Москвы"
   ]
  },
  {
   "cell_type": "code",
   "execution_count": 56,
   "metadata": {},
   "outputs": [
    {
     "data": {
      "text/plain": [
       "611"
      ]
     },
     "execution_count": 56,
     "metadata": {},
     "output_type": "execute_result"
    }
   ],
   "source": [
    "mos = data.query('city == \"Москва\"')\n",
    "other = data.query('city != \"Москва\"').sample(n=len(mos))\n",
    "len(other)"
   ]
  },
  {
   "cell_type": "markdown",
   "metadata": {},
   "source": [
    "Проверю гипотезу"
   ]
  },
  {
   "cell_type": "code",
   "execution_count": 57,
   "metadata": {},
   "outputs": [
    {
     "name": "stdout",
     "output_type": "stream",
     "text": [
      "p-значение:  0.31\n",
      "Не получилось отвергнуть нулевую гипотезу\n"
     ]
    }
   ],
   "source": [
    "alpha = .05\n",
    "results = st.ttest_rel(mos['final_pay'],\n",
    "                       other['final_pay'])\n",
    "print('p-значение: ', '{:.2}'.format(results.pvalue))\n",
    "\n",
    "if results.pvalue < alpha:\n",
    "    print(\"Отвергаем нулевую гипотезу\")\n",
    "else:\n",
    "    print(\"Не получилось отвергнуть нулевую гипотезу\") "
   ]
  },
  {
   "cell_type": "markdown",
   "metadata": {},
   "source": [
    "**Вывод:**\n",
    "\n",
    "По результатам проверки нельзя отвергнуть нулевую гипотезу \"Cредняя выручка пользователей из Москвы отличается от выручки пользователей из других регионов\", в связи вероятностью получить данный результат превышающей критический уровень статистической значимости. **Cредняя выручка пользователей из Москвы не отличается от выручки пользователей из других регионов**"
   ]
  },
  {
   "cell_type": "markdown",
   "metadata": {},
   "source": [
    "### Вывод\n",
    "1. Выручка пользователей тарифа Ultra больше выручки пользователей тарифа Smart. По результатам проверки гипотеза \"Cредняя выручка пользователей тарифов Ultra и Smart не различаются\", была отвергнута в связи с слишком низкой вероятностью (стремится к 0) получить такое различие если бы нулевая гипотеза была верна. **Cредняя выручка пользователей тарифов Ultra и Smart различается.**\n",
    "2. По результатам проверки нельзя отвергнуть нулевую гипотезу \"Cредняя выручка пользователей из Москвы отличается от выручки пользователей из других регионов\", в связи вероятностью получить данный результат превышающей критический уровень статистической значимости.**Cредняя выручка пользователей из Москвы не отличается от выручки пользователей из других регионов.**"
   ]
  },
  {
   "cell_type": "markdown",
   "metadata": {},
   "source": [
    "## Вывод"
   ]
  },
  {
   "cell_type": "markdown",
   "metadata": {},
   "source": [
    "**В ходе исследования:**\n",
    "\n",
    "Я ознакомился с данными и выполнил их предобработку:\n",
    "* Мне были предоставлены данные 500 пользователей и информацию по испоьзованию ими услуг тарифа. Изучив данные были обнаружены ошибки в типах данных, лишние столбцы.\n",
    "* Исправил типы даных на подходящий, удалил ошибочные столбцы, проверил наличие неявных дубликатов.\n",
    "* Посчитал какое количество услуг пользователи используют ежемесячно.\n",
    "* Склеил общую таблицу с информацией о пользователях, услугах и тарифах.\n",
    "* Посчитана ежемесечная выручка по каждому пользователю.\n",
    "* Обнаружел двух пользователей которые подключили тариф и отключились в этот же месяц, не пользуясь услугами, при этом повторного появления данных пользователй в предоставленной выборке небыло.\n",
    "\n",
    "Провел анализ данных:\n",
    "* Было выявлено что большинству пользователей не хватает входящих в тариф smart услуг и они докупают дополнительные минуты, сообщения или гигабайты трафика. Интернет докупают в более чем 50% случаев.\n",
    "* Пользователи ultra наоборот не используют предоставленные тарифам минуты и сообщения, но интеренет расходуют больше, выходя за рамки тарифа менее чем в 25% случаев. Кажется что данных пользователей в тарифе ultra больше привлекает как раз наличие большого объема интернет трафика.\n",
    "* Построил гистаграммы для визуализации вышеописанной информации, добавив на гистаграмы линии, показывающие границу, входящую в тариф.\n",
    "\n",
    "Проверил гипотезы:\n",
    "* Нулевая гипотеза о том, что средняя выручка пользователей тарифов Ultra и Smart не различаются, была отвергнута. Выручка пользователей тарифа Ultra больше выручки пользователей тарифа Smart, несмотря на то, что много пользователей тарифа smart не укладываются в тариф и докупают дополнительные услуги. \n",
    "* Альтернативная гипотеза о том, что средняя выручка пользователей из Москвы отличается от выручки пользователей из других регионов была отвергнута, достаточно высокая вероятность получить такие значения при верной нулевой гипотезе.\n"
   ]
  },
  {
   "cell_type": "code",
   "execution_count": null,
   "metadata": {},
   "outputs": [],
   "source": []
  }
 ],
 "metadata": {
  "ExecuteTimeLog": [
   {
    "duration": 1403,
    "start_time": "2022-01-24T12:47:58.831Z"
   },
   {
    "duration": 238,
    "start_time": "2022-01-24T12:53:58.985Z"
   },
   {
    "duration": 2532,
    "start_time": "2022-01-24T12:55:21.133Z"
   },
   {
    "duration": 607,
    "start_time": "2022-01-24T12:55:29.478Z"
   },
   {
    "duration": 39,
    "start_time": "2022-01-24T12:56:45.759Z"
   },
   {
    "duration": 43,
    "start_time": "2022-01-24T12:57:35.999Z"
   },
   {
    "duration": 50,
    "start_time": "2022-01-24T12:59:14.489Z"
   },
   {
    "duration": 37,
    "start_time": "2022-01-24T13:00:36.034Z"
   },
   {
    "duration": 121,
    "start_time": "2022-01-24T13:03:27.180Z"
   },
   {
    "duration": 100,
    "start_time": "2022-01-24T13:04:40.982Z"
   },
   {
    "duration": 25,
    "start_time": "2022-01-24T13:07:34.775Z"
   },
   {
    "duration": 56,
    "start_time": "2022-01-24T13:07:36.563Z"
   },
   {
    "duration": 26,
    "start_time": "2022-01-24T13:08:25.865Z"
   },
   {
    "duration": 60,
    "start_time": "2022-01-24T13:08:30.852Z"
   },
   {
    "duration": 18,
    "start_time": "2022-01-24T13:08:31.938Z"
   },
   {
    "duration": 20,
    "start_time": "2022-01-24T13:14:24.633Z"
   },
   {
    "duration": 229,
    "start_time": "2022-01-24T17:32:42.355Z"
   },
   {
    "duration": 1019,
    "start_time": "2022-01-24T17:32:53.625Z"
   },
   {
    "duration": 384,
    "start_time": "2022-01-24T17:32:54.645Z"
   },
   {
    "duration": 29,
    "start_time": "2022-01-24T17:32:55.031Z"
   },
   {
    "duration": 95,
    "start_time": "2022-01-24T17:32:55.062Z"
   },
   {
    "duration": 23,
    "start_time": "2022-01-24T17:32:55.159Z"
   },
   {
    "duration": 82,
    "start_time": "2022-01-24T17:32:55.184Z"
   },
   {
    "duration": 18,
    "start_time": "2022-01-24T17:32:55.268Z"
   },
   {
    "duration": 55,
    "start_time": "2022-01-24T17:32:55.288Z"
   },
   {
    "duration": 12,
    "start_time": "2022-01-24T17:32:55.345Z"
   },
   {
    "duration": 7,
    "start_time": "2022-01-24T17:32:55.359Z"
   },
   {
    "duration": 45,
    "start_time": "2022-01-24T17:32:55.368Z"
   },
   {
    "duration": 8,
    "start_time": "2022-01-24T17:32:55.414Z"
   },
   {
    "duration": 282,
    "start_time": "2022-01-24T17:32:55.425Z"
   },
   {
    "duration": 209,
    "start_time": "2022-01-24T17:33:06.050Z"
   },
   {
    "duration": 6,
    "start_time": "2022-01-24T17:33:17.247Z"
   },
   {
    "duration": 16,
    "start_time": "2022-01-24T17:33:32.252Z"
   },
   {
    "duration": 19,
    "start_time": "2022-01-24T17:36:14.191Z"
   },
   {
    "duration": 13,
    "start_time": "2022-01-24T17:36:19.312Z"
   },
   {
    "duration": 26,
    "start_time": "2022-01-24T17:38:01.876Z"
   },
   {
    "duration": 14,
    "start_time": "2022-01-24T17:38:10.124Z"
   },
   {
    "duration": 44,
    "start_time": "2022-01-24T17:42:17.025Z"
   },
   {
    "duration": 54,
    "start_time": "2022-01-24T17:42:25.201Z"
   },
   {
    "duration": 4,
    "start_time": "2022-01-24T17:43:04.721Z"
   },
   {
    "duration": 37,
    "start_time": "2022-01-24T17:44:42.124Z"
   },
   {
    "duration": 40,
    "start_time": "2022-01-24T17:45:03.700Z"
   },
   {
    "duration": 23,
    "start_time": "2022-01-24T17:52:17.841Z"
   },
   {
    "duration": 68,
    "start_time": "2022-01-24T17:52:24.310Z"
   },
   {
    "duration": 26,
    "start_time": "2022-01-24T17:52:26.041Z"
   },
   {
    "duration": 198,
    "start_time": "2022-01-24T17:52:48.434Z"
   },
   {
    "duration": 6,
    "start_time": "2022-01-24T17:53:04.714Z"
   },
   {
    "duration": 201,
    "start_time": "2022-01-24T17:53:21.933Z"
   },
   {
    "duration": 6,
    "start_time": "2022-01-24T17:53:25.901Z"
   },
   {
    "duration": 173,
    "start_time": "2022-01-24T17:53:38.009Z"
   },
   {
    "duration": 8,
    "start_time": "2022-01-24T17:53:45.318Z"
   },
   {
    "duration": 4,
    "start_time": "2022-01-24T17:54:17.164Z"
   },
   {
    "duration": 5,
    "start_time": "2022-01-24T17:54:58.352Z"
   },
   {
    "duration": 5,
    "start_time": "2022-01-24T17:57:55.070Z"
   },
   {
    "duration": 5,
    "start_time": "2022-01-24T19:15:26.965Z"
   },
   {
    "duration": 4,
    "start_time": "2022-01-24T19:16:02.109Z"
   },
   {
    "duration": 4,
    "start_time": "2022-01-24T19:16:46.989Z"
   },
   {
    "duration": 182,
    "start_time": "2022-01-24T19:17:21.064Z"
   },
   {
    "duration": 4,
    "start_time": "2022-01-24T19:17:25.319Z"
   },
   {
    "duration": 192,
    "start_time": "2022-01-24T19:20:43.341Z"
   },
   {
    "duration": 23,
    "start_time": "2022-01-24T19:20:50.592Z"
   },
   {
    "duration": 15,
    "start_time": "2022-01-24T19:20:57.339Z"
   },
   {
    "duration": 205,
    "start_time": "2022-01-24T19:32:22.830Z"
   },
   {
    "duration": 200,
    "start_time": "2022-01-24T19:32:30.619Z"
   },
   {
    "duration": 197,
    "start_time": "2022-01-24T19:32:34.296Z"
   },
   {
    "duration": 6,
    "start_time": "2022-01-24T19:32:41.534Z"
   },
   {
    "duration": 13,
    "start_time": "2022-01-24T19:32:45.631Z"
   },
   {
    "duration": 16,
    "start_time": "2022-01-24T19:33:32.730Z"
   },
   {
    "duration": 386,
    "start_time": "2022-01-24T19:34:01.276Z"
   },
   {
    "duration": 13,
    "start_time": "2022-01-24T19:34:08.059Z"
   },
   {
    "duration": 14,
    "start_time": "2022-01-24T19:34:09.926Z"
   },
   {
    "duration": 226,
    "start_time": "2022-01-24T19:53:37.322Z"
   },
   {
    "duration": 56,
    "start_time": "2022-01-24T19:53:42.473Z"
   },
   {
    "duration": 188,
    "start_time": "2022-01-24T19:54:20.296Z"
   },
   {
    "duration": 5,
    "start_time": "2022-01-24T19:54:35.534Z"
   },
   {
    "duration": 55,
    "start_time": "2022-01-24T19:54:51.814Z"
   },
   {
    "duration": 5,
    "start_time": "2022-01-24T19:54:55.991Z"
   },
   {
    "duration": 50,
    "start_time": "2022-01-24T19:55:07.088Z"
   },
   {
    "duration": 5,
    "start_time": "2022-01-24T19:55:14.084Z"
   },
   {
    "duration": 58,
    "start_time": "2022-01-24T19:55:20.499Z"
   },
   {
    "duration": 72,
    "start_time": "2022-01-24T19:57:54.929Z"
   },
   {
    "duration": 77,
    "start_time": "2022-01-24T19:58:02.612Z"
   },
   {
    "duration": 227,
    "start_time": "2022-01-24T19:59:15.146Z"
   },
   {
    "duration": 210,
    "start_time": "2022-01-24T19:59:35.963Z"
   },
   {
    "duration": 250,
    "start_time": "2022-01-24T20:00:05.974Z"
   },
   {
    "duration": 18,
    "start_time": "2022-01-24T20:00:24.604Z"
   },
   {
    "duration": 69,
    "start_time": "2022-01-24T20:00:33.249Z"
   },
   {
    "duration": 90,
    "start_time": "2022-01-24T20:03:19.615Z"
   },
   {
    "duration": 91,
    "start_time": "2022-01-24T20:03:35.066Z"
   },
   {
    "duration": 229,
    "start_time": "2022-01-24T20:05:38.974Z"
   },
   {
    "duration": 225,
    "start_time": "2022-01-24T20:05:51.854Z"
   },
   {
    "duration": 231,
    "start_time": "2022-01-24T20:06:00.556Z"
   },
   {
    "duration": 91,
    "start_time": "2022-01-24T20:06:21.562Z"
   },
   {
    "duration": 410,
    "start_time": "2022-01-24T20:06:57.661Z"
   },
   {
    "duration": 50,
    "start_time": "2022-01-24T20:07:04.309Z"
   },
   {
    "duration": 6,
    "start_time": "2022-01-24T20:07:06.781Z"
   },
   {
    "duration": 146,
    "start_time": "2022-01-24T20:07:47.020Z"
   },
   {
    "duration": 256,
    "start_time": "2022-01-24T20:08:07.560Z"
   },
   {
    "duration": 74,
    "start_time": "2022-01-24T20:08:14.484Z"
   },
   {
    "duration": 105,
    "start_time": "2022-01-24T20:08:20.183Z"
   },
   {
    "duration": 4,
    "start_time": "2022-01-24T20:09:08.155Z"
   },
   {
    "duration": 87,
    "start_time": "2022-01-24T20:09:47.877Z"
   },
   {
    "duration": 4964,
    "start_time": "2022-01-24T20:10:10.105Z"
   },
   {
    "duration": 14,
    "start_time": "2022-01-24T20:10:40.243Z"
   },
   {
    "duration": 4738,
    "start_time": "2022-01-24T20:10:49.640Z"
   },
   {
    "duration": 4,
    "start_time": "2022-01-24T20:10:59.758Z"
   },
   {
    "duration": 7,
    "start_time": "2022-01-24T20:11:17.371Z"
   },
   {
    "duration": 779,
    "start_time": "2022-01-24T20:11:56.434Z"
   },
   {
    "duration": 778,
    "start_time": "2022-01-24T20:15:02.652Z"
   },
   {
    "duration": 29,
    "start_time": "2022-01-24T20:22:44.057Z"
   },
   {
    "duration": 39,
    "start_time": "2022-01-24T20:23:21.591Z"
   },
   {
    "duration": 1005,
    "start_time": "2022-01-25T04:30:09.755Z"
   },
   {
    "duration": 398,
    "start_time": "2022-01-25T04:30:10.762Z"
   },
   {
    "duration": 32,
    "start_time": "2022-01-25T04:30:11.162Z"
   },
   {
    "duration": 5,
    "start_time": "2022-01-25T04:30:11.196Z"
   },
   {
    "duration": 109,
    "start_time": "2022-01-25T04:30:11.203Z"
   },
   {
    "duration": 30,
    "start_time": "2022-01-25T04:30:11.314Z"
   },
   {
    "duration": 5,
    "start_time": "2022-01-25T04:30:11.345Z"
   },
   {
    "duration": 26,
    "start_time": "2022-01-25T04:30:11.351Z"
   },
   {
    "duration": 21,
    "start_time": "2022-01-25T04:30:11.380Z"
   },
   {
    "duration": 78,
    "start_time": "2022-01-25T04:30:11.403Z"
   },
   {
    "duration": 33,
    "start_time": "2022-01-25T04:30:11.482Z"
   },
   {
    "duration": 4,
    "start_time": "2022-01-25T04:30:11.517Z"
   },
   {
    "duration": 21,
    "start_time": "2022-01-25T04:30:11.522Z"
   },
   {
    "duration": 13,
    "start_time": "2022-01-25T04:30:11.545Z"
   },
   {
    "duration": 3,
    "start_time": "2022-01-25T04:30:11.560Z"
   },
   {
    "duration": 72,
    "start_time": "2022-01-25T04:30:11.565Z"
   },
   {
    "duration": 5,
    "start_time": "2022-01-25T04:30:11.639Z"
   },
   {
    "duration": 24,
    "start_time": "2022-01-25T04:30:11.645Z"
   },
   {
    "duration": 20,
    "start_time": "2022-01-25T04:30:11.671Z"
   },
   {
    "duration": 30,
    "start_time": "2022-01-25T04:30:11.693Z"
   },
   {
    "duration": 13,
    "start_time": "2022-01-25T04:30:11.724Z"
   },
   {
    "duration": 28,
    "start_time": "2022-01-25T04:30:11.739Z"
   },
   {
    "duration": 11,
    "start_time": "2022-01-25T04:30:11.768Z"
   },
   {
    "duration": 75,
    "start_time": "2022-01-25T04:30:11.781Z"
   },
   {
    "duration": 4,
    "start_time": "2022-01-25T04:30:11.858Z"
   },
   {
    "duration": 181,
    "start_time": "2022-01-25T04:30:11.864Z"
   },
   {
    "duration": 39,
    "start_time": "2022-01-25T04:30:12.049Z"
   },
   {
    "duration": 7,
    "start_time": "2022-01-25T04:44:47.562Z"
   },
   {
    "duration": 296,
    "start_time": "2022-01-25T05:17:57.123Z"
   },
   {
    "duration": 1070,
    "start_time": "2022-01-25T05:18:08.981Z"
   },
   {
    "duration": 391,
    "start_time": "2022-01-25T05:18:10.053Z"
   },
   {
    "duration": 30,
    "start_time": "2022-01-25T05:18:10.446Z"
   },
   {
    "duration": 3,
    "start_time": "2022-01-25T05:18:10.478Z"
   },
   {
    "duration": 99,
    "start_time": "2022-01-25T05:18:10.483Z"
   },
   {
    "duration": 32,
    "start_time": "2022-01-25T05:18:10.583Z"
   },
   {
    "duration": 5,
    "start_time": "2022-01-25T05:18:10.616Z"
   },
   {
    "duration": 25,
    "start_time": "2022-01-25T05:18:10.622Z"
   },
   {
    "duration": 4,
    "start_time": "2022-01-25T05:18:10.650Z"
   },
   {
    "duration": 91,
    "start_time": "2022-01-25T05:18:10.656Z"
   },
   {
    "duration": 28,
    "start_time": "2022-01-25T05:18:10.749Z"
   },
   {
    "duration": 4,
    "start_time": "2022-01-25T05:18:10.779Z"
   },
   {
    "duration": 19,
    "start_time": "2022-01-25T05:18:10.799Z"
   },
   {
    "duration": 14,
    "start_time": "2022-01-25T05:18:10.819Z"
   },
   {
    "duration": 3,
    "start_time": "2022-01-25T05:18:10.835Z"
   },
   {
    "duration": 72,
    "start_time": "2022-01-25T05:18:10.840Z"
   },
   {
    "duration": 4,
    "start_time": "2022-01-25T05:18:10.913Z"
   },
   {
    "duration": 12,
    "start_time": "2022-01-25T05:18:10.919Z"
   },
   {
    "duration": 14,
    "start_time": "2022-01-25T05:18:10.932Z"
   },
   {
    "duration": 14,
    "start_time": "2022-01-25T05:18:10.948Z"
   },
   {
    "duration": 5,
    "start_time": "2022-01-25T05:18:10.964Z"
   },
   {
    "duration": 32,
    "start_time": "2022-01-25T05:18:10.970Z"
   },
   {
    "duration": 4,
    "start_time": "2022-01-25T05:18:11.004Z"
   },
   {
    "duration": 4,
    "start_time": "2022-01-25T05:18:11.010Z"
   },
   {
    "duration": 87,
    "start_time": "2022-01-25T05:18:11.016Z"
   },
   {
    "duration": 5,
    "start_time": "2022-01-25T05:18:11.105Z"
   },
   {
    "duration": 179,
    "start_time": "2022-01-25T05:18:11.112Z"
   },
   {
    "duration": 42,
    "start_time": "2022-01-25T05:18:11.293Z"
   },
   {
    "duration": 1066,
    "start_time": "2022-01-25T05:21:13.685Z"
   },
   {
    "duration": 378,
    "start_time": "2022-01-25T05:21:14.753Z"
   },
   {
    "duration": 30,
    "start_time": "2022-01-25T05:21:15.133Z"
   },
   {
    "duration": 3,
    "start_time": "2022-01-25T05:21:15.165Z"
   },
   {
    "duration": 114,
    "start_time": "2022-01-25T05:21:15.170Z"
   },
   {
    "duration": 31,
    "start_time": "2022-01-25T05:21:15.285Z"
   },
   {
    "duration": 4,
    "start_time": "2022-01-25T05:21:15.317Z"
   },
   {
    "duration": 30,
    "start_time": "2022-01-25T05:21:15.323Z"
   },
   {
    "duration": 4,
    "start_time": "2022-01-25T05:21:15.355Z"
   },
   {
    "duration": 87,
    "start_time": "2022-01-25T05:21:15.361Z"
   },
   {
    "duration": 30,
    "start_time": "2022-01-25T05:21:15.450Z"
   },
   {
    "duration": 17,
    "start_time": "2022-01-25T05:21:15.482Z"
   },
   {
    "duration": 19,
    "start_time": "2022-01-25T05:21:15.501Z"
   },
   {
    "duration": 15,
    "start_time": "2022-01-25T05:21:15.522Z"
   },
   {
    "duration": 4,
    "start_time": "2022-01-25T05:21:15.539Z"
   },
   {
    "duration": 69,
    "start_time": "2022-01-25T05:21:15.544Z"
   },
   {
    "duration": 5,
    "start_time": "2022-01-25T05:21:15.614Z"
   },
   {
    "duration": 26,
    "start_time": "2022-01-25T05:21:15.621Z"
   },
   {
    "duration": 27,
    "start_time": "2022-01-25T05:21:15.648Z"
   },
   {
    "duration": 22,
    "start_time": "2022-01-25T05:21:15.677Z"
   },
   {
    "duration": 12,
    "start_time": "2022-01-25T05:21:15.701Z"
   },
   {
    "duration": 9,
    "start_time": "2022-01-25T05:21:15.715Z"
   },
   {
    "duration": 19,
    "start_time": "2022-01-25T05:21:15.726Z"
   },
   {
    "duration": 353,
    "start_time": "2022-01-25T05:21:15.747Z"
   },
   {
    "duration": 3084,
    "start_time": "2022-01-25T05:21:13.018Z"
   },
   {
    "duration": 250,
    "start_time": "2022-01-25T05:21:28.140Z"
   },
   {
    "duration": 260,
    "start_time": "2022-01-25T05:21:34.122Z"
   },
   {
    "duration": 1095,
    "start_time": "2022-01-25T05:22:59.074Z"
   },
   {
    "duration": 406,
    "start_time": "2022-01-25T05:23:00.171Z"
   },
   {
    "duration": 30,
    "start_time": "2022-01-25T05:23:00.579Z"
   },
   {
    "duration": 4,
    "start_time": "2022-01-25T05:23:00.611Z"
   },
   {
    "duration": 114,
    "start_time": "2022-01-25T05:23:00.617Z"
   },
   {
    "duration": 30,
    "start_time": "2022-01-25T05:23:00.732Z"
   },
   {
    "duration": 4,
    "start_time": "2022-01-25T05:23:00.764Z"
   },
   {
    "duration": 42,
    "start_time": "2022-01-25T05:23:00.771Z"
   },
   {
    "duration": 4,
    "start_time": "2022-01-25T05:23:00.815Z"
   },
   {
    "duration": 79,
    "start_time": "2022-01-25T05:23:00.820Z"
   },
   {
    "duration": 28,
    "start_time": "2022-01-25T05:23:00.900Z"
   },
   {
    "duration": 5,
    "start_time": "2022-01-25T05:23:00.929Z"
   },
   {
    "duration": 20,
    "start_time": "2022-01-25T05:23:00.935Z"
   },
   {
    "duration": 13,
    "start_time": "2022-01-25T05:23:00.957Z"
   },
   {
    "duration": 4,
    "start_time": "2022-01-25T05:23:00.999Z"
   },
   {
    "duration": 54,
    "start_time": "2022-01-25T05:23:01.004Z"
   },
   {
    "duration": 4,
    "start_time": "2022-01-25T05:23:01.060Z"
   },
   {
    "duration": 14,
    "start_time": "2022-01-25T05:23:01.066Z"
   },
   {
    "duration": 29,
    "start_time": "2022-01-25T05:23:01.081Z"
   },
   {
    "duration": 20,
    "start_time": "2022-01-25T05:23:01.111Z"
   },
   {
    "duration": 7,
    "start_time": "2022-01-25T05:23:01.133Z"
   },
   {
    "duration": 14,
    "start_time": "2022-01-25T05:23:01.142Z"
   },
   {
    "duration": 7,
    "start_time": "2022-01-25T05:23:01.159Z"
   },
   {
    "duration": 296,
    "start_time": "2022-01-25T05:26:56.346Z"
   },
   {
    "duration": 1063,
    "start_time": "2022-01-25T05:27:13.092Z"
   },
   {
    "duration": 401,
    "start_time": "2022-01-25T05:27:14.157Z"
   },
   {
    "duration": 30,
    "start_time": "2022-01-25T05:27:14.560Z"
   },
   {
    "duration": 4,
    "start_time": "2022-01-25T05:27:14.591Z"
   },
   {
    "duration": 99,
    "start_time": "2022-01-25T05:27:14.596Z"
   },
   {
    "duration": 30,
    "start_time": "2022-01-25T05:27:14.698Z"
   },
   {
    "duration": 5,
    "start_time": "2022-01-25T05:27:14.729Z"
   },
   {
    "duration": 23,
    "start_time": "2022-01-25T05:27:14.737Z"
   },
   {
    "duration": 4,
    "start_time": "2022-01-25T05:27:14.762Z"
   },
   {
    "duration": 96,
    "start_time": "2022-01-25T05:27:14.767Z"
   },
   {
    "duration": 42,
    "start_time": "2022-01-25T05:27:14.864Z"
   },
   {
    "duration": 4,
    "start_time": "2022-01-25T05:27:14.907Z"
   },
   {
    "duration": 19,
    "start_time": "2022-01-25T05:27:14.913Z"
   },
   {
    "duration": 13,
    "start_time": "2022-01-25T05:27:14.933Z"
   },
   {
    "duration": 4,
    "start_time": "2022-01-25T05:27:14.948Z"
   },
   {
    "duration": 78,
    "start_time": "2022-01-25T05:27:14.953Z"
   },
   {
    "duration": 4,
    "start_time": "2022-01-25T05:27:15.033Z"
   },
   {
    "duration": 14,
    "start_time": "2022-01-25T05:27:15.038Z"
   },
   {
    "duration": 13,
    "start_time": "2022-01-25T05:27:15.053Z"
   },
   {
    "duration": 42,
    "start_time": "2022-01-25T05:27:15.067Z"
   },
   {
    "duration": 7,
    "start_time": "2022-01-25T05:27:15.111Z"
   },
   {
    "duration": 9,
    "start_time": "2022-01-25T05:27:15.119Z"
   },
   {
    "duration": 5,
    "start_time": "2022-01-25T05:27:15.131Z"
   },
   {
    "duration": 72,
    "start_time": "2022-01-25T05:27:15.138Z"
   },
   {
    "duration": 4,
    "start_time": "2022-01-25T05:27:15.212Z"
   },
   {
    "duration": 1031,
    "start_time": "2022-01-25T05:28:44.034Z"
   },
   {
    "duration": 393,
    "start_time": "2022-01-25T05:28:45.067Z"
   },
   {
    "duration": 32,
    "start_time": "2022-01-25T05:28:45.462Z"
   },
   {
    "duration": 5,
    "start_time": "2022-01-25T05:28:45.497Z"
   },
   {
    "duration": 110,
    "start_time": "2022-01-25T05:28:45.504Z"
   },
   {
    "duration": 33,
    "start_time": "2022-01-25T05:28:45.616Z"
   },
   {
    "duration": 6,
    "start_time": "2022-01-25T05:28:45.651Z"
   },
   {
    "duration": 50,
    "start_time": "2022-01-25T05:28:45.661Z"
   },
   {
    "duration": 4,
    "start_time": "2022-01-25T05:28:45.714Z"
   },
   {
    "duration": 91,
    "start_time": "2022-01-25T05:28:45.720Z"
   },
   {
    "duration": 29,
    "start_time": "2022-01-25T05:28:45.813Z"
   },
   {
    "duration": 6,
    "start_time": "2022-01-25T05:28:45.843Z"
   },
   {
    "duration": 49,
    "start_time": "2022-01-25T05:28:45.851Z"
   },
   {
    "duration": 15,
    "start_time": "2022-01-25T05:28:45.902Z"
   },
   {
    "duration": 4,
    "start_time": "2022-01-25T05:28:45.919Z"
   },
   {
    "duration": 42,
    "start_time": "2022-01-25T05:28:45.925Z"
   },
   {
    "duration": 6,
    "start_time": "2022-01-25T05:28:45.998Z"
   },
   {
    "duration": 15,
    "start_time": "2022-01-25T05:28:46.006Z"
   },
   {
    "duration": 16,
    "start_time": "2022-01-25T05:28:46.023Z"
   },
   {
    "duration": 16,
    "start_time": "2022-01-25T05:28:46.041Z"
   },
   {
    "duration": 41,
    "start_time": "2022-01-25T05:28:46.059Z"
   },
   {
    "duration": 10,
    "start_time": "2022-01-25T05:28:46.103Z"
   },
   {
    "duration": 5,
    "start_time": "2022-01-25T05:28:46.117Z"
   },
   {
    "duration": 1060,
    "start_time": "2022-01-25T05:36:07.699Z"
   },
   {
    "duration": 1159,
    "start_time": "2022-01-25T05:36:32.308Z"
   },
   {
    "duration": 403,
    "start_time": "2022-01-25T05:36:33.469Z"
   },
   {
    "duration": 30,
    "start_time": "2022-01-25T05:36:33.874Z"
   },
   {
    "duration": 4,
    "start_time": "2022-01-25T05:36:33.906Z"
   },
   {
    "duration": 111,
    "start_time": "2022-01-25T05:36:33.912Z"
   },
   {
    "duration": 30,
    "start_time": "2022-01-25T05:36:34.025Z"
   },
   {
    "duration": 5,
    "start_time": "2022-01-25T05:36:34.057Z"
   },
   {
    "duration": 53,
    "start_time": "2022-01-25T05:36:34.065Z"
   },
   {
    "duration": 4,
    "start_time": "2022-01-25T05:36:34.120Z"
   },
   {
    "duration": 90,
    "start_time": "2022-01-25T05:36:34.126Z"
   },
   {
    "duration": 31,
    "start_time": "2022-01-25T05:36:34.218Z"
   },
   {
    "duration": 5,
    "start_time": "2022-01-25T05:36:34.250Z"
   },
   {
    "duration": 55,
    "start_time": "2022-01-25T05:36:34.257Z"
   },
   {
    "duration": 17,
    "start_time": "2022-01-25T05:36:34.314Z"
   },
   {
    "duration": 4,
    "start_time": "2022-01-25T05:36:34.333Z"
   },
   {
    "duration": 78,
    "start_time": "2022-01-25T05:36:34.339Z"
   },
   {
    "duration": 4,
    "start_time": "2022-01-25T05:36:34.420Z"
   },
   {
    "duration": 12,
    "start_time": "2022-01-25T05:36:34.426Z"
   },
   {
    "duration": 15,
    "start_time": "2022-01-25T05:36:34.440Z"
   },
   {
    "duration": 52,
    "start_time": "2022-01-25T05:36:34.457Z"
   },
   {
    "duration": 4,
    "start_time": "2022-01-25T05:36:34.510Z"
   },
   {
    "duration": 7,
    "start_time": "2022-01-25T05:36:34.516Z"
   },
   {
    "duration": 4,
    "start_time": "2022-01-25T05:36:34.526Z"
   },
   {
    "duration": 6992,
    "start_time": "2022-01-25T05:36:34.531Z"
   },
   {
    "duration": 70,
    "start_time": "2022-01-25T05:38:40.933Z"
   },
   {
    "duration": 9,
    "start_time": "2022-01-25T05:38:58.935Z"
   },
   {
    "duration": 11,
    "start_time": "2022-01-25T05:39:02.252Z"
   },
   {
    "duration": 6,
    "start_time": "2022-01-25T05:39:35.232Z"
   },
   {
    "duration": 20,
    "start_time": "2022-01-25T05:39:44.373Z"
   },
   {
    "duration": 30,
    "start_time": "2022-01-25T05:40:46.744Z"
   },
   {
    "duration": 9,
    "start_time": "2022-01-25T05:42:15.680Z"
   },
   {
    "duration": 65,
    "start_time": "2022-01-25T05:43:36.436Z"
   },
   {
    "duration": 25,
    "start_time": "2022-01-25T05:43:38.228Z"
   },
   {
    "duration": 9,
    "start_time": "2022-01-25T05:43:41.003Z"
   },
   {
    "duration": 42,
    "start_time": "2022-01-25T05:44:13.338Z"
   },
   {
    "duration": 19,
    "start_time": "2022-01-25T05:46:56.152Z"
   },
   {
    "duration": 13,
    "start_time": "2022-01-25T05:50:45.608Z"
   },
   {
    "duration": 1033,
    "start_time": "2022-01-25T06:07:50.023Z"
   },
   {
    "duration": 381,
    "start_time": "2022-01-25T06:07:51.058Z"
   },
   {
    "duration": 28,
    "start_time": "2022-01-25T06:07:51.441Z"
   },
   {
    "duration": 4,
    "start_time": "2022-01-25T06:07:51.471Z"
   },
   {
    "duration": 101,
    "start_time": "2022-01-25T06:07:51.477Z"
   },
   {
    "duration": 30,
    "start_time": "2022-01-25T06:07:51.579Z"
   },
   {
    "duration": 4,
    "start_time": "2022-01-25T06:07:51.610Z"
   },
   {
    "duration": 21,
    "start_time": "2022-01-25T06:07:51.617Z"
   },
   {
    "duration": 3,
    "start_time": "2022-01-25T06:07:51.640Z"
   },
   {
    "duration": 93,
    "start_time": "2022-01-25T06:07:51.644Z"
   },
   {
    "duration": 28,
    "start_time": "2022-01-25T06:07:51.739Z"
   },
   {
    "duration": 5,
    "start_time": "2022-01-25T06:07:51.768Z"
   },
   {
    "duration": 39,
    "start_time": "2022-01-25T06:07:51.774Z"
   },
   {
    "duration": 13,
    "start_time": "2022-01-25T06:07:51.814Z"
   },
   {
    "duration": 3,
    "start_time": "2022-01-25T06:07:51.829Z"
   },
   {
    "duration": 42,
    "start_time": "2022-01-25T06:07:51.834Z"
   },
   {
    "duration": 24,
    "start_time": "2022-01-25T06:07:51.877Z"
   },
   {
    "duration": 12,
    "start_time": "2022-01-25T06:07:51.903Z"
   },
   {
    "duration": 14,
    "start_time": "2022-01-25T06:07:51.917Z"
   },
   {
    "duration": 14,
    "start_time": "2022-01-25T06:07:51.932Z"
   },
   {
    "duration": 6,
    "start_time": "2022-01-25T06:07:51.948Z"
   },
   {
    "duration": 46,
    "start_time": "2022-01-25T06:07:51.955Z"
   },
   {
    "duration": 5,
    "start_time": "2022-01-25T06:07:52.004Z"
   },
   {
    "duration": 129,
    "start_time": "2022-01-25T06:07:52.011Z"
   },
   {
    "duration": 39,
    "start_time": "2022-01-25T06:07:52.142Z"
   },
   {
    "duration": 30,
    "start_time": "2022-01-25T06:07:52.183Z"
   },
   {
    "duration": 7,
    "start_time": "2022-01-25T06:07:52.215Z"
   },
   {
    "duration": 12,
    "start_time": "2022-01-25T06:07:52.225Z"
   },
   {
    "duration": 12,
    "start_time": "2022-01-25T06:10:40.286Z"
   },
   {
    "duration": 5,
    "start_time": "2022-01-25T06:11:20.882Z"
   },
   {
    "duration": 13,
    "start_time": "2022-01-25T06:11:28.075Z"
   },
   {
    "duration": 344,
    "start_time": "2022-01-25T06:13:55.419Z"
   },
   {
    "duration": 32,
    "start_time": "2022-01-25T06:14:06.239Z"
   },
   {
    "duration": 27,
    "start_time": "2022-01-25T06:16:24.534Z"
   },
   {
    "duration": 269,
    "start_time": "2022-01-25T06:16:42.887Z"
   },
   {
    "duration": 25,
    "start_time": "2022-01-25T06:16:48.084Z"
   },
   {
    "duration": 273,
    "start_time": "2022-01-25T06:19:24.538Z"
   },
   {
    "duration": 27,
    "start_time": "2022-01-25T06:20:25.813Z"
   },
   {
    "duration": 36,
    "start_time": "2022-01-25T06:20:34.897Z"
   },
   {
    "duration": 293,
    "start_time": "2022-01-25T06:20:46.061Z"
   },
   {
    "duration": 39,
    "start_time": "2022-01-25T06:24:53.434Z"
   },
   {
    "duration": 29,
    "start_time": "2022-01-25T06:25:00.118Z"
   },
   {
    "duration": 296,
    "start_time": "2022-01-25T06:25:28.916Z"
   },
   {
    "duration": 34,
    "start_time": "2022-01-25T06:34:20.780Z"
   },
   {
    "duration": 37,
    "start_time": "2022-01-25T06:34:25.826Z"
   },
   {
    "duration": 33,
    "start_time": "2022-01-25T06:34:53.168Z"
   },
   {
    "duration": 31,
    "start_time": "2022-01-25T06:35:07.653Z"
   },
   {
    "duration": 1167,
    "start_time": "2022-01-25T06:35:37.673Z"
   },
   {
    "duration": 36,
    "start_time": "2022-01-25T06:35:47.526Z"
   },
   {
    "duration": 83,
    "start_time": "2022-01-25T06:37:54.835Z"
   },
   {
    "duration": 81,
    "start_time": "2022-01-25T06:38:07.055Z"
   },
   {
    "duration": 94,
    "start_time": "2022-01-25T06:41:16.044Z"
   },
   {
    "duration": 82,
    "start_time": "2022-01-25T06:44:22.041Z"
   },
   {
    "duration": 2593,
    "start_time": "2022-01-25T06:47:48.856Z"
   },
   {
    "duration": 2591,
    "start_time": "2022-01-25T06:47:48.859Z"
   },
   {
    "duration": 2591,
    "start_time": "2022-01-25T06:47:48.860Z"
   },
   {
    "duration": 2589,
    "start_time": "2022-01-25T06:47:48.862Z"
   },
   {
    "duration": 2587,
    "start_time": "2022-01-25T06:47:48.865Z"
   },
   {
    "duration": 2586,
    "start_time": "2022-01-25T06:47:48.866Z"
   },
   {
    "duration": 2621,
    "start_time": "2022-01-25T06:47:48.878Z"
   },
   {
    "duration": 2616,
    "start_time": "2022-01-25T06:47:48.883Z"
   },
   {
    "duration": 2616,
    "start_time": "2022-01-25T06:47:48.884Z"
   },
   {
    "duration": 2616,
    "start_time": "2022-01-25T06:47:48.885Z"
   },
   {
    "duration": 2616,
    "start_time": "2022-01-25T06:47:48.886Z"
   },
   {
    "duration": 2616,
    "start_time": "2022-01-25T06:47:48.887Z"
   },
   {
    "duration": 2616,
    "start_time": "2022-01-25T06:47:48.888Z"
   },
   {
    "duration": 2615,
    "start_time": "2022-01-25T06:47:48.889Z"
   },
   {
    "duration": 2616,
    "start_time": "2022-01-25T06:47:48.889Z"
   },
   {
    "duration": 2616,
    "start_time": "2022-01-25T06:47:48.890Z"
   },
   {
    "duration": 2613,
    "start_time": "2022-01-25T06:47:48.894Z"
   },
   {
    "duration": 2613,
    "start_time": "2022-01-25T06:47:48.895Z"
   },
   {
    "duration": 2613,
    "start_time": "2022-01-25T06:47:48.896Z"
   },
   {
    "duration": 2614,
    "start_time": "2022-01-25T06:47:48.897Z"
   },
   {
    "duration": 2614,
    "start_time": "2022-01-25T06:47:48.898Z"
   },
   {
    "duration": 2614,
    "start_time": "2022-01-25T06:47:48.899Z"
   },
   {
    "duration": 2613,
    "start_time": "2022-01-25T06:47:48.900Z"
   },
   {
    "duration": 2613,
    "start_time": "2022-01-25T06:47:48.901Z"
   },
   {
    "duration": 2611,
    "start_time": "2022-01-25T06:47:48.904Z"
   },
   {
    "duration": 2611,
    "start_time": "2022-01-25T06:47:48.905Z"
   },
   {
    "duration": 2608,
    "start_time": "2022-01-25T06:47:48.909Z"
   },
   {
    "duration": 2608,
    "start_time": "2022-01-25T06:47:48.910Z"
   },
   {
    "duration": 2608,
    "start_time": "2022-01-25T06:47:48.911Z"
   },
   {
    "duration": 2609,
    "start_time": "2022-01-25T06:47:48.911Z"
   },
   {
    "duration": 2609,
    "start_time": "2022-01-25T06:47:48.912Z"
   },
   {
    "duration": 2609,
    "start_time": "2022-01-25T06:47:48.913Z"
   },
   {
    "duration": 3,
    "start_time": "2022-01-25T06:48:05.638Z"
   },
   {
    "duration": 421,
    "start_time": "2022-01-25T06:48:05.673Z"
   },
   {
    "duration": 127,
    "start_time": "2022-01-25T06:48:06.131Z"
   },
   {
    "duration": 28,
    "start_time": "2022-01-25T06:48:06.260Z"
   },
   {
    "duration": 4,
    "start_time": "2022-01-25T06:48:06.298Z"
   },
   {
    "duration": 24,
    "start_time": "2022-01-25T06:48:06.304Z"
   },
   {
    "duration": 4,
    "start_time": "2022-01-25T06:48:06.330Z"
   },
   {
    "duration": 75,
    "start_time": "2022-01-25T06:48:06.336Z"
   },
   {
    "duration": 28,
    "start_time": "2022-01-25T06:48:06.413Z"
   },
   {
    "duration": 4,
    "start_time": "2022-01-25T06:48:06.443Z"
   },
   {
    "duration": 22,
    "start_time": "2022-01-25T06:48:06.448Z"
   },
   {
    "duration": 36,
    "start_time": "2022-01-25T06:48:06.471Z"
   },
   {
    "duration": 3,
    "start_time": "2022-01-25T06:48:06.509Z"
   },
   {
    "duration": 43,
    "start_time": "2022-01-25T06:48:06.514Z"
   },
   {
    "duration": 41,
    "start_time": "2022-01-25T06:48:06.559Z"
   },
   {
    "duration": 12,
    "start_time": "2022-01-25T06:48:06.601Z"
   },
   {
    "duration": 18,
    "start_time": "2022-01-25T06:48:06.614Z"
   },
   {
    "duration": 17,
    "start_time": "2022-01-25T06:48:06.633Z"
   },
   {
    "duration": 3,
    "start_time": "2022-01-25T06:48:06.652Z"
   },
   {
    "duration": 43,
    "start_time": "2022-01-25T06:48:06.657Z"
   },
   {
    "duration": 5,
    "start_time": "2022-01-25T06:48:06.701Z"
   },
   {
    "duration": 125,
    "start_time": "2022-01-25T06:48:06.707Z"
   },
   {
    "duration": 44,
    "start_time": "2022-01-25T06:48:06.834Z"
   },
   {
    "duration": 35,
    "start_time": "2022-01-25T06:48:06.880Z"
   },
   {
    "duration": 8,
    "start_time": "2022-01-25T06:48:06.916Z"
   },
   {
    "duration": 14,
    "start_time": "2022-01-25T06:48:06.927Z"
   },
   {
    "duration": 11,
    "start_time": "2022-01-25T06:48:06.943Z"
   },
   {
    "duration": 43,
    "start_time": "2022-01-25T06:48:06.956Z"
   },
   {
    "duration": 87,
    "start_time": "2022-01-25T06:48:07.001Z"
   },
   {
    "duration": 2655,
    "start_time": "2022-01-25T06:48:04.435Z"
   },
   {
    "duration": 689,
    "start_time": "2022-01-25T06:53:23.650Z"
   },
   {
    "duration": 1402,
    "start_time": "2022-01-25T14:24:36.012Z"
   },
   {
    "duration": 534,
    "start_time": "2022-01-25T14:24:37.418Z"
   },
   {
    "duration": 42,
    "start_time": "2022-01-25T14:24:37.955Z"
   },
   {
    "duration": 5,
    "start_time": "2022-01-25T14:24:37.999Z"
   },
   {
    "duration": 159,
    "start_time": "2022-01-25T14:24:38.006Z"
   },
   {
    "duration": 44,
    "start_time": "2022-01-25T14:24:38.169Z"
   },
   {
    "duration": 8,
    "start_time": "2022-01-25T14:24:38.232Z"
   },
   {
    "duration": 36,
    "start_time": "2022-01-25T14:24:38.244Z"
   },
   {
    "duration": 6,
    "start_time": "2022-01-25T14:24:38.284Z"
   },
   {
    "duration": 152,
    "start_time": "2022-01-25T14:24:38.293Z"
   },
   {
    "duration": 38,
    "start_time": "2022-01-25T14:24:38.448Z"
   },
   {
    "duration": 8,
    "start_time": "2022-01-25T14:24:38.489Z"
   },
   {
    "duration": 54,
    "start_time": "2022-01-25T14:24:38.500Z"
   },
   {
    "duration": 21,
    "start_time": "2022-01-25T14:24:38.557Z"
   },
   {
    "duration": 7,
    "start_time": "2022-01-25T14:24:38.581Z"
   },
   {
    "duration": 59,
    "start_time": "2022-01-25T14:24:38.633Z"
   },
   {
    "duration": 9,
    "start_time": "2022-01-25T14:24:38.695Z"
   },
   {
    "duration": 46,
    "start_time": "2022-01-25T14:24:38.706Z"
   },
   {
    "duration": 22,
    "start_time": "2022-01-25T14:24:38.755Z"
   },
   {
    "duration": 64,
    "start_time": "2022-01-25T14:24:38.780Z"
   },
   {
    "duration": 4,
    "start_time": "2022-01-25T14:24:38.847Z"
   },
   {
    "duration": 13,
    "start_time": "2022-01-25T14:24:38.854Z"
   },
   {
    "duration": 10,
    "start_time": "2022-01-25T14:24:38.869Z"
   },
   {
    "duration": 201,
    "start_time": "2022-01-25T14:24:38.882Z"
   },
   {
    "duration": 72,
    "start_time": "2022-01-25T14:24:39.085Z"
   },
   {
    "duration": 30,
    "start_time": "2022-01-25T14:24:39.164Z"
   },
   {
    "duration": 36,
    "start_time": "2022-01-25T14:24:39.198Z"
   },
   {
    "duration": 21,
    "start_time": "2022-01-25T14:24:39.237Z"
   },
   {
    "duration": 22,
    "start_time": "2022-01-25T14:24:39.261Z"
   },
   {
    "duration": 53,
    "start_time": "2022-01-25T14:24:39.286Z"
   },
   {
    "duration": 616,
    "start_time": "2022-01-25T14:24:39.342Z"
   },
   {
    "duration": 2985,
    "start_time": "2022-01-25T14:24:36.975Z"
   },
   {
    "duration": 53,
    "start_time": "2022-01-25T14:25:00.684Z"
   },
   {
    "duration": 17,
    "start_time": "2022-01-25T14:27:46.154Z"
   },
   {
    "duration": 30,
    "start_time": "2022-01-25T14:27:58.379Z"
   },
   {
    "duration": 45,
    "start_time": "2022-01-25T14:29:12.858Z"
   },
   {
    "duration": 69,
    "start_time": "2022-01-25T14:36:39.226Z"
   },
   {
    "duration": 26,
    "start_time": "2022-01-25T14:39:09.845Z"
   },
   {
    "duration": 57,
    "start_time": "2022-01-25T14:40:01.178Z"
   },
   {
    "duration": 46,
    "start_time": "2022-01-25T14:40:19.916Z"
   },
   {
    "duration": 518,
    "start_time": "2022-01-25T14:42:55.645Z"
   },
   {
    "duration": 315,
    "start_time": "2022-01-25T14:43:06.875Z"
   },
   {
    "duration": 355,
    "start_time": "2022-01-25T14:43:16.651Z"
   },
   {
    "duration": 40,
    "start_time": "2022-01-25T14:43:32.029Z"
   },
   {
    "duration": 56,
    "start_time": "2022-01-25T14:44:11.536Z"
   },
   {
    "duration": 47,
    "start_time": "2022-01-25T14:47:15.406Z"
   },
   {
    "duration": 40,
    "start_time": "2022-01-25T14:49:00.747Z"
   },
   {
    "duration": 51,
    "start_time": "2022-01-25T14:49:18.063Z"
   },
   {
    "duration": 1614,
    "start_time": "2022-01-25T15:36:04.203Z"
   },
   {
    "duration": 632,
    "start_time": "2022-01-25T15:36:05.821Z"
   },
   {
    "duration": 42,
    "start_time": "2022-01-25T15:36:06.457Z"
   },
   {
    "duration": 6,
    "start_time": "2022-01-25T15:36:06.503Z"
   },
   {
    "duration": 193,
    "start_time": "2022-01-25T15:36:06.512Z"
   },
   {
    "duration": 66,
    "start_time": "2022-01-25T15:36:06.708Z"
   },
   {
    "duration": 9,
    "start_time": "2022-01-25T15:36:06.777Z"
   },
   {
    "duration": 60,
    "start_time": "2022-01-25T15:36:06.791Z"
   },
   {
    "duration": 7,
    "start_time": "2022-01-25T15:36:06.854Z"
   },
   {
    "duration": 152,
    "start_time": "2022-01-25T15:36:06.864Z"
   },
   {
    "duration": 55,
    "start_time": "2022-01-25T15:36:07.018Z"
   },
   {
    "duration": 8,
    "start_time": "2022-01-25T15:36:07.076Z"
   },
   {
    "duration": 65,
    "start_time": "2022-01-25T15:36:07.086Z"
   },
   {
    "duration": 19,
    "start_time": "2022-01-25T15:36:07.155Z"
   },
   {
    "duration": 6,
    "start_time": "2022-01-25T15:36:07.177Z"
   },
   {
    "duration": 116,
    "start_time": "2022-01-25T15:36:07.186Z"
   },
   {
    "duration": 7,
    "start_time": "2022-01-25T15:36:07.305Z"
   },
   {
    "duration": 40,
    "start_time": "2022-01-25T15:36:07.315Z"
   },
   {
    "duration": 20,
    "start_time": "2022-01-25T15:36:07.358Z"
   },
   {
    "duration": 67,
    "start_time": "2022-01-25T15:36:07.381Z"
   },
   {
    "duration": 9,
    "start_time": "2022-01-25T15:36:07.451Z"
   },
   {
    "duration": 13,
    "start_time": "2022-01-25T15:36:07.462Z"
   },
   {
    "duration": 6,
    "start_time": "2022-01-25T15:36:07.477Z"
   },
   {
    "duration": 246,
    "start_time": "2022-01-25T15:36:07.485Z"
   },
   {
    "duration": 62,
    "start_time": "2022-01-25T15:36:07.738Z"
   },
   {
    "duration": 62,
    "start_time": "2022-01-25T15:36:07.805Z"
   },
   {
    "duration": 15,
    "start_time": "2022-01-25T15:36:07.870Z"
   },
   {
    "duration": 54,
    "start_time": "2022-01-25T15:36:07.887Z"
   },
   {
    "duration": 21,
    "start_time": "2022-01-25T15:36:07.944Z"
   },
   {
    "duration": 39,
    "start_time": "2022-01-25T15:36:07.968Z"
   },
   {
    "duration": 98,
    "start_time": "2022-01-25T15:36:08.010Z"
   },
   {
    "duration": 58,
    "start_time": "2022-01-25T15:36:08.111Z"
   },
   {
    "duration": 65,
    "start_time": "2022-01-25T15:36:08.172Z"
   },
   {
    "duration": 69,
    "start_time": "2022-01-25T15:36:08.240Z"
   },
   {
    "duration": 476,
    "start_time": "2022-01-25T15:36:08.312Z"
   },
   {
    "duration": 8,
    "start_time": "2022-01-25T15:38:27.827Z"
   },
   {
    "duration": 150,
    "start_time": "2022-01-25T15:39:18.383Z"
   },
   {
    "duration": 254,
    "start_time": "2022-01-25T15:39:52.360Z"
   },
   {
    "duration": 6,
    "start_time": "2022-01-25T15:40:01.583Z"
   },
   {
    "duration": 315,
    "start_time": "2022-01-25T15:40:16.646Z"
   },
   {
    "duration": 149,
    "start_time": "2022-01-25T15:40:23.761Z"
   },
   {
    "duration": 10,
    "start_time": "2022-01-25T15:40:26.347Z"
   },
   {
    "duration": 320,
    "start_time": "2022-01-25T15:55:07.958Z"
   },
   {
    "duration": 1758,
    "start_time": "2022-01-25T15:55:54.616Z"
   },
   {
    "duration": 769,
    "start_time": "2022-01-25T15:55:56.378Z"
   },
   {
    "duration": 64,
    "start_time": "2022-01-25T15:55:57.150Z"
   },
   {
    "duration": 18,
    "start_time": "2022-01-25T15:55:57.218Z"
   },
   {
    "duration": 207,
    "start_time": "2022-01-25T15:55:57.239Z"
   },
   {
    "duration": 59,
    "start_time": "2022-01-25T15:55:57.449Z"
   },
   {
    "duration": 25,
    "start_time": "2022-01-25T15:55:57.511Z"
   },
   {
    "duration": 50,
    "start_time": "2022-01-25T15:55:57.540Z"
   },
   {
    "duration": 7,
    "start_time": "2022-01-25T15:55:57.595Z"
   },
   {
    "duration": 156,
    "start_time": "2022-01-25T15:55:57.635Z"
   },
   {
    "duration": 69,
    "start_time": "2022-01-25T15:55:57.795Z"
   },
   {
    "duration": 8,
    "start_time": "2022-01-25T15:55:57.867Z"
   },
   {
    "duration": 61,
    "start_time": "2022-01-25T15:55:57.879Z"
   },
   {
    "duration": 18,
    "start_time": "2022-01-25T15:55:57.943Z"
   },
   {
    "duration": 6,
    "start_time": "2022-01-25T15:55:57.963Z"
   },
   {
    "duration": 112,
    "start_time": "2022-01-25T15:55:57.972Z"
   },
   {
    "duration": 7,
    "start_time": "2022-01-25T15:55:58.087Z"
   },
   {
    "duration": 45,
    "start_time": "2022-01-25T15:55:58.097Z"
   },
   {
    "duration": 22,
    "start_time": "2022-01-25T15:55:58.146Z"
   },
   {
    "duration": 24,
    "start_time": "2022-01-25T15:55:58.171Z"
   },
   {
    "duration": 7,
    "start_time": "2022-01-25T15:55:58.233Z"
   },
   {
    "duration": 12,
    "start_time": "2022-01-25T15:55:58.243Z"
   },
   {
    "duration": 8,
    "start_time": "2022-01-25T15:55:58.258Z"
   },
   {
    "duration": 217,
    "start_time": "2022-01-25T15:55:58.269Z"
   },
   {
    "duration": 65,
    "start_time": "2022-01-25T15:55:58.489Z"
   },
   {
    "duration": 32,
    "start_time": "2022-01-25T15:55:58.557Z"
   },
   {
    "duration": 329,
    "start_time": "2022-01-25T15:55:58.596Z"
   },
   {
    "duration": 3187,
    "start_time": "2022-01-25T15:55:55.742Z"
   },
   {
    "duration": 3188,
    "start_time": "2022-01-25T15:55:55.743Z"
   },
   {
    "duration": 3174,
    "start_time": "2022-01-25T15:55:55.769Z"
   },
   {
    "duration": 3175,
    "start_time": "2022-01-25T15:55:55.770Z"
   },
   {
    "duration": 3177,
    "start_time": "2022-01-25T15:55:55.771Z"
   },
   {
    "duration": 3171,
    "start_time": "2022-01-25T15:55:55.781Z"
   },
   {
    "duration": 3170,
    "start_time": "2022-01-25T15:55:55.784Z"
   },
   {
    "duration": 13,
    "start_time": "2022-01-25T15:56:22.819Z"
   },
   {
    "duration": 19,
    "start_time": "2022-01-25T15:56:38.302Z"
   },
   {
    "duration": 19,
    "start_time": "2022-01-25T15:56:56.007Z"
   },
   {
    "duration": 25,
    "start_time": "2022-01-25T15:56:56.308Z"
   },
   {
    "duration": 76,
    "start_time": "2022-01-25T15:56:56.707Z"
   },
   {
    "duration": 54,
    "start_time": "2022-01-25T15:56:57.046Z"
   },
   {
    "duration": 56,
    "start_time": "2022-01-25T15:56:59.335Z"
   },
   {
    "duration": 334,
    "start_time": "2022-01-25T15:58:02.970Z"
   },
   {
    "duration": 249,
    "start_time": "2022-01-25T15:58:21.747Z"
   },
   {
    "duration": 11,
    "start_time": "2022-01-25T15:59:18.650Z"
   },
   {
    "duration": 34,
    "start_time": "2022-01-25T15:59:24.252Z"
   },
   {
    "duration": 54,
    "start_time": "2022-01-25T16:00:22.785Z"
   },
   {
    "duration": 1442,
    "start_time": "2022-01-25T16:05:46.053Z"
   },
   {
    "duration": 540,
    "start_time": "2022-01-25T16:05:47.498Z"
   },
   {
    "duration": 41,
    "start_time": "2022-01-25T16:05:48.041Z"
   },
   {
    "duration": 7,
    "start_time": "2022-01-25T16:05:48.085Z"
   },
   {
    "duration": 217,
    "start_time": "2022-01-25T16:05:48.094Z"
   },
   {
    "duration": 50,
    "start_time": "2022-01-25T16:05:48.314Z"
   },
   {
    "duration": 7,
    "start_time": "2022-01-25T16:05:48.366Z"
   },
   {
    "duration": 64,
    "start_time": "2022-01-25T16:05:48.377Z"
   },
   {
    "duration": 7,
    "start_time": "2022-01-25T16:05:48.445Z"
   },
   {
    "duration": 146,
    "start_time": "2022-01-25T16:05:48.455Z"
   },
   {
    "duration": 48,
    "start_time": "2022-01-25T16:05:48.603Z"
   },
   {
    "duration": 7,
    "start_time": "2022-01-25T16:05:48.653Z"
   },
   {
    "duration": 38,
    "start_time": "2022-01-25T16:05:48.663Z"
   },
   {
    "duration": 21,
    "start_time": "2022-01-25T16:05:48.731Z"
   },
   {
    "duration": 5,
    "start_time": "2022-01-25T16:05:48.754Z"
   },
   {
    "duration": 98,
    "start_time": "2022-01-25T16:05:48.762Z"
   },
   {
    "duration": 7,
    "start_time": "2022-01-25T16:05:48.863Z"
   },
   {
    "duration": 19,
    "start_time": "2022-01-25T16:05:48.872Z"
   },
   {
    "duration": 57,
    "start_time": "2022-01-25T16:05:48.894Z"
   },
   {
    "duration": 23,
    "start_time": "2022-01-25T16:05:48.954Z"
   },
   {
    "duration": 7,
    "start_time": "2022-01-25T16:05:48.979Z"
   },
   {
    "duration": 46,
    "start_time": "2022-01-25T16:05:48.988Z"
   },
   {
    "duration": 6,
    "start_time": "2022-01-25T16:05:49.038Z"
   },
   {
    "duration": 195,
    "start_time": "2022-01-25T16:05:49.047Z"
   },
   {
    "duration": 59,
    "start_time": "2022-01-25T16:05:49.245Z"
   },
   {
    "duration": 50,
    "start_time": "2022-01-25T16:05:49.307Z"
   },
   {
    "duration": 29,
    "start_time": "2022-01-25T16:05:49.360Z"
   },
   {
    "duration": 55,
    "start_time": "2022-01-25T16:05:49.392Z"
   },
   {
    "duration": 24,
    "start_time": "2022-01-25T16:05:49.449Z"
   },
   {
    "duration": 92,
    "start_time": "2022-01-25T16:05:49.475Z"
   },
   {
    "duration": 111,
    "start_time": "2022-01-25T16:05:49.569Z"
   },
   {
    "duration": 55,
    "start_time": "2022-01-25T16:05:49.683Z"
   },
   {
    "duration": 36,
    "start_time": "2022-01-25T16:05:49.740Z"
   },
   {
    "duration": 6,
    "start_time": "2022-01-25T16:07:34.669Z"
   },
   {
    "duration": 1356,
    "start_time": "2022-01-25T16:12:30.889Z"
   },
   {
    "duration": 551,
    "start_time": "2022-01-25T16:12:32.248Z"
   },
   {
    "duration": 42,
    "start_time": "2022-01-25T16:12:32.802Z"
   },
   {
    "duration": 7,
    "start_time": "2022-01-25T16:12:32.848Z"
   },
   {
    "duration": 155,
    "start_time": "2022-01-25T16:12:32.857Z"
   },
   {
    "duration": 60,
    "start_time": "2022-01-25T16:12:33.015Z"
   },
   {
    "duration": 7,
    "start_time": "2022-01-25T16:12:33.078Z"
   },
   {
    "duration": 60,
    "start_time": "2022-01-25T16:12:33.087Z"
   },
   {
    "duration": 6,
    "start_time": "2022-01-25T16:12:33.151Z"
   },
   {
    "duration": 169,
    "start_time": "2022-01-25T16:12:33.161Z"
   },
   {
    "duration": 43,
    "start_time": "2022-01-25T16:12:33.333Z"
   },
   {
    "duration": 6,
    "start_time": "2022-01-25T16:12:33.379Z"
   },
   {
    "duration": 54,
    "start_time": "2022-01-25T16:12:33.387Z"
   },
   {
    "duration": 18,
    "start_time": "2022-01-25T16:12:33.444Z"
   },
   {
    "duration": 7,
    "start_time": "2022-01-25T16:12:33.465Z"
   },
   {
    "duration": 122,
    "start_time": "2022-01-25T16:12:33.475Z"
   },
   {
    "duration": 6,
    "start_time": "2022-01-25T16:12:33.600Z"
   },
   {
    "duration": 37,
    "start_time": "2022-01-25T16:12:33.608Z"
   },
   {
    "duration": 21,
    "start_time": "2022-01-25T16:12:33.647Z"
   },
   {
    "duration": 62,
    "start_time": "2022-01-25T16:12:33.671Z"
   },
   {
    "duration": 8,
    "start_time": "2022-01-25T16:12:33.736Z"
   },
   {
    "duration": 15,
    "start_time": "2022-01-25T16:12:33.746Z"
   },
   {
    "duration": 6,
    "start_time": "2022-01-25T16:12:33.764Z"
   },
   {
    "duration": 198,
    "start_time": "2022-01-25T16:12:33.772Z"
   },
   {
    "duration": 65,
    "start_time": "2022-01-25T16:12:33.972Z"
   },
   {
    "duration": 33,
    "start_time": "2022-01-25T16:12:34.039Z"
   },
   {
    "duration": 58,
    "start_time": "2022-01-25T16:12:34.079Z"
   },
   {
    "duration": 18,
    "start_time": "2022-01-25T16:12:34.139Z"
   },
   {
    "duration": 41,
    "start_time": "2022-01-25T16:12:34.159Z"
   },
   {
    "duration": 76,
    "start_time": "2022-01-25T16:12:34.203Z"
   },
   {
    "duration": 50,
    "start_time": "2022-01-25T16:12:34.281Z"
   },
   {
    "duration": 59,
    "start_time": "2022-01-25T16:12:34.336Z"
   },
   {
    "duration": 10,
    "start_time": "2022-01-25T16:12:34.397Z"
   },
   {
    "duration": 31,
    "start_time": "2022-01-25T16:12:34.410Z"
   },
   {
    "duration": 56,
    "start_time": "2022-01-25T16:12:34.445Z"
   },
   {
    "duration": 6,
    "start_time": "2022-01-25T16:12:34.504Z"
   },
   {
    "duration": 36,
    "start_time": "2022-01-25T16:13:18.242Z"
   },
   {
    "duration": 1923,
    "start_time": "2022-01-25T16:15:15.500Z"
   },
   {
    "duration": 592,
    "start_time": "2022-01-25T16:15:17.425Z"
   },
   {
    "duration": 69,
    "start_time": "2022-01-25T16:15:18.021Z"
   },
   {
    "duration": 7,
    "start_time": "2022-01-25T16:15:18.093Z"
   },
   {
    "duration": 206,
    "start_time": "2022-01-25T16:15:18.104Z"
   },
   {
    "duration": 54,
    "start_time": "2022-01-25T16:15:18.313Z"
   },
   {
    "duration": 8,
    "start_time": "2022-01-25T16:15:18.370Z"
   },
   {
    "duration": 66,
    "start_time": "2022-01-25T16:15:18.380Z"
   },
   {
    "duration": 6,
    "start_time": "2022-01-25T16:15:18.451Z"
   },
   {
    "duration": 130,
    "start_time": "2022-01-25T16:15:18.460Z"
   },
   {
    "duration": 55,
    "start_time": "2022-01-25T16:15:18.592Z"
   },
   {
    "duration": 6,
    "start_time": "2022-01-25T16:15:18.650Z"
   },
   {
    "duration": 28,
    "start_time": "2022-01-25T16:15:18.658Z"
   },
   {
    "duration": 60,
    "start_time": "2022-01-25T16:15:18.689Z"
   },
   {
    "duration": 6,
    "start_time": "2022-01-25T16:15:18.752Z"
   },
   {
    "duration": 88,
    "start_time": "2022-01-25T16:15:18.760Z"
   },
   {
    "duration": 7,
    "start_time": "2022-01-25T16:15:18.852Z"
   },
   {
    "duration": 18,
    "start_time": "2022-01-25T16:15:18.863Z"
   },
   {
    "duration": 65,
    "start_time": "2022-01-25T16:15:18.884Z"
   },
   {
    "duration": 23,
    "start_time": "2022-01-25T16:15:18.951Z"
   },
   {
    "duration": 8,
    "start_time": "2022-01-25T16:15:18.976Z"
   },
   {
    "duration": 10,
    "start_time": "2022-01-25T16:15:18.986Z"
   },
   {
    "duration": 35,
    "start_time": "2022-01-25T16:15:18.999Z"
   },
   {
    "duration": 191,
    "start_time": "2022-01-25T16:15:19.038Z"
   },
   {
    "duration": 62,
    "start_time": "2022-01-25T16:15:19.232Z"
   },
   {
    "duration": 64,
    "start_time": "2022-01-25T16:15:19.297Z"
   },
   {
    "duration": 20,
    "start_time": "2022-01-25T16:15:19.369Z"
   },
   {
    "duration": 55,
    "start_time": "2022-01-25T16:15:19.392Z"
   },
   {
    "duration": 29,
    "start_time": "2022-01-25T16:15:19.449Z"
   },
   {
    "duration": 90,
    "start_time": "2022-01-25T16:15:19.481Z"
   },
   {
    "duration": 73,
    "start_time": "2022-01-25T16:15:19.574Z"
   },
   {
    "duration": 82,
    "start_time": "2022-01-25T16:15:19.650Z"
   },
   {
    "duration": 14,
    "start_time": "2022-01-25T16:15:19.735Z"
   },
   {
    "duration": 18,
    "start_time": "2022-01-25T16:15:19.752Z"
   },
   {
    "duration": 4,
    "start_time": "2022-01-25T16:15:19.773Z"
   },
   {
    "duration": 79,
    "start_time": "2022-01-25T16:15:19.780Z"
   },
   {
    "duration": 8,
    "start_time": "2022-01-25T16:15:19.862Z"
   },
   {
    "duration": 52,
    "start_time": "2022-01-25T16:15:30.524Z"
   },
   {
    "duration": 11,
    "start_time": "2022-01-25T16:15:37.020Z"
   },
   {
    "duration": 17,
    "start_time": "2022-01-25T16:15:38.193Z"
   },
   {
    "duration": 59,
    "start_time": "2022-01-25T16:16:12.024Z"
   },
   {
    "duration": 39,
    "start_time": "2022-01-25T16:16:16.555Z"
   },
   {
    "duration": 137,
    "start_time": "2022-01-25T16:17:41.388Z"
   },
   {
    "duration": 322,
    "start_time": "2022-01-25T16:18:02.121Z"
   },
   {
    "duration": 229,
    "start_time": "2022-01-25T16:18:24.909Z"
   },
   {
    "duration": 1555,
    "start_time": "2022-01-25T16:18:32.534Z"
   },
   {
    "duration": 500,
    "start_time": "2022-01-25T16:18:34.092Z"
   },
   {
    "duration": 38,
    "start_time": "2022-01-25T16:18:34.595Z"
   },
   {
    "duration": 6,
    "start_time": "2022-01-25T16:18:34.636Z"
   },
   {
    "duration": 147,
    "start_time": "2022-01-25T16:18:34.644Z"
   },
   {
    "duration": 50,
    "start_time": "2022-01-25T16:18:34.794Z"
   },
   {
    "duration": 6,
    "start_time": "2022-01-25T16:18:34.847Z"
   },
   {
    "duration": 41,
    "start_time": "2022-01-25T16:18:34.857Z"
   },
   {
    "duration": 6,
    "start_time": "2022-01-25T16:18:34.901Z"
   },
   {
    "duration": 117,
    "start_time": "2022-01-25T16:18:34.933Z"
   },
   {
    "duration": 36,
    "start_time": "2022-01-25T16:18:35.053Z"
   },
   {
    "duration": 6,
    "start_time": "2022-01-25T16:18:35.092Z"
   },
   {
    "duration": 51,
    "start_time": "2022-01-25T16:18:35.101Z"
   },
   {
    "duration": 17,
    "start_time": "2022-01-25T16:18:35.154Z"
   },
   {
    "duration": 8,
    "start_time": "2022-01-25T16:18:35.174Z"
   },
   {
    "duration": 93,
    "start_time": "2022-01-25T16:18:35.184Z"
   },
   {
    "duration": 7,
    "start_time": "2022-01-25T16:18:35.280Z"
   },
   {
    "duration": 44,
    "start_time": "2022-01-25T16:18:35.290Z"
   },
   {
    "duration": 21,
    "start_time": "2022-01-25T16:18:35.337Z"
   },
   {
    "duration": 26,
    "start_time": "2022-01-25T16:18:35.361Z"
   },
   {
    "duration": 42,
    "start_time": "2022-01-25T16:18:35.390Z"
   },
   {
    "duration": 12,
    "start_time": "2022-01-25T16:18:35.435Z"
   },
   {
    "duration": 9,
    "start_time": "2022-01-25T16:18:35.452Z"
   },
   {
    "duration": 186,
    "start_time": "2022-01-25T16:18:35.463Z"
   },
   {
    "duration": 58,
    "start_time": "2022-01-25T16:18:35.651Z"
   },
   {
    "duration": 44,
    "start_time": "2022-01-25T16:18:35.711Z"
   },
   {
    "duration": 17,
    "start_time": "2022-01-25T16:18:35.757Z"
   },
   {
    "duration": 20,
    "start_time": "2022-01-25T16:18:35.777Z"
   },
   {
    "duration": 53,
    "start_time": "2022-01-25T16:18:35.800Z"
   },
   {
    "duration": 83,
    "start_time": "2022-01-25T16:18:35.855Z"
   },
   {
    "duration": 51,
    "start_time": "2022-01-25T16:18:35.940Z"
   },
   {
    "duration": 70,
    "start_time": "2022-01-25T16:18:35.993Z"
   },
   {
    "duration": 118,
    "start_time": "2022-01-25T16:18:36.066Z"
   },
   {
    "duration": 393,
    "start_time": "2022-01-25T16:18:36.187Z"
   },
   {
    "duration": 3220,
    "start_time": "2022-01-25T16:18:33.363Z"
   },
   {
    "duration": 3220,
    "start_time": "2022-01-25T16:18:33.364Z"
   },
   {
    "duration": 3194,
    "start_time": "2022-01-25T16:18:33.392Z"
   },
   {
    "duration": 260,
    "start_time": "2022-01-25T16:18:44.236Z"
   },
   {
    "duration": 1672,
    "start_time": "2022-01-25T16:46:49.377Z"
   },
   {
    "duration": 560,
    "start_time": "2022-01-25T16:46:51.052Z"
   },
   {
    "duration": 49,
    "start_time": "2022-01-25T16:46:51.615Z"
   },
   {
    "duration": 6,
    "start_time": "2022-01-25T16:46:51.667Z"
   },
   {
    "duration": 169,
    "start_time": "2022-01-25T16:46:51.675Z"
   },
   {
    "duration": 41,
    "start_time": "2022-01-25T16:46:51.847Z"
   },
   {
    "duration": 5,
    "start_time": "2022-01-25T16:46:51.891Z"
   },
   {
    "duration": 71,
    "start_time": "2022-01-25T16:46:51.899Z"
   },
   {
    "duration": 6,
    "start_time": "2022-01-25T16:46:51.976Z"
   },
   {
    "duration": 134,
    "start_time": "2022-01-25T16:46:51.986Z"
   },
   {
    "duration": 51,
    "start_time": "2022-01-25T16:46:52.123Z"
   },
   {
    "duration": 8,
    "start_time": "2022-01-25T16:46:52.177Z"
   },
   {
    "duration": 68,
    "start_time": "2022-01-25T16:46:52.188Z"
   },
   {
    "duration": 18,
    "start_time": "2022-01-25T16:46:52.259Z"
   },
   {
    "duration": 7,
    "start_time": "2022-01-25T16:46:52.280Z"
   },
   {
    "duration": 101,
    "start_time": "2022-01-25T16:46:52.290Z"
   },
   {
    "duration": 8,
    "start_time": "2022-01-25T16:46:52.394Z"
   },
   {
    "duration": 46,
    "start_time": "2022-01-25T16:46:52.405Z"
   },
   {
    "duration": 20,
    "start_time": "2022-01-25T16:46:52.454Z"
   },
   {
    "duration": 57,
    "start_time": "2022-01-25T16:46:52.477Z"
   },
   {
    "duration": 19,
    "start_time": "2022-01-25T16:46:52.537Z"
   },
   {
    "duration": 11,
    "start_time": "2022-01-25T16:46:52.558Z"
   },
   {
    "duration": 6,
    "start_time": "2022-01-25T16:46:52.571Z"
   },
   {
    "duration": 207,
    "start_time": "2022-01-25T16:46:52.579Z"
   },
   {
    "duration": 72,
    "start_time": "2022-01-25T16:46:52.788Z"
   },
   {
    "duration": 35,
    "start_time": "2022-01-25T16:46:52.863Z"
   },
   {
    "duration": 55,
    "start_time": "2022-01-25T16:46:52.903Z"
   },
   {
    "duration": 22,
    "start_time": "2022-01-25T16:46:52.962Z"
   },
   {
    "duration": 62,
    "start_time": "2022-01-25T16:46:52.987Z"
   },
   {
    "duration": 81,
    "start_time": "2022-01-25T16:46:53.052Z"
   },
   {
    "duration": 68,
    "start_time": "2022-01-25T16:46:53.136Z"
   },
   {
    "duration": 436,
    "start_time": "2022-01-25T16:46:53.207Z"
   },
   {
    "duration": 267,
    "start_time": "2022-01-25T16:47:07.149Z"
   },
   {
    "duration": 31,
    "start_time": "2022-01-25T16:47:29.137Z"
   },
   {
    "duration": 234,
    "start_time": "2022-01-25T16:48:09.827Z"
   },
   {
    "duration": 6,
    "start_time": "2022-01-25T16:48:29.612Z"
   },
   {
    "duration": 1345,
    "start_time": "2022-01-25T16:51:13.879Z"
   },
   {
    "duration": 570,
    "start_time": "2022-01-25T16:51:15.227Z"
   },
   {
    "duration": 44,
    "start_time": "2022-01-25T16:51:15.800Z"
   },
   {
    "duration": 6,
    "start_time": "2022-01-25T16:51:15.847Z"
   },
   {
    "duration": 176,
    "start_time": "2022-01-25T16:51:15.856Z"
   },
   {
    "duration": 43,
    "start_time": "2022-01-25T16:51:16.034Z"
   },
   {
    "duration": 7,
    "start_time": "2022-01-25T16:51:16.080Z"
   },
   {
    "duration": 60,
    "start_time": "2022-01-25T16:51:16.091Z"
   },
   {
    "duration": 5,
    "start_time": "2022-01-25T16:51:16.154Z"
   },
   {
    "duration": 139,
    "start_time": "2022-01-25T16:51:16.162Z"
   },
   {
    "duration": 52,
    "start_time": "2022-01-25T16:51:16.303Z"
   },
   {
    "duration": 6,
    "start_time": "2022-01-25T16:51:16.358Z"
   },
   {
    "duration": 329,
    "start_time": "2022-01-25T16:51:16.366Z"
   },
   {
    "duration": 21,
    "start_time": "2022-01-25T16:51:16.697Z"
   },
   {
    "duration": 7,
    "start_time": "2022-01-25T16:51:16.720Z"
   },
   {
    "duration": 88,
    "start_time": "2022-01-25T16:51:16.730Z"
   },
   {
    "duration": 16,
    "start_time": "2022-01-25T16:51:16.821Z"
   },
   {
    "duration": 31,
    "start_time": "2022-01-25T16:51:16.840Z"
   },
   {
    "duration": 58,
    "start_time": "2022-01-25T16:51:16.874Z"
   },
   {
    "duration": 22,
    "start_time": "2022-01-25T16:51:16.935Z"
   },
   {
    "duration": 5,
    "start_time": "2022-01-25T16:51:16.959Z"
   },
   {
    "duration": 14,
    "start_time": "2022-01-25T16:51:16.967Z"
   },
   {
    "duration": 7,
    "start_time": "2022-01-25T16:51:16.989Z"
   },
   {
    "duration": 248,
    "start_time": "2022-01-25T16:51:17.035Z"
   },
   {
    "duration": 67,
    "start_time": "2022-01-25T16:51:17.286Z"
   },
   {
    "duration": 30,
    "start_time": "2022-01-25T16:51:17.355Z"
   },
   {
    "duration": 49,
    "start_time": "2022-01-25T16:51:17.387Z"
   },
   {
    "duration": 17,
    "start_time": "2022-01-25T16:51:17.438Z"
   },
   {
    "duration": 30,
    "start_time": "2022-01-25T16:51:17.458Z"
   },
   {
    "duration": 102,
    "start_time": "2022-01-25T16:51:17.491Z"
   },
   {
    "duration": 75,
    "start_time": "2022-01-25T16:51:17.596Z"
   },
   {
    "duration": 27,
    "start_time": "2022-01-25T16:51:17.674Z"
   },
   {
    "duration": 8,
    "start_time": "2022-01-25T16:51:57.418Z"
   },
   {
    "duration": 6,
    "start_time": "2022-01-25T16:52:10.379Z"
   },
   {
    "duration": 7,
    "start_time": "2022-01-25T16:52:27.482Z"
   },
   {
    "duration": 6,
    "start_time": "2022-01-25T16:52:43.037Z"
   },
   {
    "duration": 4,
    "start_time": "2022-01-25T16:52:53.938Z"
   },
   {
    "duration": 522,
    "start_time": "2022-01-25T16:52:53.945Z"
   },
   {
    "duration": 35,
    "start_time": "2022-01-25T16:52:54.469Z"
   },
   {
    "duration": 5,
    "start_time": "2022-01-25T16:52:54.507Z"
   },
   {
    "duration": 154,
    "start_time": "2022-01-25T16:52:54.515Z"
   },
   {
    "duration": 34,
    "start_time": "2022-01-25T16:52:54.671Z"
   },
   {
    "duration": 34,
    "start_time": "2022-01-25T16:52:54.707Z"
   },
   {
    "duration": 32,
    "start_time": "2022-01-25T16:52:54.746Z"
   },
   {
    "duration": 5,
    "start_time": "2022-01-25T16:52:54.781Z"
   },
   {
    "duration": 128,
    "start_time": "2022-01-25T16:52:54.789Z"
   },
   {
    "duration": 61,
    "start_time": "2022-01-25T16:52:54.920Z"
   },
   {
    "duration": 5,
    "start_time": "2022-01-25T16:52:54.984Z"
   },
   {
    "duration": 64,
    "start_time": "2022-01-25T16:52:54.992Z"
   },
   {
    "duration": 22,
    "start_time": "2022-01-25T16:52:55.059Z"
   },
   {
    "duration": 7,
    "start_time": "2022-01-25T16:52:55.084Z"
   },
   {
    "duration": 102,
    "start_time": "2022-01-25T16:52:55.094Z"
   },
   {
    "duration": 5,
    "start_time": "2022-01-25T16:52:55.199Z"
   },
   {
    "duration": 48,
    "start_time": "2022-01-25T16:52:55.207Z"
   },
   {
    "duration": 21,
    "start_time": "2022-01-25T16:52:55.262Z"
   },
   {
    "duration": 23,
    "start_time": "2022-01-25T16:52:55.285Z"
   },
   {
    "duration": 30,
    "start_time": "2022-01-25T16:52:55.310Z"
   },
   {
    "duration": 17,
    "start_time": "2022-01-25T16:52:55.343Z"
   },
   {
    "duration": 5,
    "start_time": "2022-01-25T16:52:55.365Z"
   },
   {
    "duration": 203,
    "start_time": "2022-01-25T16:52:55.373Z"
   },
   {
    "duration": 58,
    "start_time": "2022-01-25T16:52:55.578Z"
   },
   {
    "duration": 33,
    "start_time": "2022-01-25T16:52:55.639Z"
   },
   {
    "duration": 18,
    "start_time": "2022-01-25T16:52:55.674Z"
   },
   {
    "duration": 58,
    "start_time": "2022-01-25T16:52:55.694Z"
   },
   {
    "duration": 28,
    "start_time": "2022-01-25T16:52:55.754Z"
   },
   {
    "duration": 95,
    "start_time": "2022-01-25T16:52:55.784Z"
   },
   {
    "duration": 76,
    "start_time": "2022-01-25T16:52:55.882Z"
   },
   {
    "duration": 21,
    "start_time": "2022-01-25T16:52:55.961Z"
   },
   {
    "duration": 10,
    "start_time": "2022-01-25T16:54:24.871Z"
   },
   {
    "duration": 1383,
    "start_time": "2022-01-25T16:55:08.823Z"
   },
   {
    "duration": 530,
    "start_time": "2022-01-25T16:55:10.209Z"
   },
   {
    "duration": 71,
    "start_time": "2022-01-25T16:55:10.744Z"
   },
   {
    "duration": 7,
    "start_time": "2022-01-25T16:55:10.832Z"
   },
   {
    "duration": 151,
    "start_time": "2022-01-25T16:55:10.842Z"
   },
   {
    "duration": 54,
    "start_time": "2022-01-25T16:55:10.996Z"
   },
   {
    "duration": 7,
    "start_time": "2022-01-25T16:55:11.052Z"
   },
   {
    "duration": 100,
    "start_time": "2022-01-25T16:55:11.062Z"
   },
   {
    "duration": 19,
    "start_time": "2022-01-25T16:55:11.165Z"
   },
   {
    "duration": 166,
    "start_time": "2022-01-25T16:55:11.187Z"
   },
   {
    "duration": 40,
    "start_time": "2022-01-25T16:55:11.355Z"
   },
   {
    "duration": 6,
    "start_time": "2022-01-25T16:55:11.397Z"
   },
   {
    "duration": 59,
    "start_time": "2022-01-25T16:55:11.406Z"
   },
   {
    "duration": 29,
    "start_time": "2022-01-25T16:55:11.467Z"
   },
   {
    "duration": 42,
    "start_time": "2022-01-25T16:55:11.499Z"
   },
   {
    "duration": 114,
    "start_time": "2022-01-25T16:55:11.546Z"
   },
   {
    "duration": 8,
    "start_time": "2022-01-25T16:55:11.663Z"
   },
   {
    "duration": 22,
    "start_time": "2022-01-25T16:55:11.674Z"
   },
   {
    "duration": 54,
    "start_time": "2022-01-25T16:55:11.699Z"
   },
   {
    "duration": 6,
    "start_time": "2022-01-25T16:55:16.922Z"
   },
   {
    "duration": 6,
    "start_time": "2022-01-25T16:55:34.964Z"
   },
   {
    "duration": 344,
    "start_time": "2022-01-25T16:57:50.517Z"
   },
   {
    "duration": 1393,
    "start_time": "2022-01-25T16:58:07.633Z"
   },
   {
    "duration": 603,
    "start_time": "2022-01-25T16:58:09.029Z"
   },
   {
    "duration": 40,
    "start_time": "2022-01-25T16:58:09.636Z"
   },
   {
    "duration": 6,
    "start_time": "2022-01-25T16:58:09.679Z"
   },
   {
    "duration": 173,
    "start_time": "2022-01-25T16:58:09.689Z"
   },
   {
    "duration": 40,
    "start_time": "2022-01-25T16:58:09.864Z"
   },
   {
    "duration": 26,
    "start_time": "2022-01-25T16:58:09.906Z"
   },
   {
    "duration": 48,
    "start_time": "2022-01-25T16:58:09.936Z"
   },
   {
    "duration": 7,
    "start_time": "2022-01-25T16:58:09.989Z"
   },
   {
    "duration": 168,
    "start_time": "2022-01-25T16:58:10.000Z"
   },
   {
    "duration": 66,
    "start_time": "2022-01-25T16:58:10.171Z"
   },
   {
    "duration": 9,
    "start_time": "2022-01-25T16:58:10.240Z"
   },
   {
    "duration": 39,
    "start_time": "2022-01-25T16:58:10.252Z"
   },
   {
    "duration": 56,
    "start_time": "2022-01-25T16:58:10.294Z"
   },
   {
    "duration": 6,
    "start_time": "2022-01-25T16:58:10.354Z"
   },
   {
    "duration": 88,
    "start_time": "2022-01-25T16:58:10.364Z"
   },
   {
    "duration": 6,
    "start_time": "2022-01-25T16:58:10.454Z"
   },
   {
    "duration": 17,
    "start_time": "2022-01-25T16:58:10.463Z"
   },
   {
    "duration": 55,
    "start_time": "2022-01-25T16:58:10.482Z"
   },
   {
    "duration": 23,
    "start_time": "2022-01-25T16:58:10.540Z"
   },
   {
    "duration": 6,
    "start_time": "2022-01-25T16:58:10.565Z"
   },
   {
    "duration": 14,
    "start_time": "2022-01-25T16:58:10.575Z"
   },
   {
    "duration": 43,
    "start_time": "2022-01-25T16:58:10.592Z"
   },
   {
    "duration": 190,
    "start_time": "2022-01-25T16:58:10.637Z"
   },
   {
    "duration": 59,
    "start_time": "2022-01-25T16:58:10.833Z"
   },
   {
    "duration": 64,
    "start_time": "2022-01-25T16:58:10.895Z"
   },
   {
    "duration": 16,
    "start_time": "2022-01-25T16:58:10.964Z"
   },
   {
    "duration": 57,
    "start_time": "2022-01-25T16:58:10.983Z"
   },
   {
    "duration": 57,
    "start_time": "2022-01-25T16:58:11.045Z"
   },
   {
    "duration": 83,
    "start_time": "2022-01-25T16:58:11.105Z"
   },
   {
    "duration": 65,
    "start_time": "2022-01-25T16:58:11.190Z"
   },
   {
    "duration": 20,
    "start_time": "2022-01-25T16:58:11.257Z"
   },
   {
    "duration": 22,
    "start_time": "2022-01-25T16:58:11.279Z"
   },
   {
    "duration": 7,
    "start_time": "2022-01-25T16:58:11.303Z"
   },
   {
    "duration": 298,
    "start_time": "2022-01-25T17:01:15.744Z"
   },
   {
    "duration": 1455,
    "start_time": "2022-01-25T17:01:29.794Z"
   },
   {
    "duration": 571,
    "start_time": "2022-01-25T17:01:31.253Z"
   },
   {
    "duration": 46,
    "start_time": "2022-01-25T17:01:31.827Z"
   },
   {
    "duration": 4,
    "start_time": "2022-01-25T17:01:31.876Z"
   },
   {
    "duration": 167,
    "start_time": "2022-01-25T17:01:31.883Z"
   },
   {
    "duration": 38,
    "start_time": "2022-01-25T17:01:32.052Z"
   },
   {
    "duration": 5,
    "start_time": "2022-01-25T17:01:32.093Z"
   },
   {
    "duration": 63,
    "start_time": "2022-01-25T17:01:32.102Z"
   },
   {
    "duration": 4,
    "start_time": "2022-01-25T17:01:32.168Z"
   },
   {
    "duration": 138,
    "start_time": "2022-01-25T17:01:32.175Z"
   },
   {
    "duration": 52,
    "start_time": "2022-01-25T17:01:32.316Z"
   },
   {
    "duration": 9,
    "start_time": "2022-01-25T17:01:32.371Z"
   },
   {
    "duration": 62,
    "start_time": "2022-01-25T17:01:32.382Z"
   },
   {
    "duration": 19,
    "start_time": "2022-01-25T17:01:32.447Z"
   },
   {
    "duration": 4,
    "start_time": "2022-01-25T17:01:32.469Z"
   },
   {
    "duration": 88,
    "start_time": "2022-01-25T17:01:32.475Z"
   },
   {
    "duration": 6,
    "start_time": "2022-01-25T17:01:32.565Z"
   },
   {
    "duration": 23,
    "start_time": "2022-01-25T17:01:32.573Z"
   },
   {
    "duration": 52,
    "start_time": "2022-01-25T17:01:32.598Z"
   },
   {
    "duration": 41,
    "start_time": "2022-01-25T17:01:43.349Z"
   },
   {
    "duration": 1355,
    "start_time": "2022-01-25T17:04:23.401Z"
   },
   {
    "duration": 551,
    "start_time": "2022-01-25T17:04:24.759Z"
   },
   {
    "duration": 42,
    "start_time": "2022-01-25T17:04:25.313Z"
   },
   {
    "duration": 5,
    "start_time": "2022-01-25T17:04:25.358Z"
   },
   {
    "duration": 162,
    "start_time": "2022-01-25T17:04:25.365Z"
   },
   {
    "duration": 45,
    "start_time": "2022-01-25T17:04:25.533Z"
   },
   {
    "duration": 9,
    "start_time": "2022-01-25T17:04:25.581Z"
   },
   {
    "duration": 80,
    "start_time": "2022-01-25T17:04:25.592Z"
   },
   {
    "duration": 6,
    "start_time": "2022-01-25T17:04:25.676Z"
   },
   {
    "duration": 146,
    "start_time": "2022-01-25T17:04:25.685Z"
   },
   {
    "duration": 45,
    "start_time": "2022-01-25T17:04:25.834Z"
   },
   {
    "duration": 6,
    "start_time": "2022-01-25T17:04:25.881Z"
   },
   {
    "duration": 59,
    "start_time": "2022-01-25T17:04:25.890Z"
   },
   {
    "duration": 21,
    "start_time": "2022-01-25T17:04:25.952Z"
   },
   {
    "duration": 6,
    "start_time": "2022-01-25T17:04:25.976Z"
   },
   {
    "duration": 114,
    "start_time": "2022-01-25T17:04:25.985Z"
   },
   {
    "duration": 30,
    "start_time": "2022-01-25T17:04:26.102Z"
   },
   {
    "duration": 37,
    "start_time": "2022-01-25T17:04:26.135Z"
   },
   {
    "duration": 36,
    "start_time": "2022-01-25T17:04:26.175Z"
   },
   {
    "duration": 27,
    "start_time": "2022-01-25T17:04:26.234Z"
   },
   {
    "duration": 40,
    "start_time": "2022-01-25T17:04:26.265Z"
   },
   {
    "duration": 8,
    "start_time": "2022-01-25T17:04:26.334Z"
   },
   {
    "duration": 13,
    "start_time": "2022-01-25T17:04:26.346Z"
   },
   {
    "duration": 7,
    "start_time": "2022-01-25T17:04:26.362Z"
   },
   {
    "duration": 271,
    "start_time": "2022-01-25T17:04:26.373Z"
   },
   {
    "duration": 95,
    "start_time": "2022-01-25T17:04:26.647Z"
   },
   {
    "duration": 30,
    "start_time": "2022-01-25T17:04:26.747Z"
   },
   {
    "duration": 16,
    "start_time": "2022-01-25T17:04:26.780Z"
   },
   {
    "duration": 55,
    "start_time": "2022-01-25T17:04:26.799Z"
   },
   {
    "duration": 76,
    "start_time": "2022-01-25T17:04:26.857Z"
   },
   {
    "duration": 53,
    "start_time": "2022-01-25T17:04:26.935Z"
   },
   {
    "duration": 76,
    "start_time": "2022-01-25T17:04:26.990Z"
   },
   {
    "duration": 7,
    "start_time": "2022-01-25T17:04:27.069Z"
   },
   {
    "duration": 10,
    "start_time": "2022-01-25T17:04:27.079Z"
   },
   {
    "duration": 11,
    "start_time": "2022-01-25T17:10:11.510Z"
   },
   {
    "duration": 387,
    "start_time": "2022-01-25T17:10:13.770Z"
   },
   {
    "duration": 15,
    "start_time": "2022-01-25T17:10:32.319Z"
   },
   {
    "duration": 66,
    "start_time": "2022-01-25T17:10:33.988Z"
   },
   {
    "duration": 62,
    "start_time": "2022-01-25T17:10:51.121Z"
   },
   {
    "duration": 52,
    "start_time": "2022-01-25T17:12:32.851Z"
   },
   {
    "duration": 1440,
    "start_time": "2022-01-25T20:30:11.257Z"
   },
   {
    "duration": 593,
    "start_time": "2022-01-25T20:30:12.701Z"
   },
   {
    "duration": 41,
    "start_time": "2022-01-25T20:30:13.298Z"
   },
   {
    "duration": 7,
    "start_time": "2022-01-25T20:30:13.344Z"
   },
   {
    "duration": 154,
    "start_time": "2022-01-25T20:30:13.354Z"
   },
   {
    "duration": 58,
    "start_time": "2022-01-25T20:30:13.511Z"
   },
   {
    "duration": 7,
    "start_time": "2022-01-25T20:30:13.572Z"
   },
   {
    "duration": 30,
    "start_time": "2022-01-25T20:30:13.583Z"
   },
   {
    "duration": 7,
    "start_time": "2022-01-25T20:30:13.648Z"
   },
   {
    "duration": 120,
    "start_time": "2022-01-25T20:30:13.657Z"
   },
   {
    "duration": 37,
    "start_time": "2022-01-25T20:30:13.779Z"
   },
   {
    "duration": 6,
    "start_time": "2022-01-25T20:30:13.818Z"
   },
   {
    "duration": 24,
    "start_time": "2022-01-25T20:30:13.849Z"
   },
   {
    "duration": 18,
    "start_time": "2022-01-25T20:30:13.876Z"
   },
   {
    "duration": 5,
    "start_time": "2022-01-25T20:30:13.897Z"
   },
   {
    "duration": 92,
    "start_time": "2022-01-25T20:30:13.905Z"
   },
   {
    "duration": 6,
    "start_time": "2022-01-25T20:30:14.000Z"
   },
   {
    "duration": 42,
    "start_time": "2022-01-25T20:30:14.009Z"
   },
   {
    "duration": 21,
    "start_time": "2022-01-25T20:30:14.053Z"
   },
   {
    "duration": 23,
    "start_time": "2022-01-25T20:30:14.077Z"
   },
   {
    "duration": 60,
    "start_time": "2022-01-25T20:30:14.103Z"
   },
   {
    "duration": 4,
    "start_time": "2022-01-25T20:30:14.166Z"
   },
   {
    "duration": 8,
    "start_time": "2022-01-25T20:30:14.175Z"
   },
   {
    "duration": 9,
    "start_time": "2022-01-25T20:30:14.186Z"
   },
   {
    "duration": 191,
    "start_time": "2022-01-25T20:30:14.198Z"
   },
   {
    "duration": 71,
    "start_time": "2022-01-25T20:30:14.391Z"
   },
   {
    "duration": 31,
    "start_time": "2022-01-25T20:30:14.465Z"
   },
   {
    "duration": 17,
    "start_time": "2022-01-25T20:30:14.498Z"
   },
   {
    "duration": 53,
    "start_time": "2022-01-25T20:30:14.517Z"
   },
   {
    "duration": 83,
    "start_time": "2022-01-25T20:30:14.573Z"
   },
   {
    "duration": 53,
    "start_time": "2022-01-25T20:30:14.658Z"
   },
   {
    "duration": 65,
    "start_time": "2022-01-25T20:30:14.713Z"
   },
   {
    "duration": 7,
    "start_time": "2022-01-25T20:30:14.781Z"
   },
   {
    "duration": 18,
    "start_time": "2022-01-25T20:30:14.790Z"
   },
   {
    "duration": 20,
    "start_time": "2022-01-25T20:30:14.810Z"
   },
   {
    "duration": 15,
    "start_time": "2022-01-25T20:30:14.848Z"
   },
   {
    "duration": 58,
    "start_time": "2022-01-25T20:30:14.866Z"
   },
   {
    "duration": 52,
    "start_time": "2022-01-25T20:30:14.927Z"
   },
   {
    "duration": 52,
    "start_time": "2022-01-25T20:31:31.952Z"
   },
   {
    "duration": 51,
    "start_time": "2022-01-25T20:32:05.417Z"
   },
   {
    "duration": 47,
    "start_time": "2022-01-25T20:32:21.672Z"
   },
   {
    "duration": 49,
    "start_time": "2022-01-25T20:32:28.023Z"
   },
   {
    "duration": 4,
    "start_time": "2022-01-25T20:32:47.716Z"
   },
   {
    "duration": 820,
    "start_time": "2022-01-25T20:32:47.723Z"
   },
   {
    "duration": 38,
    "start_time": "2022-01-25T20:32:48.546Z"
   },
   {
    "duration": 5,
    "start_time": "2022-01-25T20:32:48.587Z"
   },
   {
    "duration": 159,
    "start_time": "2022-01-25T20:32:48.595Z"
   },
   {
    "duration": 35,
    "start_time": "2022-01-25T20:32:48.757Z"
   },
   {
    "duration": 6,
    "start_time": "2022-01-25T20:32:48.796Z"
   },
   {
    "duration": 66,
    "start_time": "2022-01-25T20:32:48.805Z"
   },
   {
    "duration": 7,
    "start_time": "2022-01-25T20:32:48.874Z"
   },
   {
    "duration": 151,
    "start_time": "2022-01-25T20:32:48.884Z"
   },
   {
    "duration": 46,
    "start_time": "2022-01-25T20:32:49.039Z"
   },
   {
    "duration": 6,
    "start_time": "2022-01-25T20:32:49.088Z"
   },
   {
    "duration": 59,
    "start_time": "2022-01-25T20:32:49.097Z"
   },
   {
    "duration": 21,
    "start_time": "2022-01-25T20:32:49.158Z"
   },
   {
    "duration": 5,
    "start_time": "2022-01-25T20:32:49.182Z"
   },
   {
    "duration": 96,
    "start_time": "2022-01-25T20:32:49.190Z"
   },
   {
    "duration": 6,
    "start_time": "2022-01-25T20:32:49.289Z"
   },
   {
    "duration": 17,
    "start_time": "2022-01-25T20:32:49.297Z"
   },
   {
    "duration": 21,
    "start_time": "2022-01-25T20:32:49.348Z"
   },
   {
    "duration": 32,
    "start_time": "2022-01-25T20:32:49.372Z"
   },
   {
    "duration": 52,
    "start_time": "2022-01-25T20:32:49.407Z"
   },
   {
    "duration": 5,
    "start_time": "2022-01-25T20:32:49.461Z"
   },
   {
    "duration": 14,
    "start_time": "2022-01-25T20:32:49.469Z"
   },
   {
    "duration": 8,
    "start_time": "2022-01-25T20:32:49.485Z"
   },
   {
    "duration": 199,
    "start_time": "2022-01-25T20:32:49.496Z"
   },
   {
    "duration": 66,
    "start_time": "2022-01-25T20:32:49.697Z"
   },
   {
    "duration": 29,
    "start_time": "2022-01-25T20:32:49.766Z"
   },
   {
    "duration": 17,
    "start_time": "2022-01-25T20:32:49.798Z"
   },
   {
    "duration": 25,
    "start_time": "2022-01-25T20:32:49.849Z"
   },
   {
    "duration": 80,
    "start_time": "2022-01-25T20:32:49.877Z"
   },
   {
    "duration": 50,
    "start_time": "2022-01-25T20:32:49.960Z"
   },
   {
    "duration": 84,
    "start_time": "2022-01-25T20:32:50.013Z"
   },
   {
    "duration": 534,
    "start_time": "2022-01-25T20:33:51.970Z"
   },
   {
    "duration": 282,
    "start_time": "2022-01-25T20:34:12.797Z"
   },
   {
    "duration": 35,
    "start_time": "2022-01-25T20:34:52.671Z"
   },
   {
    "duration": 1485,
    "start_time": "2022-01-25T20:35:36.936Z"
   },
   {
    "duration": 536,
    "start_time": "2022-01-25T20:35:38.424Z"
   },
   {
    "duration": 41,
    "start_time": "2022-01-25T20:35:38.964Z"
   },
   {
    "duration": 6,
    "start_time": "2022-01-25T20:35:39.008Z"
   },
   {
    "duration": 160,
    "start_time": "2022-01-25T20:35:39.016Z"
   },
   {
    "duration": 48,
    "start_time": "2022-01-25T20:35:39.179Z"
   },
   {
    "duration": 7,
    "start_time": "2022-01-25T20:35:39.248Z"
   },
   {
    "duration": 41,
    "start_time": "2022-01-25T20:35:39.260Z"
   },
   {
    "duration": 5,
    "start_time": "2022-01-25T20:35:39.304Z"
   },
   {
    "duration": 137,
    "start_time": "2022-01-25T20:35:39.312Z"
   },
   {
    "duration": 45,
    "start_time": "2022-01-25T20:35:39.452Z"
   },
   {
    "duration": 6,
    "start_time": "2022-01-25T20:35:39.500Z"
   },
   {
    "duration": 56,
    "start_time": "2022-01-25T20:35:39.509Z"
   },
   {
    "duration": 24,
    "start_time": "2022-01-25T20:35:39.568Z"
   },
   {
    "duration": 12,
    "start_time": "2022-01-25T20:35:39.595Z"
   },
   {
    "duration": 93,
    "start_time": "2022-01-25T20:35:39.610Z"
   },
   {
    "duration": 5,
    "start_time": "2022-01-25T20:35:39.706Z"
   },
   {
    "duration": 40,
    "start_time": "2022-01-25T20:35:39.715Z"
   },
   {
    "duration": 22,
    "start_time": "2022-01-25T20:35:39.758Z"
   },
   {
    "duration": 26,
    "start_time": "2022-01-25T20:35:39.783Z"
   },
   {
    "duration": 59,
    "start_time": "2022-01-25T20:35:39.812Z"
   },
   {
    "duration": 6,
    "start_time": "2022-01-25T20:35:39.874Z"
   },
   {
    "duration": 12,
    "start_time": "2022-01-25T20:35:39.885Z"
   },
   {
    "duration": 49,
    "start_time": "2022-01-25T20:35:39.901Z"
   },
   {
    "duration": 181,
    "start_time": "2022-01-25T20:35:39.953Z"
   },
   {
    "duration": 63,
    "start_time": "2022-01-25T20:35:40.136Z"
   },
   {
    "duration": 29,
    "start_time": "2022-01-25T20:35:40.202Z"
   },
   {
    "duration": 52,
    "start_time": "2022-01-25T20:52:30.311Z"
   },
   {
    "duration": 57,
    "start_time": "2022-01-25T20:52:44.002Z"
   },
   {
    "duration": 51,
    "start_time": "2022-01-25T20:53:19.616Z"
   },
   {
    "duration": 1477,
    "start_time": "2022-01-25T20:54:21.625Z"
   },
   {
    "duration": 525,
    "start_time": "2022-01-25T20:54:23.104Z"
   },
   {
    "duration": 42,
    "start_time": "2022-01-25T20:54:23.633Z"
   },
   {
    "duration": 7,
    "start_time": "2022-01-25T20:54:23.677Z"
   },
   {
    "duration": 177,
    "start_time": "2022-01-25T20:54:23.686Z"
   },
   {
    "duration": 40,
    "start_time": "2022-01-25T20:54:23.866Z"
   },
   {
    "duration": 6,
    "start_time": "2022-01-25T20:54:23.908Z"
   },
   {
    "duration": 62,
    "start_time": "2022-01-25T20:54:23.916Z"
   },
   {
    "duration": 5,
    "start_time": "2022-01-25T20:54:23.982Z"
   },
   {
    "duration": 127,
    "start_time": "2022-01-25T20:54:23.990Z"
   },
   {
    "duration": 48,
    "start_time": "2022-01-25T20:54:24.120Z"
   },
   {
    "duration": 5,
    "start_time": "2022-01-25T20:54:24.171Z"
   },
   {
    "duration": 27,
    "start_time": "2022-01-25T20:54:24.178Z"
   },
   {
    "duration": 49,
    "start_time": "2022-01-25T20:54:24.207Z"
   },
   {
    "duration": 7,
    "start_time": "2022-01-25T20:54:24.258Z"
   },
   {
    "duration": 94,
    "start_time": "2022-01-25T20:54:24.268Z"
   },
   {
    "duration": 9,
    "start_time": "2022-01-25T20:54:24.365Z"
   },
   {
    "duration": 21,
    "start_time": "2022-01-25T20:54:24.377Z"
   },
   {
    "duration": 62,
    "start_time": "2022-01-25T20:54:24.400Z"
   },
   {
    "duration": 26,
    "start_time": "2022-01-25T20:54:24.464Z"
   },
   {
    "duration": 22,
    "start_time": "2022-01-25T20:54:24.492Z"
   },
   {
    "duration": 35,
    "start_time": "2022-01-25T20:54:24.516Z"
   },
   {
    "duration": 10,
    "start_time": "2022-01-25T20:54:24.553Z"
   },
   {
    "duration": 6,
    "start_time": "2022-01-25T20:54:24.565Z"
   },
   {
    "duration": 192,
    "start_time": "2022-01-25T20:54:24.573Z"
   },
   {
    "duration": 64,
    "start_time": "2022-01-25T20:54:24.767Z"
   },
   {
    "duration": 31,
    "start_time": "2022-01-25T20:54:24.849Z"
   },
   {
    "duration": 17,
    "start_time": "2022-01-25T20:54:24.883Z"
   },
   {
    "duration": 60,
    "start_time": "2022-01-25T20:54:24.902Z"
   },
   {
    "duration": 61,
    "start_time": "2022-01-25T20:54:24.965Z"
   },
   {
    "duration": 72,
    "start_time": "2022-01-25T20:54:25.029Z"
   },
   {
    "duration": 79,
    "start_time": "2022-01-25T20:54:25.104Z"
   },
   {
    "duration": 6,
    "start_time": "2022-01-25T20:54:25.186Z"
   },
   {
    "duration": 13,
    "start_time": "2022-01-25T20:54:25.194Z"
   },
   {
    "duration": 381,
    "start_time": "2022-01-25T20:54:25.209Z"
   },
   {
    "duration": 1270,
    "start_time": "2022-01-25T20:54:54.158Z"
   },
   {
    "duration": 782,
    "start_time": "2022-01-25T20:54:55.437Z"
   },
   {
    "duration": 38,
    "start_time": "2022-01-25T20:54:56.222Z"
   },
   {
    "duration": 5,
    "start_time": "2022-01-25T20:54:56.263Z"
   },
   {
    "duration": 145,
    "start_time": "2022-01-25T20:54:56.271Z"
   },
   {
    "duration": 48,
    "start_time": "2022-01-25T20:54:56.418Z"
   },
   {
    "duration": 6,
    "start_time": "2022-01-25T20:54:56.469Z"
   },
   {
    "duration": 35,
    "start_time": "2022-01-25T20:54:56.477Z"
   },
   {
    "duration": 32,
    "start_time": "2022-01-25T20:54:56.516Z"
   },
   {
    "duration": 113,
    "start_time": "2022-01-25T20:54:56.551Z"
   },
   {
    "duration": 37,
    "start_time": "2022-01-25T20:54:56.667Z"
   },
   {
    "duration": 6,
    "start_time": "2022-01-25T20:54:56.707Z"
   },
   {
    "duration": 50,
    "start_time": "2022-01-25T20:54:56.715Z"
   },
   {
    "duration": 19,
    "start_time": "2022-01-25T20:54:56.767Z"
   },
   {
    "duration": 5,
    "start_time": "2022-01-25T20:54:56.789Z"
   },
   {
    "duration": 93,
    "start_time": "2022-01-25T20:54:56.797Z"
   },
   {
    "duration": 6,
    "start_time": "2022-01-25T20:54:56.892Z"
   },
   {
    "duration": 22,
    "start_time": "2022-01-25T20:54:56.900Z"
   },
   {
    "duration": 20,
    "start_time": "2022-01-25T20:54:56.948Z"
   },
   {
    "duration": 23,
    "start_time": "2022-01-25T20:54:56.970Z"
   },
   {
    "duration": 22,
    "start_time": "2022-01-25T20:54:56.995Z"
   },
   {
    "duration": 6,
    "start_time": "2022-01-25T20:54:57.050Z"
   },
   {
    "duration": 11,
    "start_time": "2022-01-25T20:54:57.059Z"
   },
   {
    "duration": 6,
    "start_time": "2022-01-25T20:54:57.073Z"
   },
   {
    "duration": 201,
    "start_time": "2022-01-25T20:54:57.082Z"
   },
   {
    "duration": 69,
    "start_time": "2022-01-25T20:54:57.286Z"
   },
   {
    "duration": 29,
    "start_time": "2022-01-25T20:54:57.359Z"
   },
   {
    "duration": 16,
    "start_time": "2022-01-25T20:54:57.390Z"
   },
   {
    "duration": 50,
    "start_time": "2022-01-25T20:54:57.409Z"
   },
   {
    "duration": 55,
    "start_time": "2022-01-25T20:54:57.462Z"
   },
   {
    "duration": 78,
    "start_time": "2022-01-25T20:54:57.519Z"
   },
   {
    "duration": 71,
    "start_time": "2022-01-25T20:54:57.600Z"
   },
   {
    "duration": 6,
    "start_time": "2022-01-25T20:54:57.673Z"
   },
   {
    "duration": 406,
    "start_time": "2022-01-25T20:54:57.681Z"
   },
   {
    "duration": 11,
    "start_time": "2022-01-25T20:55:26.606Z"
   },
   {
    "duration": 15,
    "start_time": "2022-01-25T20:55:27.741Z"
   },
   {
    "duration": 54,
    "start_time": "2022-01-25T20:55:28.280Z"
   },
   {
    "duration": 33,
    "start_time": "2022-01-25T20:55:31.889Z"
   },
   {
    "duration": 12,
    "start_time": "2022-01-25T20:56:46.510Z"
   },
   {
    "duration": 1373,
    "start_time": "2022-01-25T20:57:02.127Z"
   },
   {
    "duration": 537,
    "start_time": "2022-01-25T20:57:03.503Z"
   },
   {
    "duration": 39,
    "start_time": "2022-01-25T20:57:04.043Z"
   },
   {
    "duration": 6,
    "start_time": "2022-01-25T20:57:04.084Z"
   },
   {
    "duration": 158,
    "start_time": "2022-01-25T20:57:04.094Z"
   },
   {
    "duration": 40,
    "start_time": "2022-01-25T20:57:04.255Z"
   },
   {
    "duration": 9,
    "start_time": "2022-01-25T20:57:04.298Z"
   },
   {
    "duration": 70,
    "start_time": "2022-01-25T20:57:04.309Z"
   },
   {
    "duration": 5,
    "start_time": "2022-01-25T20:57:04.385Z"
   },
   {
    "duration": 131,
    "start_time": "2022-01-25T20:57:04.395Z"
   },
   {
    "duration": 41,
    "start_time": "2022-01-25T20:57:04.529Z"
   },
   {
    "duration": 6,
    "start_time": "2022-01-25T20:57:04.572Z"
   },
   {
    "duration": 27,
    "start_time": "2022-01-25T20:57:04.580Z"
   },
   {
    "duration": 50,
    "start_time": "2022-01-25T20:57:04.610Z"
   },
   {
    "duration": 5,
    "start_time": "2022-01-25T20:57:04.663Z"
   },
   {
    "duration": 79,
    "start_time": "2022-01-25T20:57:04.670Z"
   },
   {
    "duration": 5,
    "start_time": "2022-01-25T20:57:04.752Z"
   },
   {
    "duration": 17,
    "start_time": "2022-01-25T20:57:04.760Z"
   },
   {
    "duration": 20,
    "start_time": "2022-01-25T20:57:04.780Z"
   },
   {
    "duration": 62,
    "start_time": "2022-01-25T20:57:04.802Z"
   },
   {
    "duration": 28,
    "start_time": "2022-01-25T20:57:04.866Z"
   },
   {
    "duration": 5,
    "start_time": "2022-01-25T20:57:04.896Z"
   },
   {
    "duration": 12,
    "start_time": "2022-01-25T20:57:04.904Z"
   },
   {
    "duration": 33,
    "start_time": "2022-01-25T20:57:04.918Z"
   },
   {
    "duration": 166,
    "start_time": "2022-01-25T20:57:04.954Z"
   },
   {
    "duration": 60,
    "start_time": "2022-01-25T20:57:05.122Z"
   },
   {
    "duration": 28,
    "start_time": "2022-01-25T20:57:05.187Z"
   },
   {
    "duration": 41,
    "start_time": "2022-01-25T20:57:05.217Z"
   },
   {
    "duration": 22,
    "start_time": "2022-01-25T20:57:05.260Z"
   },
   {
    "duration": 76,
    "start_time": "2022-01-25T20:57:05.285Z"
   },
   {
    "duration": 56,
    "start_time": "2022-01-25T20:57:05.364Z"
   },
   {
    "duration": 67,
    "start_time": "2022-01-25T20:57:05.423Z"
   },
   {
    "duration": 5,
    "start_time": "2022-01-25T20:57:05.492Z"
   },
   {
    "duration": 13,
    "start_time": "2022-01-25T20:57:05.500Z"
   },
   {
    "duration": 44,
    "start_time": "2022-01-25T20:57:05.515Z"
   },
   {
    "duration": 47,
    "start_time": "2022-01-25T20:57:05.562Z"
   },
   {
    "duration": 57,
    "start_time": "2022-01-25T20:57:05.612Z"
   },
   {
    "duration": 1480,
    "start_time": "2022-01-25T20:57:53.335Z"
   },
   {
    "duration": 539,
    "start_time": "2022-01-25T20:57:54.818Z"
   },
   {
    "duration": 39,
    "start_time": "2022-01-25T20:57:55.360Z"
   },
   {
    "duration": 6,
    "start_time": "2022-01-25T20:57:55.402Z"
   },
   {
    "duration": 160,
    "start_time": "2022-01-25T20:57:55.411Z"
   },
   {
    "duration": 39,
    "start_time": "2022-01-25T20:57:55.573Z"
   },
   {
    "duration": 6,
    "start_time": "2022-01-25T20:57:55.615Z"
   },
   {
    "duration": 34,
    "start_time": "2022-01-25T20:57:55.650Z"
   },
   {
    "duration": 7,
    "start_time": "2022-01-25T20:57:55.688Z"
   },
   {
    "duration": 146,
    "start_time": "2022-01-25T20:57:55.697Z"
   },
   {
    "duration": 55,
    "start_time": "2022-01-25T20:57:55.849Z"
   },
   {
    "duration": 8,
    "start_time": "2022-01-25T20:57:55.907Z"
   },
   {
    "duration": 68,
    "start_time": "2022-01-25T20:57:55.918Z"
   },
   {
    "duration": 18,
    "start_time": "2022-01-25T20:57:55.988Z"
   },
   {
    "duration": 5,
    "start_time": "2022-01-25T20:57:56.009Z"
   },
   {
    "duration": 88,
    "start_time": "2022-01-25T20:57:56.016Z"
   },
   {
    "duration": 7,
    "start_time": "2022-01-25T20:57:56.106Z"
   },
   {
    "duration": 42,
    "start_time": "2022-01-25T20:57:56.116Z"
   },
   {
    "duration": 20,
    "start_time": "2022-01-25T20:57:56.160Z"
   },
   {
    "duration": 26,
    "start_time": "2022-01-25T20:57:56.183Z"
   },
   {
    "duration": 60,
    "start_time": "2022-01-25T20:57:56.212Z"
   },
   {
    "duration": 5,
    "start_time": "2022-01-25T20:57:56.275Z"
   },
   {
    "duration": 10,
    "start_time": "2022-01-25T20:57:56.285Z"
   },
   {
    "duration": 6,
    "start_time": "2022-01-25T20:57:56.297Z"
   },
   {
    "duration": 202,
    "start_time": "2022-01-25T20:57:56.305Z"
   },
   {
    "duration": 63,
    "start_time": "2022-01-25T20:57:56.510Z"
   },
   {
    "duration": 28,
    "start_time": "2022-01-25T20:57:56.576Z"
   },
   {
    "duration": 45,
    "start_time": "2022-01-25T20:57:56.606Z"
   },
   {
    "duration": 22,
    "start_time": "2022-01-25T20:57:56.654Z"
   },
   {
    "duration": 78,
    "start_time": "2022-01-25T20:57:56.678Z"
   },
   {
    "duration": 53,
    "start_time": "2022-01-25T20:57:56.758Z"
   },
   {
    "duration": 72,
    "start_time": "2022-01-25T20:57:56.814Z"
   },
   {
    "duration": 6,
    "start_time": "2022-01-25T20:57:56.888Z"
   },
   {
    "duration": 10,
    "start_time": "2022-01-25T20:57:56.896Z"
   },
   {
    "duration": 42,
    "start_time": "2022-01-25T20:57:56.909Z"
   },
   {
    "duration": 48,
    "start_time": "2022-01-25T20:57:56.953Z"
   },
   {
    "duration": 60,
    "start_time": "2022-01-25T20:57:57.003Z"
   },
   {
    "duration": 134,
    "start_time": "2022-01-25T21:21:23.532Z"
   },
   {
    "duration": 13,
    "start_time": "2022-01-25T21:21:29.504Z"
   },
   {
    "duration": 14,
    "start_time": "2022-01-25T21:21:43.359Z"
   },
   {
    "duration": 57,
    "start_time": "2022-01-25T21:21:48.242Z"
   },
   {
    "duration": 37,
    "start_time": "2022-01-25T21:21:51.821Z"
   },
   {
    "duration": 1362,
    "start_time": "2022-01-26T07:51:56.160Z"
   },
   {
    "duration": 544,
    "start_time": "2022-01-26T07:51:57.528Z"
   },
   {
    "duration": 41,
    "start_time": "2022-01-26T07:51:58.075Z"
   },
   {
    "duration": 5,
    "start_time": "2022-01-26T07:51:58.118Z"
   },
   {
    "duration": 146,
    "start_time": "2022-01-26T07:51:58.126Z"
   },
   {
    "duration": 36,
    "start_time": "2022-01-26T07:51:58.274Z"
   },
   {
    "duration": 6,
    "start_time": "2022-01-26T07:51:58.312Z"
   },
   {
    "duration": 59,
    "start_time": "2022-01-26T07:51:58.322Z"
   },
   {
    "duration": 6,
    "start_time": "2022-01-26T07:51:58.385Z"
   },
   {
    "duration": 136,
    "start_time": "2022-01-26T07:51:58.394Z"
   },
   {
    "duration": 47,
    "start_time": "2022-01-26T07:51:58.533Z"
   },
   {
    "duration": 5,
    "start_time": "2022-01-26T07:51:58.582Z"
   },
   {
    "duration": 24,
    "start_time": "2022-01-26T07:51:58.590Z"
   },
   {
    "duration": 51,
    "start_time": "2022-01-26T07:51:58.616Z"
   },
   {
    "duration": 5,
    "start_time": "2022-01-26T07:51:58.669Z"
   },
   {
    "duration": 63,
    "start_time": "2022-01-26T07:51:58.676Z"
   },
   {
    "duration": 7,
    "start_time": "2022-01-26T07:51:58.759Z"
   },
   {
    "duration": 17,
    "start_time": "2022-01-26T07:51:58.768Z"
   },
   {
    "duration": 20,
    "start_time": "2022-01-26T07:51:58.788Z"
   },
   {
    "duration": 66,
    "start_time": "2022-01-26T07:51:58.810Z"
   },
   {
    "duration": 21,
    "start_time": "2022-01-26T07:51:58.879Z"
   },
   {
    "duration": 6,
    "start_time": "2022-01-26T07:51:58.902Z"
   },
   {
    "duration": 51,
    "start_time": "2022-01-26T07:51:58.910Z"
   },
   {
    "duration": 5,
    "start_time": "2022-01-26T07:51:58.963Z"
   },
   {
    "duration": 175,
    "start_time": "2022-01-26T07:51:58.971Z"
   },
   {
    "duration": 53,
    "start_time": "2022-01-26T07:51:59.151Z"
   },
   {
    "duration": 51,
    "start_time": "2022-01-26T07:51:59.208Z"
   },
   {
    "duration": 18,
    "start_time": "2022-01-26T07:51:59.261Z"
   },
   {
    "duration": 22,
    "start_time": "2022-01-26T07:51:59.281Z"
   },
   {
    "duration": 84,
    "start_time": "2022-01-26T07:51:59.305Z"
   },
   {
    "duration": 67,
    "start_time": "2022-01-26T07:51:59.392Z"
   },
   {
    "duration": 51,
    "start_time": "2022-01-26T07:51:59.461Z"
   },
   {
    "duration": 7,
    "start_time": "2022-01-26T07:51:59.515Z"
   },
   {
    "duration": 515,
    "start_time": "2022-01-26T07:51:59.525Z"
   },
   {
    "duration": 10,
    "start_time": "2022-01-26T07:53:35.345Z"
   },
   {
    "duration": 25,
    "start_time": "2022-01-26T07:53:38.606Z"
   },
   {
    "duration": 52,
    "start_time": "2022-01-26T07:54:07.056Z"
   },
   {
    "duration": 786,
    "start_time": "2022-01-26T07:55:22.227Z"
   },
   {
    "duration": 322,
    "start_time": "2022-01-26T07:55:59.119Z"
   },
   {
    "duration": 518,
    "start_time": "2022-01-26T07:56:03.934Z"
   },
   {
    "duration": 12,
    "start_time": "2022-01-26T07:56:22.452Z"
   },
   {
    "duration": 21,
    "start_time": "2022-01-26T07:56:26.438Z"
   },
   {
    "duration": 14,
    "start_time": "2022-01-26T07:57:18.604Z"
   },
   {
    "duration": 23,
    "start_time": "2022-01-26T07:57:23.736Z"
   },
   {
    "duration": 8840,
    "start_time": "2022-01-26T07:57:43.794Z"
   },
   {
    "duration": 16,
    "start_time": "2022-01-26T07:58:05.837Z"
   },
   {
    "duration": 7,
    "start_time": "2022-01-26T07:58:08.841Z"
   },
   {
    "duration": 21,
    "start_time": "2022-01-26T07:58:37.547Z"
   },
   {
    "duration": 120,
    "start_time": "2022-01-26T07:59:30.624Z"
   },
   {
    "duration": 11,
    "start_time": "2022-01-26T07:59:41.819Z"
   },
   {
    "duration": 36,
    "start_time": "2022-01-26T07:59:45.683Z"
   },
   {
    "duration": 6,
    "start_time": "2022-01-26T07:59:52.339Z"
   },
   {
    "duration": 1385,
    "start_time": "2022-01-26T08:02:14.345Z"
   },
   {
    "duration": 635,
    "start_time": "2022-01-26T08:02:15.733Z"
   },
   {
    "duration": 45,
    "start_time": "2022-01-26T08:02:16.377Z"
   },
   {
    "duration": 5,
    "start_time": "2022-01-26T08:02:16.425Z"
   },
   {
    "duration": 148,
    "start_time": "2022-01-26T08:02:16.460Z"
   },
   {
    "duration": 63,
    "start_time": "2022-01-26T08:02:16.611Z"
   },
   {
    "duration": 6,
    "start_time": "2022-01-26T08:02:16.678Z"
   },
   {
    "duration": 43,
    "start_time": "2022-01-26T08:02:16.687Z"
   },
   {
    "duration": 26,
    "start_time": "2022-01-26T08:02:16.733Z"
   },
   {
    "duration": 124,
    "start_time": "2022-01-26T08:02:16.761Z"
   },
   {
    "duration": 38,
    "start_time": "2022-01-26T08:02:16.887Z"
   },
   {
    "duration": 5,
    "start_time": "2022-01-26T08:02:16.928Z"
   },
   {
    "duration": 25,
    "start_time": "2022-01-26T08:02:16.960Z"
   },
   {
    "duration": 20,
    "start_time": "2022-01-26T08:02:16.988Z"
   },
   {
    "duration": 5,
    "start_time": "2022-01-26T08:02:17.010Z"
   },
   {
    "duration": 94,
    "start_time": "2022-01-26T08:02:17.017Z"
   },
   {
    "duration": 7,
    "start_time": "2022-01-26T08:02:17.114Z"
   },
   {
    "duration": 44,
    "start_time": "2022-01-26T08:02:17.124Z"
   },
   {
    "duration": 18,
    "start_time": "2022-01-26T08:02:17.171Z"
   },
   {
    "duration": 23,
    "start_time": "2022-01-26T08:02:17.192Z"
   },
   {
    "duration": 59,
    "start_time": "2022-01-26T08:02:17.217Z"
   },
   {
    "duration": 5,
    "start_time": "2022-01-26T08:02:17.281Z"
   },
   {
    "duration": 14,
    "start_time": "2022-01-26T08:02:17.289Z"
   },
   {
    "duration": 5,
    "start_time": "2022-01-26T08:02:17.306Z"
   },
   {
    "duration": 190,
    "start_time": "2022-01-26T08:02:17.314Z"
   },
   {
    "duration": 65,
    "start_time": "2022-01-26T08:02:17.507Z"
   },
   {
    "duration": 29,
    "start_time": "2022-01-26T08:02:17.575Z"
   },
   {
    "duration": 18,
    "start_time": "2022-01-26T08:02:17.606Z"
   },
   {
    "duration": 50,
    "start_time": "2022-01-26T08:02:17.626Z"
   },
   {
    "duration": 57,
    "start_time": "2022-01-26T08:02:17.679Z"
   },
   {
    "duration": 72,
    "start_time": "2022-01-26T08:02:17.739Z"
   },
   {
    "duration": 73,
    "start_time": "2022-01-26T08:02:17.813Z"
   },
   {
    "duration": 32,
    "start_time": "2022-01-26T08:02:17.889Z"
   },
   {
    "duration": 6,
    "start_time": "2022-01-26T08:02:17.923Z"
   },
   {
    "duration": 58,
    "start_time": "2022-01-26T08:02:17.931Z"
   },
   {
    "duration": 523,
    "start_time": "2022-01-26T08:05:25.822Z"
   },
   {
    "duration": 47,
    "start_time": "2022-01-26T08:05:31.724Z"
   },
   {
    "duration": 90,
    "start_time": "2022-01-26T08:05:37.043Z"
   },
   {
    "duration": 48,
    "start_time": "2022-01-26T08:05:39.357Z"
   },
   {
    "duration": 42,
    "start_time": "2022-01-26T08:06:23.904Z"
   },
   {
    "duration": 53,
    "start_time": "2022-01-26T08:07:04.083Z"
   },
   {
    "duration": 672,
    "start_time": "2022-01-26T08:10:11.846Z"
   },
   {
    "duration": 19,
    "start_time": "2022-01-26T08:10:35.875Z"
   },
   {
    "duration": 1380,
    "start_time": "2022-01-26T08:11:24.940Z"
   },
   {
    "duration": 504,
    "start_time": "2022-01-26T08:11:26.323Z"
   },
   {
    "duration": 41,
    "start_time": "2022-01-26T08:11:26.830Z"
   },
   {
    "duration": 6,
    "start_time": "2022-01-26T08:11:26.874Z"
   },
   {
    "duration": 143,
    "start_time": "2022-01-26T08:11:26.883Z"
   },
   {
    "duration": 46,
    "start_time": "2022-01-26T08:11:27.028Z"
   },
   {
    "duration": 8,
    "start_time": "2022-01-26T08:11:27.077Z"
   },
   {
    "duration": 30,
    "start_time": "2022-01-26T08:11:27.088Z"
   },
   {
    "duration": 38,
    "start_time": "2022-01-26T08:11:27.124Z"
   },
   {
    "duration": 121,
    "start_time": "2022-01-26T08:11:27.166Z"
   },
   {
    "duration": 44,
    "start_time": "2022-01-26T08:11:27.289Z"
   },
   {
    "duration": 23,
    "start_time": "2022-01-26T08:11:27.336Z"
   },
   {
    "duration": 30,
    "start_time": "2022-01-26T08:11:27.362Z"
   },
   {
    "duration": 20,
    "start_time": "2022-01-26T08:11:27.395Z"
   },
   {
    "duration": 45,
    "start_time": "2022-01-26T08:11:27.418Z"
   },
   {
    "duration": 57,
    "start_time": "2022-01-26T08:11:27.465Z"
   },
   {
    "duration": 36,
    "start_time": "2022-01-26T08:11:27.525Z"
   },
   {
    "duration": 17,
    "start_time": "2022-01-26T08:11:27.563Z"
   },
   {
    "duration": 22,
    "start_time": "2022-01-26T08:11:27.582Z"
   },
   {
    "duration": 55,
    "start_time": "2022-01-26T08:11:27.606Z"
   },
   {
    "duration": 25,
    "start_time": "2022-01-26T08:11:27.664Z"
   },
   {
    "duration": 5,
    "start_time": "2022-01-26T08:11:27.691Z"
   },
   {
    "duration": 8,
    "start_time": "2022-01-26T08:11:27.698Z"
   },
   {
    "duration": 6,
    "start_time": "2022-01-26T08:11:27.708Z"
   },
   {
    "duration": 253,
    "start_time": "2022-01-26T08:11:27.716Z"
   },
   {
    "duration": 60,
    "start_time": "2022-01-26T08:11:27.971Z"
   },
   {
    "duration": 61,
    "start_time": "2022-01-26T08:11:28.036Z"
   },
   {
    "duration": 19,
    "start_time": "2022-01-26T08:11:28.100Z"
   },
   {
    "duration": 56,
    "start_time": "2022-01-26T08:11:28.121Z"
   },
   {
    "duration": 60,
    "start_time": "2022-01-26T08:11:28.180Z"
   },
   {
    "duration": 68,
    "start_time": "2022-01-26T08:11:28.242Z"
   },
   {
    "duration": 76,
    "start_time": "2022-01-26T08:11:28.312Z"
   },
   {
    "duration": 32,
    "start_time": "2022-01-26T08:11:28.390Z"
   },
   {
    "duration": 5,
    "start_time": "2022-01-26T08:11:28.424Z"
   },
   {
    "duration": 60,
    "start_time": "2022-01-26T08:11:28.432Z"
   },
   {
    "duration": 28,
    "start_time": "2022-01-26T08:11:43.199Z"
   },
   {
    "duration": 45,
    "start_time": "2022-01-26T08:12:22.262Z"
   },
   {
    "duration": 175,
    "start_time": "2022-01-26T08:23:44.242Z"
   },
   {
    "duration": 122,
    "start_time": "2022-01-26T08:24:06.688Z"
   },
   {
    "duration": 34,
    "start_time": "2022-01-26T08:24:33.795Z"
   },
   {
    "duration": 8,
    "start_time": "2022-01-26T08:24:48.535Z"
   },
   {
    "duration": 22,
    "start_time": "2022-01-26T08:25:03.019Z"
   },
   {
    "duration": 160,
    "start_time": "2022-01-26T08:25:29.377Z"
   },
   {
    "duration": 22,
    "start_time": "2022-01-26T08:25:34.638Z"
   },
   {
    "duration": 11,
    "start_time": "2022-01-26T08:25:40.732Z"
   },
   {
    "duration": 39,
    "start_time": "2022-01-26T08:25:41.526Z"
   },
   {
    "duration": -84,
    "start_time": "2022-01-26T08:38:56.833Z"
   },
   {
    "duration": 6,
    "start_time": "2022-01-26T08:39:00.226Z"
   },
   {
    "duration": 4,
    "start_time": "2022-01-26T08:39:30.696Z"
   },
   {
    "duration": 6,
    "start_time": "2022-01-26T08:39:42.946Z"
   },
   {
    "duration": 356,
    "start_time": "2022-01-26T08:39:49.317Z"
   },
   {
    "duration": 6,
    "start_time": "2022-01-26T08:40:08.158Z"
   },
   {
    "duration": 10,
    "start_time": "2022-01-26T08:40:21.510Z"
   },
   {
    "duration": 6,
    "start_time": "2022-01-26T08:40:35.818Z"
   },
   {
    "duration": 367,
    "start_time": "2022-01-26T08:41:38.065Z"
   },
   {
    "duration": 10,
    "start_time": "2022-01-26T08:41:57.990Z"
   },
   {
    "duration": 4,
    "start_time": "2022-01-26T08:43:22.669Z"
   },
   {
    "duration": 5,
    "start_time": "2022-01-26T08:43:44.981Z"
   },
   {
    "duration": 4,
    "start_time": "2022-01-26T08:43:51.285Z"
   },
   {
    "duration": 6,
    "start_time": "2022-01-26T08:43:56.651Z"
   },
   {
    "duration": 6,
    "start_time": "2022-01-26T09:08:41.637Z"
   },
   {
    "duration": 5,
    "start_time": "2022-01-26T09:08:58.553Z"
   },
   {
    "duration": 8,
    "start_time": "2022-01-26T09:09:10.423Z"
   },
   {
    "duration": 7,
    "start_time": "2022-01-26T09:10:42.110Z"
   },
   {
    "duration": 24,
    "start_time": "2022-01-26T09:21:36.883Z"
   },
   {
    "duration": 889,
    "start_time": "2022-01-26T09:22:49.618Z"
   },
   {
    "duration": 741,
    "start_time": "2022-01-26T09:23:58.567Z"
   },
   {
    "duration": 98,
    "start_time": "2022-01-26T09:26:57.749Z"
   },
   {
    "duration": 96,
    "start_time": "2022-01-26T09:27:05.383Z"
   },
   {
    "duration": 14,
    "start_time": "2022-01-26T09:30:50.633Z"
   },
   {
    "duration": 40,
    "start_time": "2022-01-26T09:30:53.002Z"
   },
   {
    "duration": 6,
    "start_time": "2022-01-26T09:31:29.550Z"
   },
   {
    "duration": 39,
    "start_time": "2022-01-26T09:33:00.666Z"
   },
   {
    "duration": 45,
    "start_time": "2022-01-26T09:33:28.612Z"
   },
   {
    "duration": 367,
    "start_time": "2022-01-26T09:33:47.653Z"
   },
   {
    "duration": 43,
    "start_time": "2022-01-26T09:33:57.432Z"
   },
   {
    "duration": 10,
    "start_time": "2022-01-26T09:34:05.549Z"
   },
   {
    "duration": 41,
    "start_time": "2022-01-26T09:34:31.983Z"
   },
   {
    "duration": 15,
    "start_time": "2022-01-26T09:34:43.324Z"
   },
   {
    "duration": 16,
    "start_time": "2022-01-26T09:39:58.610Z"
   },
   {
    "duration": 23,
    "start_time": "2022-01-26T09:41:42.026Z"
   },
   {
    "duration": 478,
    "start_time": "2022-01-26T09:50:42.668Z"
   },
   {
    "duration": 19,
    "start_time": "2022-01-26T09:51:53.277Z"
   },
   {
    "duration": 15,
    "start_time": "2022-01-26T09:51:57.367Z"
   },
   {
    "duration": 6,
    "start_time": "2022-01-26T09:52:01.670Z"
   },
   {
    "duration": 75,
    "start_time": "2022-01-26T09:52:04.785Z"
   },
   {
    "duration": 1414,
    "start_time": "2022-01-26T09:52:21.421Z"
   },
   {
    "duration": 528,
    "start_time": "2022-01-26T09:52:22.838Z"
   },
   {
    "duration": 38,
    "start_time": "2022-01-26T09:52:23.370Z"
   },
   {
    "duration": 5,
    "start_time": "2022-01-26T09:52:23.411Z"
   },
   {
    "duration": 147,
    "start_time": "2022-01-26T09:52:23.418Z"
   },
   {
    "duration": 39,
    "start_time": "2022-01-26T09:52:23.567Z"
   },
   {
    "duration": 9,
    "start_time": "2022-01-26T09:52:23.609Z"
   },
   {
    "duration": 66,
    "start_time": "2022-01-26T09:52:23.621Z"
   },
   {
    "duration": 6,
    "start_time": "2022-01-26T09:52:23.691Z"
   },
   {
    "duration": 127,
    "start_time": "2022-01-26T09:52:23.701Z"
   },
   {
    "duration": 55,
    "start_time": "2022-01-26T09:52:23.830Z"
   },
   {
    "duration": 7,
    "start_time": "2022-01-26T09:52:23.888Z"
   },
   {
    "duration": 26,
    "start_time": "2022-01-26T09:52:23.898Z"
   },
   {
    "duration": 47,
    "start_time": "2022-01-26T09:52:23.927Z"
   },
   {
    "duration": 6,
    "start_time": "2022-01-26T09:52:23.977Z"
   },
   {
    "duration": 90,
    "start_time": "2022-01-26T09:52:23.986Z"
   },
   {
    "duration": 7,
    "start_time": "2022-01-26T09:52:24.079Z"
   },
   {
    "duration": 19,
    "start_time": "2022-01-26T09:52:24.089Z"
   },
   {
    "duration": 60,
    "start_time": "2022-01-26T09:52:24.111Z"
   },
   {
    "duration": 26,
    "start_time": "2022-01-26T09:52:24.174Z"
   },
   {
    "duration": 23,
    "start_time": "2022-01-26T09:52:24.202Z"
   },
   {
    "duration": 34,
    "start_time": "2022-01-26T09:52:24.227Z"
   },
   {
    "duration": 9,
    "start_time": "2022-01-26T09:52:24.264Z"
   },
   {
    "duration": 5,
    "start_time": "2022-01-26T09:52:24.276Z"
   },
   {
    "duration": 193,
    "start_time": "2022-01-26T09:52:24.283Z"
   },
   {
    "duration": 57,
    "start_time": "2022-01-26T09:52:24.479Z"
   },
   {
    "duration": 58,
    "start_time": "2022-01-26T09:52:24.541Z"
   },
   {
    "duration": 7,
    "start_time": "2022-01-26T09:52:24.602Z"
   },
   {
    "duration": 49,
    "start_time": "2022-01-26T09:52:24.611Z"
   },
   {
    "duration": 23,
    "start_time": "2022-01-26T09:52:24.662Z"
   },
   {
    "duration": 79,
    "start_time": "2022-01-26T09:52:24.687Z"
   },
   {
    "duration": 55,
    "start_time": "2022-01-26T09:52:24.768Z"
   },
   {
    "duration": 71,
    "start_time": "2022-01-26T09:52:24.825Z"
   },
   {
    "duration": 28,
    "start_time": "2022-01-26T09:52:24.899Z"
   },
   {
    "duration": 523,
    "start_time": "2022-01-26T09:52:24.929Z"
   },
   {
    "duration": -64,
    "start_time": "2022-01-26T09:52:25.519Z"
   },
   {
    "duration": -64,
    "start_time": "2022-01-26T09:52:25.521Z"
   },
   {
    "duration": -64,
    "start_time": "2022-01-26T09:52:25.522Z"
   },
   {
    "duration": -64,
    "start_time": "2022-01-26T09:52:25.523Z"
   },
   {
    "duration": -85,
    "start_time": "2022-01-26T09:52:25.546Z"
   },
   {
    "duration": -87,
    "start_time": "2022-01-26T09:52:25.549Z"
   },
   {
    "duration": 92,
    "start_time": "2022-01-26T09:53:04.384Z"
   },
   {
    "duration": 96,
    "start_time": "2022-01-26T09:53:29.711Z"
   },
   {
    "duration": 12,
    "start_time": "2022-01-26T09:53:32.097Z"
   },
   {
    "duration": 11,
    "start_time": "2022-01-26T09:53:32.560Z"
   },
   {
    "duration": 6,
    "start_time": "2022-01-26T09:53:33.279Z"
   },
   {
    "duration": 44,
    "start_time": "2022-01-26T09:53:34.023Z"
   },
   {
    "duration": 20,
    "start_time": "2022-01-26T09:53:37.519Z"
   },
   {
    "duration": 28,
    "start_time": "2022-01-26T09:53:39.018Z"
   },
   {
    "duration": 22,
    "start_time": "2022-01-26T09:56:12.316Z"
   },
   {
    "duration": 24,
    "start_time": "2022-01-26T09:56:20.044Z"
   },
   {
    "duration": 94,
    "start_time": "2022-01-26T09:56:22.179Z"
   },
   {
    "duration": 12,
    "start_time": "2022-01-26T09:56:24.165Z"
   },
   {
    "duration": 12,
    "start_time": "2022-01-26T09:56:25.096Z"
   },
   {
    "duration": 6,
    "start_time": "2022-01-26T09:56:25.684Z"
   },
   {
    "duration": 48,
    "start_time": "2022-01-26T09:56:27.189Z"
   },
   {
    "duration": 1173,
    "start_time": "2022-01-26T12:56:33.595Z"
   },
   {
    "duration": 431,
    "start_time": "2022-01-26T12:56:34.770Z"
   },
   {
    "duration": 30,
    "start_time": "2022-01-26T12:56:35.206Z"
   },
   {
    "duration": 4,
    "start_time": "2022-01-26T12:56:35.238Z"
   },
   {
    "duration": 134,
    "start_time": "2022-01-26T12:56:35.244Z"
   },
   {
    "duration": 37,
    "start_time": "2022-01-26T12:56:35.379Z"
   },
   {
    "duration": 6,
    "start_time": "2022-01-26T12:56:35.418Z"
   },
   {
    "duration": 30,
    "start_time": "2022-01-26T12:56:35.427Z"
   },
   {
    "duration": 4,
    "start_time": "2022-01-26T12:56:35.459Z"
   },
   {
    "duration": 107,
    "start_time": "2022-01-26T12:56:35.465Z"
   },
   {
    "duration": 44,
    "start_time": "2022-01-26T12:56:35.574Z"
   },
   {
    "duration": 6,
    "start_time": "2022-01-26T12:56:35.620Z"
   },
   {
    "duration": 36,
    "start_time": "2022-01-26T12:56:35.628Z"
   },
   {
    "duration": 15,
    "start_time": "2022-01-26T12:56:35.666Z"
   },
   {
    "duration": 17,
    "start_time": "2022-01-26T12:56:35.683Z"
   },
   {
    "duration": 61,
    "start_time": "2022-01-26T12:56:35.702Z"
   },
   {
    "duration": 4,
    "start_time": "2022-01-26T12:56:35.765Z"
   },
   {
    "duration": 26,
    "start_time": "2022-01-26T12:56:35.771Z"
   },
   {
    "duration": 14,
    "start_time": "2022-01-26T12:56:35.799Z"
   },
   {
    "duration": 32,
    "start_time": "2022-01-26T12:56:35.815Z"
   },
   {
    "duration": 23,
    "start_time": "2022-01-26T12:56:35.849Z"
   },
   {
    "duration": 10,
    "start_time": "2022-01-26T12:56:35.874Z"
   },
   {
    "duration": 19,
    "start_time": "2022-01-26T12:56:35.885Z"
   },
   {
    "duration": 6,
    "start_time": "2022-01-26T12:56:35.905Z"
   },
   {
    "duration": 145,
    "start_time": "2022-01-26T12:56:35.913Z"
   },
   {
    "duration": 55,
    "start_time": "2022-01-26T12:56:36.061Z"
   },
   {
    "duration": 33,
    "start_time": "2022-01-26T12:56:36.119Z"
   },
   {
    "duration": 5,
    "start_time": "2022-01-26T12:56:36.154Z"
   },
   {
    "duration": 45,
    "start_time": "2022-01-26T12:56:36.162Z"
   },
   {
    "duration": 17,
    "start_time": "2022-01-26T12:56:36.209Z"
   },
   {
    "duration": 47,
    "start_time": "2022-01-26T12:56:36.227Z"
   },
   {
    "duration": 58,
    "start_time": "2022-01-26T12:56:36.276Z"
   },
   {
    "duration": 38,
    "start_time": "2022-01-26T12:56:36.336Z"
   },
   {
    "duration": 39,
    "start_time": "2022-01-26T12:56:36.376Z"
   },
   {
    "duration": 51,
    "start_time": "2022-01-26T12:56:36.417Z"
   },
   {
    "duration": 32,
    "start_time": "2022-01-26T12:56:36.470Z"
   },
   {
    "duration": 14,
    "start_time": "2022-01-26T12:56:36.503Z"
   },
   {
    "duration": 9,
    "start_time": "2022-01-26T12:56:36.518Z"
   },
   {
    "duration": 34,
    "start_time": "2022-01-26T12:56:36.528Z"
   },
   {
    "duration": 14,
    "start_time": "2022-01-26T12:56:36.564Z"
   },
   {
    "duration": 36,
    "start_time": "2022-01-26T12:56:36.579Z"
   },
   {
    "duration": 4550,
    "start_time": "2022-01-26T12:56:52.162Z"
   },
   {
    "duration": 4,
    "start_time": "2022-01-26T12:57:00.724Z"
   },
   {
    "duration": 186,
    "start_time": "2022-01-26T12:57:23.234Z"
   },
   {
    "duration": 8,
    "start_time": "2022-01-26T12:57:28.196Z"
   },
   {
    "duration": 9,
    "start_time": "2022-01-26T12:57:37.742Z"
   },
   {
    "duration": 8,
    "start_time": "2022-01-26T12:57:50.691Z"
   },
   {
    "duration": 7,
    "start_time": "2022-01-26T12:58:43.543Z"
   },
   {
    "duration": 8,
    "start_time": "2022-01-26T12:59:30.279Z"
   },
   {
    "duration": 8,
    "start_time": "2022-01-26T13:00:37.316Z"
   },
   {
    "duration": 7,
    "start_time": "2022-01-26T13:00:48.690Z"
   },
   {
    "duration": 1433,
    "start_time": "2022-01-27T10:07:31.239Z"
   },
   {
    "duration": 548,
    "start_time": "2022-01-27T10:07:32.675Z"
   },
   {
    "duration": 39,
    "start_time": "2022-01-27T10:07:33.227Z"
   },
   {
    "duration": 5,
    "start_time": "2022-01-27T10:07:33.269Z"
   },
   {
    "duration": 143,
    "start_time": "2022-01-27T10:07:33.276Z"
   },
   {
    "duration": 51,
    "start_time": "2022-01-27T10:07:33.422Z"
   },
   {
    "duration": 6,
    "start_time": "2022-01-27T10:07:33.475Z"
   },
   {
    "duration": 33,
    "start_time": "2022-01-27T10:07:33.483Z"
   },
   {
    "duration": 5,
    "start_time": "2022-01-27T10:07:33.520Z"
   },
   {
    "duration": 149,
    "start_time": "2022-01-27T10:07:33.527Z"
   },
   {
    "duration": 37,
    "start_time": "2022-01-27T10:07:33.678Z"
   },
   {
    "duration": 5,
    "start_time": "2022-01-27T10:07:33.718Z"
   },
   {
    "duration": 57,
    "start_time": "2022-01-27T10:07:33.726Z"
   },
   {
    "duration": 18,
    "start_time": "2022-01-27T10:07:33.785Z"
   },
   {
    "duration": 8,
    "start_time": "2022-01-27T10:07:33.805Z"
   },
   {
    "duration": 92,
    "start_time": "2022-01-27T10:07:33.816Z"
   },
   {
    "duration": 7,
    "start_time": "2022-01-27T10:07:33.910Z"
   },
   {
    "duration": 18,
    "start_time": "2022-01-27T10:07:33.920Z"
   },
   {
    "duration": 49,
    "start_time": "2022-01-27T10:07:33.941Z"
   },
   {
    "duration": 26,
    "start_time": "2022-01-27T10:07:33.993Z"
   },
   {
    "duration": 59,
    "start_time": "2022-01-27T10:07:34.021Z"
   },
   {
    "duration": 7,
    "start_time": "2022-01-27T10:07:34.082Z"
   },
   {
    "duration": 9,
    "start_time": "2022-01-27T10:07:34.091Z"
   },
   {
    "duration": 8,
    "start_time": "2022-01-27T10:07:34.103Z"
   },
   {
    "duration": 5,
    "start_time": "2022-01-27T10:07:34.113Z"
   },
   {
    "duration": 205,
    "start_time": "2022-01-27T10:07:34.120Z"
   },
   {
    "duration": 75,
    "start_time": "2022-01-27T10:07:34.329Z"
   },
   {
    "duration": 64,
    "start_time": "2022-01-27T10:07:34.406Z"
   },
   {
    "duration": 8,
    "start_time": "2022-01-27T10:07:34.474Z"
   },
   {
    "duration": 18,
    "start_time": "2022-01-27T10:07:34.484Z"
   },
   {
    "duration": 22,
    "start_time": "2022-01-27T10:07:34.505Z"
   },
   {
    "duration": 95,
    "start_time": "2022-01-27T10:07:34.530Z"
   },
   {
    "duration": 55,
    "start_time": "2022-01-27T10:08:12.181Z"
   },
   {
    "duration": 54,
    "start_time": "2022-01-27T10:08:21.025Z"
   },
   {
    "duration": 41,
    "start_time": "2022-01-27T10:16:18.893Z"
   },
   {
    "duration": 9,
    "start_time": "2022-01-27T10:47:53.263Z"
   },
   {
    "duration": 51,
    "start_time": "2022-01-27T10:48:55.489Z"
   },
   {
    "duration": 36,
    "start_time": "2022-01-27T10:48:57.171Z"
   },
   {
    "duration": 97,
    "start_time": "2022-01-27T10:48:58.246Z"
   },
   {
    "duration": 12,
    "start_time": "2022-01-27T10:48:59.122Z"
   },
   {
    "duration": 13,
    "start_time": "2022-01-27T10:48:59.447Z"
   },
   {
    "duration": 8,
    "start_time": "2022-01-27T10:48:59.767Z"
   },
   {
    "duration": 50,
    "start_time": "2022-01-27T10:49:00.142Z"
   },
   {
    "duration": 20,
    "start_time": "2022-01-27T10:49:01.421Z"
   },
   {
    "duration": 27,
    "start_time": "2022-01-27T10:49:02.158Z"
   },
   {
    "duration": 11,
    "start_time": "2022-01-27T10:49:04.301Z"
   },
   {
    "duration": 110,
    "start_time": "2022-01-27T10:50:27.017Z"
   },
   {
    "duration": 123,
    "start_time": "2022-01-27T10:50:36.200Z"
   },
   {
    "duration": 86,
    "start_time": "2022-01-27T10:53:26.918Z"
   },
   {
    "duration": 89,
    "start_time": "2022-01-27T10:53:37.451Z"
   },
   {
    "duration": 100,
    "start_time": "2022-01-27T10:53:43.557Z"
   },
   {
    "duration": 103,
    "start_time": "2022-01-27T10:53:48.395Z"
   },
   {
    "duration": 99,
    "start_time": "2022-01-27T10:54:31.831Z"
   },
   {
    "duration": 108,
    "start_time": "2022-01-27T10:54:57.587Z"
   },
   {
    "duration": 197,
    "start_time": "2022-01-27T10:55:06.187Z"
   },
   {
    "duration": 146,
    "start_time": "2022-01-27T10:56:58.564Z"
   },
   {
    "duration": 106,
    "start_time": "2022-01-27T10:59:22.107Z"
   },
   {
    "duration": 98,
    "start_time": "2022-01-27T10:59:41.614Z"
   },
   {
    "duration": 749,
    "start_time": "2022-01-27T10:59:47.286Z"
   },
   {
    "duration": 1279,
    "start_time": "2022-01-27T11:00:08.381Z"
   },
   {
    "duration": 1058,
    "start_time": "2022-01-27T11:00:40.145Z"
   },
   {
    "duration": 9,
    "start_time": "2022-01-27T11:02:13.035Z"
   },
   {
    "duration": 156,
    "start_time": "2022-01-27T11:02:27.010Z"
   },
   {
    "duration": 890,
    "start_time": "2022-01-27T11:02:30.591Z"
   },
   {
    "duration": 8,
    "start_time": "2022-01-27T11:04:00.430Z"
   },
   {
    "duration": 15,
    "start_time": "2022-01-27T11:04:11.240Z"
   },
   {
    "duration": 438,
    "start_time": "2022-01-27T11:04:20.039Z"
   },
   {
    "duration": 285,
    "start_time": "2022-01-27T11:04:41.617Z"
   },
   {
    "duration": 92,
    "start_time": "2022-01-27T11:04:48.059Z"
   },
   {
    "duration": 14,
    "start_time": "2022-01-27T11:04:54.820Z"
   },
   {
    "duration": 267,
    "start_time": "2022-01-27T11:05:10.586Z"
   },
   {
    "duration": 16,
    "start_time": "2022-01-27T11:07:23.063Z"
   },
   {
    "duration": 17,
    "start_time": "2022-01-27T11:35:53.823Z"
   },
   {
    "duration": 307,
    "start_time": "2022-01-27T11:36:08.905Z"
   },
   {
    "duration": 290,
    "start_time": "2022-01-27T11:36:27.305Z"
   },
   {
    "duration": 431,
    "start_time": "2022-01-27T11:51:58.731Z"
   },
   {
    "duration": 18,
    "start_time": "2022-01-27T11:56:26.472Z"
   },
   {
    "duration": 410,
    "start_time": "2022-01-27T11:57:05.464Z"
   },
   {
    "duration": 456,
    "start_time": "2022-01-27T12:05:55.081Z"
   },
   {
    "duration": 14,
    "start_time": "2022-01-27T12:21:42.707Z"
   },
   {
    "duration": 51,
    "start_time": "2022-01-27T12:21:46.563Z"
   },
   {
    "duration": 9,
    "start_time": "2022-01-27T12:28:00.507Z"
   },
   {
    "duration": 383,
    "start_time": "2022-01-27T12:31:04.975Z"
   },
   {
    "duration": 423,
    "start_time": "2022-01-27T12:31:12.339Z"
   },
   {
    "duration": 303,
    "start_time": "2022-01-27T12:35:07.210Z"
   },
   {
    "duration": 297,
    "start_time": "2022-01-27T12:35:11.251Z"
   },
   {
    "duration": 334,
    "start_time": "2022-01-27T12:36:11.868Z"
   },
   {
    "duration": 221,
    "start_time": "2022-01-27T12:36:30.365Z"
   },
   {
    "duration": 265,
    "start_time": "2022-01-27T12:37:08.773Z"
   },
   {
    "duration": 201,
    "start_time": "2022-01-27T12:39:00.125Z"
   },
   {
    "duration": 584,
    "start_time": "2022-01-27T12:39:28.933Z"
   },
   {
    "duration": 54743,
    "start_time": "2022-01-27T12:48:45.395Z"
   },
   {
    "duration": 56164,
    "start_time": "2022-01-27T12:50:54.943Z"
   },
   {
    "duration": 57944,
    "start_time": "2022-01-27T12:52:14.950Z"
   },
   {
    "duration": 55730,
    "start_time": "2022-01-27T12:55:09.308Z"
   },
   {
    "duration": 868,
    "start_time": "2022-01-27T12:56:05.040Z"
   },
   {
    "duration": 340,
    "start_time": "2022-01-27T12:57:36.152Z"
   },
   {
    "duration": 522,
    "start_time": "2022-01-27T13:01:01.366Z"
   },
   {
    "duration": 294,
    "start_time": "2022-01-27T13:01:11.172Z"
   },
   {
    "duration": 646,
    "start_time": "2022-01-27T13:03:07.847Z"
   },
   {
    "duration": 522,
    "start_time": "2022-01-27T13:03:11.822Z"
   },
   {
    "duration": 625,
    "start_time": "2022-01-27T13:03:28.022Z"
   },
   {
    "duration": 573,
    "start_time": "2022-01-27T13:04:30.329Z"
   },
   {
    "duration": 560,
    "start_time": "2022-01-27T13:04:59.653Z"
   },
   {
    "duration": 752,
    "start_time": "2022-01-27T13:06:37.373Z"
   },
   {
    "duration": 713,
    "start_time": "2022-01-27T13:06:53.244Z"
   },
   {
    "duration": 764,
    "start_time": "2022-01-27T13:07:30.052Z"
   },
   {
    "duration": 1547,
    "start_time": "2022-01-27T13:07:37.258Z"
   },
   {
    "duration": 796,
    "start_time": "2022-01-27T13:08:14.924Z"
   },
   {
    "duration": 721,
    "start_time": "2022-01-27T13:08:34.119Z"
   },
   {
    "duration": 680,
    "start_time": "2022-01-27T13:08:44.082Z"
   },
   {
    "duration": 708,
    "start_time": "2022-01-27T13:08:53.581Z"
   },
   {
    "duration": 855,
    "start_time": "2022-01-27T13:09:47.624Z"
   },
   {
    "duration": 782,
    "start_time": "2022-01-27T13:10:03.061Z"
   },
   {
    "duration": 772,
    "start_time": "2022-01-27T13:10:21.757Z"
   },
   {
    "duration": 893,
    "start_time": "2022-01-27T13:10:32.831Z"
   },
   {
    "duration": 835,
    "start_time": "2022-01-27T13:10:50.989Z"
   },
   {
    "duration": 820,
    "start_time": "2022-01-27T13:11:01.897Z"
   },
   {
    "duration": 1286,
    "start_time": "2022-01-27T13:15:46.591Z"
   },
   {
    "duration": 1249,
    "start_time": "2022-01-27T13:15:54.391Z"
   },
   {
    "duration": 997,
    "start_time": "2022-01-27T13:18:12.316Z"
   },
   {
    "duration": 1053,
    "start_time": "2022-01-27T13:18:25.838Z"
   },
   {
    "duration": 128,
    "start_time": "2022-01-27T13:20:16.669Z"
   },
   {
    "duration": 1030,
    "start_time": "2022-01-27T13:20:20.580Z"
   },
   {
    "duration": 289,
    "start_time": "2022-01-27T13:20:43.560Z"
   },
   {
    "duration": 18,
    "start_time": "2022-01-27T13:22:09.198Z"
   },
   {
    "duration": 360,
    "start_time": "2022-01-27T13:22:10.682Z"
   },
   {
    "duration": 965,
    "start_time": "2022-01-27T13:22:55.389Z"
   },
   {
    "duration": 841,
    "start_time": "2022-01-27T13:23:02.718Z"
   },
   {
    "duration": 1144,
    "start_time": "2022-01-27T13:23:58.567Z"
   },
   {
    "duration": 1056,
    "start_time": "2022-01-27T13:24:08.137Z"
   },
   {
    "duration": 1084,
    "start_time": "2022-01-27T13:24:18.644Z"
   },
   {
    "duration": 799,
    "start_time": "2022-01-27T13:24:29.860Z"
   },
   {
    "duration": 101,
    "start_time": "2022-01-27T13:26:37.374Z"
   },
   {
    "duration": 1132,
    "start_time": "2022-01-27T13:26:45.066Z"
   },
   {
    "duration": 815,
    "start_time": "2022-01-27T13:27:09.118Z"
   },
   {
    "duration": 947,
    "start_time": "2022-01-27T13:28:53.826Z"
   },
   {
    "duration": 807,
    "start_time": "2022-01-27T13:29:03.572Z"
   },
   {
    "duration": 930,
    "start_time": "2022-01-27T13:29:40.025Z"
   },
   {
    "duration": 890,
    "start_time": "2022-01-27T13:29:49.451Z"
   },
   {
    "duration": 775,
    "start_time": "2022-01-27T13:29:56.281Z"
   },
   {
    "duration": 812,
    "start_time": "2022-01-27T13:30:04.773Z"
   },
   {
    "duration": 1966,
    "start_time": "2022-01-27T13:31:27.978Z"
   },
   {
    "duration": 1005,
    "start_time": "2022-01-27T13:32:24.016Z"
   },
   {
    "duration": 1823,
    "start_time": "2022-01-27T13:32:36.640Z"
   },
   {
    "duration": 955,
    "start_time": "2022-01-27T13:32:51.731Z"
   },
   {
    "duration": 1085,
    "start_time": "2022-01-27T13:33:01.671Z"
   },
   {
    "duration": 961,
    "start_time": "2022-01-27T13:33:07.817Z"
   },
   {
    "duration": 950,
    "start_time": "2022-01-27T13:33:16.284Z"
   },
   {
    "duration": 1161,
    "start_time": "2022-01-27T13:33:57.472Z"
   },
   {
    "duration": 977,
    "start_time": "2022-01-27T13:34:09.918Z"
   },
   {
    "duration": 1132,
    "start_time": "2022-01-27T13:34:14.890Z"
   },
   {
    "duration": 1391,
    "start_time": "2022-01-27T13:34:24.773Z"
   },
   {
    "duration": 2110,
    "start_time": "2022-01-27T13:34:36.859Z"
   },
   {
    "duration": 1082,
    "start_time": "2022-01-27T13:34:51.590Z"
   },
   {
    "duration": 1181,
    "start_time": "2022-01-27T13:35:47.614Z"
   },
   {
    "duration": 802,
    "start_time": "2022-01-27T13:36:37.220Z"
   },
   {
    "duration": 812,
    "start_time": "2022-01-27T13:36:46.614Z"
   },
   {
    "duration": 828,
    "start_time": "2022-01-27T13:37:14.956Z"
   },
   {
    "duration": 852,
    "start_time": "2022-01-27T13:37:33.321Z"
   },
   {
    "duration": 967,
    "start_time": "2022-01-27T13:38:46.502Z"
   },
   {
    "duration": 748,
    "start_time": "2022-01-27T13:38:53.365Z"
   },
   {
    "duration": 822,
    "start_time": "2022-01-27T13:38:59.289Z"
   },
   {
    "duration": 1106,
    "start_time": "2022-01-27T13:39:11.604Z"
   },
   {
    "duration": 848,
    "start_time": "2022-01-27T13:41:01.358Z"
   },
   {
    "duration": 793,
    "start_time": "2022-01-27T13:41:10.798Z"
   },
   {
    "duration": 1409,
    "start_time": "2022-01-27T13:43:14.617Z"
   },
   {
    "duration": 1451,
    "start_time": "2022-01-27T13:43:50.142Z"
   },
   {
    "duration": 1265,
    "start_time": "2022-01-27T13:44:17.404Z"
   },
   {
    "duration": 1022,
    "start_time": "2022-01-27T13:44:48.434Z"
   },
   {
    "duration": 1012,
    "start_time": "2022-01-27T13:45:18.845Z"
   },
   {
    "duration": 720,
    "start_time": "2022-01-27T13:45:27.949Z"
   },
   {
    "duration": 1685,
    "start_time": "2022-01-27T13:45:51.023Z"
   },
   {
    "duration": 1484,
    "start_time": "2022-01-27T13:46:27.873Z"
   },
   {
    "duration": 2575,
    "start_time": "2022-01-27T13:47:03.660Z"
   },
   {
    "duration": 1845,
    "start_time": "2022-01-27T13:47:17.607Z"
   },
   {
    "duration": 2193,
    "start_time": "2022-01-27T13:48:44.344Z"
   },
   {
    "duration": 2032,
    "start_time": "2022-01-27T13:48:52.622Z"
   },
   {
    "duration": 2531,
    "start_time": "2022-01-27T13:49:06.060Z"
   },
   {
    "duration": 2876,
    "start_time": "2022-01-27T13:49:20.612Z"
   },
   {
    "duration": 2522,
    "start_time": "2022-01-27T13:54:21.957Z"
   },
   {
    "duration": 2582,
    "start_time": "2022-01-27T13:54:35.794Z"
   },
   {
    "duration": 2769,
    "start_time": "2022-01-27T13:56:32.141Z"
   },
   {
    "duration": 6,
    "start_time": "2022-01-27T14:04:47.902Z"
   },
   {
    "duration": 284,
    "start_time": "2022-01-27T14:05:00.196Z"
   },
   {
    "duration": 283,
    "start_time": "2022-01-27T14:05:04.708Z"
   },
   {
    "duration": 295,
    "start_time": "2022-01-27T14:05:54.195Z"
   },
   {
    "duration": 349,
    "start_time": "2022-01-27T14:06:04.681Z"
   },
   {
    "duration": 90,
    "start_time": "2022-01-27T14:07:17.341Z"
   },
   {
    "duration": 521,
    "start_time": "2022-01-27T14:07:26.777Z"
   },
   {
    "duration": 366,
    "start_time": "2022-01-27T14:08:09.450Z"
   },
   {
    "duration": 442,
    "start_time": "2022-01-27T14:11:45.938Z"
   },
   {
    "duration": 301,
    "start_time": "2022-01-27T14:12:38.542Z"
   },
   {
    "duration": 276,
    "start_time": "2022-01-27T14:13:00.731Z"
   },
   {
    "duration": 314,
    "start_time": "2022-01-27T14:14:02.693Z"
   },
   {
    "duration": 54,
    "start_time": "2022-01-27T14:14:18.434Z"
   },
   {
    "duration": 7,
    "start_time": "2022-01-27T14:14:35.071Z"
   },
   {
    "duration": 415,
    "start_time": "2022-01-27T14:15:48.003Z"
   },
   {
    "duration": 318,
    "start_time": "2022-01-27T14:16:01.805Z"
   },
   {
    "duration": 293,
    "start_time": "2022-01-27T14:16:16.875Z"
   },
   {
    "duration": 1460,
    "start_time": "2022-01-27T14:16:37.291Z"
   },
   {
    "duration": 521,
    "start_time": "2022-01-27T14:16:38.754Z"
   },
   {
    "duration": 40,
    "start_time": "2022-01-27T14:16:39.278Z"
   },
   {
    "duration": 7,
    "start_time": "2022-01-27T14:16:39.323Z"
   },
   {
    "duration": 167,
    "start_time": "2022-01-27T14:16:39.333Z"
   },
   {
    "duration": 69,
    "start_time": "2022-01-27T14:16:39.504Z"
   },
   {
    "duration": 9,
    "start_time": "2022-01-27T14:16:39.576Z"
   },
   {
    "duration": 32,
    "start_time": "2022-01-27T14:16:39.590Z"
   },
   {
    "duration": 5,
    "start_time": "2022-01-27T14:16:39.625Z"
   },
   {
    "duration": 165,
    "start_time": "2022-01-27T14:16:39.632Z"
   },
   {
    "duration": 44,
    "start_time": "2022-01-27T14:16:39.800Z"
   },
   {
    "duration": 9,
    "start_time": "2022-01-27T14:16:39.871Z"
   },
   {
    "duration": 42,
    "start_time": "2022-01-27T14:16:39.883Z"
   },
   {
    "duration": 51,
    "start_time": "2022-01-27T14:16:39.928Z"
   },
   {
    "duration": 5,
    "start_time": "2022-01-27T14:16:39.981Z"
   },
   {
    "duration": 97,
    "start_time": "2022-01-27T14:16:39.988Z"
   },
   {
    "duration": 8,
    "start_time": "2022-01-27T14:16:40.087Z"
   },
   {
    "duration": 24,
    "start_time": "2022-01-27T14:16:40.098Z"
   },
   {
    "duration": 55,
    "start_time": "2022-01-27T14:16:40.125Z"
   },
   {
    "duration": 27,
    "start_time": "2022-01-27T14:16:40.183Z"
   },
   {
    "duration": 57,
    "start_time": "2022-01-27T14:16:40.212Z"
   },
   {
    "duration": 6,
    "start_time": "2022-01-27T14:16:40.272Z"
   },
   {
    "duration": 10,
    "start_time": "2022-01-27T14:16:40.283Z"
   },
   {
    "duration": 306,
    "start_time": "2022-01-27T14:16:40.296Z"
   },
   {
    "duration": 10,
    "start_time": "2022-01-27T14:16:40.604Z"
   },
   {
    "duration": 14,
    "start_time": "2022-01-27T14:16:40.617Z"
   },
   {
    "duration": 193,
    "start_time": "2022-01-27T14:16:40.634Z"
   },
   {
    "duration": 69,
    "start_time": "2022-01-27T14:16:40.829Z"
   },
   {
    "duration": 74,
    "start_time": "2022-01-27T14:16:40.902Z"
   },
   {
    "duration": 7,
    "start_time": "2022-01-27T14:16:40.978Z"
   },
   {
    "duration": 19,
    "start_time": "2022-01-27T14:16:40.988Z"
   },
   {
    "duration": 61,
    "start_time": "2022-01-27T14:16:41.010Z"
   },
   {
    "duration": 66,
    "start_time": "2022-01-27T14:16:41.074Z"
   },
   {
    "duration": 76,
    "start_time": "2022-01-27T14:16:41.142Z"
   },
   {
    "duration": 70,
    "start_time": "2022-01-27T14:16:41.221Z"
   },
   {
    "duration": 43,
    "start_time": "2022-01-27T14:16:41.294Z"
   },
   {
    "duration": 129,
    "start_time": "2022-01-27T14:16:41.340Z"
   },
   {
    "duration": 13,
    "start_time": "2022-01-27T14:16:41.472Z"
   },
   {
    "duration": 14,
    "start_time": "2022-01-27T14:16:41.488Z"
   },
   {
    "duration": 6,
    "start_time": "2022-01-27T14:16:41.505Z"
   },
   {
    "duration": 84,
    "start_time": "2022-01-27T14:16:41.514Z"
   },
   {
    "duration": 20,
    "start_time": "2022-01-27T14:16:41.600Z"
   },
   {
    "duration": 55,
    "start_time": "2022-01-27T14:16:41.623Z"
   },
   {
    "duration": 22,
    "start_time": "2022-01-27T14:16:41.681Z"
   },
   {
    "duration": 402,
    "start_time": "2022-01-27T14:16:41.706Z"
   },
   {
    "duration": 67,
    "start_time": "2022-01-27T14:16:42.111Z"
   },
   {
    "duration": 2529,
    "start_time": "2022-01-27T14:16:42.180Z"
   },
   {
    "duration": 467,
    "start_time": "2022-01-27T14:16:44.712Z"
   },
   {
    "duration": 11,
    "start_time": "2022-01-27T14:18:31.633Z"
   },
   {
    "duration": 10,
    "start_time": "2022-01-27T14:18:42.978Z"
   },
   {
    "duration": 20,
    "start_time": "2022-01-27T14:20:47.677Z"
   },
   {
    "duration": 10,
    "start_time": "2022-01-27T14:21:14.176Z"
   },
   {
    "duration": 2422,
    "start_time": "2022-01-27T14:21:26.331Z"
   },
   {
    "duration": 2615,
    "start_time": "2022-01-27T14:21:53.398Z"
   },
   {
    "duration": 2450,
    "start_time": "2022-01-27T14:22:15.118Z"
   },
   {
    "duration": 1397,
    "start_time": "2022-01-27T14:33:32.139Z"
   },
   {
    "duration": 527,
    "start_time": "2022-01-27T14:33:33.539Z"
   },
   {
    "duration": 41,
    "start_time": "2022-01-27T14:33:34.069Z"
   },
   {
    "duration": 5,
    "start_time": "2022-01-27T14:33:34.113Z"
   },
   {
    "duration": 160,
    "start_time": "2022-01-27T14:33:34.121Z"
   },
   {
    "duration": 40,
    "start_time": "2022-01-27T14:33:34.283Z"
   },
   {
    "duration": 6,
    "start_time": "2022-01-27T14:33:34.325Z"
   },
   {
    "duration": 59,
    "start_time": "2022-01-27T14:33:34.335Z"
   },
   {
    "duration": 5,
    "start_time": "2022-01-27T14:33:34.397Z"
   },
   {
    "duration": 129,
    "start_time": "2022-01-27T14:33:34.404Z"
   },
   {
    "duration": 46,
    "start_time": "2022-01-27T14:33:34.535Z"
   },
   {
    "duration": 6,
    "start_time": "2022-01-27T14:33:34.583Z"
   },
   {
    "duration": 26,
    "start_time": "2022-01-27T14:33:34.591Z"
   },
   {
    "duration": 52,
    "start_time": "2022-01-27T14:33:34.619Z"
   },
   {
    "duration": 5,
    "start_time": "2022-01-27T14:33:34.673Z"
   },
   {
    "duration": 61,
    "start_time": "2022-01-27T14:33:34.680Z"
   },
   {
    "duration": 28,
    "start_time": "2022-01-27T14:33:34.744Z"
   },
   {
    "duration": 18,
    "start_time": "2022-01-27T14:33:34.775Z"
   },
   {
    "duration": 19,
    "start_time": "2022-01-27T14:33:34.796Z"
   },
   {
    "duration": 62,
    "start_time": "2022-01-27T14:33:34.818Z"
   },
   {
    "duration": 24,
    "start_time": "2022-01-27T14:33:34.883Z"
   },
   {
    "duration": 8,
    "start_time": "2022-01-27T14:33:34.910Z"
   },
   {
    "duration": 51,
    "start_time": "2022-01-27T14:33:34.925Z"
   },
   {
    "duration": 263,
    "start_time": "2022-01-27T14:33:34.980Z"
   },
   {
    "duration": 25,
    "start_time": "2022-01-27T14:33:35.245Z"
   },
   {
    "duration": 6,
    "start_time": "2022-01-27T14:33:35.272Z"
   },
   {
    "duration": 180,
    "start_time": "2022-01-27T14:33:35.280Z"
   },
   {
    "duration": 64,
    "start_time": "2022-01-27T14:33:35.463Z"
   },
   {
    "duration": 71,
    "start_time": "2022-01-27T14:33:35.530Z"
   },
   {
    "duration": 8,
    "start_time": "2022-01-27T14:33:35.603Z"
   },
   {
    "duration": 55,
    "start_time": "2022-01-27T14:33:35.614Z"
   },
   {
    "duration": 25,
    "start_time": "2022-01-27T14:33:35.672Z"
   },
   {
    "duration": 94,
    "start_time": "2022-01-27T14:33:35.700Z"
   },
   {
    "duration": 74,
    "start_time": "2022-01-27T14:33:35.797Z"
   },
   {
    "duration": 55,
    "start_time": "2022-01-27T14:33:35.874Z"
   },
   {
    "duration": 87,
    "start_time": "2022-01-27T14:33:35.932Z"
   },
   {
    "duration": 114,
    "start_time": "2022-01-27T14:33:36.021Z"
   },
   {
    "duration": 12,
    "start_time": "2022-01-27T14:33:36.137Z"
   },
   {
    "duration": 29,
    "start_time": "2022-01-27T14:33:36.151Z"
   },
   {
    "duration": 6,
    "start_time": "2022-01-27T14:33:36.182Z"
   },
   {
    "duration": 79,
    "start_time": "2022-01-27T14:33:36.190Z"
   },
   {
    "duration": 20,
    "start_time": "2022-01-27T14:33:36.272Z"
   },
   {
    "duration": 28,
    "start_time": "2022-01-27T14:33:36.294Z"
   },
   {
    "duration": 58,
    "start_time": "2022-01-27T14:33:36.325Z"
   },
   {
    "duration": 387,
    "start_time": "2022-01-27T14:33:36.386Z"
   },
   {
    "duration": 58,
    "start_time": "2022-01-27T14:33:36.775Z"
   },
   {
    "duration": 2691,
    "start_time": "2022-01-27T14:33:36.835Z"
   },
   {
    "duration": 7389,
    "start_time": "2022-01-27T17:24:00.889Z"
   },
   {
    "duration": 112,
    "start_time": "2022-01-27T17:24:17.974Z"
   },
   {
    "duration": 30,
    "start_time": "2022-01-27T17:24:25.331Z"
   },
   {
    "duration": 28,
    "start_time": "2022-01-27T17:24:39.261Z"
   },
   {
    "duration": 2746,
    "start_time": "2022-01-27T17:32:13.727Z"
   },
   {
    "duration": 265,
    "start_time": "2022-01-27T17:39:47.627Z"
   },
   {
    "duration": 302,
    "start_time": "2022-01-27T17:39:54.709Z"
   },
   {
    "duration": 280,
    "start_time": "2022-01-27T17:42:05.007Z"
   },
   {
    "duration": 11,
    "start_time": "2022-01-27T17:42:23.455Z"
   },
   {
    "duration": 483,
    "start_time": "2022-01-27T17:43:44.326Z"
   },
   {
    "duration": 453,
    "start_time": "2022-01-27T17:43:54.717Z"
   },
   {
    "duration": 449,
    "start_time": "2022-01-27T17:44:02.821Z"
   },
   {
    "duration": 484,
    "start_time": "2022-01-27T17:44:07.577Z"
   },
   {
    "duration": 1110,
    "start_time": "2022-01-27T17:45:45.001Z"
   },
   {
    "duration": 10,
    "start_time": "2022-01-27T17:45:52.208Z"
   },
   {
    "duration": 9,
    "start_time": "2022-01-27T18:07:14.729Z"
   },
   {
    "duration": 281,
    "start_time": "2022-01-27T18:08:04.254Z"
   },
   {
    "duration": 753,
    "start_time": "2022-01-27T18:08:45.444Z"
   },
   {
    "duration": 284,
    "start_time": "2022-01-27T18:45:27.239Z"
   },
   {
    "duration": 339,
    "start_time": "2022-01-27T18:46:24.489Z"
   },
   {
    "duration": 714,
    "start_time": "2022-01-27T18:46:33.235Z"
   },
   {
    "duration": 286,
    "start_time": "2022-01-27T18:48:22.029Z"
   },
   {
    "duration": 293,
    "start_time": "2022-01-27T20:11:15.550Z"
   },
   {
    "duration": 265,
    "start_time": "2022-01-27T20:11:22.893Z"
   },
   {
    "duration": 10,
    "start_time": "2022-01-27T20:11:46.477Z"
   },
   {
    "duration": 9,
    "start_time": "2022-01-27T20:12:05.846Z"
   },
   {
    "duration": 9,
    "start_time": "2022-01-27T20:12:17.640Z"
   },
   {
    "duration": 339,
    "start_time": "2022-01-27T20:12:30.335Z"
   },
   {
    "duration": 4,
    "start_time": "2022-01-27T20:12:43.101Z"
   },
   {
    "duration": 7,
    "start_time": "2022-01-27T20:12:46.360Z"
   },
   {
    "duration": 255,
    "start_time": "2022-01-27T20:14:07.630Z"
   },
   {
    "duration": 275,
    "start_time": "2022-01-27T20:15:09.188Z"
   },
   {
    "duration": 280,
    "start_time": "2022-01-27T20:15:26.872Z"
   },
   {
    "duration": 275,
    "start_time": "2022-01-27T20:15:43.991Z"
   },
   {
    "duration": 607,
    "start_time": "2022-01-27T20:16:07.552Z"
   },
   {
    "duration": 268,
    "start_time": "2022-01-27T20:16:36.719Z"
   },
   {
    "duration": 293,
    "start_time": "2022-01-27T20:17:38.004Z"
   },
   {
    "duration": 294,
    "start_time": "2022-01-27T20:17:50.049Z"
   },
   {
    "duration": 267,
    "start_time": "2022-01-27T20:18:54.256Z"
   },
   {
    "duration": 9,
    "start_time": "2022-01-27T20:19:08.068Z"
   },
   {
    "duration": 9,
    "start_time": "2022-01-27T20:19:08.543Z"
   },
   {
    "duration": 274,
    "start_time": "2022-01-27T20:19:09.151Z"
   },
   {
    "duration": 11,
    "start_time": "2022-01-27T20:19:26.891Z"
   },
   {
    "duration": 11,
    "start_time": "2022-01-27T20:19:47.648Z"
   },
   {
    "duration": 251,
    "start_time": "2022-01-27T20:19:57.937Z"
   },
   {
    "duration": 14,
    "start_time": "2022-01-27T20:20:13.405Z"
   },
   {
    "duration": 14,
    "start_time": "2022-01-27T20:20:27.189Z"
   },
   {
    "duration": 13,
    "start_time": "2022-01-27T20:20:29.239Z"
   },
   {
    "duration": 275,
    "start_time": "2022-01-27T20:20:29.987Z"
   },
   {
    "duration": 336,
    "start_time": "2022-01-27T20:21:13.696Z"
   },
   {
    "duration": 339,
    "start_time": "2022-01-27T20:21:58.976Z"
   },
   {
    "duration": 6,
    "start_time": "2022-01-27T20:22:09.961Z"
   },
   {
    "duration": 7,
    "start_time": "2022-01-27T20:22:10.696Z"
   },
   {
    "duration": 306,
    "start_time": "2022-01-27T20:22:13.799Z"
   },
   {
    "duration": 11,
    "start_time": "2022-01-27T20:24:48.982Z"
   },
   {
    "duration": 13,
    "start_time": "2022-01-27T20:24:52.333Z"
   },
   {
    "duration": 11,
    "start_time": "2022-01-27T20:24:53.317Z"
   },
   {
    "duration": 9,
    "start_time": "2022-01-27T20:25:10.618Z"
   },
   {
    "duration": 10,
    "start_time": "2022-01-27T20:25:13.675Z"
   },
   {
    "duration": 1403,
    "start_time": "2022-01-27T20:25:29.303Z"
   },
   {
    "duration": 622,
    "start_time": "2022-01-27T20:25:30.709Z"
   },
   {
    "duration": 64,
    "start_time": "2022-01-27T20:25:31.334Z"
   },
   {
    "duration": 6,
    "start_time": "2022-01-27T20:25:31.401Z"
   },
   {
    "duration": 164,
    "start_time": "2022-01-27T20:25:31.409Z"
   },
   {
    "duration": 52,
    "start_time": "2022-01-27T20:25:31.575Z"
   },
   {
    "duration": 9,
    "start_time": "2022-01-27T20:25:31.630Z"
   },
   {
    "duration": 50,
    "start_time": "2022-01-27T20:25:31.671Z"
   },
   {
    "duration": 8,
    "start_time": "2022-01-27T20:25:31.727Z"
   },
   {
    "duration": 187,
    "start_time": "2022-01-27T20:25:31.739Z"
   },
   {
    "duration": 68,
    "start_time": "2022-01-27T20:25:31.930Z"
   },
   {
    "duration": 8,
    "start_time": "2022-01-27T20:25:32.001Z"
   },
   {
    "duration": 60,
    "start_time": "2022-01-27T20:25:32.012Z"
   },
   {
    "duration": 20,
    "start_time": "2022-01-27T20:25:32.074Z"
   },
   {
    "duration": 7,
    "start_time": "2022-01-27T20:25:32.097Z"
   },
   {
    "duration": 102,
    "start_time": "2022-01-27T20:25:32.107Z"
   },
   {
    "duration": 5,
    "start_time": "2022-01-27T20:25:32.212Z"
   },
   {
    "duration": 18,
    "start_time": "2022-01-27T20:25:32.219Z"
   },
   {
    "duration": 45,
    "start_time": "2022-01-27T20:25:32.240Z"
   },
   {
    "duration": 24,
    "start_time": "2022-01-27T20:25:32.288Z"
   },
   {
    "duration": 60,
    "start_time": "2022-01-27T20:25:32.314Z"
   },
   {
    "duration": 5,
    "start_time": "2022-01-27T20:25:32.376Z"
   },
   {
    "duration": 13,
    "start_time": "2022-01-27T20:25:32.383Z"
   },
   {
    "duration": 277,
    "start_time": "2022-01-27T20:25:32.398Z"
   },
   {
    "duration": 10,
    "start_time": "2022-01-27T20:25:32.678Z"
   },
   {
    "duration": 10,
    "start_time": "2022-01-27T20:25:32.690Z"
   },
   {
    "duration": 189,
    "start_time": "2022-01-27T20:25:32.706Z"
   },
   {
    "duration": 74,
    "start_time": "2022-01-27T20:25:32.897Z"
   },
   {
    "duration": 47,
    "start_time": "2022-01-27T20:25:32.974Z"
   },
   {
    "duration": 6,
    "start_time": "2022-01-27T20:25:33.024Z"
   },
   {
    "duration": 54,
    "start_time": "2022-01-27T20:25:33.032Z"
   },
   {
    "duration": 24,
    "start_time": "2022-01-27T20:25:33.089Z"
   },
   {
    "duration": 96,
    "start_time": "2022-01-27T20:25:33.115Z"
   },
   {
    "duration": 61,
    "start_time": "2022-01-27T20:25:33.213Z"
   },
   {
    "duration": 52,
    "start_time": "2022-01-27T20:25:33.276Z"
   },
   {
    "duration": 73,
    "start_time": "2022-01-27T20:25:33.331Z"
   },
   {
    "duration": 114,
    "start_time": "2022-01-27T20:25:33.407Z"
   },
   {
    "duration": 12,
    "start_time": "2022-01-27T20:25:33.524Z"
   },
   {
    "duration": 33,
    "start_time": "2022-01-27T20:25:33.538Z"
   },
   {
    "duration": 6,
    "start_time": "2022-01-27T20:25:33.573Z"
   },
   {
    "duration": 48,
    "start_time": "2022-01-27T20:25:33.582Z"
   },
   {
    "duration": 48,
    "start_time": "2022-01-27T20:25:33.633Z"
   },
   {
    "duration": 29,
    "start_time": "2022-01-27T20:25:33.684Z"
   },
   {
    "duration": 25,
    "start_time": "2022-01-27T20:25:33.716Z"
   },
   {
    "duration": 391,
    "start_time": "2022-01-27T20:25:33.743Z"
   },
   {
    "duration": 69,
    "start_time": "2022-01-27T20:25:34.136Z"
   },
   {
    "duration": 2674,
    "start_time": "2022-01-27T20:25:34.209Z"
   },
   {
    "duration": 27,
    "start_time": "2022-01-27T20:25:36.886Z"
   },
   {
    "duration": 57,
    "start_time": "2022-01-27T20:25:36.915Z"
   },
   {
    "duration": 9,
    "start_time": "2022-01-27T20:25:36.975Z"
   },
   {
    "duration": 9,
    "start_time": "2022-01-27T20:25:36.986Z"
   },
   {
    "duration": 429,
    "start_time": "2022-01-27T20:25:36.997Z"
   },
   {
    "duration": 11,
    "start_time": "2022-01-27T20:25:51.454Z"
   },
   {
    "duration": 10,
    "start_time": "2022-01-27T20:26:05.320Z"
   },
   {
    "duration": 9,
    "start_time": "2022-01-27T20:26:27.718Z"
   },
   {
    "duration": 258,
    "start_time": "2022-01-27T20:26:31.614Z"
   },
   {
    "duration": 7,
    "start_time": "2022-01-27T20:26:46.250Z"
   },
   {
    "duration": 16,
    "start_time": "2022-01-27T20:26:50.806Z"
   },
   {
    "duration": 13,
    "start_time": "2022-01-27T20:27:35.902Z"
   },
   {
    "duration": 9,
    "start_time": "2022-01-27T20:27:53.138Z"
   },
   {
    "duration": 13,
    "start_time": "2022-01-27T20:27:54.428Z"
   },
   {
    "duration": 10,
    "start_time": "2022-01-27T20:28:01.571Z"
   },
   {
    "duration": 655,
    "start_time": "2022-01-27T20:29:09.690Z"
   },
   {
    "duration": 759,
    "start_time": "2022-01-27T20:29:14.581Z"
   },
   {
    "duration": 86,
    "start_time": "2022-01-27T20:29:46.326Z"
   },
   {
    "duration": 86,
    "start_time": "2022-01-27T20:29:58.520Z"
   },
   {
    "duration": 11,
    "start_time": "2022-01-27T20:30:06.539Z"
   },
   {
    "duration": 13,
    "start_time": "2022-01-27T20:30:11.780Z"
   },
   {
    "duration": 804,
    "start_time": "2022-01-27T20:32:42.218Z"
   },
   {
    "duration": 19,
    "start_time": "2022-01-27T20:32:57.079Z"
   },
   {
    "duration": 279,
    "start_time": "2022-01-27T20:33:25.435Z"
   },
   {
    "duration": 297,
    "start_time": "2022-01-27T20:33:43.994Z"
   },
   {
    "duration": 9,
    "start_time": "2022-01-27T20:34:01.118Z"
   },
   {
    "duration": 9,
    "start_time": "2022-01-27T20:34:23.398Z"
   },
   {
    "duration": 8,
    "start_time": "2022-01-27T20:35:03.811Z"
   },
   {
    "duration": 13,
    "start_time": "2022-01-27T20:37:08.536Z"
   },
   {
    "duration": 11,
    "start_time": "2022-01-27T20:37:24.003Z"
   },
   {
    "duration": 11,
    "start_time": "2022-01-27T20:38:27.046Z"
   },
   {
    "duration": 285,
    "start_time": "2022-01-27T20:42:05.339Z"
   },
   {
    "duration": 279,
    "start_time": "2022-01-27T20:42:31.681Z"
   },
   {
    "duration": 13,
    "start_time": "2022-01-27T20:44:05.360Z"
   },
   {
    "duration": 264,
    "start_time": "2022-01-27T20:44:20.073Z"
   },
   {
    "duration": 13,
    "start_time": "2022-01-27T20:44:44.527Z"
   },
   {
    "duration": 13,
    "start_time": "2022-01-27T20:44:47.424Z"
   },
   {
    "duration": 17,
    "start_time": "2022-01-27T20:45:02.510Z"
   },
   {
    "duration": 824,
    "start_time": "2022-01-27T20:46:04.683Z"
   },
   {
    "duration": 26,
    "start_time": "2022-01-27T20:46:45.724Z"
   },
   {
    "duration": 37,
    "start_time": "2022-01-27T20:46:57.040Z"
   },
   {
    "duration": 48,
    "start_time": "2022-01-27T20:47:06.297Z"
   },
   {
    "duration": 53,
    "start_time": "2022-01-27T20:47:23.012Z"
   },
   {
    "duration": 279,
    "start_time": "2022-01-27T20:48:26.363Z"
   },
   {
    "duration": 302,
    "start_time": "2022-01-27T20:48:31.091Z"
   },
   {
    "duration": 331,
    "start_time": "2022-01-27T20:50:49.154Z"
   },
   {
    "duration": 51,
    "start_time": "2022-01-27T20:50:54.655Z"
   },
   {
    "duration": 47,
    "start_time": "2022-01-27T20:58:56.516Z"
   },
   {
    "duration": 48,
    "start_time": "2022-01-27T20:59:37.184Z"
   },
   {
    "duration": 47,
    "start_time": "2022-01-27T20:59:58.576Z"
   },
   {
    "duration": 52,
    "start_time": "2022-01-27T20:59:59.109Z"
   },
   {
    "duration": 2108,
    "start_time": "2022-01-27T21:31:20.168Z"
   },
   {
    "duration": 2635,
    "start_time": "2022-01-27T21:31:56.952Z"
   },
   {
    "duration": 103,
    "start_time": "2022-01-27T21:32:12.295Z"
   },
   {
    "duration": 2462,
    "start_time": "2022-01-27T21:32:27.476Z"
   },
   {
    "duration": 2566,
    "start_time": "2022-01-27T21:33:11.821Z"
   },
   {
    "duration": 2529,
    "start_time": "2022-01-27T21:33:58.785Z"
   },
   {
    "duration": 107,
    "start_time": "2022-01-27T21:34:28.723Z"
   },
   {
    "duration": 2585,
    "start_time": "2022-01-27T21:34:43.753Z"
   },
   {
    "duration": 6,
    "start_time": "2022-01-27T21:35:07.120Z"
   },
   {
    "duration": 97,
    "start_time": "2022-01-27T21:36:21.578Z"
   },
   {
    "duration": 2480,
    "start_time": "2022-01-27T21:36:33.011Z"
   },
   {
    "duration": 2711,
    "start_time": "2022-01-27T21:36:47.544Z"
   },
   {
    "duration": 3341,
    "start_time": "2022-01-27T21:38:38.839Z"
   },
   {
    "duration": 3172,
    "start_time": "2022-01-27T21:39:21.599Z"
   },
   {
    "duration": 32,
    "start_time": "2022-01-27T21:39:52.110Z"
   },
   {
    "duration": 32,
    "start_time": "2022-01-27T21:40:01.399Z"
   },
   {
    "duration": 28,
    "start_time": "2022-01-27T21:44:31.382Z"
   },
   {
    "duration": 28,
    "start_time": "2022-01-27T21:44:32.262Z"
   },
   {
    "duration": 3094,
    "start_time": "2022-01-27T21:48:19.602Z"
   },
   {
    "duration": 2439,
    "start_time": "2022-01-27T21:48:43.522Z"
   },
   {
    "duration": 2559,
    "start_time": "2022-01-27T21:56:22.371Z"
   },
   {
    "duration": 2571,
    "start_time": "2022-01-27T21:56:43.028Z"
   },
   {
    "duration": 1104,
    "start_time": "2022-01-28T08:52:29.126Z"
   },
   {
    "duration": 405,
    "start_time": "2022-01-28T08:52:30.232Z"
   },
   {
    "duration": 30,
    "start_time": "2022-01-28T08:52:30.639Z"
   },
   {
    "duration": 17,
    "start_time": "2022-01-28T08:52:30.670Z"
   },
   {
    "duration": 133,
    "start_time": "2022-01-28T08:52:30.688Z"
   },
   {
    "duration": 42,
    "start_time": "2022-01-28T08:52:30.823Z"
   },
   {
    "duration": 4,
    "start_time": "2022-01-28T08:52:30.867Z"
   },
   {
    "duration": 64,
    "start_time": "2022-01-28T08:52:30.873Z"
   },
   {
    "duration": 14,
    "start_time": "2022-01-28T08:52:30.940Z"
   },
   {
    "duration": 106,
    "start_time": "2022-01-28T08:52:30.955Z"
   },
   {
    "duration": 29,
    "start_time": "2022-01-28T08:52:31.063Z"
   },
   {
    "duration": 19,
    "start_time": "2022-01-28T08:52:31.094Z"
   },
   {
    "duration": 41,
    "start_time": "2022-01-28T08:52:31.115Z"
   },
   {
    "duration": 40,
    "start_time": "2022-01-28T08:52:31.158Z"
   },
   {
    "duration": 35,
    "start_time": "2022-01-28T08:52:31.200Z"
   },
   {
    "duration": 68,
    "start_time": "2022-01-28T08:52:31.237Z"
   },
   {
    "duration": 5,
    "start_time": "2022-01-28T08:52:31.306Z"
   },
   {
    "duration": 44,
    "start_time": "2022-01-28T08:52:31.312Z"
   },
   {
    "duration": 57,
    "start_time": "2022-01-28T08:52:31.358Z"
   },
   {
    "duration": 36,
    "start_time": "2022-01-28T08:52:31.416Z"
   },
   {
    "duration": 32,
    "start_time": "2022-01-28T08:52:31.453Z"
   },
   {
    "duration": 28,
    "start_time": "2022-01-28T08:52:31.487Z"
   },
   {
    "duration": 20,
    "start_time": "2022-01-28T08:52:31.519Z"
   },
   {
    "duration": 156,
    "start_time": "2022-01-28T08:52:31.541Z"
   },
   {
    "duration": 7,
    "start_time": "2022-01-28T08:52:31.699Z"
   },
   {
    "duration": 28,
    "start_time": "2022-01-28T08:52:31.707Z"
   },
   {
    "duration": 135,
    "start_time": "2022-01-28T08:52:31.736Z"
   },
   {
    "duration": 43,
    "start_time": "2022-01-28T08:52:31.872Z"
   },
   {
    "duration": 45,
    "start_time": "2022-01-28T08:52:31.917Z"
   },
   {
    "duration": 4,
    "start_time": "2022-01-28T08:52:31.964Z"
   },
   {
    "duration": 50,
    "start_time": "2022-01-28T08:52:31.970Z"
   },
   {
    "duration": 33,
    "start_time": "2022-01-28T08:52:32.022Z"
   },
   {
    "duration": 52,
    "start_time": "2022-01-28T08:52:32.057Z"
   },
   {
    "duration": 39,
    "start_time": "2022-01-28T08:52:32.111Z"
   },
   {
    "duration": 41,
    "start_time": "2022-01-28T08:52:32.152Z"
   },
   {
    "duration": 26,
    "start_time": "2022-01-28T08:52:32.196Z"
   },
   {
    "duration": 78,
    "start_time": "2022-01-28T08:52:32.224Z"
   },
   {
    "duration": 8,
    "start_time": "2022-01-28T08:52:32.304Z"
   },
   {
    "duration": 8,
    "start_time": "2022-01-28T08:52:32.313Z"
   },
   {
    "duration": 6,
    "start_time": "2022-01-28T08:52:32.323Z"
   },
   {
    "duration": 47,
    "start_time": "2022-01-28T08:52:32.330Z"
   },
   {
    "duration": 11,
    "start_time": "2022-01-28T08:52:32.379Z"
   },
   {
    "duration": 23,
    "start_time": "2022-01-28T08:52:32.392Z"
   },
   {
    "duration": 34,
    "start_time": "2022-01-28T08:52:32.416Z"
   },
   {
    "duration": 350,
    "start_time": "2022-01-28T08:52:32.452Z"
   },
   {
    "duration": 34,
    "start_time": "2022-01-28T08:52:32.804Z"
   },
   {
    "duration": 32,
    "start_time": "2022-01-28T08:52:32.840Z"
   },
   {
    "duration": 16,
    "start_time": "2022-01-28T08:52:32.874Z"
   },
   {
    "duration": 50,
    "start_time": "2022-01-28T08:52:32.892Z"
   },
   {
    "duration": 1475,
    "start_time": "2022-01-28T08:52:32.944Z"
   },
   {
    "duration": 323,
    "start_time": "2022-01-28T11:55:21.252Z"
   },
   {
    "duration": 333,
    "start_time": "2022-01-28T11:55:32.461Z"
   },
   {
    "duration": 5,
    "start_time": "2022-01-28T11:55:38.386Z"
   },
   {
    "duration": 1020,
    "start_time": "2022-01-28T11:55:59.103Z"
   },
   {
    "duration": 398,
    "start_time": "2022-01-28T11:56:00.125Z"
   },
   {
    "duration": 30,
    "start_time": "2022-01-28T11:56:00.525Z"
   },
   {
    "duration": 5,
    "start_time": "2022-01-28T11:56:00.557Z"
   },
   {
    "duration": 120,
    "start_time": "2022-01-28T11:56:00.564Z"
   },
   {
    "duration": 31,
    "start_time": "2022-01-28T11:56:00.686Z"
   },
   {
    "duration": 5,
    "start_time": "2022-01-28T11:56:00.719Z"
   },
   {
    "duration": 45,
    "start_time": "2022-01-28T11:56:00.726Z"
   },
   {
    "duration": 12,
    "start_time": "2022-01-28T11:56:00.774Z"
   },
   {
    "duration": 88,
    "start_time": "2022-01-28T11:56:00.788Z"
   },
   {
    "duration": 28,
    "start_time": "2022-01-28T11:56:00.878Z"
   },
   {
    "duration": 16,
    "start_time": "2022-01-28T11:56:00.908Z"
   },
   {
    "duration": 46,
    "start_time": "2022-01-28T11:56:00.926Z"
   },
   {
    "duration": 22,
    "start_time": "2022-01-28T11:56:00.973Z"
   },
   {
    "duration": 28,
    "start_time": "2022-01-28T11:56:00.997Z"
   },
   {
    "duration": 53,
    "start_time": "2022-01-28T11:56:01.027Z"
   },
   {
    "duration": 5,
    "start_time": "2022-01-28T11:56:01.082Z"
   },
   {
    "duration": 13,
    "start_time": "2022-01-28T11:56:01.088Z"
   },
   {
    "duration": 14,
    "start_time": "2022-01-28T11:56:01.103Z"
   },
   {
    "duration": 43,
    "start_time": "2022-01-28T11:56:01.119Z"
   },
   {
    "duration": 14,
    "start_time": "2022-01-28T11:56:01.164Z"
   },
   {
    "duration": 7,
    "start_time": "2022-01-28T11:56:01.180Z"
   },
   {
    "duration": 10,
    "start_time": "2022-01-28T11:56:01.188Z"
   },
   {
    "duration": 153,
    "start_time": "2022-01-28T11:56:01.200Z"
   },
   {
    "duration": 11,
    "start_time": "2022-01-28T11:56:01.354Z"
   },
   {
    "duration": 16,
    "start_time": "2022-01-28T11:56:01.367Z"
   },
   {
    "duration": 115,
    "start_time": "2022-01-28T11:56:01.386Z"
   },
   {
    "duration": 42,
    "start_time": "2022-01-28T11:56:01.503Z"
   },
   {
    "duration": 37,
    "start_time": "2022-01-28T11:56:01.547Z"
   },
   {
    "duration": 4,
    "start_time": "2022-01-28T11:56:01.586Z"
   },
   {
    "duration": 13,
    "start_time": "2022-01-28T11:56:01.592Z"
   },
   {
    "duration": 15,
    "start_time": "2022-01-28T11:56:01.606Z"
   },
   {
    "duration": 73,
    "start_time": "2022-01-28T11:56:01.623Z"
   },
   {
    "duration": 39,
    "start_time": "2022-01-28T11:56:01.698Z"
   },
   {
    "duration": 60,
    "start_time": "2022-01-28T11:56:01.739Z"
   },
   {
    "duration": 37,
    "start_time": "2022-01-28T11:56:01.801Z"
   },
   {
    "duration": 102,
    "start_time": "2022-01-28T11:56:01.840Z"
   },
   {
    "duration": 24,
    "start_time": "2022-01-28T11:56:01.944Z"
   },
   {
    "duration": 13,
    "start_time": "2022-01-28T11:56:01.970Z"
   },
   {
    "duration": 5,
    "start_time": "2022-01-28T11:56:01.985Z"
   },
   {
    "duration": 46,
    "start_time": "2022-01-28T11:56:01.991Z"
   },
   {
    "duration": 27,
    "start_time": "2022-01-28T11:56:02.039Z"
   },
   {
    "duration": 25,
    "start_time": "2022-01-28T11:56:02.068Z"
   },
   {
    "duration": 44,
    "start_time": "2022-01-28T11:56:02.095Z"
   },
   {
    "duration": 255,
    "start_time": "2022-01-28T11:56:02.140Z"
   },
   {
    "duration": 32,
    "start_time": "2022-01-28T11:56:02.397Z"
   },
   {
    "duration": 30,
    "start_time": "2022-01-28T11:56:02.432Z"
   },
   {
    "duration": 17,
    "start_time": "2022-01-28T11:56:02.464Z"
   },
   {
    "duration": 49,
    "start_time": "2022-01-28T11:56:02.482Z"
   },
   {
    "duration": 1480,
    "start_time": "2022-01-28T11:56:02.533Z"
   },
   {
    "duration": 5,
    "start_time": "2022-01-28T11:56:04.015Z"
   },
   {
    "duration": 11,
    "start_time": "2022-01-28T11:56:33.371Z"
   },
   {
    "duration": 4,
    "start_time": "2022-01-28T11:56:57.187Z"
   },
   {
    "duration": 32,
    "start_time": "2022-01-28T11:57:52.724Z"
   },
   {
    "duration": 9,
    "start_time": "2022-01-28T11:59:11.986Z"
   },
   {
    "duration": 3,
    "start_time": "2022-01-28T11:59:34.114Z"
   },
   {
    "duration": 412,
    "start_time": "2022-01-28T11:59:34.118Z"
   },
   {
    "duration": 27,
    "start_time": "2022-01-28T11:59:34.532Z"
   },
   {
    "duration": 10,
    "start_time": "2022-01-28T11:59:34.561Z"
   },
   {
    "duration": 106,
    "start_time": "2022-01-28T11:59:34.573Z"
   },
   {
    "duration": 26,
    "start_time": "2022-01-28T11:59:34.681Z"
   },
   {
    "duration": 15,
    "start_time": "2022-01-28T11:59:34.709Z"
   },
   {
    "duration": 49,
    "start_time": "2022-01-28T11:59:34.726Z"
   },
   {
    "duration": 10,
    "start_time": "2022-01-28T11:59:34.778Z"
   },
   {
    "duration": 93,
    "start_time": "2022-01-28T11:59:34.790Z"
   },
   {
    "duration": 26,
    "start_time": "2022-01-28T11:59:34.885Z"
   },
   {
    "duration": 12,
    "start_time": "2022-01-28T11:59:34.912Z"
   },
   {
    "duration": 51,
    "start_time": "2022-01-28T11:59:34.925Z"
   },
   {
    "duration": 33,
    "start_time": "2022-01-28T11:59:34.978Z"
   },
   {
    "duration": 17,
    "start_time": "2022-01-28T11:59:35.012Z"
   },
   {
    "duration": 58,
    "start_time": "2022-01-28T11:59:35.031Z"
   },
   {
    "duration": 4,
    "start_time": "2022-01-28T11:59:35.091Z"
   },
   {
    "duration": 27,
    "start_time": "2022-01-28T11:59:35.097Z"
   },
   {
    "duration": 40,
    "start_time": "2022-01-28T11:59:35.127Z"
   },
   {
    "duration": 25,
    "start_time": "2022-01-28T11:59:35.169Z"
   },
   {
    "duration": 44,
    "start_time": "2022-01-28T11:59:35.196Z"
   },
   {
    "duration": 6,
    "start_time": "2022-01-28T11:59:35.243Z"
   },
   {
    "duration": 19,
    "start_time": "2022-01-28T11:59:35.251Z"
   },
   {
    "duration": 149,
    "start_time": "2022-01-28T11:59:35.272Z"
   },
   {
    "duration": 7,
    "start_time": "2022-01-28T11:59:35.423Z"
   },
   {
    "duration": 32,
    "start_time": "2022-01-28T11:59:35.432Z"
   },
   {
    "duration": 125,
    "start_time": "2022-01-28T11:59:35.468Z"
   },
   {
    "duration": 43,
    "start_time": "2022-01-28T11:59:35.595Z"
   },
   {
    "duration": 36,
    "start_time": "2022-01-28T11:59:35.640Z"
   },
   {
    "duration": 4,
    "start_time": "2022-01-28T11:59:35.678Z"
   },
   {
    "duration": 27,
    "start_time": "2022-01-28T11:59:35.684Z"
   },
   {
    "duration": 15,
    "start_time": "2022-01-28T11:59:35.713Z"
   },
   {
    "duration": 62,
    "start_time": "2022-01-28T11:59:35.730Z"
   },
   {
    "duration": 35,
    "start_time": "2022-01-28T11:59:35.793Z"
   },
   {
    "duration": 54,
    "start_time": "2022-01-28T11:59:35.830Z"
   },
   {
    "duration": 27,
    "start_time": "2022-01-28T11:59:35.886Z"
   },
   {
    "duration": 75,
    "start_time": "2022-01-28T11:59:35.915Z"
   },
   {
    "duration": 9,
    "start_time": "2022-01-28T11:59:35.992Z"
   },
   {
    "duration": 15,
    "start_time": "2022-01-28T11:59:36.010Z"
   },
   {
    "duration": 17,
    "start_time": "2022-01-28T11:59:36.027Z"
   },
   {
    "duration": 5,
    "start_time": "2022-01-28T11:59:37.826Z"
   },
   {
    "duration": 11,
    "start_time": "2022-01-28T11:59:38.391Z"
   },
   {
    "duration": 19,
    "start_time": "2022-01-28T12:00:53.639Z"
   },
   {
    "duration": 6496,
    "start_time": "2022-01-28T12:02:05.287Z"
   },
   {
    "duration": 7345,
    "start_time": "2022-01-28T12:02:14.295Z"
   },
   {
    "duration": 17,
    "start_time": "2022-01-28T12:02:34.089Z"
   },
   {
    "duration": 19,
    "start_time": "2022-01-28T12:03:57.606Z"
   },
   {
    "duration": 6483,
    "start_time": "2022-01-28T12:04:02.945Z"
   },
   {
    "duration": 21,
    "start_time": "2022-01-28T12:04:13.079Z"
   },
   {
    "duration": 196,
    "start_time": "2022-01-28T12:04:14.701Z"
   },
   {
    "duration": 17,
    "start_time": "2022-01-28T12:04:27.697Z"
   },
   {
    "duration": 6,
    "start_time": "2022-01-28T12:04:47.199Z"
   },
   {
    "duration": 20,
    "start_time": "2022-01-28T12:05:01.658Z"
   },
   {
    "duration": 17,
    "start_time": "2022-01-28T12:05:03.331Z"
   },
   {
    "duration": 6,
    "start_time": "2022-01-28T12:05:25.477Z"
   },
   {
    "duration": 4,
    "start_time": "2022-01-28T12:07:07.730Z"
   },
   {
    "duration": 6,
    "start_time": "2022-01-28T12:09:32.570Z"
   },
   {
    "duration": 22,
    "start_time": "2022-01-28T12:10:15.220Z"
   },
   {
    "duration": 22,
    "start_time": "2022-01-28T12:10:21.700Z"
   },
   {
    "duration": 19,
    "start_time": "2022-01-28T12:11:01.695Z"
   },
   {
    "duration": 6,
    "start_time": "2022-01-28T12:12:04.005Z"
   },
   {
    "duration": 35,
    "start_time": "2022-01-28T12:35:39.038Z"
   },
   {
    "duration": 10,
    "start_time": "2022-01-28T12:35:58.150Z"
   },
   {
    "duration": 7,
    "start_time": "2022-01-28T12:37:34.519Z"
   },
   {
    "duration": 8,
    "start_time": "2022-01-28T12:37:41.249Z"
   },
   {
    "duration": 10,
    "start_time": "2022-01-28T12:40:31.542Z"
   },
   {
    "duration": 12,
    "start_time": "2022-01-28T12:43:16.525Z"
   },
   {
    "duration": 12,
    "start_time": "2022-01-28T12:43:26.688Z"
   },
   {
    "duration": 7,
    "start_time": "2022-01-28T15:02:15.036Z"
   },
   {
    "duration": 11,
    "start_time": "2022-01-28T15:03:01.657Z"
   },
   {
    "duration": 5,
    "start_time": "2022-01-28T15:03:04.223Z"
   },
   {
    "duration": 12,
    "start_time": "2022-01-28T15:03:11.814Z"
   },
   {
    "duration": 11,
    "start_time": "2022-01-28T15:03:49.299Z"
   },
   {
    "duration": 10,
    "start_time": "2022-01-28T17:11:29.789Z"
   },
   {
    "duration": 6,
    "start_time": "2022-01-28T17:11:31.005Z"
   },
   {
    "duration": 9,
    "start_time": "2022-01-28T17:11:35.848Z"
   },
   {
    "duration": 5,
    "start_time": "2022-01-28T17:11:36.626Z"
   },
   {
    "duration": 11,
    "start_time": "2022-01-28T17:11:40.070Z"
   },
   {
    "duration": 5,
    "start_time": "2022-01-28T17:11:40.950Z"
   },
   {
    "duration": 10,
    "start_time": "2022-01-28T17:11:48.618Z"
   },
   {
    "duration": 6,
    "start_time": "2022-01-28T17:11:49.354Z"
   },
   {
    "duration": 10,
    "start_time": "2022-01-28T17:11:53.506Z"
   },
   {
    "duration": 6,
    "start_time": "2022-01-28T17:11:54.362Z"
   },
   {
    "duration": 10,
    "start_time": "2022-01-28T17:11:56.069Z"
   },
   {
    "duration": 5,
    "start_time": "2022-01-28T17:11:56.914Z"
   },
   {
    "duration": 10,
    "start_time": "2022-01-28T17:11:58.616Z"
   },
   {
    "duration": 6,
    "start_time": "2022-01-28T17:12:01.501Z"
   },
   {
    "duration": 10,
    "start_time": "2022-01-28T17:12:03.236Z"
   },
   {
    "duration": 6,
    "start_time": "2022-01-28T17:12:04.052Z"
   },
   {
    "duration": 13,
    "start_time": "2022-01-28T17:12:05.241Z"
   },
   {
    "duration": 6,
    "start_time": "2022-01-28T17:12:05.905Z"
   },
   {
    "duration": 10,
    "start_time": "2022-01-28T17:12:07.170Z"
   },
   {
    "duration": 6,
    "start_time": "2022-01-28T17:12:07.808Z"
   },
   {
    "duration": 10,
    "start_time": "2022-01-28T17:12:14.098Z"
   },
   {
    "duration": 284,
    "start_time": "2022-01-28T17:12:15.272Z"
   },
   {
    "duration": 10,
    "start_time": "2022-01-28T17:12:20.909Z"
   },
   {
    "duration": 5,
    "start_time": "2022-01-28T17:12:22.041Z"
   },
   {
    "duration": 278,
    "start_time": "2022-01-28T17:14:24.778Z"
   },
   {
    "duration": 5,
    "start_time": "2022-01-28T17:14:54.805Z"
   },
   {
    "duration": 1439,
    "start_time": "2022-01-28T20:39:16.409Z"
   },
   {
    "duration": 589,
    "start_time": "2022-01-28T20:39:17.851Z"
   },
   {
    "duration": 54,
    "start_time": "2022-01-28T20:39:18.444Z"
   },
   {
    "duration": 6,
    "start_time": "2022-01-28T20:39:18.500Z"
   },
   {
    "duration": 147,
    "start_time": "2022-01-28T20:39:18.524Z"
   },
   {
    "duration": 49,
    "start_time": "2022-01-28T20:39:18.674Z"
   },
   {
    "duration": 7,
    "start_time": "2022-01-28T20:39:18.725Z"
   },
   {
    "duration": 33,
    "start_time": "2022-01-28T20:39:18.736Z"
   },
   {
    "duration": 5,
    "start_time": "2022-01-28T20:39:18.773Z"
   },
   {
    "duration": 142,
    "start_time": "2022-01-28T20:39:18.782Z"
   },
   {
    "duration": 38,
    "start_time": "2022-01-28T20:39:18.927Z"
   },
   {
    "duration": 6,
    "start_time": "2022-01-28T20:39:18.967Z"
   },
   {
    "duration": 60,
    "start_time": "2022-01-28T20:39:18.975Z"
   },
   {
    "duration": 19,
    "start_time": "2022-01-28T20:39:19.038Z"
   },
   {
    "duration": 5,
    "start_time": "2022-01-28T20:39:19.059Z"
   },
   {
    "duration": 91,
    "start_time": "2022-01-28T20:39:19.066Z"
   },
   {
    "duration": 6,
    "start_time": "2022-01-28T20:39:19.159Z"
   },
   {
    "duration": 26,
    "start_time": "2022-01-28T20:39:19.167Z"
   },
   {
    "duration": 41,
    "start_time": "2022-01-28T20:39:19.196Z"
   },
   {
    "duration": 26,
    "start_time": "2022-01-28T20:39:19.241Z"
   },
   {
    "duration": 60,
    "start_time": "2022-01-28T20:39:19.271Z"
   },
   {
    "duration": 6,
    "start_time": "2022-01-28T20:39:19.335Z"
   },
   {
    "duration": 11,
    "start_time": "2022-01-28T20:39:19.349Z"
   },
   {
    "duration": 266,
    "start_time": "2022-01-28T20:39:19.363Z"
   },
   {
    "duration": 10,
    "start_time": "2022-01-28T20:39:19.632Z"
   },
   {
    "duration": 7,
    "start_time": "2022-01-28T20:39:19.644Z"
   },
   {
    "duration": 193,
    "start_time": "2022-01-28T20:39:19.653Z"
   },
   {
    "duration": 59,
    "start_time": "2022-01-28T20:39:19.849Z"
   },
   {
    "duration": 53,
    "start_time": "2022-01-28T20:39:19.910Z"
   },
   {
    "duration": 5,
    "start_time": "2022-01-28T20:39:19.966Z"
   },
   {
    "duration": 55,
    "start_time": "2022-01-28T20:39:19.974Z"
   },
   {
    "duration": 24,
    "start_time": "2022-01-28T20:39:20.032Z"
   },
   {
    "duration": 82,
    "start_time": "2022-01-28T20:39:20.059Z"
   },
   {
    "duration": 50,
    "start_time": "2022-01-28T20:39:20.144Z"
   },
   {
    "duration": 70,
    "start_time": "2022-01-28T20:39:20.197Z"
   },
   {
    "duration": 57,
    "start_time": "2022-01-28T20:39:20.269Z"
   },
   {
    "duration": 106,
    "start_time": "2022-01-28T20:39:20.328Z"
   },
   {
    "duration": 12,
    "start_time": "2022-01-28T20:39:20.436Z"
   },
   {
    "duration": 14,
    "start_time": "2022-01-28T20:39:20.451Z"
   },
   {
    "duration": 6,
    "start_time": "2022-01-28T20:39:20.467Z"
   },
   {
    "duration": 47,
    "start_time": "2022-01-28T20:39:20.476Z"
   },
   {
    "duration": 17,
    "start_time": "2022-01-28T20:39:20.525Z"
   },
   {
    "duration": 27,
    "start_time": "2022-01-28T20:39:20.545Z"
   },
   {
    "duration": 60,
    "start_time": "2022-01-28T20:39:20.574Z"
   },
   {
    "duration": 351,
    "start_time": "2022-01-28T20:39:20.636Z"
   },
   {
    "duration": 8,
    "start_time": "2022-01-28T20:39:20.990Z"
   },
   {
    "duration": 41,
    "start_time": "2022-01-28T20:39:21.000Z"
   },
   {
    "duration": 27,
    "start_time": "2022-01-28T20:39:21.044Z"
   },
   {
    "duration": 74,
    "start_time": "2022-01-28T20:39:21.073Z"
   },
   {
    "duration": 2477,
    "start_time": "2022-01-28T20:39:21.150Z"
   },
   {
    "duration": 8,
    "start_time": "2022-01-28T20:39:23.631Z"
   },
   {
    "duration": 15,
    "start_time": "2022-01-28T20:39:23.641Z"
   },
   {
    "duration": 12,
    "start_time": "2022-01-28T20:39:23.658Z"
   },
   {
    "duration": 15,
    "start_time": "2022-01-28T20:39:23.673Z"
   },
   {
    "duration": 9,
    "start_time": "2022-01-28T20:39:23.724Z"
   },
   {
    "duration": 8,
    "start_time": "2022-01-28T20:39:23.735Z"
   },
   {
    "duration": 7,
    "start_time": "2022-01-28T21:04:30.687Z"
   },
   {
    "duration": 7,
    "start_time": "2022-01-28T21:04:46.853Z"
   },
   {
    "duration": 6,
    "start_time": "2022-01-28T21:12:32.668Z"
   },
   {
    "duration": 1476,
    "start_time": "2022-01-28T21:18:48.923Z"
   },
   {
    "duration": 610,
    "start_time": "2022-01-28T21:18:50.401Z"
   },
   {
    "duration": 45,
    "start_time": "2022-01-28T21:18:51.014Z"
   },
   {
    "duration": 5,
    "start_time": "2022-01-28T21:18:51.062Z"
   },
   {
    "duration": 157,
    "start_time": "2022-01-28T21:18:51.069Z"
   },
   {
    "duration": 49,
    "start_time": "2022-01-28T21:18:51.229Z"
   },
   {
    "duration": 7,
    "start_time": "2022-01-28T21:18:51.280Z"
   },
   {
    "duration": 60,
    "start_time": "2022-01-28T21:18:51.289Z"
   },
   {
    "duration": 6,
    "start_time": "2022-01-28T21:18:51.353Z"
   },
   {
    "duration": 133,
    "start_time": "2022-01-28T21:18:51.363Z"
   },
   {
    "duration": 40,
    "start_time": "2022-01-28T21:18:51.499Z"
   },
   {
    "duration": 6,
    "start_time": "2022-01-28T21:18:51.542Z"
   },
   {
    "duration": 26,
    "start_time": "2022-01-28T21:18:51.552Z"
   },
   {
    "duration": 51,
    "start_time": "2022-01-28T21:18:51.580Z"
   },
   {
    "duration": 6,
    "start_time": "2022-01-28T21:18:51.633Z"
   },
   {
    "duration": 85,
    "start_time": "2022-01-28T21:18:51.641Z"
   },
   {
    "duration": 6,
    "start_time": "2022-01-28T21:18:51.728Z"
   },
   {
    "duration": 21,
    "start_time": "2022-01-28T21:18:51.737Z"
   },
   {
    "duration": 22,
    "start_time": "2022-01-28T21:18:51.760Z"
   },
   {
    "duration": 25,
    "start_time": "2022-01-28T21:18:51.824Z"
   },
   {
    "duration": 22,
    "start_time": "2022-01-28T21:18:51.851Z"
   },
   {
    "duration": 5,
    "start_time": "2022-01-28T21:18:51.875Z"
   },
   {
    "duration": 44,
    "start_time": "2022-01-28T21:18:51.883Z"
   },
   {
    "duration": 252,
    "start_time": "2022-01-28T21:18:51.929Z"
   },
   {
    "duration": 10,
    "start_time": "2022-01-28T21:18:52.184Z"
   },
   {
    "duration": 28,
    "start_time": "2022-01-28T21:18:52.196Z"
   },
   {
    "duration": 185,
    "start_time": "2022-01-28T21:18:52.230Z"
   },
   {
    "duration": 60,
    "start_time": "2022-01-28T21:18:52.418Z"
   },
   {
    "duration": 68,
    "start_time": "2022-01-28T21:18:52.480Z"
   },
   {
    "duration": 6,
    "start_time": "2022-01-28T21:18:52.550Z"
   },
   {
    "duration": 20,
    "start_time": "2022-01-28T21:18:52.559Z"
   },
   {
    "duration": 56,
    "start_time": "2022-01-28T21:18:52.581Z"
   },
   {
    "duration": 56,
    "start_time": "2022-01-28T21:18:52.640Z"
   },
   {
    "duration": 73,
    "start_time": "2022-01-28T21:18:52.699Z"
   },
   {
    "duration": 83,
    "start_time": "2022-01-28T21:18:52.775Z"
   },
   {
    "duration": 43,
    "start_time": "2022-01-28T21:18:52.861Z"
   },
   {
    "duration": 126,
    "start_time": "2022-01-28T21:18:52.907Z"
   },
   {
    "duration": 14,
    "start_time": "2022-01-28T21:18:53.036Z"
   },
   {
    "duration": 11,
    "start_time": "2022-01-28T21:18:53.053Z"
   },
   {
    "duration": 6,
    "start_time": "2022-01-28T21:18:53.067Z"
   },
   {
    "duration": 53,
    "start_time": "2022-01-28T21:18:53.076Z"
   },
   {
    "duration": 16,
    "start_time": "2022-01-28T21:18:53.131Z"
   },
   {
    "duration": 40,
    "start_time": "2022-01-28T21:18:53.150Z"
   },
   {
    "duration": 74,
    "start_time": "2022-01-28T21:18:53.193Z"
   },
   {
    "duration": 386,
    "start_time": "2022-01-28T21:18:53.270Z"
   },
   {
    "duration": 8,
    "start_time": "2022-01-28T21:18:53.658Z"
   },
   {
    "duration": 26,
    "start_time": "2022-01-28T21:18:53.669Z"
   },
   {
    "duration": 27,
    "start_time": "2022-01-28T21:18:53.722Z"
   },
   {
    "duration": 84,
    "start_time": "2022-01-28T21:18:53.751Z"
   },
   {
    "duration": 2936,
    "start_time": "2022-01-28T21:18:53.837Z"
   },
   {
    "duration": 8,
    "start_time": "2022-01-28T21:18:56.775Z"
   },
   {
    "duration": 9,
    "start_time": "2022-01-28T21:18:56.785Z"
   },
   {
    "duration": 33,
    "start_time": "2022-01-28T21:18:56.796Z"
   },
   {
    "duration": 10,
    "start_time": "2022-01-28T21:18:56.832Z"
   },
   {
    "duration": 14,
    "start_time": "2022-01-28T21:18:56.845Z"
   },
   {
    "duration": 9,
    "start_time": "2022-01-28T21:18:56.861Z"
   },
   {
    "duration": 51,
    "start_time": "2022-01-28T21:18:56.872Z"
   },
   {
    "duration": 1408,
    "start_time": "2022-01-28T21:24:17.156Z"
   },
   {
    "duration": 554,
    "start_time": "2022-01-28T21:24:18.567Z"
   },
   {
    "duration": 44,
    "start_time": "2022-01-28T21:24:19.124Z"
   },
   {
    "duration": 6,
    "start_time": "2022-01-28T21:24:19.171Z"
   },
   {
    "duration": 163,
    "start_time": "2022-01-28T21:24:19.179Z"
   },
   {
    "duration": 44,
    "start_time": "2022-01-28T21:24:19.344Z"
   },
   {
    "duration": 33,
    "start_time": "2022-01-28T21:24:19.390Z"
   },
   {
    "duration": 36,
    "start_time": "2022-01-28T21:24:19.428Z"
   },
   {
    "duration": 5,
    "start_time": "2022-01-28T21:24:19.468Z"
   },
   {
    "duration": 143,
    "start_time": "2022-01-28T21:24:19.475Z"
   },
   {
    "duration": 40,
    "start_time": "2022-01-28T21:24:19.629Z"
   },
   {
    "duration": 6,
    "start_time": "2022-01-28T21:24:19.671Z"
   },
   {
    "duration": 51,
    "start_time": "2022-01-28T21:24:19.679Z"
   },
   {
    "duration": 30,
    "start_time": "2022-01-28T21:24:19.734Z"
   },
   {
    "duration": 5,
    "start_time": "2022-01-28T21:24:19.766Z"
   },
   {
    "duration": 93,
    "start_time": "2022-01-28T21:24:19.773Z"
   },
   {
    "duration": 6,
    "start_time": "2022-01-28T21:24:19.868Z"
   },
   {
    "duration": 20,
    "start_time": "2022-01-28T21:24:19.876Z"
   },
   {
    "duration": 53,
    "start_time": "2022-01-28T21:24:19.898Z"
   },
   {
    "duration": 34,
    "start_time": "2022-01-28T21:24:19.954Z"
   },
   {
    "duration": 53,
    "start_time": "2022-01-28T21:24:19.991Z"
   },
   {
    "duration": 6,
    "start_time": "2022-01-28T21:24:20.047Z"
   },
   {
    "duration": 10,
    "start_time": "2022-01-28T21:24:20.059Z"
   },
   {
    "duration": 279,
    "start_time": "2022-01-28T21:24:20.073Z"
   },
   {
    "duration": 10,
    "start_time": "2022-01-28T21:24:20.355Z"
   },
   {
    "duration": 10,
    "start_time": "2022-01-28T21:24:20.368Z"
   },
   {
    "duration": 193,
    "start_time": "2022-01-28T21:24:20.381Z"
   },
   {
    "duration": 78,
    "start_time": "2022-01-28T21:24:20.576Z"
   },
   {
    "duration": 44,
    "start_time": "2022-01-28T21:24:20.656Z"
   },
   {
    "duration": 26,
    "start_time": "2022-01-28T21:24:20.702Z"
   },
   {
    "duration": 25,
    "start_time": "2022-01-28T21:24:20.730Z"
   },
   {
    "duration": 23,
    "start_time": "2022-01-28T21:24:20.758Z"
   },
   {
    "duration": 99,
    "start_time": "2022-01-28T21:24:20.783Z"
   },
   {
    "duration": 91,
    "start_time": "2022-01-28T21:24:20.885Z"
   },
   {
    "duration": 66,
    "start_time": "2022-01-28T21:24:20.979Z"
   },
   {
    "duration": 39,
    "start_time": "2022-01-28T21:24:21.048Z"
   },
   {
    "duration": 122,
    "start_time": "2022-01-28T21:24:21.090Z"
   },
   {
    "duration": 20,
    "start_time": "2022-01-28T21:24:21.214Z"
   },
   {
    "duration": 17,
    "start_time": "2022-01-28T21:24:21.238Z"
   },
   {
    "duration": 6,
    "start_time": "2022-01-28T21:24:21.258Z"
   },
   {
    "duration": 17,
    "start_time": "2022-01-28T21:24:21.266Z"
   },
   {
    "duration": 18,
    "start_time": "2022-01-28T21:24:21.324Z"
   },
   {
    "duration": 39,
    "start_time": "2022-01-28T21:24:21.346Z"
   },
   {
    "duration": 59,
    "start_time": "2022-01-28T21:24:21.387Z"
   },
   {
    "duration": 360,
    "start_time": "2022-01-28T21:24:21.449Z"
   },
   {
    "duration": 18,
    "start_time": "2022-01-28T21:24:21.812Z"
   },
   {
    "duration": 31,
    "start_time": "2022-01-28T21:24:21.834Z"
   },
   {
    "duration": 25,
    "start_time": "2022-01-28T21:24:21.867Z"
   },
   {
    "duration": 80,
    "start_time": "2022-01-28T21:24:21.894Z"
   },
   {
    "duration": 2547,
    "start_time": "2022-01-28T21:24:21.977Z"
   },
   {
    "duration": 8,
    "start_time": "2022-01-28T21:24:24.526Z"
   },
   {
    "duration": 6,
    "start_time": "2022-01-28T21:24:24.537Z"
   },
   {
    "duration": 17,
    "start_time": "2022-01-28T21:24:24.546Z"
   },
   {
    "duration": 11,
    "start_time": "2022-01-28T21:24:24.566Z"
   },
   {
    "duration": 21,
    "start_time": "2022-01-28T21:24:24.624Z"
   },
   {
    "duration": 7,
    "start_time": "2022-01-28T21:24:24.647Z"
   },
   {
    "duration": 1521,
    "start_time": "2022-01-28T21:28:00.931Z"
   },
   {
    "duration": 563,
    "start_time": "2022-01-28T21:28:02.455Z"
   },
   {
    "duration": 39,
    "start_time": "2022-01-28T21:28:03.021Z"
   },
   {
    "duration": 8,
    "start_time": "2022-01-28T21:28:03.064Z"
   },
   {
    "duration": 188,
    "start_time": "2022-01-28T21:28:03.075Z"
   },
   {
    "duration": 76,
    "start_time": "2022-01-28T21:28:03.266Z"
   },
   {
    "duration": 10,
    "start_time": "2022-01-28T21:28:03.347Z"
   },
   {
    "duration": 42,
    "start_time": "2022-01-28T21:28:03.360Z"
   },
   {
    "duration": 21,
    "start_time": "2022-01-28T21:28:03.406Z"
   },
   {
    "duration": 164,
    "start_time": "2022-01-28T21:28:03.432Z"
   },
   {
    "duration": 50,
    "start_time": "2022-01-28T21:28:03.599Z"
   },
   {
    "duration": 6,
    "start_time": "2022-01-28T21:28:03.651Z"
   },
   {
    "duration": 25,
    "start_time": "2022-01-28T21:28:03.659Z"
   },
   {
    "duration": 57,
    "start_time": "2022-01-28T21:28:03.686Z"
   },
   {
    "duration": 6,
    "start_time": "2022-01-28T21:28:03.745Z"
   },
   {
    "duration": 103,
    "start_time": "2022-01-28T21:28:03.753Z"
   },
   {
    "duration": 8,
    "start_time": "2022-01-28T21:28:03.859Z"
   },
   {
    "duration": 20,
    "start_time": "2022-01-28T21:28:03.870Z"
   },
   {
    "duration": 29,
    "start_time": "2022-01-28T21:28:03.923Z"
   },
   {
    "duration": 26,
    "start_time": "2022-01-28T21:28:03.954Z"
   },
   {
    "duration": 62,
    "start_time": "2022-01-28T21:28:03.983Z"
   },
   {
    "duration": 24,
    "start_time": "2022-01-28T21:28:04.048Z"
   },
   {
    "duration": 10,
    "start_time": "2022-01-28T21:28:04.075Z"
   },
   {
    "duration": 354,
    "start_time": "2022-01-28T21:28:04.087Z"
   },
   {
    "duration": 9,
    "start_time": "2022-01-28T21:28:04.444Z"
   },
   {
    "duration": 6,
    "start_time": "2022-01-28T21:28:04.455Z"
   },
   {
    "duration": 203,
    "start_time": "2022-01-28T21:28:04.467Z"
   },
   {
    "duration": 74,
    "start_time": "2022-01-28T21:28:04.673Z"
   },
   {
    "duration": 73,
    "start_time": "2022-01-28T21:28:04.751Z"
   },
   {
    "duration": 9,
    "start_time": "2022-01-28T21:28:04.827Z"
   },
   {
    "duration": 26,
    "start_time": "2022-01-28T21:28:04.839Z"
   },
   {
    "duration": 64,
    "start_time": "2022-01-28T21:28:04.868Z"
   },
   {
    "duration": 108,
    "start_time": "2022-01-28T21:28:04.936Z"
   },
   {
    "duration": 57,
    "start_time": "2022-01-28T21:28:05.047Z"
   },
   {
    "duration": 66,
    "start_time": "2022-01-28T21:28:05.107Z"
   },
   {
    "duration": 79,
    "start_time": "2022-01-28T21:28:05.176Z"
   },
   {
    "duration": 111,
    "start_time": "2022-01-28T21:28:05.257Z"
   },
   {
    "duration": 11,
    "start_time": "2022-01-28T21:28:05.371Z"
   },
   {
    "duration": 11,
    "start_time": "2022-01-28T21:28:05.384Z"
   },
   {
    "duration": 28,
    "start_time": "2022-01-28T21:28:05.397Z"
   },
   {
    "duration": 14,
    "start_time": "2022-01-28T21:28:05.428Z"
   },
   {
    "duration": 23,
    "start_time": "2022-01-28T21:28:05.444Z"
   },
   {
    "duration": 74,
    "start_time": "2022-01-28T21:28:05.469Z"
   },
   {
    "duration": 31,
    "start_time": "2022-01-28T21:28:05.546Z"
   },
   {
    "duration": 406,
    "start_time": "2022-01-28T21:28:05.580Z"
   },
   {
    "duration": 12,
    "start_time": "2022-01-28T21:28:05.989Z"
   },
   {
    "duration": 49,
    "start_time": "2022-01-28T21:28:06.004Z"
   },
   {
    "duration": 30,
    "start_time": "2022-01-28T21:28:06.056Z"
   },
   {
    "duration": 93,
    "start_time": "2022-01-28T21:28:06.089Z"
   },
   {
    "duration": 2686,
    "start_time": "2022-01-28T21:28:06.185Z"
   },
   {
    "duration": 8,
    "start_time": "2022-01-28T21:28:08.874Z"
   },
   {
    "duration": 8,
    "start_time": "2022-01-28T21:28:08.884Z"
   },
   {
    "duration": 33,
    "start_time": "2022-01-28T21:28:08.894Z"
   },
   {
    "duration": 13,
    "start_time": "2022-01-28T21:28:08.930Z"
   },
   {
    "duration": 15,
    "start_time": "2022-01-28T21:28:08.945Z"
   },
   {
    "duration": 16,
    "start_time": "2022-01-28T21:28:08.963Z"
   },
   {
    "duration": 1453,
    "start_time": "2022-02-06T13:56:00.631Z"
   },
   {
    "duration": 535,
    "start_time": "2022-02-06T13:56:02.087Z"
   },
   {
    "duration": 40,
    "start_time": "2022-02-06T13:56:02.625Z"
   },
   {
    "duration": 5,
    "start_time": "2022-02-06T13:56:02.667Z"
   },
   {
    "duration": 149,
    "start_time": "2022-02-06T13:56:02.674Z"
   },
   {
    "duration": 38,
    "start_time": "2022-02-06T13:56:02.825Z"
   },
   {
    "duration": 6,
    "start_time": "2022-02-06T13:56:02.865Z"
   },
   {
    "duration": 58,
    "start_time": "2022-02-06T13:56:02.873Z"
   },
   {
    "duration": 5,
    "start_time": "2022-02-06T13:56:02.935Z"
   },
   {
    "duration": 128,
    "start_time": "2022-02-06T13:56:02.944Z"
   },
   {
    "duration": 48,
    "start_time": "2022-02-06T13:56:03.075Z"
   },
   {
    "duration": 6,
    "start_time": "2022-02-06T13:56:03.126Z"
   },
   {
    "duration": 30,
    "start_time": "2022-02-06T13:56:03.134Z"
   },
   {
    "duration": 19,
    "start_time": "2022-02-06T13:56:03.166Z"
   },
   {
    "duration": 38,
    "start_time": "2022-02-06T13:56:03.187Z"
   },
   {
    "duration": 65,
    "start_time": "2022-02-06T13:56:03.228Z"
   },
   {
    "duration": 6,
    "start_time": "2022-02-06T13:56:03.296Z"
   },
   {
    "duration": 22,
    "start_time": "2022-02-06T13:56:03.326Z"
   },
   {
    "duration": 22,
    "start_time": "2022-02-06T13:56:03.351Z"
   },
   {
    "duration": 70,
    "start_time": "2022-02-06T13:56:03.375Z"
   },
   {
    "duration": 24,
    "start_time": "2022-02-06T13:56:03.447Z"
   },
   {
    "duration": 5,
    "start_time": "2022-02-06T13:56:03.473Z"
   },
   {
    "duration": 9,
    "start_time": "2022-02-06T13:56:03.481Z"
   },
   {
    "duration": 237,
    "start_time": "2022-02-06T13:56:03.523Z"
   },
   {
    "duration": 9,
    "start_time": "2022-02-06T13:56:03.762Z"
   },
   {
    "duration": 7,
    "start_time": "2022-02-06T13:56:03.774Z"
   },
   {
    "duration": 176,
    "start_time": "2022-02-06T13:56:03.787Z"
   },
   {
    "duration": 69,
    "start_time": "2022-02-06T13:56:03.966Z"
   },
   {
    "duration": 47,
    "start_time": "2022-02-06T13:56:04.037Z"
   },
   {
    "duration": 38,
    "start_time": "2022-02-06T13:56:04.086Z"
   },
   {
    "duration": 18,
    "start_time": "2022-02-06T13:56:04.127Z"
   },
   {
    "duration": 23,
    "start_time": "2022-02-06T13:56:04.147Z"
   },
   {
    "duration": 93,
    "start_time": "2022-02-06T13:56:04.172Z"
   },
   {
    "duration": 62,
    "start_time": "2022-02-06T13:56:04.268Z"
   },
   {
    "duration": 49,
    "start_time": "2022-02-06T13:56:04.333Z"
   },
   {
    "duration": 64,
    "start_time": "2022-02-06T13:56:04.385Z"
   },
   {
    "duration": 111,
    "start_time": "2022-02-06T13:56:04.451Z"
   },
   {
    "duration": 14,
    "start_time": "2022-02-06T13:56:04.565Z"
   },
   {
    "duration": 13,
    "start_time": "2022-02-06T13:56:04.582Z"
   },
   {
    "duration": 7,
    "start_time": "2022-02-06T13:56:04.622Z"
   },
   {
    "duration": 16,
    "start_time": "2022-02-06T13:56:04.632Z"
   },
   {
    "duration": 18,
    "start_time": "2022-02-06T13:56:04.651Z"
   },
   {
    "duration": 68,
    "start_time": "2022-02-06T13:56:04.672Z"
   },
   {
    "duration": 34,
    "start_time": "2022-02-06T13:56:04.744Z"
   },
   {
    "duration": 359,
    "start_time": "2022-02-06T13:56:04.780Z"
   },
   {
    "duration": 8,
    "start_time": "2022-02-06T13:56:05.142Z"
   },
   {
    "duration": 25,
    "start_time": "2022-02-06T13:56:05.153Z"
   },
   {
    "duration": 54,
    "start_time": "2022-02-06T13:56:05.180Z"
   },
   {
    "duration": 47,
    "start_time": "2022-02-06T13:56:05.237Z"
   },
   {
    "duration": 2384,
    "start_time": "2022-02-06T13:56:05.287Z"
   },
   {
    "duration": 8,
    "start_time": "2022-02-06T13:56:07.673Z"
   },
   {
    "duration": 7,
    "start_time": "2022-02-06T13:56:07.683Z"
   },
   {
    "duration": 35,
    "start_time": "2022-02-06T13:56:07.693Z"
   },
   {
    "duration": 9,
    "start_time": "2022-02-06T13:56:07.730Z"
   },
   {
    "duration": 15,
    "start_time": "2022-02-06T13:56:07.742Z"
   },
   {
    "duration": 10,
    "start_time": "2022-02-06T13:56:07.760Z"
   },
   {
    "duration": 1356,
    "start_time": "2022-02-06T16:42:18.439Z"
   },
   {
    "duration": 507,
    "start_time": "2022-02-06T16:42:19.798Z"
   },
   {
    "duration": 40,
    "start_time": "2022-02-06T16:42:20.308Z"
   },
   {
    "duration": 6,
    "start_time": "2022-02-06T16:42:20.351Z"
   },
   {
    "duration": 138,
    "start_time": "2022-02-06T16:42:20.359Z"
   },
   {
    "duration": 53,
    "start_time": "2022-02-06T16:42:20.499Z"
   },
   {
    "duration": 6,
    "start_time": "2022-02-06T16:42:20.554Z"
   },
   {
    "duration": 33,
    "start_time": "2022-02-06T16:42:20.564Z"
   },
   {
    "duration": 32,
    "start_time": "2022-02-06T16:42:20.600Z"
   },
   {
    "duration": 108,
    "start_time": "2022-02-06T16:42:20.634Z"
   },
   {
    "duration": 37,
    "start_time": "2022-02-06T16:42:20.745Z"
   },
   {
    "duration": 7,
    "start_time": "2022-02-06T16:42:20.785Z"
   },
   {
    "duration": 57,
    "start_time": "2022-02-06T16:42:20.795Z"
   },
   {
    "duration": 26,
    "start_time": "2022-02-06T16:42:20.854Z"
   },
   {
    "duration": 5,
    "start_time": "2022-02-06T16:42:20.882Z"
   },
   {
    "duration": 83,
    "start_time": "2022-02-06T16:42:20.889Z"
   },
   {
    "duration": 7,
    "start_time": "2022-02-06T16:42:20.974Z"
   },
   {
    "duration": 19,
    "start_time": "2022-02-06T16:42:20.984Z"
   },
   {
    "duration": 21,
    "start_time": "2022-02-06T16:42:21.033Z"
   },
   {
    "duration": 33,
    "start_time": "2022-02-06T16:42:21.057Z"
   },
   {
    "duration": 43,
    "start_time": "2022-02-06T16:42:21.092Z"
   },
   {
    "duration": 14,
    "start_time": "2022-02-06T16:42:21.138Z"
   },
   {
    "duration": 12,
    "start_time": "2022-02-06T16:42:21.157Z"
   },
   {
    "duration": 249,
    "start_time": "2022-02-06T16:42:21.172Z"
   },
   {
    "duration": 13,
    "start_time": "2022-02-06T16:42:21.424Z"
   },
   {
    "duration": 8,
    "start_time": "2022-02-06T16:42:21.439Z"
   },
   {
    "duration": 185,
    "start_time": "2022-02-06T16:42:21.449Z"
   },
   {
    "duration": 61,
    "start_time": "2022-02-06T16:42:21.636Z"
   },
   {
    "duration": 59,
    "start_time": "2022-02-06T16:42:21.700Z"
   },
   {
    "duration": 6,
    "start_time": "2022-02-06T16:42:21.762Z"
   },
   {
    "duration": 26,
    "start_time": "2022-02-06T16:42:21.771Z"
   },
   {
    "duration": 52,
    "start_time": "2022-02-06T16:42:21.800Z"
   },
   {
    "duration": 80,
    "start_time": "2022-02-06T16:42:21.854Z"
   },
   {
    "duration": 52,
    "start_time": "2022-02-06T16:42:21.936Z"
   },
   {
    "duration": 80,
    "start_time": "2022-02-06T16:42:21.991Z"
   },
   {
    "duration": 58,
    "start_time": "2022-02-06T16:42:22.074Z"
   },
   {
    "duration": 109,
    "start_time": "2022-02-06T16:42:22.135Z"
   },
   {
    "duration": 14,
    "start_time": "2022-02-06T16:42:22.247Z"
   },
   {
    "duration": 11,
    "start_time": "2022-02-06T16:42:22.264Z"
   },
   {
    "duration": 6,
    "start_time": "2022-02-06T16:42:22.278Z"
   },
   {
    "duration": 54,
    "start_time": "2022-02-06T16:42:22.286Z"
   },
   {
    "duration": 16,
    "start_time": "2022-02-06T16:42:22.342Z"
   },
   {
    "duration": 30,
    "start_time": "2022-02-06T16:42:22.361Z"
   },
   {
    "duration": 57,
    "start_time": "2022-02-06T16:42:22.393Z"
   },
   {
    "duration": 351,
    "start_time": "2022-02-06T16:42:22.452Z"
   },
   {
    "duration": 9,
    "start_time": "2022-02-06T16:42:22.805Z"
   },
   {
    "duration": 27,
    "start_time": "2022-02-06T16:42:22.832Z"
   },
   {
    "duration": 27,
    "start_time": "2022-02-06T16:42:22.861Z"
   },
   {
    "duration": 76,
    "start_time": "2022-02-06T16:42:22.891Z"
   },
   {
    "duration": 2476,
    "start_time": "2022-02-06T16:42:22.970Z"
   },
   {
    "duration": 7,
    "start_time": "2022-02-06T16:42:25.449Z"
   },
   {
    "duration": 8,
    "start_time": "2022-02-06T16:42:25.458Z"
   },
   {
    "duration": 14,
    "start_time": "2022-02-06T16:42:25.468Z"
   },
   {
    "duration": 12,
    "start_time": "2022-02-06T16:42:25.484Z"
   },
   {
    "duration": 16,
    "start_time": "2022-02-06T16:42:25.533Z"
   },
   {
    "duration": 13,
    "start_time": "2022-02-06T16:42:25.551Z"
   },
   {
    "duration": 2636,
    "start_time": "2022-02-06T16:42:40.915Z"
   },
   {
    "duration": 2670,
    "start_time": "2022-02-06T16:43:32.101Z"
   },
   {
    "duration": 2539,
    "start_time": "2022-02-06T16:44:09.722Z"
   },
   {
    "duration": 2667,
    "start_time": "2022-02-06T16:47:05.125Z"
   },
   {
    "duration": 2350,
    "start_time": "2022-02-06T16:47:47.476Z"
   },
   {
    "duration": 1331,
    "start_time": "2022-02-06T16:49:55.964Z"
   },
   {
    "duration": 1077,
    "start_time": "2022-02-06T16:50:33.218Z"
   },
   {
    "duration": 840,
    "start_time": "2022-02-06T16:51:20.749Z"
   },
   {
    "duration": 960,
    "start_time": "2022-02-06T16:51:29.372Z"
   },
   {
    "duration": 2642,
    "start_time": "2022-02-06T16:52:03.313Z"
   },
   {
    "duration": 1346,
    "start_time": "2022-02-06T16:52:21.591Z"
   },
   {
    "duration": 589,
    "start_time": "2022-02-06T16:53:34.821Z"
   },
   {
    "duration": 342,
    "start_time": "2022-02-06T16:53:41.703Z"
   },
   {
    "duration": 547,
    "start_time": "2022-02-06T16:53:53.616Z"
   },
   {
    "duration": 326,
    "start_time": "2022-02-06T16:54:03.375Z"
   },
   {
    "duration": 324,
    "start_time": "2022-02-06T16:54:09.800Z"
   },
   {
    "duration": 556,
    "start_time": "2022-02-06T16:54:14.537Z"
   },
   {
    "duration": 349,
    "start_time": "2022-02-06T16:54:30.469Z"
   },
   {
    "duration": 436,
    "start_time": "2022-02-06T16:55:29.055Z"
   },
   {
    "duration": 653,
    "start_time": "2022-02-06T16:56:17.281Z"
   },
   {
    "duration": 355,
    "start_time": "2022-02-06T16:56:30.908Z"
   },
   {
    "duration": 769,
    "start_time": "2022-02-06T16:57:16.365Z"
   },
   {
    "duration": 684,
    "start_time": "2022-02-06T16:57:28.207Z"
   },
   {
    "duration": 370,
    "start_time": "2022-02-06T16:57:34.118Z"
   },
   {
    "duration": 569,
    "start_time": "2022-02-06T16:57:39.466Z"
   },
   {
    "duration": 353,
    "start_time": "2022-02-06T16:57:56.201Z"
   },
   {
    "duration": 384,
    "start_time": "2022-02-06T16:58:13.883Z"
   },
   {
    "duration": 351,
    "start_time": "2022-02-06T16:58:38.827Z"
   },
   {
    "duration": 338,
    "start_time": "2022-02-06T16:58:53.409Z"
   },
   {
    "duration": 698,
    "start_time": "2022-02-06T16:59:02.777Z"
   },
   {
    "duration": 348,
    "start_time": "2022-02-06T16:59:47.449Z"
   },
   {
    "duration": 385,
    "start_time": "2022-02-06T17:02:28.809Z"
   },
   {
    "duration": 911,
    "start_time": "2022-02-06T17:03:49.375Z"
   },
   {
    "duration": 87,
    "start_time": "2022-02-06T17:04:18.250Z"
   },
   {
    "duration": 75,
    "start_time": "2022-02-06T17:04:23.229Z"
   },
   {
    "duration": 231,
    "start_time": "2022-02-06T17:04:33.555Z"
   },
   {
    "duration": 566,
    "start_time": "2022-02-06T17:04:48.900Z"
   },
   {
    "duration": 842,
    "start_time": "2022-02-06T17:05:10.213Z"
   },
   {
    "duration": 826,
    "start_time": "2022-02-06T17:05:20.491Z"
   },
   {
    "duration": 265,
    "start_time": "2022-02-06T17:05:39.212Z"
   },
   {
    "duration": 968,
    "start_time": "2022-02-06T17:06:02.934Z"
   },
   {
    "duration": 1121,
    "start_time": "2022-02-06T17:06:26.069Z"
   },
   {
    "duration": 826,
    "start_time": "2022-02-06T17:07:03.029Z"
   },
   {
    "duration": 865,
    "start_time": "2022-02-06T17:07:09.140Z"
   },
   {
    "duration": 877,
    "start_time": "2022-02-06T17:07:15.501Z"
   },
   {
    "duration": 1051,
    "start_time": "2022-02-06T17:08:33.689Z"
   },
   {
    "duration": 881,
    "start_time": "2022-02-06T17:08:58.524Z"
   },
   {
    "duration": 1043,
    "start_time": "2022-02-06T17:09:07.690Z"
   },
   {
    "duration": 1013,
    "start_time": "2022-02-06T17:10:26.531Z"
   },
   {
    "duration": 566,
    "start_time": "2022-02-06T17:10:45.820Z"
   },
   {
    "duration": 738,
    "start_time": "2022-02-06T17:10:57.735Z"
   },
   {
    "duration": 1620,
    "start_time": "2022-02-06T17:11:06.965Z"
   },
   {
    "duration": 939,
    "start_time": "2022-02-06T17:11:26.663Z"
   },
   {
    "duration": 928,
    "start_time": "2022-02-06T17:11:43.009Z"
   },
   {
    "duration": 893,
    "start_time": "2022-02-06T17:11:49.056Z"
   },
   {
    "duration": 965,
    "start_time": "2022-02-06T17:11:53.013Z"
   },
   {
    "duration": 1016,
    "start_time": "2022-02-06T17:12:02.258Z"
   },
   {
    "duration": 892,
    "start_time": "2022-02-06T17:12:26.519Z"
   },
   {
    "duration": 921,
    "start_time": "2022-02-06T17:12:46.086Z"
   },
   {
    "duration": 938,
    "start_time": "2022-02-06T17:12:55.563Z"
   },
   {
    "duration": 628,
    "start_time": "2022-02-06T17:13:04.614Z"
   },
   {
    "duration": 900,
    "start_time": "2022-02-06T17:13:22.221Z"
   },
   {
    "duration": 1027,
    "start_time": "2022-02-06T17:13:30.860Z"
   },
   {
    "duration": 260,
    "start_time": "2022-02-06T17:13:40.291Z"
   },
   {
    "duration": 950,
    "start_time": "2022-02-06T17:14:00.337Z"
   },
   {
    "duration": 595,
    "start_time": "2022-02-06T17:14:07.418Z"
   },
   {
    "duration": 1206,
    "start_time": "2022-02-06T17:14:41.414Z"
   },
   {
    "duration": 568,
    "start_time": "2022-02-06T17:14:51.886Z"
   },
   {
    "duration": 672,
    "start_time": "2022-02-06T17:15:19.929Z"
   },
   {
    "duration": 1113,
    "start_time": "2022-02-06T17:16:29.389Z"
   },
   {
    "duration": 1137,
    "start_time": "2022-02-06T17:16:39.867Z"
   },
   {
    "duration": 1324,
    "start_time": "2022-02-06T17:16:49.271Z"
   },
   {
    "duration": 1215,
    "start_time": "2022-02-06T17:16:58.017Z"
   },
   {
    "duration": 1337,
    "start_time": "2022-02-06T17:17:06.258Z"
   },
   {
    "duration": 1528,
    "start_time": "2022-02-06T17:19:03.621Z"
   },
   {
    "duration": 1450,
    "start_time": "2022-02-06T17:19:24.986Z"
   },
   {
    "duration": 1438,
    "start_time": "2022-02-06T17:19:34.173Z"
   },
   {
    "duration": 1991,
    "start_time": "2022-02-06T17:19:48.831Z"
   },
   {
    "duration": 1477,
    "start_time": "2022-02-06T17:20:14.958Z"
   },
   {
    "duration": 83,
    "start_time": "2022-02-06T17:22:49.235Z"
   },
   {
    "duration": 2337,
    "start_time": "2022-02-06T17:22:53.750Z"
   },
   {
    "duration": 2434,
    "start_time": "2022-02-06T17:23:15.810Z"
   },
   {
    "duration": 2314,
    "start_time": "2022-02-06T17:23:28.718Z"
   },
   {
    "duration": 2414,
    "start_time": "2022-02-06T17:23:47.205Z"
   },
   {
    "duration": 2412,
    "start_time": "2022-02-06T17:24:41.457Z"
   },
   {
    "duration": 2405,
    "start_time": "2022-02-06T17:26:01.768Z"
   },
   {
    "duration": 2390,
    "start_time": "2022-02-06T17:27:18.755Z"
   },
   {
    "duration": 2405,
    "start_time": "2022-02-06T17:27:54.564Z"
   },
   {
    "duration": 2532,
    "start_time": "2022-02-06T17:28:19.612Z"
   },
   {
    "duration": 1824,
    "start_time": "2022-02-06T17:32:13.833Z"
   },
   {
    "duration": 692,
    "start_time": "2022-02-06T17:32:15.660Z"
   },
   {
    "duration": 59,
    "start_time": "2022-02-06T17:32:16.356Z"
   },
   {
    "duration": 6,
    "start_time": "2022-02-06T17:32:16.418Z"
   },
   {
    "duration": 157,
    "start_time": "2022-02-06T17:32:16.433Z"
   },
   {
    "duration": 51,
    "start_time": "2022-02-06T17:32:16.592Z"
   },
   {
    "duration": 7,
    "start_time": "2022-02-06T17:32:16.645Z"
   },
   {
    "duration": 32,
    "start_time": "2022-02-06T17:32:16.657Z"
   },
   {
    "duration": 43,
    "start_time": "2022-02-06T17:32:16.691Z"
   },
   {
    "duration": 114,
    "start_time": "2022-02-06T17:32:16.737Z"
   },
   {
    "duration": 35,
    "start_time": "2022-02-06T17:32:16.853Z"
   },
   {
    "duration": 7,
    "start_time": "2022-02-06T17:32:16.890Z"
   },
   {
    "duration": 50,
    "start_time": "2022-02-06T17:32:16.899Z"
   },
   {
    "duration": 17,
    "start_time": "2022-02-06T17:32:16.952Z"
   },
   {
    "duration": 6,
    "start_time": "2022-02-06T17:32:16.971Z"
   },
   {
    "duration": 95,
    "start_time": "2022-02-06T17:32:16.979Z"
   },
   {
    "duration": 6,
    "start_time": "2022-02-06T17:32:17.077Z"
   },
   {
    "duration": 20,
    "start_time": "2022-02-06T17:32:17.086Z"
   },
   {
    "duration": 19,
    "start_time": "2022-02-06T17:32:17.134Z"
   },
   {
    "duration": 31,
    "start_time": "2022-02-06T17:32:17.156Z"
   },
   {
    "duration": 59,
    "start_time": "2022-02-06T17:32:17.190Z"
   },
   {
    "duration": 5,
    "start_time": "2022-02-06T17:32:17.251Z"
   },
   {
    "duration": 8,
    "start_time": "2022-02-06T17:32:17.262Z"
   },
   {
    "duration": 288,
    "start_time": "2022-02-06T17:32:17.273Z"
   },
   {
    "duration": 10,
    "start_time": "2022-02-06T17:32:17.564Z"
   },
   {
    "duration": 391,
    "start_time": "2022-02-06T17:32:17.576Z"
   },
   {
    "duration": 385,
    "start_time": "2022-02-06T17:32:17.970Z"
   },
   {
    "duration": 97,
    "start_time": "2022-02-06T17:32:18.358Z"
   },
   {
    "duration": 78,
    "start_time": "2022-02-06T17:32:18.458Z"
   },
   {
    "duration": 8,
    "start_time": "2022-02-06T17:32:18.539Z"
   },
   {
    "duration": 24,
    "start_time": "2022-02-06T17:32:18.549Z"
   },
   {
    "duration": 58,
    "start_time": "2022-02-06T17:32:18.576Z"
   },
   {
    "duration": 56,
    "start_time": "2022-02-06T17:32:18.637Z"
   },
   {
    "duration": 73,
    "start_time": "2022-02-06T17:32:18.696Z"
   },
   {
    "duration": 64,
    "start_time": "2022-02-06T17:32:18.772Z"
   },
   {
    "duration": 37,
    "start_time": "2022-02-06T17:32:18.838Z"
   },
   {
    "duration": 129,
    "start_time": "2022-02-06T17:32:18.877Z"
   },
   {
    "duration": 11,
    "start_time": "2022-02-06T17:32:19.009Z"
   },
   {
    "duration": 10,
    "start_time": "2022-02-06T17:32:19.033Z"
   },
   {
    "duration": 5,
    "start_time": "2022-02-06T17:32:19.046Z"
   },
   {
    "duration": 18,
    "start_time": "2022-02-06T17:32:19.053Z"
   },
   {
    "duration": 15,
    "start_time": "2022-02-06T17:32:19.073Z"
   },
   {
    "duration": 24,
    "start_time": "2022-02-06T17:32:19.132Z"
   },
   {
    "duration": 35,
    "start_time": "2022-02-06T17:32:19.160Z"
   },
   {
    "duration": 408,
    "start_time": "2022-02-06T17:32:19.198Z"
   },
   {
    "duration": 24,
    "start_time": "2022-02-06T17:32:19.608Z"
   },
   {
    "duration": 26,
    "start_time": "2022-02-06T17:32:19.635Z"
   },
   {
    "duration": 29,
    "start_time": "2022-02-06T17:32:19.664Z"
   },
   {
    "duration": 82,
    "start_time": "2022-02-06T17:32:19.698Z"
   },
   {
    "duration": 2954,
    "start_time": "2022-02-06T17:32:19.782Z"
   },
   {
    "duration": 2452,
    "start_time": "2022-02-06T17:32:22.739Z"
   },
   {
    "duration": 7,
    "start_time": "2022-02-06T17:32:25.193Z"
   },
   {
    "duration": 32,
    "start_time": "2022-02-06T17:32:25.203Z"
   },
   {
    "duration": 13,
    "start_time": "2022-02-06T17:32:25.238Z"
   },
   {
    "duration": 10,
    "start_time": "2022-02-06T17:32:25.254Z"
   },
   {
    "duration": 14,
    "start_time": "2022-02-06T17:32:25.266Z"
   },
   {
    "duration": 7,
    "start_time": "2022-02-06T17:32:25.283Z"
   },
   {
    "duration": 7,
    "start_time": "2022-02-06T17:33:58.065Z"
   },
   {
    "duration": 8,
    "start_time": "2022-02-06T17:34:07.672Z"
   },
   {
    "duration": 7,
    "start_time": "2022-02-06T17:34:18.705Z"
   },
   {
    "duration": 7,
    "start_time": "2022-02-06T17:34:27.321Z"
   },
   {
    "duration": 6,
    "start_time": "2022-02-06T17:34:39.382Z"
   },
   {
    "duration": 5,
    "start_time": "2022-02-06T17:34:48.444Z"
   },
   {
    "duration": 1237,
    "start_time": "2022-02-06T17:34:54.860Z"
   },
   {
    "duration": 493,
    "start_time": "2022-02-06T17:34:56.099Z"
   },
   {
    "duration": 39,
    "start_time": "2022-02-06T17:34:56.595Z"
   },
   {
    "duration": 6,
    "start_time": "2022-02-06T17:34:56.637Z"
   },
   {
    "duration": 150,
    "start_time": "2022-02-06T17:34:56.646Z"
   },
   {
    "duration": 51,
    "start_time": "2022-02-06T17:34:56.799Z"
   },
   {
    "duration": 9,
    "start_time": "2022-02-06T17:34:56.853Z"
   },
   {
    "duration": 64,
    "start_time": "2022-02-06T17:34:56.867Z"
   },
   {
    "duration": 6,
    "start_time": "2022-02-06T17:34:56.934Z"
   },
   {
    "duration": 141,
    "start_time": "2022-02-06T17:34:56.943Z"
   },
   {
    "duration": 36,
    "start_time": "2022-02-06T17:34:57.087Z"
   },
   {
    "duration": 7,
    "start_time": "2022-02-06T17:34:57.132Z"
   },
   {
    "duration": 30,
    "start_time": "2022-02-06T17:34:57.142Z"
   },
   {
    "duration": 24,
    "start_time": "2022-02-06T17:34:57.174Z"
   },
   {
    "duration": 5,
    "start_time": "2022-02-06T17:34:57.232Z"
   },
   {
    "duration": 69,
    "start_time": "2022-02-06T17:34:57.239Z"
   },
   {
    "duration": 25,
    "start_time": "2022-02-06T17:34:57.310Z"
   },
   {
    "duration": 18,
    "start_time": "2022-02-06T17:34:57.337Z"
   },
   {
    "duration": 23,
    "start_time": "2022-02-06T17:34:57.358Z"
   },
   {
    "duration": 62,
    "start_time": "2022-02-06T17:34:57.384Z"
   },
   {
    "duration": 23,
    "start_time": "2022-02-06T17:34:57.449Z"
   },
   {
    "duration": 7,
    "start_time": "2022-02-06T17:34:57.475Z"
   },
   {
    "duration": 47,
    "start_time": "2022-02-06T17:34:57.490Z"
   },
   {
    "duration": 247,
    "start_time": "2022-02-06T17:34:57.541Z"
   },
   {
    "duration": 10,
    "start_time": "2022-02-06T17:34:57.790Z"
   },
   {
    "duration": 7,
    "start_time": "2022-02-06T17:34:57.802Z"
   },
   {
    "duration": 166,
    "start_time": "2022-02-06T17:34:57.833Z"
   },
   {
    "duration": 69,
    "start_time": "2022-02-06T17:34:58.001Z"
   },
   {
    "duration": 76,
    "start_time": "2022-02-06T17:34:58.073Z"
   },
   {
    "duration": 7,
    "start_time": "2022-02-06T17:34:58.152Z"
   },
   {
    "duration": 18,
    "start_time": "2022-02-06T17:34:58.162Z"
   },
   {
    "duration": 61,
    "start_time": "2022-02-06T17:34:58.183Z"
   },
   {
    "duration": 59,
    "start_time": "2022-02-06T17:34:58.247Z"
   },
   {
    "duration": 54,
    "start_time": "2022-02-06T17:34:58.331Z"
   },
   {
    "duration": 76,
    "start_time": "2022-02-06T17:34:58.388Z"
   },
   {
    "duration": 67,
    "start_time": "2022-02-06T17:34:58.467Z"
   },
   {
    "duration": 104,
    "start_time": "2022-02-06T17:34:58.537Z"
   },
   {
    "duration": 12,
    "start_time": "2022-02-06T17:34:58.645Z"
   },
   {
    "duration": 12,
    "start_time": "2022-02-06T17:34:58.660Z"
   },
   {
    "duration": 6,
    "start_time": "2022-02-06T17:34:58.675Z"
   },
   {
    "duration": 54,
    "start_time": "2022-02-06T17:34:58.683Z"
   },
   {
    "duration": 15,
    "start_time": "2022-02-06T17:34:58.739Z"
   },
   {
    "duration": 31,
    "start_time": "2022-02-06T17:34:58.756Z"
   },
   {
    "duration": 54,
    "start_time": "2022-02-06T17:34:58.789Z"
   },
   {
    "duration": 419,
    "start_time": "2022-02-06T17:34:58.845Z"
   },
   {
    "duration": 9,
    "start_time": "2022-02-06T17:34:59.267Z"
   },
   {
    "duration": 39,
    "start_time": "2022-02-06T17:34:59.279Z"
   },
   {
    "duration": 28,
    "start_time": "2022-02-06T17:34:59.333Z"
   },
   {
    "duration": 81,
    "start_time": "2022-02-06T17:34:59.364Z"
   },
   {
    "duration": 2508,
    "start_time": "2022-02-06T17:34:59.447Z"
   },
   {
    "duration": 2305,
    "start_time": "2022-02-06T17:35:01.957Z"
   },
   {
    "duration": 8,
    "start_time": "2022-02-06T17:35:04.264Z"
   },
   {
    "duration": 12,
    "start_time": "2022-02-06T17:35:04.274Z"
   },
   {
    "duration": 15,
    "start_time": "2022-02-06T17:35:04.289Z"
   },
   {
    "duration": 31,
    "start_time": "2022-02-06T17:35:04.307Z"
   },
   {
    "duration": 22,
    "start_time": "2022-02-06T17:35:04.341Z"
   },
   {
    "duration": 7,
    "start_time": "2022-02-06T17:35:04.365Z"
   },
   {
    "duration": 7,
    "start_time": "2022-02-06T17:35:26.445Z"
   },
   {
    "duration": 6,
    "start_time": "2022-02-06T17:35:37.929Z"
   },
   {
    "duration": 1366,
    "start_time": "2022-02-06T17:35:49.925Z"
   },
   {
    "duration": 496,
    "start_time": "2022-02-06T17:35:51.293Z"
   },
   {
    "duration": 42,
    "start_time": "2022-02-06T17:35:51.792Z"
   },
   {
    "duration": 6,
    "start_time": "2022-02-06T17:35:51.837Z"
   },
   {
    "duration": 141,
    "start_time": "2022-02-06T17:35:51.845Z"
   },
   {
    "duration": 50,
    "start_time": "2022-02-06T17:35:51.989Z"
   },
   {
    "duration": 6,
    "start_time": "2022-02-06T17:35:52.042Z"
   },
   {
    "duration": 30,
    "start_time": "2022-02-06T17:35:52.052Z"
   },
   {
    "duration": 6,
    "start_time": "2022-02-06T17:35:52.085Z"
   },
   {
    "duration": 140,
    "start_time": "2022-02-06T17:35:52.093Z"
   },
   {
    "duration": 36,
    "start_time": "2022-02-06T17:35:52.236Z"
   },
   {
    "duration": 6,
    "start_time": "2022-02-06T17:35:52.275Z"
   },
   {
    "duration": 57,
    "start_time": "2022-02-06T17:35:52.283Z"
   },
   {
    "duration": 19,
    "start_time": "2022-02-06T17:35:52.342Z"
   },
   {
    "duration": 5,
    "start_time": "2022-02-06T17:35:52.363Z"
   },
   {
    "duration": 97,
    "start_time": "2022-02-06T17:35:52.370Z"
   },
   {
    "duration": 6,
    "start_time": "2022-02-06T17:35:52.469Z"
   },
   {
    "duration": 22,
    "start_time": "2022-02-06T17:35:52.477Z"
   },
   {
    "duration": 43,
    "start_time": "2022-02-06T17:35:52.502Z"
   },
   {
    "duration": 24,
    "start_time": "2022-02-06T17:35:52.547Z"
   },
   {
    "duration": 23,
    "start_time": "2022-02-06T17:35:52.574Z"
   },
   {
    "duration": 32,
    "start_time": "2022-02-06T17:35:52.600Z"
   },
   {
    "duration": 9,
    "start_time": "2022-02-06T17:35:52.638Z"
   },
   {
    "duration": 247,
    "start_time": "2022-02-06T17:35:52.650Z"
   },
   {
    "duration": 9,
    "start_time": "2022-02-06T17:35:52.899Z"
   },
   {
    "duration": 23,
    "start_time": "2022-02-06T17:35:52.910Z"
   },
   {
    "duration": 235,
    "start_time": "2022-02-06T17:35:52.935Z"
   },
   {
    "duration": 108,
    "start_time": "2022-02-06T17:35:53.173Z"
   },
   {
    "duration": 62,
    "start_time": "2022-02-06T17:35:53.284Z"
   },
   {
    "duration": 7,
    "start_time": "2022-02-06T17:35:53.349Z"
   },
   {
    "duration": 19,
    "start_time": "2022-02-06T17:35:53.358Z"
   },
   {
    "duration": 60,
    "start_time": "2022-02-06T17:35:53.379Z"
   },
   {
    "duration": 55,
    "start_time": "2022-02-06T17:35:53.441Z"
   },
   {
    "duration": 72,
    "start_time": "2022-02-06T17:35:53.499Z"
   },
   {
    "duration": 68,
    "start_time": "2022-02-06T17:35:53.573Z"
   },
   {
    "duration": 39,
    "start_time": "2022-02-06T17:35:53.643Z"
   },
   {
    "duration": 117,
    "start_time": "2022-02-06T17:35:53.684Z"
   },
   {
    "duration": 12,
    "start_time": "2022-02-06T17:35:53.804Z"
   },
   {
    "duration": 12,
    "start_time": "2022-02-06T17:35:53.833Z"
   },
   {
    "duration": 13,
    "start_time": "2022-02-06T17:35:53.847Z"
   },
   {
    "duration": 17,
    "start_time": "2022-02-06T17:35:53.863Z"
   },
   {
    "duration": 49,
    "start_time": "2022-02-06T17:35:53.883Z"
   },
   {
    "duration": 26,
    "start_time": "2022-02-06T17:35:53.935Z"
   },
   {
    "duration": 34,
    "start_time": "2022-02-06T17:35:53.964Z"
   },
   {
    "duration": 414,
    "start_time": "2022-02-06T17:35:54.001Z"
   },
   {
    "duration": 19,
    "start_time": "2022-02-06T17:35:54.418Z"
   },
   {
    "duration": 28,
    "start_time": "2022-02-06T17:35:54.439Z"
   },
   {
    "duration": 25,
    "start_time": "2022-02-06T17:35:54.469Z"
   },
   {
    "duration": 77,
    "start_time": "2022-02-06T17:35:54.496Z"
   },
   {
    "duration": 2518,
    "start_time": "2022-02-06T17:35:54.576Z"
   },
   {
    "duration": 2330,
    "start_time": "2022-02-06T17:35:57.097Z"
   },
   {
    "duration": 8,
    "start_time": "2022-02-06T17:35:59.429Z"
   },
   {
    "duration": 7,
    "start_time": "2022-02-06T17:35:59.440Z"
   },
   {
    "duration": 17,
    "start_time": "2022-02-06T17:35:59.450Z"
   },
   {
    "duration": 15,
    "start_time": "2022-02-06T17:35:59.469Z"
   },
   {
    "duration": 18,
    "start_time": "2022-02-06T17:35:59.486Z"
   },
   {
    "duration": 7,
    "start_time": "2022-02-06T17:35:59.506Z"
   },
   {
    "duration": 2495,
    "start_time": "2022-02-06T17:38:27.542Z"
   },
   {
    "duration": 2306,
    "start_time": "2022-02-06T17:40:04.698Z"
   },
   {
    "duration": 1471,
    "start_time": "2022-02-06T17:40:41.109Z"
   },
   {
    "duration": 526,
    "start_time": "2022-02-06T17:40:42.583Z"
   },
   {
    "duration": 40,
    "start_time": "2022-02-06T17:40:43.112Z"
   },
   {
    "duration": 5,
    "start_time": "2022-02-06T17:40:43.155Z"
   },
   {
    "duration": 172,
    "start_time": "2022-02-06T17:40:43.163Z"
   },
   {
    "duration": 40,
    "start_time": "2022-02-06T17:40:43.338Z"
   },
   {
    "duration": 10,
    "start_time": "2022-02-06T17:40:43.381Z"
   },
   {
    "duration": 62,
    "start_time": "2022-02-06T17:40:43.394Z"
   },
   {
    "duration": 6,
    "start_time": "2022-02-06T17:40:43.459Z"
   },
   {
    "duration": 131,
    "start_time": "2022-02-06T17:40:43.468Z"
   },
   {
    "duration": 45,
    "start_time": "2022-02-06T17:40:43.601Z"
   },
   {
    "duration": 6,
    "start_time": "2022-02-06T17:40:43.649Z"
   },
   {
    "duration": 29,
    "start_time": "2022-02-06T17:40:43.657Z"
   },
   {
    "duration": 48,
    "start_time": "2022-02-06T17:40:43.689Z"
   },
   {
    "duration": 7,
    "start_time": "2022-02-06T17:40:43.740Z"
   },
   {
    "duration": 85,
    "start_time": "2022-02-06T17:40:43.750Z"
   },
   {
    "duration": 8,
    "start_time": "2022-02-06T17:40:43.838Z"
   },
   {
    "duration": 19,
    "start_time": "2022-02-06T17:40:43.849Z"
   },
   {
    "duration": 64,
    "start_time": "2022-02-06T17:40:43.871Z"
   },
   {
    "duration": 27,
    "start_time": "2022-02-06T17:40:43.937Z"
   },
   {
    "duration": 21,
    "start_time": "2022-02-06T17:40:43.966Z"
   },
   {
    "duration": 5,
    "start_time": "2022-02-06T17:40:43.989Z"
   },
   {
    "duration": 10,
    "start_time": "2022-02-06T17:40:44.033Z"
   },
   {
    "duration": 250,
    "start_time": "2022-02-06T17:40:44.047Z"
   },
   {
    "duration": 9,
    "start_time": "2022-02-06T17:40:44.300Z"
   },
   {
    "duration": 22,
    "start_time": "2022-02-06T17:40:44.311Z"
   },
   {
    "duration": 170,
    "start_time": "2022-02-06T17:40:44.335Z"
   },
   {
    "duration": 66,
    "start_time": "2022-02-06T17:40:44.507Z"
   },
   {
    "duration": 58,
    "start_time": "2022-02-06T17:40:44.576Z"
   },
   {
    "duration": 7,
    "start_time": "2022-02-06T17:40:44.636Z"
   },
   {
    "duration": 23,
    "start_time": "2022-02-06T17:40:44.645Z"
   },
   {
    "duration": 20,
    "start_time": "2022-02-06T17:40:44.671Z"
   },
   {
    "duration": 88,
    "start_time": "2022-02-06T17:40:44.693Z"
   },
   {
    "duration": 67,
    "start_time": "2022-02-06T17:40:44.783Z"
   },
   {
    "duration": 48,
    "start_time": "2022-02-06T17:40:44.853Z"
   },
   {
    "duration": 61,
    "start_time": "2022-02-06T17:40:44.904Z"
   },
   {
    "duration": 112,
    "start_time": "2022-02-06T17:40:44.967Z"
   },
   {
    "duration": 13,
    "start_time": "2022-02-06T17:40:45.082Z"
   },
   {
    "duration": 35,
    "start_time": "2022-02-06T17:40:45.097Z"
   },
   {
    "duration": 7,
    "start_time": "2022-02-06T17:40:45.135Z"
   },
   {
    "duration": 29,
    "start_time": "2022-02-06T17:40:45.144Z"
   },
   {
    "duration": 16,
    "start_time": "2022-02-06T17:40:45.176Z"
   },
   {
    "duration": 42,
    "start_time": "2022-02-06T17:40:45.194Z"
   },
   {
    "duration": 41,
    "start_time": "2022-02-06T17:40:45.238Z"
   },
   {
    "duration": 382,
    "start_time": "2022-02-06T17:40:45.281Z"
   },
   {
    "duration": 8,
    "start_time": "2022-02-06T17:40:45.666Z"
   },
   {
    "duration": 31,
    "start_time": "2022-02-06T17:40:45.676Z"
   },
   {
    "duration": 45,
    "start_time": "2022-02-06T17:40:45.709Z"
   },
   {
    "duration": 46,
    "start_time": "2022-02-06T17:40:45.756Z"
   },
   {
    "duration": 2499,
    "start_time": "2022-02-06T17:40:45.805Z"
   },
   {
    "duration": 2326,
    "start_time": "2022-02-06T17:40:48.306Z"
   },
   {
    "duration": 12,
    "start_time": "2022-02-06T17:40:50.634Z"
   },
   {
    "duration": 6,
    "start_time": "2022-02-06T17:40:50.648Z"
   },
   {
    "duration": 18,
    "start_time": "2022-02-06T17:40:50.656Z"
   },
   {
    "duration": 10,
    "start_time": "2022-02-06T17:40:50.676Z"
   },
   {
    "duration": 45,
    "start_time": "2022-02-06T17:40:50.689Z"
   },
   {
    "duration": 7,
    "start_time": "2022-02-06T17:40:50.737Z"
   }
  ],
  "kernelspec": {
   "display_name": "Python 3 (ipykernel)",
   "language": "python",
   "name": "python3"
  },
  "language_info": {
   "codemirror_mode": {
    "name": "ipython",
    "version": 3
   },
   "file_extension": ".py",
   "mimetype": "text/x-python",
   "name": "python",
   "nbconvert_exporter": "python",
   "pygments_lexer": "ipython3",
   "version": "3.9.7"
  },
  "toc": {
   "base_numbering": 1,
   "nav_menu": {},
   "number_sections": true,
   "sideBar": true,
   "skip_h1_title": true,
   "title_cell": "Table of Contents",
   "title_sidebar": "Contents",
   "toc_cell": false,
   "toc_position": {},
   "toc_section_display": true,
   "toc_window_display": false
  }
 },
 "nbformat": 4,
 "nbformat_minor": 2
}
