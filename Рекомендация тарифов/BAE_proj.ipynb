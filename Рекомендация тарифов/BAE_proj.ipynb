{
 "cells": [
  {
   "cell_type": "markdown",
   "metadata": {},
   "source": [
    "# Рекомендация тарифов"
   ]
  },
  {
   "cell_type": "markdown",
   "metadata": {},
   "source": [
    "В вашем распоряжении данные о поведении клиентов, которые уже перешли на эти тарифы (из проекта курса «Статистический анализ данных»). Нужно построить модель для задачи классификации, которая выберет подходящий тариф. Предобработка данных не понадобится — вы её уже сделали.\n",
    "\n",
    "Постройте модель с максимально большим значением *accuracy*. Чтобы сдать проект успешно, нужно довести долю правильных ответов по крайней мере до 0.75. Проверьте *accuracy* на тестовой выборке самостоятельно."
   ]
  },
  {
   "cell_type": "code",
   "execution_count": 1,
   "metadata": {},
   "outputs": [],
   "source": [
    "import pandas as pd\n",
    "import numpy as np\n",
    "from sklearn.tree import DecisionTreeClassifier\n",
    "from sklearn.ensemble import RandomForestClassifier\n",
    "from sklearn.linear_model import LogisticRegression\n",
    "from sklearn.svm import SVC\n",
    "from sklearn import svm\n",
    "from sklearn.neighbors import KNeighborsClassifier\n",
    "from sklearn.metrics import accuracy_score\n",
    "from sklearn.model_selection import train_test_split\n",
    "from matplotlib import pyplot as plt\n",
    "from sklearn.dummy import DummyClassifier\n",
    "pd.set_option('display.float_format', '{:.2f}'.format)"
   ]
  },
  {
   "cell_type": "code",
   "execution_count": 2,
   "metadata": {},
   "outputs": [],
   "source": [
    "def explore_data(data):\n",
    "    '''Знакомство с данными'''\n",
    "    display(data)\n",
    "    data.info()\n",
    "    data.describe()\n",
    "    print()\n",
    "    print('Количество дубликатов:', data.duplicated().sum(), sep='\\n',end='\\n\\n')\n",
    "    print('Количество пропусков:', data.isna().sum(), sep='\\n', end='\\n\\n')\n",
    "    print('Распределение значений в данных:')\n",
    "    display(data.describe())\n",
    "    "
   ]
  },
  {
   "cell_type": "markdown",
   "metadata": {},
   "source": [
    "## Откройте и изучите файл"
   ]
  },
  {
   "cell_type": "code",
   "execution_count": 3,
   "metadata": {},
   "outputs": [],
   "source": [
    "df = pd.read_csv('/datasets/users_behavior.csv')"
   ]
  },
  {
   "cell_type": "markdown",
   "metadata": {},
   "source": [
    "Изучим данные с помощью созданной функции **explore_data**"
   ]
  },
  {
   "cell_type": "code",
   "execution_count": 4,
   "metadata": {},
   "outputs": [
    {
     "data": {
      "text/html": [
       "<div>\n",
       "<style scoped>\n",
       "    .dataframe tbody tr th:only-of-type {\n",
       "        vertical-align: middle;\n",
       "    }\n",
       "\n",
       "    .dataframe tbody tr th {\n",
       "        vertical-align: top;\n",
       "    }\n",
       "\n",
       "    .dataframe thead th {\n",
       "        text-align: right;\n",
       "    }\n",
       "</style>\n",
       "<table border=\"1\" class=\"dataframe\">\n",
       "  <thead>\n",
       "    <tr style=\"text-align: right;\">\n",
       "      <th></th>\n",
       "      <th>calls</th>\n",
       "      <th>minutes</th>\n",
       "      <th>messages</th>\n",
       "      <th>mb_used</th>\n",
       "      <th>is_ultra</th>\n",
       "    </tr>\n",
       "  </thead>\n",
       "  <tbody>\n",
       "    <tr>\n",
       "      <td>0</td>\n",
       "      <td>40.00</td>\n",
       "      <td>311.90</td>\n",
       "      <td>83.00</td>\n",
       "      <td>19915.42</td>\n",
       "      <td>0</td>\n",
       "    </tr>\n",
       "    <tr>\n",
       "      <td>1</td>\n",
       "      <td>85.00</td>\n",
       "      <td>516.75</td>\n",
       "      <td>56.00</td>\n",
       "      <td>22696.96</td>\n",
       "      <td>0</td>\n",
       "    </tr>\n",
       "    <tr>\n",
       "      <td>2</td>\n",
       "      <td>77.00</td>\n",
       "      <td>467.66</td>\n",
       "      <td>86.00</td>\n",
       "      <td>21060.45</td>\n",
       "      <td>0</td>\n",
       "    </tr>\n",
       "    <tr>\n",
       "      <td>3</td>\n",
       "      <td>106.00</td>\n",
       "      <td>745.53</td>\n",
       "      <td>81.00</td>\n",
       "      <td>8437.39</td>\n",
       "      <td>1</td>\n",
       "    </tr>\n",
       "    <tr>\n",
       "      <td>4</td>\n",
       "      <td>66.00</td>\n",
       "      <td>418.74</td>\n",
       "      <td>1.00</td>\n",
       "      <td>14502.75</td>\n",
       "      <td>0</td>\n",
       "    </tr>\n",
       "    <tr>\n",
       "      <td>...</td>\n",
       "      <td>...</td>\n",
       "      <td>...</td>\n",
       "      <td>...</td>\n",
       "      <td>...</td>\n",
       "      <td>...</td>\n",
       "    </tr>\n",
       "    <tr>\n",
       "      <td>3209</td>\n",
       "      <td>122.00</td>\n",
       "      <td>910.98</td>\n",
       "      <td>20.00</td>\n",
       "      <td>35124.90</td>\n",
       "      <td>1</td>\n",
       "    </tr>\n",
       "    <tr>\n",
       "      <td>3210</td>\n",
       "      <td>25.00</td>\n",
       "      <td>190.36</td>\n",
       "      <td>0.00</td>\n",
       "      <td>3275.61</td>\n",
       "      <td>0</td>\n",
       "    </tr>\n",
       "    <tr>\n",
       "      <td>3211</td>\n",
       "      <td>97.00</td>\n",
       "      <td>634.44</td>\n",
       "      <td>70.00</td>\n",
       "      <td>13974.06</td>\n",
       "      <td>0</td>\n",
       "    </tr>\n",
       "    <tr>\n",
       "      <td>3212</td>\n",
       "      <td>64.00</td>\n",
       "      <td>462.32</td>\n",
       "      <td>90.00</td>\n",
       "      <td>31239.78</td>\n",
       "      <td>0</td>\n",
       "    </tr>\n",
       "    <tr>\n",
       "      <td>3213</td>\n",
       "      <td>80.00</td>\n",
       "      <td>566.09</td>\n",
       "      <td>6.00</td>\n",
       "      <td>29480.52</td>\n",
       "      <td>1</td>\n",
       "    </tr>\n",
       "  </tbody>\n",
       "</table>\n",
       "<p>3214 rows × 5 columns</p>\n",
       "</div>"
      ],
      "text/plain": [
       "      calls  minutes  messages  mb_used  is_ultra\n",
       "0     40.00   311.90     83.00 19915.42         0\n",
       "1     85.00   516.75     56.00 22696.96         0\n",
       "2     77.00   467.66     86.00 21060.45         0\n",
       "3    106.00   745.53     81.00  8437.39         1\n",
       "4     66.00   418.74      1.00 14502.75         0\n",
       "...     ...      ...       ...      ...       ...\n",
       "3209 122.00   910.98     20.00 35124.90         1\n",
       "3210  25.00   190.36      0.00  3275.61         0\n",
       "3211  97.00   634.44     70.00 13974.06         0\n",
       "3212  64.00   462.32     90.00 31239.78         0\n",
       "3213  80.00   566.09      6.00 29480.52         1\n",
       "\n",
       "[3214 rows x 5 columns]"
      ]
     },
     "metadata": {},
     "output_type": "display_data"
    },
    {
     "name": "stdout",
     "output_type": "stream",
     "text": [
      "<class 'pandas.core.frame.DataFrame'>\n",
      "RangeIndex: 3214 entries, 0 to 3213\n",
      "Data columns (total 5 columns):\n",
      "calls       3214 non-null float64\n",
      "minutes     3214 non-null float64\n",
      "messages    3214 non-null float64\n",
      "mb_used     3214 non-null float64\n",
      "is_ultra    3214 non-null int64\n",
      "dtypes: float64(4), int64(1)\n",
      "memory usage: 125.7 KB\n",
      "\n",
      "Количество дубликатов:\n",
      "0\n",
      "\n",
      "Количество пропусков:\n",
      "calls       0\n",
      "minutes     0\n",
      "messages    0\n",
      "mb_used     0\n",
      "is_ultra    0\n",
      "dtype: int64\n",
      "\n",
      "Распределение значений в данных:\n"
     ]
    },
    {
     "data": {
      "text/html": [
       "<div>\n",
       "<style scoped>\n",
       "    .dataframe tbody tr th:only-of-type {\n",
       "        vertical-align: middle;\n",
       "    }\n",
       "\n",
       "    .dataframe tbody tr th {\n",
       "        vertical-align: top;\n",
       "    }\n",
       "\n",
       "    .dataframe thead th {\n",
       "        text-align: right;\n",
       "    }\n",
       "</style>\n",
       "<table border=\"1\" class=\"dataframe\">\n",
       "  <thead>\n",
       "    <tr style=\"text-align: right;\">\n",
       "      <th></th>\n",
       "      <th>calls</th>\n",
       "      <th>minutes</th>\n",
       "      <th>messages</th>\n",
       "      <th>mb_used</th>\n",
       "      <th>is_ultra</th>\n",
       "    </tr>\n",
       "  </thead>\n",
       "  <tbody>\n",
       "    <tr>\n",
       "      <td>count</td>\n",
       "      <td>3214.00</td>\n",
       "      <td>3214.00</td>\n",
       "      <td>3214.00</td>\n",
       "      <td>3214.00</td>\n",
       "      <td>3214.00</td>\n",
       "    </tr>\n",
       "    <tr>\n",
       "      <td>mean</td>\n",
       "      <td>63.04</td>\n",
       "      <td>438.21</td>\n",
       "      <td>38.28</td>\n",
       "      <td>17207.67</td>\n",
       "      <td>0.31</td>\n",
       "    </tr>\n",
       "    <tr>\n",
       "      <td>std</td>\n",
       "      <td>33.24</td>\n",
       "      <td>234.57</td>\n",
       "      <td>36.15</td>\n",
       "      <td>7570.97</td>\n",
       "      <td>0.46</td>\n",
       "    </tr>\n",
       "    <tr>\n",
       "      <td>min</td>\n",
       "      <td>0.00</td>\n",
       "      <td>0.00</td>\n",
       "      <td>0.00</td>\n",
       "      <td>0.00</td>\n",
       "      <td>0.00</td>\n",
       "    </tr>\n",
       "    <tr>\n",
       "      <td>25%</td>\n",
       "      <td>40.00</td>\n",
       "      <td>274.58</td>\n",
       "      <td>9.00</td>\n",
       "      <td>12491.90</td>\n",
       "      <td>0.00</td>\n",
       "    </tr>\n",
       "    <tr>\n",
       "      <td>50%</td>\n",
       "      <td>62.00</td>\n",
       "      <td>430.60</td>\n",
       "      <td>30.00</td>\n",
       "      <td>16943.24</td>\n",
       "      <td>0.00</td>\n",
       "    </tr>\n",
       "    <tr>\n",
       "      <td>75%</td>\n",
       "      <td>82.00</td>\n",
       "      <td>571.93</td>\n",
       "      <td>57.00</td>\n",
       "      <td>21424.70</td>\n",
       "      <td>1.00</td>\n",
       "    </tr>\n",
       "    <tr>\n",
       "      <td>max</td>\n",
       "      <td>244.00</td>\n",
       "      <td>1632.06</td>\n",
       "      <td>224.00</td>\n",
       "      <td>49745.73</td>\n",
       "      <td>1.00</td>\n",
       "    </tr>\n",
       "  </tbody>\n",
       "</table>\n",
       "</div>"
      ],
      "text/plain": [
       "        calls  minutes  messages  mb_used  is_ultra\n",
       "count 3214.00  3214.00   3214.00  3214.00   3214.00\n",
       "mean    63.04   438.21     38.28 17207.67      0.31\n",
       "std     33.24   234.57     36.15  7570.97      0.46\n",
       "min      0.00     0.00      0.00     0.00      0.00\n",
       "25%     40.00   274.58      9.00 12491.90      0.00\n",
       "50%     62.00   430.60     30.00 16943.24      0.00\n",
       "75%     82.00   571.93     57.00 21424.70      1.00\n",
       "max    244.00  1632.06    224.00 49745.73      1.00"
      ]
     },
     "metadata": {},
     "output_type": "display_data"
    }
   ],
   "source": [
    "explore_data(df)"
   ]
  },
  {
   "cell_type": "markdown",
   "metadata": {},
   "source": [
    "Контрольно проверим уникальные значения в is_ultra, и распределения данных между ними."
   ]
  },
  {
   "cell_type": "code",
   "execution_count": 5,
   "metadata": {},
   "outputs": [
    {
     "data": {
      "text/plain": [
       "array([0, 1])"
      ]
     },
     "execution_count": 5,
     "metadata": {},
     "output_type": "execute_result"
    }
   ],
   "source": [
    "df['is_ultra'].unique()"
   ]
  },
  {
   "cell_type": "code",
   "execution_count": 6,
   "metadata": {},
   "outputs": [
    {
     "data": {
      "text/plain": [
       "0    2229\n",
       "1     985\n",
       "Name: is_ultra, dtype: int64"
      ]
     },
     "execution_count": 6,
     "metadata": {},
     "output_type": "execute_result"
    }
   ],
   "source": [
    "df['is_ultra'].value_counts()"
   ]
  },
  {
   "cell_type": "markdown",
   "metadata": {},
   "source": [
    "Проверю, есть ли данные которые сильно зависят друг от друга."
   ]
  },
  {
   "cell_type": "code",
   "execution_count": 7,
   "metadata": {},
   "outputs": [
    {
     "data": {
      "text/plain": [
       "array([[<matplotlib.axes._subplots.AxesSubplot object at 0x7f628d302350>,\n",
       "        <matplotlib.axes._subplots.AxesSubplot object at 0x7f6201406950>,\n",
       "        <matplotlib.axes._subplots.AxesSubplot object at 0x7f62013c4c50>,\n",
       "        <matplotlib.axes._subplots.AxesSubplot object at 0x7f620137b950>,\n",
       "        <matplotlib.axes._subplots.AxesSubplot object at 0x7f6201338c90>],\n",
       "       [<matplotlib.axes._subplots.AxesSubplot object at 0x7f62012f0990>,\n",
       "        <matplotlib.axes._subplots.AxesSubplot object at 0x7f62012addd0>,\n",
       "        <matplotlib.axes._subplots.AxesSubplot object at 0x7f62012649d0>,\n",
       "        <matplotlib.axes._subplots.AxesSubplot object at 0x7f620126d510>,\n",
       "        <matplotlib.axes._subplots.AxesSubplot object at 0x7f62012a1e90>],\n",
       "       [<matplotlib.axes._subplots.AxesSubplot object at 0x7f6201216d50>,\n",
       "        <matplotlib.axes._subplots.AxesSubplot object at 0x7f62011cda50>,\n",
       "        <matplotlib.axes._subplots.AxesSubplot object at 0x7f620118bd90>,\n",
       "        <matplotlib.axes._subplots.AxesSubplot object at 0x7f6201140a90>,\n",
       "        <matplotlib.axes._subplots.AxesSubplot object at 0x7f6201100dd0>],\n",
       "       [<matplotlib.axes._subplots.AxesSubplot object at 0x7f62010b3ad0>,\n",
       "        <matplotlib.axes._subplots.AxesSubplot object at 0x7f6201072dd0>,\n",
       "        <matplotlib.axes._subplots.AxesSubplot object at 0x7f6201029ad0>,\n",
       "        <matplotlib.axes._subplots.AxesSubplot object at 0x7f6200fe8e10>,\n",
       "        <matplotlib.axes._subplots.AxesSubplot object at 0x7f620101db10>],\n",
       "       [<matplotlib.axes._subplots.AxesSubplot object at 0x7f6200fdae50>,\n",
       "        <matplotlib.axes._subplots.AxesSubplot object at 0x7f6200f91b50>,\n",
       "        <matplotlib.axes._subplots.AxesSubplot object at 0x7f6200f4fe90>,\n",
       "        <matplotlib.axes._subplots.AxesSubplot object at 0x7f6200f05b90>,\n",
       "        <matplotlib.axes._subplots.AxesSubplot object at 0x7f6200ec5ed0>]],\n",
       "      dtype=object)"
      ]
     },
     "execution_count": 7,
     "metadata": {},
     "output_type": "execute_result"
    },
    {
     "data": {
      "image/png": "[encoded data removed]",
      "text/plain": [
       "<Figure size 648x648 with 25 Axes>"
      ]
     },
     "metadata": {
      "needs_background": "light"
     },
     "output_type": "display_data"
    }
   ],
   "source": [
    "pd.plotting.scatter_matrix(df, figsize=(9, 9))"
   ]
  },
  {
   "cell_type": "markdown",
   "metadata": {},
   "source": [
    "По матрице диаграммы рассеивания видно что зависимость наблюдается между количеством звонков и минутами. Проверю коэфицент кореляции."
   ]
  },
  {
   "cell_type": "code",
   "execution_count": 8,
   "metadata": {},
   "outputs": [
    {
     "data": {
      "text/html": [
       "<div>\n",
       "<style scoped>\n",
       "    .dataframe tbody tr th:only-of-type {\n",
       "        vertical-align: middle;\n",
       "    }\n",
       "\n",
       "    .dataframe tbody tr th {\n",
       "        vertical-align: top;\n",
       "    }\n",
       "\n",
       "    .dataframe thead th {\n",
       "        text-align: right;\n",
       "    }\n",
       "</style>\n",
       "<table border=\"1\" class=\"dataframe\">\n",
       "  <thead>\n",
       "    <tr style=\"text-align: right;\">\n",
       "      <th></th>\n",
       "      <th>calls</th>\n",
       "      <th>minutes</th>\n",
       "      <th>messages</th>\n",
       "      <th>mb_used</th>\n",
       "      <th>is_ultra</th>\n",
       "    </tr>\n",
       "  </thead>\n",
       "  <tbody>\n",
       "    <tr>\n",
       "      <td>calls</td>\n",
       "      <td>1.00</td>\n",
       "      <td>0.98</td>\n",
       "      <td>0.18</td>\n",
       "      <td>0.29</td>\n",
       "      <td>0.21</td>\n",
       "    </tr>\n",
       "    <tr>\n",
       "      <td>minutes</td>\n",
       "      <td>0.98</td>\n",
       "      <td>1.00</td>\n",
       "      <td>0.17</td>\n",
       "      <td>0.28</td>\n",
       "      <td>0.21</td>\n",
       "    </tr>\n",
       "    <tr>\n",
       "      <td>messages</td>\n",
       "      <td>0.18</td>\n",
       "      <td>0.17</td>\n",
       "      <td>1.00</td>\n",
       "      <td>0.20</td>\n",
       "      <td>0.20</td>\n",
       "    </tr>\n",
       "    <tr>\n",
       "      <td>mb_used</td>\n",
       "      <td>0.29</td>\n",
       "      <td>0.28</td>\n",
       "      <td>0.20</td>\n",
       "      <td>1.00</td>\n",
       "      <td>0.20</td>\n",
       "    </tr>\n",
       "    <tr>\n",
       "      <td>is_ultra</td>\n",
       "      <td>0.21</td>\n",
       "      <td>0.21</td>\n",
       "      <td>0.20</td>\n",
       "      <td>0.20</td>\n",
       "      <td>1.00</td>\n",
       "    </tr>\n",
       "  </tbody>\n",
       "</table>\n",
       "</div>"
      ],
      "text/plain": [
       "          calls  minutes  messages  mb_used  is_ultra\n",
       "calls      1.00     0.98      0.18     0.29      0.21\n",
       "minutes    0.98     1.00      0.17     0.28      0.21\n",
       "messages   0.18     0.17      1.00     0.20      0.20\n",
       "mb_used    0.29     0.28      0.20     1.00      0.20\n",
       "is_ultra   0.21     0.21      0.20     0.20      1.00"
      ]
     },
     "execution_count": 8,
     "metadata": {},
     "output_type": "execute_result"
    }
   ],
   "source": [
    "df.corr()"
   ]
  },
  {
   "cell_type": "markdown",
   "metadata": {},
   "source": [
    "Коэфцент кореляции между данными в calls и в minutes равен 0.98 - наблюдается сильная зависимость. Можно исключить один из данных столбцов. "
   ]
  },
  {
   "cell_type": "markdown",
   "metadata": {},
   "source": [
    "**Вывод**\n",
    "\n",
    "Изучив данные можно сказать что:\n",
    "1. В данных отсустсвуют пропуски\n",
    "2. В данных отсутсвуют дубликаты\n",
    "3. Типы данных подходят для дальнейшей работы, хотя можно поменять тип данных в calls и messages на int64\n",
    "4. Количество данных со значением \"0\" в is_ultra значительно больше значения \"0\"\n",
    "5. Коэфцент кореляции между данными в calls и в minutes равен 0.98 - наблюдается сильная зависимость. Можно исключить один из данных столбцов."
   ]
  },
  {
   "cell_type": "markdown",
   "metadata": {},
   "source": [
    "## Разбейте данные на выборки"
   ]
  },
  {
   "cell_type": "markdown",
   "metadata": {},
   "source": [
    "Для обучения и проверки модели необходимо выполнить следующие шаги:\n",
    "1. Извлечь признаки\n",
    "2. Извлечь целевой признак\n",
    "3. Разбить данные на три части: обучающую, тестовую и валидационную."
   ]
  },
  {
   "cell_type": "markdown",
   "metadata": {},
   "source": [
    "Исключаем офактор calls, так как он имеет сильную взаимосвязь с фактором minutes."
   ]
  },
  {
   "cell_type": "code",
   "execution_count": 9,
   "metadata": {},
   "outputs": [],
   "source": [
    "df = df.drop(['calls'], axis=1)"
   ]
  },
  {
   "cell_type": "markdown",
   "metadata": {},
   "source": [
    "**Извлекаем признаки**"
   ]
  },
  {
   "cell_type": "code",
   "execution_count": 10,
   "metadata": {},
   "outputs": [],
   "source": [
    "features = df.drop(['is_ultra'], axis=1)"
   ]
  },
  {
   "cell_type": "markdown",
   "metadata": {},
   "source": [
    "**Извлекаем целевой признак**"
   ]
  },
  {
   "cell_type": "code",
   "execution_count": 11,
   "metadata": {},
   "outputs": [],
   "source": [
    "targets = df['is_ultra']"
   ]
  },
  {
   "cell_type": "markdown",
   "metadata": {},
   "source": [
    "**Разбиваю данные на обучающие, тестовые и валидационные**\n",
    "\n",
    "Разбивать данные буду в следующих пропорциях: обучающие - 60%, тестовые - 20%, валидационные - 20%\n",
    "\n",
    "Изначально раделим данные на две части в пропорции обучающие - 60%, проверочные - 40%. Для стратификации целевого признака задаем параметр **stratify = targets**."
   ]
  },
  {
   "cell_type": "code",
   "execution_count": 12,
   "metadata": {},
   "outputs": [],
   "source": [
    "features_train, features_test, targets_train, targets_test = train_test_split(\n",
    "    features, targets, test_size=0.4, random_state=123, stratify=targets)"
   ]
  },
  {
   "cell_type": "markdown",
   "metadata": {},
   "source": [
    "Разобьем проверочные данные на две одинакоые части: тестовую и валидационную."
   ]
  },
  {
   "cell_type": "code",
   "execution_count": 13,
   "metadata": {},
   "outputs": [],
   "source": [
    "features_valid, features_test, targets_valid, targets_test = train_test_split(\n",
    "    features_test, targets_test, test_size=0.5, random_state=123, stratify=targets_test)"
   ]
  },
  {
   "cell_type": "code",
   "execution_count": 14,
   "metadata": {},
   "outputs": [
    {
     "name": "stdout",
     "output_type": "stream",
     "text": [
      "Количество строк в обучающих данных по целевому признаку: [1337  591]\n",
      "Количество строк в валидационных данных по целевому признаку: [446 197]\n",
      "Количество строк в тестовых данных по целевому признаку: [446 197]\n"
     ]
    }
   ],
   "source": [
    "print(f\"Количество строк в обучающих данных по целевому признаку: {np.bincount(targets_train)}\")\n",
    "print(f\"Количество строк в валидационных данных по целевому признаку: {np.bincount(targets_valid)}\")\n",
    "print(f\"Количество строк в тестовых данных по целевому признаку: {np.bincount(targets_test)}\")"
   ]
  },
  {
   "cell_type": "markdown",
   "metadata": {},
   "source": [
    "**Вывод**\n",
    "\n",
    "На данном этапе я провел разбивку данных на три группы: обучающую, тестовую и валидационную. При делении на группы я обеспечил равномерное распределение целевого признака между группами. "
   ]
  },
  {
   "cell_type": "markdown",
   "metadata": {},
   "source": [
    "## Исследуйте модели"
   ]
  },
  {
   "cell_type": "markdown",
   "metadata": {},
   "source": [
    "На данном этапе проведу обучениеи и выберу лучшую модель по метрике качества в зависимости от гиперпараметров (где возможно) следующих моделей:\n",
    "1. Решающее дерево\n",
    "2. Случайны лес\n",
    "3. Логистическая регрессия\n",
    "4. Метод опорных векторов\n",
    "5. Метод ближайших соседей"
   ]
  },
  {
   "cell_type": "markdown",
   "metadata": {},
   "source": [
    "Создам списки из лучших моделей, их названия и качества на валидационной выборке."
   ]
  },
  {
   "cell_type": "code",
   "execution_count": 15,
   "metadata": {},
   "outputs": [],
   "source": [
    "model_name = []\n",
    "model_list = []\n",
    "best_accuracy_valid_list = []"
   ]
  },
  {
   "cell_type": "markdown",
   "metadata": {},
   "source": [
    "### Решающее дерево"
   ]
  },
  {
   "cell_type": "markdown",
   "metadata": {},
   "source": [
    "Обучю модель решающего дерева с максимальной глубиной от 1 до 10 и выберу модель с лучшим показателем качества по валидационной выборке."
   ]
  },
  {
   "cell_type": "code",
   "execution_count": 16,
   "metadata": {},
   "outputs": [
    {
     "name": "stdout",
     "output_type": "stream",
     "text": [
      "Лучший показатель accuracy модели решающего дерева по валидационной выборке равен 0.795 с глубиной 3\n"
     ]
    }
   ],
   "source": [
    "best_model_dtc = None\n",
    "best_accuracy_dtc = 0\n",
    "best_depth = 0\n",
    "for i in range(1,11):\n",
    "    model = DecisionTreeClassifier(random_state=123, max_depth = i)\n",
    "    model.fit(features_train, targets_train)\n",
    "    predictions_valid = model.predict(features_valid)\n",
    "    accuracy = accuracy_score(targets_valid, predictions_valid)\n",
    "    if accuracy > best_accuracy_dtc:\n",
    "        best_depth = i\n",
    "        best_accuracy_dtc = accuracy\n",
    "        best_model_dtc = model\n",
    "        \n",
    "model_name.append('Решающее дерево')\n",
    "model_list.append(best_model_dtc)\n",
    "best_accuracy_valid_list.append(best_accuracy_dtc)\n",
    "\n",
    "print(f\"Лучший показатель accuracy модели решающего дерева по валидационной выборке равен \\\n",
    "{'{:.3f}'.format(best_accuracy_dtc)} с глубиной {best_depth}\")"
   ]
  },
  {
   "cell_type": "markdown",
   "metadata": {},
   "source": [
    "### Случайный лес"
   ]
  },
  {
   "cell_type": "markdown",
   "metadata": {},
   "source": [
    "Обучю модель случайного леса с количеством деревьев от 1 до 50, с максимальной глубиной от 1 до 10 и выберу модель с лучшим показателем качества по валидационной выборке."
   ]
  },
  {
   "cell_type": "code",
   "execution_count": 17,
   "metadata": {},
   "outputs": [
    {
     "name": "stdout",
     "output_type": "stream",
     "text": [
      "Лучший показатель accuracy модели случайного леса по валидационной выборке равен 0.804, количество деревьев 15 с глубиной 9\n"
     ]
    }
   ],
   "source": [
    "best_model_rfr = None\n",
    "best_accuracy_rfr = 0\n",
    "best_est = 0\n",
    "best_depth = 0\n",
    "for est in range(1, 51):\n",
    "    for depth in range (1, 11):\n",
    "        model = RandomForestClassifier(random_state=123, n_estimators=est, max_depth=depth)\n",
    "        model.fit(features_train, targets_train)\n",
    "        predictions_valid = model.predict(features_valid)\n",
    "        accuracy = accuracy_score(targets_valid, predictions_valid)\n",
    "        if accuracy > best_accuracy_rfr:\n",
    "            best_model_rfr = model\n",
    "            best_accuracy_rfr = accuracy\n",
    "            best_est = est\n",
    "            best_depth = depth\n",
    "            \n",
    "model_name.append('Случайный лес')\n",
    "model_list.append(best_model_rfr)\n",
    "best_accuracy_valid_list.append(best_accuracy_rfr)\n",
    "\n",
    "print(f\"Лучший показатель accuracy модели случайного леса по валидационной выборке равен \\\n",
    "{'{:.3f}'.format(best_accuracy_rfr)}, количество деревьев {best_est} с глубиной {best_depth}\")"
   ]
  },
  {
   "cell_type": "markdown",
   "metadata": {},
   "source": [
    "<div style=\"background: #cceeaa; padding: 5px; border: 1px solid green; border-radius: 5px;\">\n",
    "<font color='green'> \n",
    "    <b><u>КОММЕНТАРИЙ РЕВЬЮЕРА</u></b>\n",
    "<font color='green'><br>ок"
   ]
  },
  {
   "cell_type": "markdown",
   "metadata": {},
   "source": [
    "### Логистическая регрессия"
   ]
  },
  {
   "cell_type": "markdown",
   "metadata": {},
   "source": [
    "Обучу модель логистической регрессии и проверю ее качество на валидационной выборке."
   ]
  },
  {
   "cell_type": "code",
   "execution_count": 18,
   "metadata": {},
   "outputs": [
    {
     "name": "stdout",
     "output_type": "stream",
     "text": [
      "Показатель accuracy модели логистической регрессии по валидационной выборке равен 0.793\n"
     ]
    },
    {
     "name": "stderr",
     "output_type": "stream",
     "text": [
      "/opt/conda/lib/python3.7/site-packages/sklearn/linear_model/logistic.py:432: FutureWarning: Default solver will be changed to 'lbfgs' in 0.22. Specify a solver to silence this warning.\n",
      "  FutureWarning)\n"
     ]
    }
   ],
   "source": [
    "model_lr = LogisticRegression(random_state=123)\n",
    "model_lr.fit(features_train, targets_train)\n",
    "accuracy_lr = model.score(features_valid, targets_valid)\n",
    "\n",
    "model_name.append('Логистическая регрессия')\n",
    "model_list.append(model_lr)\n",
    "best_accuracy_valid_list.append(accuracy_lr)\n",
    "\n",
    "print(f\"Показатель accuracy модели логистической регрессии по валидационной выборке равен \\\n",
    "{'{:.3f}'.format(accuracy_lr)}\")"
   ]
  },
  {
   "cell_type": "markdown",
   "metadata": {},
   "source": [
    "### Метод опорных векторов"
   ]
  },
  {
   "cell_type": "markdown",
   "metadata": {},
   "source": [
    "Обучу модель метода опорных векторов и проверю ее качество на валидационной выборке."
   ]
  },
  {
   "cell_type": "code",
   "execution_count": 19,
   "metadata": {},
   "outputs": [
    {
     "name": "stderr",
     "output_type": "stream",
     "text": [
      "/opt/conda/lib/python3.7/site-packages/sklearn/svm/base.py:193: FutureWarning: The default value of gamma will change from 'auto' to 'scale' in version 0.22 to account better for unscaled features. Set gamma explicitly to 'auto' or 'scale' to avoid this warning.\n",
      "  \"avoid this warning.\", FutureWarning)\n"
     ]
    },
    {
     "name": "stdout",
     "output_type": "stream",
     "text": [
      "Показатель accuracy модели метода опорных векторов по валидационной выборке равен 0.793\n"
     ]
    }
   ],
   "source": [
    "model_svc = SVC(random_state=123)\n",
    "model_svc.fit(features_train, targets_train)\n",
    "accuracy_svc = model.score(features_valid, targets_valid)\n",
    "\n",
    "model_name.append('Метод опорных векторов')\n",
    "model_list.append(model_svc)\n",
    "best_accuracy_valid_list.append(accuracy_svc)\n",
    "\n",
    "print(f\"Показатель accuracy модели метода опорных векторов по валидационной выборке равен \\\n",
    "{'{:.3f}'.format(accuracy_svc)}\")"
   ]
  },
  {
   "cell_type": "markdown",
   "metadata": {},
   "source": [
    "### Метод ближайших соседей"
   ]
  },
  {
   "cell_type": "markdown",
   "metadata": {},
   "source": [
    "Обучю модель методф ближайших соседей с количеством соседей от 5 до 30 и выберу модель с лучшим показателем качества по валидационной выборке."
   ]
  },
  {
   "cell_type": "code",
   "execution_count": 20,
   "metadata": {},
   "outputs": [
    {
     "name": "stdout",
     "output_type": "stream",
     "text": [
      "Лучший показатель accuracy модели метода ближайших соседей по валидационной выборке равен 0.781 с количесвом соседей 9\n"
     ]
    }
   ],
   "source": [
    "best_model_knc = None\n",
    "best_accuracy_knc = 0\n",
    "best_neighbors = 0\n",
    "for i in range(5,31):\n",
    "    model = KNeighborsClassifier(n_neighbors=i)\n",
    "    model.fit(features_train, targets_train)\n",
    "    predictions_valid = model.predict(features_valid)\n",
    "    accuracy = accuracy_score(targets_valid, predictions_valid)\n",
    "    if accuracy > best_accuracy_knc:\n",
    "        best_neighbors = i\n",
    "        best_accuracy_knc = accuracy\n",
    "        best_model_knc = model\n",
    "        \n",
    "model_name.append('Метод ближайших соседей')\n",
    "model_list.append(best_model_knc)\n",
    "best_accuracy_valid_list.append(best_accuracy_knc)\n",
    "\n",
    "print(f\"Лучший показатель accuracy модели метода ближайших соседей по валидационной выборке равен \\\n",
    "{'{:.3f}'.format(best_accuracy_knc)} с количесвом соседей {best_neighbors}\")"
   ]
  },
  {
   "cell_type": "markdown",
   "metadata": {},
   "source": [
    "### Вывод"
   ]
  },
  {
   "cell_type": "markdown",
   "metadata": {},
   "source": [
    "На данном этапе я обучил 5 моделей по обучающий выборке и проверил их качество на валидационной выборке и поличил следкющие результаты:\n",
    "1. **Решающее дерево** - Лучший показатель accuracy модели решающего дерева по валидационной выборке равен **0.795** с глубиной 3\n",
    "2. **Случайны лес** - Лучший показатель accuracy модели случайного леса по валидационной выборке равен **0.804**, количество деревьев 15 с глубиной 9\n",
    "3. **Логистическая регрессия** - Показатель accuracy модели логистической регрессии по валидационной выборке равен **0.793**\n",
    "4. **Метод опорных векторов** - Показатель accuracy модели метода опорных векторов по валидационной выборке равен **0.793**\n",
    "5. **Метод ближайших соседей** - Лучший показатель accuracy модели метода ближайших соседей по валидационной выборке равен **0.781** с количесвом соседей 9\n",
    "\n",
    "На валидационной выборке модель случайного леса показала себя наилучшим образм.Следующая по качеству идет модель решающего дерева. Модели, логистической регресии и метода опорных векторов показали себя немного хуже и имеют одинаковый между собой показатель качества, возможно из-за линейного принципа предсказания. Метод ближайших соседей показал самое низкое значение качества.\n"
   ]
  },
  {
   "cell_type": "markdown",
   "metadata": {},
   "source": [
    "## Проверьте модель на тестовой выборке"
   ]
  },
  {
   "cell_type": "markdown",
   "metadata": {},
   "source": [
    "Во время обучения моделей я записывал лучшие модели в отдельные списки, теперь проверим как показывают себя данные модели на тестовой выборке."
   ]
  },
  {
   "cell_type": "code",
   "execution_count": 21,
   "metadata": {},
   "outputs": [
    {
     "name": "stdout",
     "output_type": "stream",
     "text": [
      "Accuracy модели Решающее дерево на валидационной выборке: 0.795; на тестовой: 0.802\n",
      "Accuracy модели Случайный лес на валидационной выборке: 0.804; на тестовой: 0.820\n",
      "Accuracy модели Логистическая регрессия на валидационной выборке: 0.793; на тестовой: 0.708\n",
      "Accuracy модели Метод опорных векторов на валидационной выборке: 0.793; на тестовой: 0.694\n",
      "Accuracy модели Метод ближайших соседей на валидационной выборке: 0.781; на тестовой: 0.784\n",
      "\n",
      "Лучшее accuracy на тестовой выборке у модели Случайный лес, значение параметра качества 0.820\n"
     ]
    }
   ],
   "source": [
    "best_model = None\n",
    "best_model_name = None\n",
    "best_model_accuracy = 0\n",
    "for i in range(len(model_list)):\n",
    "    model = model_list[i]\n",
    "    predictions_valid = model.predict(features_test)\n",
    "    accuracy = accuracy_score(targets_test, predictions_valid)\n",
    "    print(f\"Accuracy модели {model_name[i]} на валидационной выборке: {'{:.3f}'.format(best_accuracy_valid_list[i])}; на тестовой: {'{:.3f}'.format(accuracy)}\")\n",
    "    if accuracy > best_model_accuracy:\n",
    "        best_model_accuracy = accuracy\n",
    "        best_model = model\n",
    "        best_model_name = model_name[i]\n",
    "\n",
    "print(f\"\\nЛучшее accuracy на тестовой выборке у модели {best_model_name}, значение параметра качества {'{:.3f}'.format(best_model_accuracy)}\")"
   ]
  },
  {
   "cell_type": "markdown",
   "metadata": {},
   "source": [
    "**Вывод**\n",
    "\n",
    "Проверив обученные модели на тестовой выборке наилучший результат по значению accuracy показал модель случайного леса с количеством деревьев равным 15, и глубиной 9."
   ]
  },
  {
   "cell_type": "markdown",
   "metadata": {},
   "source": [
    "## Вывод"
   ]
  },
  {
   "cell_type": "markdown",
   "metadata": {},
   "source": [
    "В данном проекте:\n",
    "1. Я изучил предоставленные данные, они были полность готовы к работе и не требовали предобработки.\n",
    "2. Были выделены признаки и целевой признак\n",
    "3. Разделил данные на три групы обучающие, валидационные и тестовые с соотношением 60-20-20.\n",
    "4. Обучил 5 моделей предсказания по следующими методами: решающее дерево, сучайны лес, логистическая регрессия, метод опорных векторов, метод ближайших соседей. Проверил их качество на валидационной выборке и получил наилучшие значение accuracy у двух моделей решающего дерева и случайного леса.\n",
    "5. Проверил все модели на тестовой выборке и получил модель с наилучшим показателем accuracy по тестовой выборке.\n",
    "\n",
    "**По результатам данного иследования, для подбора подходящего тарифа предлагаю использовать модель обученную методом случайного леса, с количеством деревьев 15 и глубиной 9, показатель accuracy у данной модели 0.82**"
   ]
  }
 ],
 "metadata": {
  "ExecuteTimeLog": [
   {
    "duration": 277,
    "start_time": "2022-02-15T16:10:55.286Z"
   },
   {
    "duration": 1186,
    "start_time": "2022-02-15T16:11:00.501Z"
   },
   {
    "duration": 3,
    "start_time": "2022-02-15T16:11:03.115Z"
   },
   {
    "duration": 13,
    "start_time": "2022-02-15T16:11:03.899Z"
   },
   {
    "duration": 351,
    "start_time": "2022-02-15T16:11:20.214Z"
   },
   {
    "duration": 18,
    "start_time": "2022-02-15T16:11:24.049Z"
   },
   {
    "duration": 14,
    "start_time": "2022-02-15T16:11:31.503Z"
   },
   {
    "duration": 257,
    "start_time": "2022-02-15T16:12:57.935Z"
   },
   {
    "duration": 16,
    "start_time": "2022-02-15T16:13:05.042Z"
   },
   {
    "duration": 288,
    "start_time": "2022-02-15T16:13:34.696Z"
   },
   {
    "duration": 248,
    "start_time": "2022-02-15T16:13:39.226Z"
   },
   {
    "duration": 3,
    "start_time": "2022-02-15T16:13:48.841Z"
   },
   {
    "duration": 17,
    "start_time": "2022-02-15T16:13:50.034Z"
   },
   {
    "duration": 3,
    "start_time": "2022-02-15T16:14:03.463Z"
   },
   {
    "duration": 14,
    "start_time": "2022-02-15T16:14:06.000Z"
   },
   {
    "duration": 13,
    "start_time": "2022-02-15T16:14:06.253Z"
   },
   {
    "duration": 3,
    "start_time": "2022-02-15T16:14:11.776Z"
   },
   {
    "duration": 13,
    "start_time": "2022-02-15T16:14:12.980Z"
   },
   {
    "duration": 16,
    "start_time": "2022-02-15T16:14:13.232Z"
   },
   {
    "duration": 240,
    "start_time": "2022-02-15T16:14:34.549Z"
   },
   {
    "duration": 11,
    "start_time": "2022-02-15T16:14:38.363Z"
   },
   {
    "duration": 6,
    "start_time": "2022-02-15T16:14:45.478Z"
   },
   {
    "duration": 6,
    "start_time": "2022-02-15T16:14:51.312Z"
   },
   {
    "duration": 3,
    "start_time": "2022-02-15T16:15:34.073Z"
   },
   {
    "duration": 19,
    "start_time": "2022-02-15T16:15:35.609Z"
   },
   {
    "duration": 3,
    "start_time": "2022-02-15T16:15:58.817Z"
   },
   {
    "duration": 18,
    "start_time": "2022-02-15T16:16:02.849Z"
   },
   {
    "duration": 3,
    "start_time": "2022-02-15T16:16:16.683Z"
   },
   {
    "duration": 17,
    "start_time": "2022-02-15T16:16:18.928Z"
   },
   {
    "duration": 4,
    "start_time": "2022-02-15T16:16:43.260Z"
   },
   {
    "duration": 20,
    "start_time": "2022-02-15T16:16:45.055Z"
   },
   {
    "duration": 3,
    "start_time": "2022-02-15T16:23:06.015Z"
   },
   {
    "duration": 4,
    "start_time": "2022-02-15T16:23:18.714Z"
   },
   {
    "duration": 13,
    "start_time": "2022-02-15T16:23:20.779Z"
   },
   {
    "duration": 6,
    "start_time": "2022-02-15T16:23:21.133Z"
   },
   {
    "duration": 18,
    "start_time": "2022-02-15T16:23:22.035Z"
   },
   {
    "duration": 3,
    "start_time": "2022-02-15T16:23:54.734Z"
   },
   {
    "duration": 20,
    "start_time": "2022-02-15T16:23:56.684Z"
   },
   {
    "duration": 246,
    "start_time": "2022-02-15T16:24:15.930Z"
   },
   {
    "duration": 25,
    "start_time": "2022-02-15T16:24:24.358Z"
   },
   {
    "duration": 4,
    "start_time": "2022-02-15T16:24:30.104Z"
   },
   {
    "duration": 17,
    "start_time": "2022-02-15T16:24:32.079Z"
   },
   {
    "duration": 3,
    "start_time": "2022-02-15T16:24:45.481Z"
   },
   {
    "duration": 19,
    "start_time": "2022-02-15T16:24:48.800Z"
   },
   {
    "duration": 4,
    "start_time": "2022-02-15T16:25:49.496Z"
   },
   {
    "duration": 17,
    "start_time": "2022-02-15T16:25:53.174Z"
   },
   {
    "duration": 4,
    "start_time": "2022-02-15T16:26:03.456Z"
   },
   {
    "duration": 18,
    "start_time": "2022-02-15T16:26:06.005Z"
   },
   {
    "duration": 4,
    "start_time": "2022-02-15T16:27:05.538Z"
   },
   {
    "duration": 18,
    "start_time": "2022-02-15T16:27:07.621Z"
   },
   {
    "duration": 4,
    "start_time": "2022-02-15T16:27:22.215Z"
   },
   {
    "duration": 17,
    "start_time": "2022-02-15T16:27:23.789Z"
   },
   {
    "duration": 4,
    "start_time": "2022-02-15T16:27:50.262Z"
   },
   {
    "duration": 19,
    "start_time": "2022-02-15T16:27:53.474Z"
   },
   {
    "duration": 4,
    "start_time": "2022-02-15T16:28:04.943Z"
   },
   {
    "duration": 19,
    "start_time": "2022-02-15T16:28:11.735Z"
   },
   {
    "duration": 19,
    "start_time": "2022-02-15T16:28:17.146Z"
   },
   {
    "duration": 3,
    "start_time": "2022-02-15T16:28:45.986Z"
   },
   {
    "duration": 19,
    "start_time": "2022-02-15T16:28:47.784Z"
   },
   {
    "duration": 1115,
    "start_time": "2022-02-15T16:29:05.373Z"
   },
   {
    "duration": 5,
    "start_time": "2022-02-15T16:29:06.490Z"
   },
   {
    "duration": 37,
    "start_time": "2022-02-15T16:29:06.497Z"
   },
   {
    "duration": 17,
    "start_time": "2022-02-15T16:29:06.536Z"
   },
   {
    "duration": 47,
    "start_time": "2022-02-15T16:29:06.555Z"
   },
   {
    "duration": 342,
    "start_time": "2022-02-15T16:29:06.604Z"
   },
   {
    "duration": 47,
    "start_time": "2022-02-15T16:29:17.726Z"
   },
   {
    "duration": 4,
    "start_time": "2022-02-15T16:29:26.507Z"
   },
   {
    "duration": 47,
    "start_time": "2022-02-15T16:29:28.260Z"
   },
   {
    "duration": 4,
    "start_time": "2022-02-15T16:29:34.388Z"
   },
   {
    "duration": 47,
    "start_time": "2022-02-15T16:29:36.291Z"
   },
   {
    "duration": 4,
    "start_time": "2022-02-15T16:30:33.379Z"
   },
   {
    "duration": 48,
    "start_time": "2022-02-15T16:30:34.967Z"
   },
   {
    "duration": 4,
    "start_time": "2022-02-15T16:31:09.991Z"
   },
   {
    "duration": 47,
    "start_time": "2022-02-15T16:31:12.283Z"
   },
   {
    "duration": 4,
    "start_time": "2022-02-15T16:31:41.969Z"
   },
   {
    "duration": 44,
    "start_time": "2022-02-15T16:31:43.520Z"
   },
   {
    "duration": 4,
    "start_time": "2022-02-15T16:31:56.838Z"
   },
   {
    "duration": 48,
    "start_time": "2022-02-15T16:31:58.561Z"
   },
   {
    "duration": 4,
    "start_time": "2022-02-15T16:32:22.759Z"
   },
   {
    "duration": 45,
    "start_time": "2022-02-15T16:32:24.252Z"
   },
   {
    "duration": 5,
    "start_time": "2022-02-15T16:53:06.952Z"
   },
   {
    "duration": 3,
    "start_time": "2022-02-15T17:16:44.390Z"
   },
   {
    "duration": 3,
    "start_time": "2022-02-15T17:17:25.235Z"
   },
   {
    "duration": 7,
    "start_time": "2022-02-15T17:22:16.391Z"
   },
   {
    "duration": 6,
    "start_time": "2022-02-15T17:33:41.231Z"
   },
   {
    "duration": 7,
    "start_time": "2022-02-15T17:33:58.134Z"
   },
   {
    "duration": 6,
    "start_time": "2022-02-15T17:33:59.171Z"
   },
   {
    "duration": 4,
    "start_time": "2022-02-15T17:35:22.116Z"
   },
   {
    "duration": 4,
    "start_time": "2022-02-15T17:36:12.182Z"
   },
   {
    "duration": 9,
    "start_time": "2022-02-15T17:36:28.566Z"
   },
   {
    "duration": 5,
    "start_time": "2022-02-15T17:36:28.796Z"
   },
   {
    "duration": 6,
    "start_time": "2022-02-15T17:36:32.660Z"
   },
   {
    "duration": 4,
    "start_time": "2022-02-15T17:36:33.248Z"
   },
   {
    "duration": 1164,
    "start_time": "2022-02-15T17:55:01.823Z"
   },
   {
    "duration": 4,
    "start_time": "2022-02-15T17:55:02.990Z"
   },
   {
    "duration": 24,
    "start_time": "2022-02-15T17:55:02.996Z"
   },
   {
    "duration": 65,
    "start_time": "2022-02-15T17:55:03.023Z"
   },
   {
    "duration": 5,
    "start_time": "2022-02-15T17:55:03.090Z"
   },
   {
    "duration": 12,
    "start_time": "2022-02-15T17:55:03.096Z"
   },
   {
    "duration": 9,
    "start_time": "2022-02-15T17:55:03.110Z"
   },
   {
    "duration": 11,
    "start_time": "2022-02-15T17:55:03.121Z"
   },
   {
    "duration": 15,
    "start_time": "2022-02-15T17:55:03.135Z"
   },
   {
    "duration": 5,
    "start_time": "2022-02-15T17:55:03.152Z"
   },
   {
    "duration": 362,
    "start_time": "2022-02-15T17:59:26.930Z"
   },
   {
    "duration": 253,
    "start_time": "2022-02-15T17:59:31.543Z"
   },
   {
    "duration": 6,
    "start_time": "2022-02-15T17:59:43.452Z"
   },
   {
    "duration": 4,
    "start_time": "2022-02-15T18:03:52.232Z"
   },
   {
    "duration": 3,
    "start_time": "2022-02-15T18:03:52.779Z"
   },
   {
    "duration": 12,
    "start_time": "2022-02-15T18:03:53.351Z"
   },
   {
    "duration": 6,
    "start_time": "2022-02-15T18:03:54.149Z"
   },
   {
    "duration": 6,
    "start_time": "2022-02-15T18:03:54.442Z"
   },
   {
    "duration": 49,
    "start_time": "2022-02-15T18:52:26.951Z"
   },
   {
    "duration": 51,
    "start_time": "2022-02-15T18:52:49.985Z"
   },
   {
    "duration": 3,
    "start_time": "2022-02-15T18:53:06.272Z"
   },
   {
    "duration": 1108,
    "start_time": "2022-02-15T18:53:11.120Z"
   },
   {
    "duration": 5,
    "start_time": "2022-02-15T18:53:12.230Z"
   },
   {
    "duration": 18,
    "start_time": "2022-02-15T18:53:12.239Z"
   },
   {
    "duration": 68,
    "start_time": "2022-02-15T18:53:12.259Z"
   },
   {
    "duration": 4,
    "start_time": "2022-02-15T18:53:12.329Z"
   },
   {
    "duration": 9,
    "start_time": "2022-02-15T18:53:12.335Z"
   },
   {
    "duration": 6,
    "start_time": "2022-02-15T18:53:12.346Z"
   },
   {
    "duration": 6,
    "start_time": "2022-02-15T18:53:12.354Z"
   },
   {
    "duration": 10,
    "start_time": "2022-02-15T18:53:12.361Z"
   },
   {
    "duration": 8,
    "start_time": "2022-02-15T18:53:12.373Z"
   },
   {
    "duration": 7,
    "start_time": "2022-02-15T18:53:12.382Z"
   },
   {
    "duration": 52,
    "start_time": "2022-02-15T18:53:12.418Z"
   },
   {
    "duration": 101,
    "start_time": "2022-02-15T18:53:39.425Z"
   },
   {
    "duration": 52,
    "start_time": "2022-02-15T18:54:02.624Z"
   },
   {
    "duration": 52,
    "start_time": "2022-02-15T18:57:14.610Z"
   },
   {
    "duration": 56,
    "start_time": "2022-02-15T18:57:19.351Z"
   },
   {
    "duration": 56,
    "start_time": "2022-02-15T18:58:02.379Z"
   },
   {
    "duration": 116,
    "start_time": "2022-02-15T18:58:07.479Z"
   },
   {
    "duration": 75,
    "start_time": "2022-02-15T18:58:15.290Z"
   },
   {
    "duration": 12,
    "start_time": "2022-02-15T18:58:20.797Z"
   },
   {
    "duration": 55,
    "start_time": "2022-02-15T18:58:27.087Z"
   },
   {
    "duration": 84,
    "start_time": "2022-02-15T18:59:31.524Z"
   },
   {
    "duration": 58,
    "start_time": "2022-02-15T18:59:35.972Z"
   },
   {
    "duration": 81,
    "start_time": "2022-02-15T18:59:43.721Z"
   },
   {
    "duration": 56,
    "start_time": "2022-02-15T18:59:49.705Z"
   },
   {
    "duration": 348,
    "start_time": "2022-02-15T19:00:56.557Z"
   },
   {
    "duration": 243,
    "start_time": "2022-02-15T19:01:40.785Z"
   },
   {
    "duration": 258,
    "start_time": "2022-02-15T19:02:06.956Z"
   },
   {
    "duration": 30963,
    "start_time": "2022-02-15T19:02:36.799Z"
   },
   {
    "duration": 81,
    "start_time": "2022-02-15T19:08:37.553Z"
   },
   {
    "duration": 262,
    "start_time": "2022-02-15T19:08:45.535Z"
   },
   {
    "duration": 273,
    "start_time": "2022-02-15T19:08:50.740Z"
   },
   {
    "duration": 20,
    "start_time": "2022-02-15T19:09:00.956Z"
   },
   {
    "duration": 12,
    "start_time": "2022-02-15T19:09:31.330Z"
   },
   {
    "duration": 22,
    "start_time": "2022-02-15T19:10:09.101Z"
   },
   {
    "duration": 19,
    "start_time": "2022-02-15T19:10:15.555Z"
   },
   {
    "duration": 20,
    "start_time": "2022-02-15T19:10:24.518Z"
   },
   {
    "duration": 378,
    "start_time": "2022-02-15T19:15:52.635Z"
   },
   {
    "duration": 3,
    "start_time": "2022-02-15T19:16:00.632Z"
   },
   {
    "duration": 59,
    "start_time": "2022-02-15T19:16:02.073Z"
   },
   {
    "duration": 3,
    "start_time": "2022-02-15T19:17:15.424Z"
   },
   {
    "duration": 62,
    "start_time": "2022-02-15T19:17:18.379Z"
   },
   {
    "duration": 3,
    "start_time": "2022-02-15T19:18:12.310Z"
   },
   {
    "duration": 56,
    "start_time": "2022-02-15T19:18:14.345Z"
   },
   {
    "duration": 30160,
    "start_time": "2022-02-15T19:18:19.887Z"
   },
   {
    "duration": 22,
    "start_time": "2022-02-15T19:19:34.480Z"
   },
   {
    "duration": 6,
    "start_time": "2022-02-15T19:20:06.274Z"
   },
   {
    "duration": 4,
    "start_time": "2022-02-15T19:20:43.427Z"
   },
   {
    "duration": 3,
    "start_time": "2022-02-15T19:21:32.590Z"
   },
   {
    "duration": 59,
    "start_time": "2022-02-15T19:21:33.764Z"
   },
   {
    "duration": 31406,
    "start_time": "2022-02-15T19:21:36.295Z"
   },
   {
    "duration": 23,
    "start_time": "2022-02-15T19:22:07.703Z"
   },
   {
    "duration": 3,
    "start_time": "2022-02-15T19:22:07.728Z"
   },
   {
    "duration": 4,
    "start_time": "2022-02-15T19:22:26.723Z"
   },
   {
    "duration": 286,
    "start_time": "2022-02-15T19:22:50.933Z"
   },
   {
    "duration": 3,
    "start_time": "2022-02-15T19:23:31.546Z"
   },
   {
    "duration": 3,
    "start_time": "2022-02-15T19:23:35.606Z"
   },
   {
    "duration": 4,
    "start_time": "2022-02-15T19:23:59.899Z"
   },
   {
    "duration": 84,
    "start_time": "2022-02-15T19:24:58.611Z"
   },
   {
    "duration": 32043,
    "start_time": "2022-02-15T19:25:00.176Z"
   },
   {
    "duration": 20,
    "start_time": "2022-02-15T19:25:32.220Z"
   },
   {
    "duration": 4,
    "start_time": "2022-02-15T19:25:32.242Z"
   },
   {
    "duration": 4,
    "start_time": "2022-02-15T19:25:45.684Z"
   },
   {
    "duration": 59,
    "start_time": "2022-02-15T19:25:46.426Z"
   },
   {
    "duration": 30880,
    "start_time": "2022-02-15T19:25:47.165Z"
   },
   {
    "duration": 21,
    "start_time": "2022-02-15T19:26:18.047Z"
   },
   {
    "duration": 4,
    "start_time": "2022-02-15T19:26:18.070Z"
   },
   {
    "duration": 4,
    "start_time": "2022-02-15T19:26:34.151Z"
   },
   {
    "duration": 258,
    "start_time": "2022-02-15T19:35:30.449Z"
   },
   {
    "duration": 308,
    "start_time": "2022-02-15T19:35:44.807Z"
   },
   {
    "duration": 4,
    "start_time": "2022-02-15T19:37:02.043Z"
   },
   {
    "duration": 246,
    "start_time": "2022-02-15T19:37:08.307Z"
   },
   {
    "duration": 4,
    "start_time": "2022-02-15T19:37:15.091Z"
   },
   {
    "duration": 144,
    "start_time": "2022-02-15T19:37:19.159Z"
   },
   {
    "duration": 248,
    "start_time": "2022-02-15T19:41:19.228Z"
   },
   {
    "duration": 524,
    "start_time": "2022-02-15T19:41:28.634Z"
   },
   {
    "duration": 1064,
    "start_time": "2022-02-15T19:42:55.723Z"
   },
   {
    "duration": 5,
    "start_time": "2022-02-15T19:42:56.789Z"
   },
   {
    "duration": 19,
    "start_time": "2022-02-15T19:42:56.796Z"
   },
   {
    "duration": 53,
    "start_time": "2022-02-15T19:42:56.816Z"
   },
   {
    "duration": 5,
    "start_time": "2022-02-15T19:42:56.871Z"
   },
   {
    "duration": 7,
    "start_time": "2022-02-15T19:42:56.878Z"
   },
   {
    "duration": 31,
    "start_time": "2022-02-15T19:42:56.887Z"
   },
   {
    "duration": 3,
    "start_time": "2022-02-15T19:42:56.920Z"
   },
   {
    "duration": 7,
    "start_time": "2022-02-15T19:42:56.927Z"
   },
   {
    "duration": 5,
    "start_time": "2022-02-15T19:42:56.936Z"
   },
   {
    "duration": 5,
    "start_time": "2022-02-15T19:42:56.943Z"
   },
   {
    "duration": 4,
    "start_time": "2022-02-15T19:42:56.949Z"
   },
   {
    "duration": 89,
    "start_time": "2022-02-15T19:42:56.954Z"
   },
   {
    "duration": 29920,
    "start_time": "2022-02-15T19:42:57.045Z"
   },
   {
    "duration": 20,
    "start_time": "2022-02-15T19:43:26.967Z"
   },
   {
    "duration": 163,
    "start_time": "2022-02-15T19:43:26.990Z"
   },
   {
    "duration": 519,
    "start_time": "2022-02-15T19:43:27.155Z"
   },
   {
    "duration": 5,
    "start_time": "2022-02-15T19:43:27.675Z"
   },
   {
    "duration": 325,
    "start_time": "2022-02-15T20:03:23.927Z"
   },
   {
    "duration": 306,
    "start_time": "2022-02-15T20:03:59.694Z"
   },
   {
    "duration": 250,
    "start_time": "2022-02-15T20:04:19.264Z"
   },
   {
    "duration": 242,
    "start_time": "2022-02-15T20:04:53.123Z"
   },
   {
    "duration": 243,
    "start_time": "2022-02-15T20:05:10.992Z"
   },
   {
    "duration": 273,
    "start_time": "2022-02-15T20:05:24.495Z"
   },
   {
    "duration": 262,
    "start_time": "2022-02-15T20:05:43.552Z"
   },
   {
    "duration": 73,
    "start_time": "2022-02-15T20:07:15.190Z"
   },
   {
    "duration": 56,
    "start_time": "2022-02-15T20:07:25.001Z"
   },
   {
    "duration": 53,
    "start_time": "2022-02-15T20:07:57.131Z"
   },
   {
    "duration": 58,
    "start_time": "2022-02-15T20:08:27.823Z"
   },
   {
    "duration": 54,
    "start_time": "2022-02-15T20:09:25.779Z"
   },
   {
    "duration": 1178,
    "start_time": "2022-02-15T20:25:26.593Z"
   },
   {
    "duration": 5,
    "start_time": "2022-02-15T20:25:27.774Z"
   },
   {
    "duration": 21,
    "start_time": "2022-02-15T20:25:27.781Z"
   },
   {
    "duration": 53,
    "start_time": "2022-02-15T20:25:27.804Z"
   },
   {
    "duration": 4,
    "start_time": "2022-02-15T20:25:27.859Z"
   },
   {
    "duration": 8,
    "start_time": "2022-02-15T20:25:27.865Z"
   },
   {
    "duration": 5,
    "start_time": "2022-02-15T20:25:27.875Z"
   },
   {
    "duration": 7,
    "start_time": "2022-02-15T20:25:27.882Z"
   },
   {
    "duration": 32,
    "start_time": "2022-02-15T20:25:27.892Z"
   },
   {
    "duration": 5,
    "start_time": "2022-02-15T20:25:27.926Z"
   },
   {
    "duration": 5,
    "start_time": "2022-02-15T20:25:27.933Z"
   },
   {
    "duration": 4,
    "start_time": "2022-02-15T20:25:27.940Z"
   },
   {
    "duration": 84,
    "start_time": "2022-02-15T20:25:27.946Z"
   },
   {
    "duration": 30081,
    "start_time": "2022-02-15T20:25:28.032Z"
   },
   {
    "duration": 20,
    "start_time": "2022-02-15T20:25:58.118Z"
   },
   {
    "duration": 148,
    "start_time": "2022-02-15T20:25:58.140Z"
   },
   {
    "duration": 592,
    "start_time": "2022-02-15T20:25:58.291Z"
   },
   {
    "duration": 6,
    "start_time": "2022-02-15T20:25:58.885Z"
   },
   {
    "duration": 73,
    "start_time": "2022-02-15T20:25:58.894Z"
   },
   {
    "duration": 1000,
    "start_time": "2022-02-16T10:17:18.850Z"
   },
   {
    "duration": 4,
    "start_time": "2022-02-16T10:17:19.852Z"
   },
   {
    "duration": 13,
    "start_time": "2022-02-16T10:17:20.552Z"
   },
   {
    "duration": 57,
    "start_time": "2022-02-16T10:17:21.649Z"
   },
   {
    "duration": 5,
    "start_time": "2022-02-16T10:17:23.148Z"
   },
   {
    "duration": 6,
    "start_time": "2022-02-16T10:17:23.338Z"
   },
   {
    "duration": 4,
    "start_time": "2022-02-16T10:17:51.638Z"
   },
   {
    "duration": 2,
    "start_time": "2022-02-16T10:17:52.384Z"
   },
   {
    "duration": 7,
    "start_time": "2022-02-16T10:17:53.058Z"
   },
   {
    "duration": 6,
    "start_time": "2022-02-16T10:17:54.417Z"
   },
   {
    "duration": 4,
    "start_time": "2022-02-16T10:17:57.137Z"
   },
   {
    "duration": 2,
    "start_time": "2022-02-16T10:18:38.400Z"
   },
   {
    "duration": 64,
    "start_time": "2022-02-16T10:18:40.349Z"
   },
   {
    "duration": 29805,
    "start_time": "2022-02-16T10:19:03.204Z"
   },
   {
    "duration": 19,
    "start_time": "2022-02-16T10:19:33.011Z"
   },
   {
    "duration": 150,
    "start_time": "2022-02-16T10:19:33.033Z"
   },
   {
    "duration": 552,
    "start_time": "2022-02-16T10:19:33.185Z"
   },
   {
    "duration": 57,
    "start_time": "2022-02-16T10:19:33.739Z"
   },
   {
    "duration": 1533,
    "start_time": "2022-02-20T11:39:18.452Z"
   },
   {
    "duration": 6,
    "start_time": "2022-02-20T11:39:20.751Z"
   },
   {
    "duration": 17,
    "start_time": "2022-02-20T11:39:22.231Z"
   },
   {
    "duration": 83,
    "start_time": "2022-02-20T11:39:23.819Z"
   },
   {
    "duration": 7,
    "start_time": "2022-02-20T11:39:28.221Z"
   },
   {
    "duration": 8,
    "start_time": "2022-02-20T11:39:30.357Z"
   },
   {
    "duration": 502,
    "start_time": "2022-02-20T11:40:31.796Z"
   },
   {
    "duration": 318,
    "start_time": "2022-02-20T11:41:32.371Z"
   },
   {
    "duration": 287,
    "start_time": "2022-02-20T11:41:55.284Z"
   },
   {
    "duration": 123,
    "start_time": "2022-02-20T11:42:08.684Z"
   },
   {
    "duration": 414,
    "start_time": "2022-02-20T11:42:14.081Z"
   },
   {
    "duration": 753,
    "start_time": "2022-02-20T11:42:20.399Z"
   },
   {
    "duration": 298,
    "start_time": "2022-02-20T11:42:57.582Z"
   },
   {
    "duration": 453,
    "start_time": "2022-02-20T11:44:59.950Z"
   },
   {
    "duration": 4222,
    "start_time": "2022-02-20T11:55:28.078Z"
   },
   {
    "duration": 8,
    "start_time": "2022-02-20T11:57:26.449Z"
   },
   {
    "duration": 333,
    "start_time": "2022-02-20T11:59:07.655Z"
   },
   {
    "duration": 6,
    "start_time": "2022-02-20T11:59:33.910Z"
   },
   {
    "duration": 3101,
    "start_time": "2022-02-20T11:59:41.064Z"
   },
   {
    "duration": 3256,
    "start_time": "2022-02-20T12:00:17.870Z"
   },
   {
    "duration": 3157,
    "start_time": "2022-02-20T12:01:32.882Z"
   },
   {
    "duration": 4500,
    "start_time": "2022-02-20T12:04:44.198Z"
   },
   {
    "duration": 286,
    "start_time": "2022-02-20T12:04:59.260Z"
   },
   {
    "duration": 13,
    "start_time": "2022-02-20T12:05:07.400Z"
   },
   {
    "duration": 16,
    "start_time": "2022-02-20T12:08:57.051Z"
   },
   {
    "duration": 5,
    "start_time": "2022-02-20T12:12:06.059Z"
   },
   {
    "duration": 1170,
    "start_time": "2022-02-20T18:50:05.304Z"
   },
   {
    "duration": 4,
    "start_time": "2022-02-20T18:50:06.475Z"
   },
   {
    "duration": 38,
    "start_time": "2022-02-20T18:50:06.481Z"
   },
   {
    "duration": 46,
    "start_time": "2022-02-20T18:50:06.521Z"
   },
   {
    "duration": 5,
    "start_time": "2022-02-20T18:50:06.569Z"
   },
   {
    "duration": 14,
    "start_time": "2022-02-20T18:50:06.576Z"
   },
   {
    "duration": 2962,
    "start_time": "2022-02-20T18:50:06.591Z"
   },
   {
    "duration": 8,
    "start_time": "2022-02-20T18:50:09.555Z"
   },
   {
    "duration": 12,
    "start_time": "2022-02-20T18:50:09.565Z"
   },
   {
    "duration": 6,
    "start_time": "2022-02-20T18:50:09.578Z"
   },
   {
    "duration": 6,
    "start_time": "2022-02-20T18:50:09.585Z"
   },
   {
    "duration": 12,
    "start_time": "2022-02-20T18:50:09.593Z"
   },
   {
    "duration": 6,
    "start_time": "2022-02-20T18:50:09.606Z"
   },
   {
    "duration": 9,
    "start_time": "2022-02-20T18:50:09.614Z"
   },
   {
    "duration": 22,
    "start_time": "2022-02-20T18:50:09.624Z"
   },
   {
    "duration": 54,
    "start_time": "2022-02-20T18:50:09.647Z"
   },
   {
    "duration": 24579,
    "start_time": "2022-02-20T18:50:09.703Z"
   },
   {
    "duration": 17,
    "start_time": "2022-02-20T18:50:34.284Z"
   },
   {
    "duration": 143,
    "start_time": "2022-02-20T18:50:34.303Z"
   },
   {
    "duration": 513,
    "start_time": "2022-02-20T18:50:34.448Z"
   },
   {
    "duration": 49,
    "start_time": "2022-02-20T18:50:34.963Z"
   },
   {
    "duration": 510,
    "start_time": "2022-02-20T19:14:08.173Z"
   },
   {
    "duration": 4,
    "start_time": "2022-02-20T19:14:46.423Z"
   },
   {
    "duration": 337,
    "start_time": "2022-02-20T19:14:52.037Z"
   },
   {
    "duration": 10,
    "start_time": "2022-02-20T19:15:23.407Z"
   },
   {
    "duration": 11,
    "start_time": "2022-02-20T19:15:50.091Z"
   },
   {
    "duration": 9,
    "start_time": "2022-02-20T19:15:59.444Z"
   },
   {
    "duration": 1197,
    "start_time": "2022-02-20T19:20:28.380Z"
   },
   {
    "duration": 4,
    "start_time": "2022-02-20T19:20:29.579Z"
   },
   {
    "duration": 32,
    "start_time": "2022-02-20T19:20:29.587Z"
   },
   {
    "duration": 47,
    "start_time": "2022-02-20T19:20:29.620Z"
   },
   {
    "duration": 5,
    "start_time": "2022-02-20T19:20:29.669Z"
   },
   {
    "duration": 11,
    "start_time": "2022-02-20T19:20:29.676Z"
   },
   {
    "duration": 2793,
    "start_time": "2022-02-20T19:20:29.689Z"
   },
   {
    "duration": 9,
    "start_time": "2022-02-20T19:20:32.486Z"
   },
   {
    "duration": 7,
    "start_time": "2022-02-20T19:20:32.498Z"
   },
   {
    "duration": 10,
    "start_time": "2022-02-20T19:20:32.507Z"
   },
   {
    "duration": 8,
    "start_time": "2022-02-20T19:20:32.518Z"
   },
   {
    "duration": 20,
    "start_time": "2022-02-20T19:20:32.527Z"
   },
   {
    "duration": 9,
    "start_time": "2022-02-20T19:20:32.549Z"
   },
   {
    "duration": 4,
    "start_time": "2022-02-20T19:20:32.560Z"
   },
   {
    "duration": 6,
    "start_time": "2022-02-20T19:20:32.566Z"
   },
   {
    "duration": 49,
    "start_time": "2022-02-20T19:20:32.573Z"
   },
   {
    "duration": 24545,
    "start_time": "2022-02-20T19:20:32.624Z"
   },
   {
    "duration": 24,
    "start_time": "2022-02-20T19:20:57.170Z"
   },
   {
    "duration": 199,
    "start_time": "2022-02-20T19:20:57.195Z"
   },
   {
    "duration": 649,
    "start_time": "2022-02-20T19:20:57.395Z"
   },
   {
    "duration": 55,
    "start_time": "2022-02-20T19:20:58.045Z"
   },
   {
    "duration": 11,
    "start_time": "2022-02-20T19:20:58.102Z"
   },
   {
    "duration": 11,
    "start_time": "2022-02-20T19:20:58.115Z"
   }
  ],
  "kernelspec": {
   "display_name": "Python 3 (ipykernel)",
   "language": "python",
   "name": "python3"
  },
  "language_info": {
   "codemirror_mode": {
    "name": "ipython",
    "version": 3
   },
   "file_extension": ".py",
   "mimetype": "text/x-python",
   "name": "python",
   "nbconvert_exporter": "python",
   "pygments_lexer": "ipython3",
   "version": "3.9.7"
  },
  "toc": {
   "base_numbering": 1,
   "nav_menu": {},
   "number_sections": true,
   "sideBar": true,
   "skip_h1_title": true,
   "title_cell": "Table of Contents",
   "title_sidebar": "Contents",
   "toc_cell": false,
   "toc_position": {},
   "toc_section_display": true,
   "toc_window_display": false
  }
 },
 "nbformat": 4,
 "nbformat_minor": 2
}
