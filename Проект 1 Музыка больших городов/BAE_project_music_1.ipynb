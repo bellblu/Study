{
 "cells": [
  {
   "cell_type": "markdown",
   "metadata": {},
   "source": [
    "**Комментарий ревьюера**\n",
    "\n",
    "Привет, Андрей! Меня зовут Аня Титова, буду проверять твой проект по базовому Python. Давай общаться на «ты». Если это неудобно, дай знать, перейдем на «вы».\n",
    "\n",
    "У тебя уже проделана большая работа над проектом, но давай сделаем его еще лучше. Дальше ты найдешь мои комментарии — пожалуйста, не перемещай и не удаляй их. Буду использовать цветовую разметку:\n",
    "\n",
    "<div class=\"alert alert-danger\">\n",
    "<b>Комментарий ревьюера:</b> Так выделены самые важные замечания. Без их отработки проект не будет принят. </div>\n",
    "\n",
    "<div class=\"alert alert-warning\">\n",
    "<b>Комментарий ревьюера:</b> Так выделены небольшие замечания. Одно-два таких замечания в проекте допустимы, но если их будет больше — тебе будет необходимо внести исправления. </div>\n",
    "\n",
    "<div class=\"alert alert-success\">\n",
    "<b>Комментарий ревьюера:</b> Так я выделяю все остальные комментарии.</div>\n",
    "\n",
    "Давай работать над проектом в диалоге: если ты что-то меняешь в проекте или отвечаешь на мои комментарии — пиши об этом. Мне будет легче отследить изменения, если ты выделишь свои комментарии:\n",
    "<div class=\"alert alert-info\"> <b>Комментарий студента:</b> Например, вот так.</div>\n",
    "\n",
    "Всё это поможет выполнить повторную проверку твоего проекта оперативнее. \n",
    "\n",
    "---"
   ]
  },
  {
   "cell_type": "markdown",
   "metadata": {
    "id": "E0vqbgi9ay0H"
   },
   "source": [
    "# Яндекс.Музыка"
   ]
  },
  {
   "cell_type": "markdown",
   "metadata": {
    "id": "VUC88oWjTJw2"
   },
   "source": [
    "Сравнение Москвы и Петербурга окружено мифами. Например:\n",
    " * Москва — мегаполис, подчинённый жёсткому ритму рабочей недели;\n",
    " * Петербург — культурная столица, со своими вкусами.\n",
    "\n",
    "На данных Яндекс.Музыки вы сравните поведение пользователей двух столиц.\n",
    "\n",
    "**Цель исследования** — проверьте три гипотезы:\n",
    "1. Активность пользователей зависит от дня недели. Причём в Москве и Петербурге это проявляется по-разному.\n",
    "2. В понедельник утром в Москве преобладают одни жанры, а в Петербурге — другие. Так же и вечером пятницы преобладают разные жанры — в зависимости от города. \n",
    "3. Москва и Петербург предпочитают разные жанры музыки. В Москве чаще слушают поп-музыку, в Петербурге — русский рэп.\n",
    "\n",
    "**Ход исследования**\n",
    "\n",
    "Данные о поведении пользователей вы получите из файла `yandex_music_project.csv`. О качестве данных ничего не известно. Поэтому перед проверкой гипотез понадобится обзор данных. \n",
    "\n",
    "Вы проверите данные на ошибки и оцените их влияние на исследование. Затем, на этапе предобработки вы поищете возможность исправить самые критичные ошибки данных.\n",
    " \n",
    "Таким образом, исследование пройдёт в три этапа:\n",
    " 1. Обзор данных.\n",
    " 2. Предобработка данных.\n",
    " 3. Проверка гипотез.\n",
    "\n"
   ]
  },
  {
   "cell_type": "markdown",
   "metadata": {
    "id": "Ml1hmfXC_Zcs"
   },
   "source": [
    "## Обзор данных\n",
    "\n",
    "Составьте первое представление о данных Яндекс.Музыки.\n",
    "\n",
    "\n"
   ]
  },
  {
   "cell_type": "markdown",
   "metadata": {
    "id": "57eAOGIz_Zcs"
   },
   "source": [
    "Основной инструмент аналитика — `pandas`. Импортируйте эту библиотеку."
   ]
  },
  {
   "cell_type": "markdown",
   "metadata": {},
   "source": [
    "<div class=\"alert alert-success\">\n",
    "<b>Комментарий ревьюера:</b> Я заметила, что ячейки в твоей тетрадке начинаются не с 1. Перед отправкой работы рекомендую перезапускать ноутбук, чтобы убедиться, что все ячейки выполняются корректно. Сделать это можно с помощью пункта меню Kernel > Restart & Run All\n",
    "\n",
    "</div>"
   ]
  },
  {
   "cell_type": "code",
   "execution_count": 1,
   "metadata": {
    "id": "AXN7PHPN_Zcs"
   },
   "outputs": [],
   "source": [
    "import pandas as pd# импорт библиотеки pandas"
   ]
  },
  {
   "cell_type": "markdown",
   "metadata": {
    "id": "SG23P8tt_Zcs"
   },
   "source": [
    "Прочитайте файл `yandex_music_project.csv` из папки `/datasets` и сохраните его в переменной `df`:"
   ]
  },
  {
   "cell_type": "code",
   "execution_count": 2,
   "metadata": {
    "id": "fFVu7vqh_Zct"
   },
   "outputs": [],
   "source": [
    "df=pd.read_csv('/datasets/yandex_music_project.csv')# чтение файла с данными и сохранение в df"
   ]
  },
  {
   "cell_type": "markdown",
   "metadata": {
    "id": "rDoOMd3uTqnZ"
   },
   "source": [
    "Выведите на экран первые десять строк таблицы:"
   ]
  },
  {
   "cell_type": "code",
   "execution_count": 3,
   "metadata": {
    "id": "oWTVX3gW_Zct"
   },
   "outputs": [
    {
     "data": {
      "text/html": [
       "<div>\n",
       "<style scoped>\n",
       "    .dataframe tbody tr th:only-of-type {\n",
       "        vertical-align: middle;\n",
       "    }\n",
       "\n",
       "    .dataframe tbody tr th {\n",
       "        vertical-align: top;\n",
       "    }\n",
       "\n",
       "    .dataframe thead th {\n",
       "        text-align: right;\n",
       "    }\n",
       "</style>\n",
       "<table border=\"1\" class=\"dataframe\">\n",
       "  <thead>\n",
       "    <tr style=\"text-align: right;\">\n",
       "      <th></th>\n",
       "      <th>userID</th>\n",
       "      <th>Track</th>\n",
       "      <th>artist</th>\n",
       "      <th>genre</th>\n",
       "      <th>City</th>\n",
       "      <th>time</th>\n",
       "      <th>Day</th>\n",
       "    </tr>\n",
       "  </thead>\n",
       "  <tbody>\n",
       "    <tr>\n",
       "      <td>0</td>\n",
       "      <td>FFB692EC</td>\n",
       "      <td>Kamigata To Boots</td>\n",
       "      <td>The Mass Missile</td>\n",
       "      <td>rock</td>\n",
       "      <td>Saint-Petersburg</td>\n",
       "      <td>20:28:33</td>\n",
       "      <td>Wednesday</td>\n",
       "    </tr>\n",
       "    <tr>\n",
       "      <td>1</td>\n",
       "      <td>55204538</td>\n",
       "      <td>Delayed Because of Accident</td>\n",
       "      <td>Andreas Rönnberg</td>\n",
       "      <td>rock</td>\n",
       "      <td>Moscow</td>\n",
       "      <td>14:07:09</td>\n",
       "      <td>Friday</td>\n",
       "    </tr>\n",
       "    <tr>\n",
       "      <td>2</td>\n",
       "      <td>20EC38</td>\n",
       "      <td>Funiculì funiculà</td>\n",
       "      <td>Mario Lanza</td>\n",
       "      <td>pop</td>\n",
       "      <td>Saint-Petersburg</td>\n",
       "      <td>20:58:07</td>\n",
       "      <td>Wednesday</td>\n",
       "    </tr>\n",
       "    <tr>\n",
       "      <td>3</td>\n",
       "      <td>A3DD03C9</td>\n",
       "      <td>Dragons in the Sunset</td>\n",
       "      <td>Fire + Ice</td>\n",
       "      <td>folk</td>\n",
       "      <td>Saint-Petersburg</td>\n",
       "      <td>08:37:09</td>\n",
       "      <td>Monday</td>\n",
       "    </tr>\n",
       "    <tr>\n",
       "      <td>4</td>\n",
       "      <td>E2DC1FAE</td>\n",
       "      <td>Soul People</td>\n",
       "      <td>Space Echo</td>\n",
       "      <td>dance</td>\n",
       "      <td>Moscow</td>\n",
       "      <td>08:34:34</td>\n",
       "      <td>Monday</td>\n",
       "    </tr>\n",
       "    <tr>\n",
       "      <td>5</td>\n",
       "      <td>842029A1</td>\n",
       "      <td>Преданная</td>\n",
       "      <td>IMPERVTOR</td>\n",
       "      <td>rusrap</td>\n",
       "      <td>Saint-Petersburg</td>\n",
       "      <td>13:09:41</td>\n",
       "      <td>Friday</td>\n",
       "    </tr>\n",
       "    <tr>\n",
       "      <td>6</td>\n",
       "      <td>4CB90AA5</td>\n",
       "      <td>True</td>\n",
       "      <td>Roman Messer</td>\n",
       "      <td>dance</td>\n",
       "      <td>Moscow</td>\n",
       "      <td>13:00:07</td>\n",
       "      <td>Wednesday</td>\n",
       "    </tr>\n",
       "    <tr>\n",
       "      <td>7</td>\n",
       "      <td>F03E1C1F</td>\n",
       "      <td>Feeling This Way</td>\n",
       "      <td>Polina Griffith</td>\n",
       "      <td>dance</td>\n",
       "      <td>Moscow</td>\n",
       "      <td>20:47:49</td>\n",
       "      <td>Wednesday</td>\n",
       "    </tr>\n",
       "    <tr>\n",
       "      <td>8</td>\n",
       "      <td>8FA1D3BE</td>\n",
       "      <td>И вновь продолжается бой</td>\n",
       "      <td>NaN</td>\n",
       "      <td>ruspop</td>\n",
       "      <td>Moscow</td>\n",
       "      <td>09:17:40</td>\n",
       "      <td>Friday</td>\n",
       "    </tr>\n",
       "    <tr>\n",
       "      <td>9</td>\n",
       "      <td>E772D5C0</td>\n",
       "      <td>Pessimist</td>\n",
       "      <td>NaN</td>\n",
       "      <td>dance</td>\n",
       "      <td>Saint-Petersburg</td>\n",
       "      <td>21:20:49</td>\n",
       "      <td>Wednesday</td>\n",
       "    </tr>\n",
       "  </tbody>\n",
       "</table>\n",
       "</div>"
      ],
      "text/plain": [
       "     userID                        Track            artist   genre  \\\n",
       "0  FFB692EC            Kamigata To Boots  The Mass Missile    rock   \n",
       "1  55204538  Delayed Because of Accident  Andreas Rönnberg    rock   \n",
       "2    20EC38            Funiculì funiculà       Mario Lanza     pop   \n",
       "3  A3DD03C9        Dragons in the Sunset        Fire + Ice    folk   \n",
       "4  E2DC1FAE                  Soul People        Space Echo   dance   \n",
       "5  842029A1                    Преданная         IMPERVTOR  rusrap   \n",
       "6  4CB90AA5                         True      Roman Messer   dance   \n",
       "7  F03E1C1F             Feeling This Way   Polina Griffith   dance   \n",
       "8  8FA1D3BE     И вновь продолжается бой               NaN  ruspop   \n",
       "9  E772D5C0                    Pessimist               NaN   dance   \n",
       "\n",
       "             City        time        Day  \n",
       "0  Saint-Petersburg  20:28:33  Wednesday  \n",
       "1            Moscow  14:07:09     Friday  \n",
       "2  Saint-Petersburg  20:58:07  Wednesday  \n",
       "3  Saint-Petersburg  08:37:09     Monday  \n",
       "4            Moscow  08:34:34     Monday  \n",
       "5  Saint-Petersburg  13:09:41     Friday  \n",
       "6            Moscow  13:00:07  Wednesday  \n",
       "7            Moscow  20:47:49  Wednesday  \n",
       "8            Moscow  09:17:40     Friday  \n",
       "9  Saint-Petersburg  21:20:49  Wednesday  "
      ]
     },
     "execution_count": 3,
     "metadata": {},
     "output_type": "execute_result"
    }
   ],
   "source": [
    "df.head(10)# получение первых 10 строк таблицы df"
   ]
  },
  {
   "cell_type": "markdown",
   "metadata": {},
   "source": [
    "<div class=\"alert alert-success\">\n",
    "<b>Комментарий ревьюера:</b> Первые строки данных вывели, отлично. Только display() нам здесь не нужен, это ведь последняя строка ячейки.\n",
    "</div>\n",
    "<div class=\"alert alert-info\"> \n",
    "<b>Комментарий студента:</b> Убрал display().\n",
    "</div>"
   ]
  },
  {
   "cell_type": "markdown",
   "metadata": {
    "id": "EO73Kwic_Zct"
   },
   "source": [
    "Одной командой получить общую информацию о таблице:"
   ]
  },
  {
   "cell_type": "code",
   "execution_count": 4,
   "metadata": {
    "id": "DSf2kIb-_Zct"
   },
   "outputs": [
    {
     "name": "stdout",
     "output_type": "stream",
     "text": [
      "<class 'pandas.core.frame.DataFrame'>\n",
      "RangeIndex: 65079 entries, 0 to 65078\n",
      "Data columns (total 7 columns):\n",
      "  userID    65079 non-null object\n",
      "Track       63848 non-null object\n",
      "artist      57876 non-null object\n",
      "genre       63881 non-null object\n",
      "  City      65079 non-null object\n",
      "time        65079 non-null object\n",
      "Day         65079 non-null object\n",
      "dtypes: object(7)\n",
      "memory usage: 3.5+ MB\n"
     ]
    }
   ],
   "source": [
    "df.info()# получение общей информации о данных в таблице df"
   ]
  },
  {
   "cell_type": "markdown",
   "metadata": {},
   "source": [
    "<div class=\"alert alert-success\">\n",
    "<b>Комментарий ревьюера:</b> С данными познакомились.\n",
    "    \n",
    "</div>"
   ]
  },
  {
   "cell_type": "markdown",
   "metadata": {
    "id": "TaQ2Iwbr_Zct"
   },
   "source": [
    "Итак, в таблице семь столбцов. Тип данных во всех столбцах — `object`.\n",
    "\n",
    "Согласно документации к данным:\n",
    "* `user_id` — идентификатор пользователя;\n",
    "* `track` — название трека;  \n",
    "* `artist` — имя исполнителя;\n",
    "* `genre` — название жанра;\n",
    "* `city` — город пользователя;\n",
    "* `time` — время начала прослушивания;\n",
    "* `day` — день недели.\n",
    "\n",
    "В названиях колонок видны три нарушения стиля:\n",
    "1. Строчные буквы сочетаются с прописными.\n",
    "2. Встречаются пробелы.\n",
    "3. Сочетание нескольких слов написаны слитно.\n",
    "\n",
    "<div class=\"alert alert-warning\">\n",
    "<b>Комментарий ревьюера:</b> Верно, но лучше уточнить, какое написание мы ожидаем вместо этого.\n",
    "</div>\n",
    "<div class=\"alert alert-info\"> \n",
    "<b>Комментарий студента:</b> Поменял на ожидаемые.\n",
    "</div>\n",
    "\n",
    "Количество значений в столбцах различается. Значит, в данных есть пропущенные значения.\n"
   ]
  },
  {
   "cell_type": "markdown",
   "metadata": {
    "id": "MCB6-dXG_Zct"
   },
   "source": [
    "**Выводы**\n",
    "\n",
    "В каждой строке таблицы — данные о прослушанном треке. Часть колонок описывает саму композицию: название, исполнителя и жанр. Остальные данные рассказывают о пользователе: из какого он города, когда он слушал музыку. \n",
    "\n",
    "Предварительно можно утверждать, что, данных достаточно для проверки гипотез. Но встречаются пропуски в данных, а в названиях колонок — расхождения с хорошим стилем.\n",
    "\n",
    "Чтобы двигаться дальше, нужно устранить проблемы в данных."
   ]
  },
  {
   "cell_type": "markdown",
   "metadata": {
    "id": "SjYF6Ub9_Zct"
   },
   "source": [
    "## Предобработка данных\n",
    "Исправьте стиль в заголовках столбцов, исключите пропуски. Затем проверьте данные на дубликаты."
   ]
  },
  {
   "cell_type": "markdown",
   "metadata": {
    "id": "dIaKXr29_Zct"
   },
   "source": [
    "### Стиль заголовков\n",
    "Выведите на экран названия столбцов:"
   ]
  },
  {
   "cell_type": "code",
   "execution_count": 5,
   "metadata": {
    "id": "oKOTdF_Q_Zct"
   },
   "outputs": [
    {
     "data": {
      "text/plain": [
       "Index(['  userID', 'Track', 'artist', 'genre', '  City  ', 'time', 'Day'], dtype='object')"
      ]
     },
     "execution_count": 5,
     "metadata": {},
     "output_type": "execute_result"
    }
   ],
   "source": [
    "df.columns# перечень названий столбцов таблицы df"
   ]
  },
  {
   "cell_type": "markdown",
   "metadata": {},
   "source": [
    "<div class=\"alert alert-success\">\n",
    "<b>Комментарий ревьюера:</b> Названия столбцов вывели, а print() нам тоже не нужен здесь. Можешь ориентироваться на такой принцип вывода данных:\n",
    "\n",
    "1. Для датафреймов используем display(), чтобы они отображались таблицей\n",
    "2. Для всего остального используем print()\n",
    "3. Для последней строки ячейки не используем ничего, Jupyter Notebook и так все отобразит\n",
    "</div>\n",
    "<div class=\"alert alert-info\"> \n",
    "<b>Комментарий студента:</b> Убрал print().\n",
    "</div>"
   ]
  },
  {
   "cell_type": "markdown",
   "metadata": {
    "id": "FPZA3ki8xe7T"
   },
   "source": []
  },
  {
   "cell_type": "markdown",
   "metadata": {
    "id": "zj5534cv_Zct"
   },
   "source": [
    "Приведите названия в соответствие с хорошим стилем:\n",
    "* несколько слов в названии запишите в «змеином_регистре»,\n",
    "* все символы сделайте строчными,\n",
    "* устраните пробелы.\n",
    "\n",
    "Для этого переименуйте колонки так:\n",
    "* `'  userID'` → `'user_id'`;\n",
    "* `'Track'` → `'track'`;\n",
    "* `'  City  '` → `'city'`;\n",
    "* `'Day'` → `'day'`."
   ]
  },
  {
   "cell_type": "code",
   "execution_count": 6,
   "metadata": {
    "id": "ISlFqs5y_Zct"
   },
   "outputs": [],
   "source": [
    "df = df.rename(columns={'  userID':'user_id','Track':'track','  City  ':'city','Day':'day'}) # переименование столбцов"
   ]
  },
  {
   "cell_type": "markdown",
   "metadata": {
    "id": "1dqbh00J_Zct"
   },
   "source": [
    "Проверьте результат. Для этого ещё раз выведите на экран названия столбцов:"
   ]
  },
  {
   "cell_type": "code",
   "execution_count": 7,
   "metadata": {
    "id": "d4NOAmTW_Zct"
   },
   "outputs": [
    {
     "data": {
      "text/plain": [
       "Index(['user_id', 'track', 'artist', 'genre', 'city', 'time', 'day'], dtype='object')"
      ]
     },
     "execution_count": 7,
     "metadata": {},
     "output_type": "execute_result"
    }
   ],
   "source": [
    "df.columns# проверка результатов - перечень названий столбцов"
   ]
  },
  {
   "cell_type": "markdown",
   "metadata": {},
   "source": [
    "<div class=\"alert alert-success\">\n",
    "<b>Комментарий ревьюера:</b> Столбцы переименовали, теперь с ними удобнее работать.\n",
    "</div>\n",
    "<div class=\"alert alert-info\"> \n",
    "<b>Комментарий студента:</b> Убрал print().\n",
    "</div>"
   ]
  },
  {
   "cell_type": "markdown",
   "metadata": {
    "id": "5ISfbcfY_Zct"
   },
   "source": [
    "### Пропуски значений\n",
    "Сначала посчитайте, сколько в таблице пропущенных значений. Для этого достаточно двух методов `pandas`:"
   ]
  },
  {
   "cell_type": "code",
   "execution_count": 8,
   "metadata": {
    "id": "RskX29qr_Zct"
   },
   "outputs": [
    {
     "data": {
      "text/plain": [
       "user_id       0\n",
       "track      1231\n",
       "artist     7203\n",
       "genre      1198\n",
       "city          0\n",
       "time          0\n",
       "day           0\n",
       "dtype: int64"
      ]
     },
     "execution_count": 8,
     "metadata": {},
     "output_type": "execute_result"
    }
   ],
   "source": [
    "df.isna().sum()# подсчёт пропусков"
   ]
  },
  {
   "cell_type": "markdown",
   "metadata": {
    "id": "qubhgnlO_Zct"
   },
   "source": [
    "Не все пропущенные значения влияют на исследование. Так в `track` и `artist` пропуски не важны для вашей работы. Достаточно заменить их явными обозначениями.\n",
    "\n",
    "Но пропуски в `genre` могут помешать сравнению музыкальных вкусов в Москве и Санкт-Петербурге. На практике было бы правильно установить причину пропусков и восстановить данные. Такой возможности нет в учебном проекте. Придётся:\n",
    "* заполнить и эти пропуски явными обозначениями,\n",
    "* оценить, насколько они повредят расчётам. "
   ]
  },
  {
   "cell_type": "markdown",
   "metadata": {
    "id": "fSv2laPA_Zct"
   },
   "source": [
    "Замените пропущенные значения в столбцах `track`, `artist` и `genre` на строку `'unknown'`. Для этого создайте список `columns_to_replace`, переберите его элементы циклом `for` и для каждого столбца выполните замену пропущенных значений:"
   ]
  },
  {
   "cell_type": "code",
   "execution_count": 9,
   "metadata": {
    "id": "KplB5qWs_Zct"
   },
   "outputs": [],
   "source": [
    "columns_to_replace = ['track','artist','genre']\n",
    "for column in columns_to_replace:\n",
    "    df[column] = df[column].fillna('unknown')# перебор названий столбцов в цикле и замена пропущенных значений на 'unknown'"
   ]
  },
  {
   "cell_type": "markdown",
   "metadata": {
    "id": "Ilsm-MZo_Zct"
   },
   "source": [
    "Убедитесь, что в таблице не осталось пропусков. Для этого ещё раз посчитайте пропущенные значения."
   ]
  },
  {
   "cell_type": "code",
   "execution_count": 10,
   "metadata": {
    "id": "Tq4nYRX4_Zct"
   },
   "outputs": [
    {
     "data": {
      "text/plain": [
       "user_id    0\n",
       "track      0\n",
       "artist     0\n",
       "genre      0\n",
       "city       0\n",
       "time       0\n",
       "day        0\n",
       "dtype: int64"
      ]
     },
     "execution_count": 10,
     "metadata": {},
     "output_type": "execute_result"
    }
   ],
   "source": [
    "df.isna().sum()# подсчёт пропусков"
   ]
  },
  {
   "cell_type": "markdown",
   "metadata": {},
   "source": [
    "<div class=\"alert alert-success\">\n",
    "<b>Комментарий ревьюера:</b> Цикл составлен верно, пропуски заполнили. Хорошая практика — проверять, как прошла операция с данными.\n",
    "</div>\n",
    "<div class=\"alert alert-info\"> \n",
    "<b>Комментарий студента:</b> Убрал print().\n",
    "</div>"
   ]
  },
  {
   "cell_type": "markdown",
   "metadata": {
    "id": "BWKRtBJ3_Zct"
   },
   "source": [
    "### Дубликаты\n",
    "Посчитайте явные дубликаты в таблице одной командой:"
   ]
  },
  {
   "cell_type": "code",
   "execution_count": 11,
   "metadata": {
    "id": "36eES_S0_Zct"
   },
   "outputs": [
    {
     "data": {
      "text/plain": [
       "3826"
      ]
     },
     "execution_count": 11,
     "metadata": {},
     "output_type": "execute_result"
    }
   ],
   "source": [
    "df.duplicated().sum()# подсчёт явных дубликатов"
   ]
  },
  {
   "cell_type": "markdown",
   "metadata": {
    "id": "Ot25h6XR_Zct"
   },
   "source": [
    "Вызовите специальный метод `pandas`, чтобы удалить явные дубликаты:"
   ]
  },
  {
   "cell_type": "code",
   "execution_count": 12,
   "metadata": {
    "id": "exFHq6tt_Zct"
   },
   "outputs": [],
   "source": [
    "df = df.drop_duplicates().reset_index(drop=True)# удаление явных дубликатов (с удалением старых индексов и формированием новых)"
   ]
  },
  {
   "cell_type": "markdown",
   "metadata": {
    "id": "Im2YwBEG_Zct"
   },
   "source": [
    "Ещё раз посчитайте явные дубликаты в таблице — убедитесь, что полностью от них избавились:"
   ]
  },
  {
   "cell_type": "code",
   "execution_count": 13,
   "metadata": {
    "id": "-8PuNWQ0_Zct"
   },
   "outputs": [
    {
     "data": {
      "text/plain": [
       "0"
      ]
     },
     "execution_count": 13,
     "metadata": {},
     "output_type": "execute_result"
    }
   ],
   "source": [
    "df.duplicated().sum()# проверка на отсутствие дубликатов"
   ]
  },
  {
   "cell_type": "markdown",
   "metadata": {},
   "source": [
    "<div class=\"alert alert-success\">\n",
    "<b>Комментарий ревьюера:</b> Отлично, полные дубли записей устранили.\n",
    "</div>\n",
    "<div class=\"alert alert-info\"> \n",
    "<b>Комментарий студента:</b> Убрал print().\n",
    "</div>"
   ]
  },
  {
   "cell_type": "markdown",
   "metadata": {
    "id": "QlFBsxAr_Zct"
   },
   "source": [
    "Теперь избавьтесь от неявных дубликатов в колонке `genre`. Например, название одного и того же жанра может быть записано немного по-разному. Такие ошибки тоже повлияют на результат исследования."
   ]
  },
  {
   "cell_type": "markdown",
   "metadata": {
    "id": "eSjWwsOh_Zct"
   },
   "source": [
    "Выведите на экран список уникальных названий жанров, отсортированный в алфавитном порядке. Для этого:\n",
    "* извлеките нужный столбец датафрейма, \n",
    "* примените к нему метод сортировки,\n",
    "* для отсортированного столбца вызовите метод, который вернёт уникальные значения из столбца."
   ]
  },
  {
   "cell_type": "code",
   "execution_count": 14,
   "metadata": {
    "id": "JIUcqzZN_Zct",
    "scrolled": true
   },
   "outputs": [
    {
     "data": {
      "text/plain": [
       "array(['acid', 'acoustic', 'action', 'adult', 'africa', 'afrikaans',\n",
       "       'alternative', 'alternativepunk', 'ambient', 'americana',\n",
       "       'animated', 'anime', 'arabesk', 'arabic', 'arena',\n",
       "       'argentinetango', 'art', 'audiobook', 'author', 'avantgarde',\n",
       "       'axé', 'baile', 'balkan', 'beats', 'bigroom', 'black', 'bluegrass',\n",
       "       'blues', 'bollywood', 'bossa', 'brazilian', 'breakbeat', 'breaks',\n",
       "       'broadway', 'cantautori', 'cantopop', 'canzone', 'caribbean',\n",
       "       'caucasian', 'celtic', 'chamber', 'chanson', 'children', 'chill',\n",
       "       'chinese', 'choral', 'christian', 'christmas', 'classical',\n",
       "       'classicmetal', 'club', 'colombian', 'comedy', 'conjazz',\n",
       "       'contemporary', 'country', 'cuban', 'dance', 'dancehall',\n",
       "       'dancepop', 'dark', 'death', 'deep', 'deutschrock', 'deutschspr',\n",
       "       'dirty', 'disco', 'dnb', 'documentary', 'downbeat', 'downtempo',\n",
       "       'drum', 'dub', 'dubstep', 'eastern', 'easy', 'electronic',\n",
       "       'electropop', 'emo', 'entehno', 'epicmetal', 'estrada', 'ethnic',\n",
       "       'eurofolk', 'european', 'experimental', 'extrememetal', 'fado',\n",
       "       'fairytail', 'film', 'fitness', 'flamenco', 'folk', 'folklore',\n",
       "       'folkmetal', 'folkrock', 'folktronica', 'forró', 'frankreich',\n",
       "       'französisch', 'french', 'funk', 'future', 'gangsta', 'garage',\n",
       "       'german', 'ghazal', 'gitarre', 'glitch', 'gospel', 'gothic',\n",
       "       'grime', 'grunge', 'gypsy', 'handsup', \"hard'n'heavy\", 'hardcore',\n",
       "       'hardstyle', 'hardtechno', 'hip', 'hip-hop', 'hiphop',\n",
       "       'historisch', 'holiday', 'hop', 'horror', 'house', 'hymn', 'idm',\n",
       "       'independent', 'indian', 'indie', 'indipop', 'industrial',\n",
       "       'inspirational', 'instrumental', 'international', 'irish', 'jam',\n",
       "       'japanese', 'jazz', 'jewish', 'jpop', 'jungle', 'k-pop',\n",
       "       'karadeniz', 'karaoke', 'kayokyoku', 'korean', 'laiko', 'latin',\n",
       "       'latino', 'leftfield', 'local', 'lounge', 'loungeelectronic',\n",
       "       'lovers', 'malaysian', 'mandopop', 'marschmusik', 'meditative',\n",
       "       'mediterranean', 'melodic', 'metal', 'metalcore', 'mexican',\n",
       "       'middle', 'minimal', 'miscellaneous', 'modern', 'mood', 'mpb',\n",
       "       'muslim', 'native', 'neoklassik', 'neue', 'new', 'newage',\n",
       "       'newwave', 'nu', 'nujazz', 'numetal', 'oceania', 'old', 'opera',\n",
       "       'orchestral', 'other', 'piano', 'podcasts', 'pop', 'popdance',\n",
       "       'popelectronic', 'popeurodance', 'poprussian', 'post',\n",
       "       'posthardcore', 'postrock', 'power', 'progmetal', 'progressive',\n",
       "       'psychedelic', 'punjabi', 'punk', 'quebecois', 'ragga', 'ram',\n",
       "       'rancheras', 'rap', 'rave', 'reggae', 'reggaeton', 'regional',\n",
       "       'relax', 'religious', 'retro', 'rhythm', 'rnb', 'rnr', 'rock',\n",
       "       'rockabilly', 'rockalternative', 'rockindie', 'rockother',\n",
       "       'romance', 'roots', 'ruspop', 'rusrap', 'rusrock', 'russian',\n",
       "       'salsa', 'samba', 'scenic', 'schlager', 'self', 'sertanejo',\n",
       "       'shanson', 'shoegazing', 'showtunes', 'singer', 'ska', 'skarock',\n",
       "       'slow', 'smooth', 'soft', 'soul', 'soulful', 'sound', 'soundtrack',\n",
       "       'southern', 'specialty', 'speech', 'spiritual', 'sport',\n",
       "       'stonerrock', 'surf', 'swing', 'synthpop', 'synthrock',\n",
       "       'sängerportrait', 'tango', 'tanzorchester', 'taraftar', 'tatar',\n",
       "       'tech', 'techno', 'teen', 'thrash', 'top', 'traditional',\n",
       "       'tradjazz', 'trance', 'tribal', 'trip', 'triphop', 'tropical',\n",
       "       'türk', 'türkçe', 'ukrrock', 'unknown', 'urban', 'uzbek',\n",
       "       'variété', 'vi', 'videogame', 'vocal', 'western', 'world',\n",
       "       'worldbeat', 'ïîï', 'электроника'], dtype=object)"
      ]
     },
     "execution_count": 14,
     "metadata": {},
     "output_type": "execute_result"
    }
   ],
   "source": [
    "df['genre'].sort_values().unique()# Просмотр уникальных названий жанров"
   ]
  },
  {
   "cell_type": "markdown",
   "metadata": {},
   "source": [
    "<div class=\"alert alert-warning\">\n",
    "<b>Комментарий ревьюера:</b> Когда нужно отсортировать датафрейм, можно использовать метод sort_values():\n",
    "    \n",
    "    df['genre'].sort_values().unique()\n",
    "</div>\n",
    "<div class=\"alert alert-info\"> \n",
    "<b>Комментарий студента:</b> Убрал print(), заменил метод по рекомендации.\n",
    "</div>"
   ]
  },
  {
   "cell_type": "markdown",
   "metadata": {
    "id": "qej-Qmuo_Zct"
   },
   "source": [
    "Просмотрите список и найдите неявные дубликаты названия `hiphop`. Это могут быть названия с ошибками или альтернативные названия того же жанра.\n",
    "\n",
    "Вы увидите следующие неявные дубликаты:\n",
    "* *hip*,\n",
    "* *hop*,\n",
    "* *hip-hop*.\n",
    "\n",
    "Чтобы очистить от них таблицу, напишите функцию `replace_wrong_genres()` с двумя параметрами: \n",
    "* `wrong_genres` — список дубликатов,\n",
    "* `correct_genre` — строка с правильным значением.\n",
    "\n",
    "Функция должна исправить колонку `genre` в таблице `df`: заменить каждое значение из списка `wrong_genres` на значение из `correct_genre`."
   ]
  },
  {
   "cell_type": "code",
   "execution_count": 15,
   "metadata": {
    "id": "ErNDkmns_Zct"
   },
   "outputs": [],
   "source": [
    "def replace_wrong_genres(wrong_genres,correct_genre):\n",
    "    for wrong_genre in wrong_genres:\n",
    "        df['genre'] = df['genre'].replace(wrong_genre,correct_genre)# Функция для замены неявных дубликатов"
   ]
  },
  {
   "cell_type": "markdown",
   "metadata": {
    "id": "aDoBJxbA_Zct"
   },
   "source": [
    "Вызовите `replace_wrong_genres()` и передайте ей такие аргументы, чтобы она устранила неявные дубликаты: вместо `hip`, `hop` и `hip-hop` в таблице должно быть значение `hiphop`:"
   ]
  },
  {
   "cell_type": "code",
   "execution_count": 16,
   "metadata": {
    "id": "YN5i2hpmSo09"
   },
   "outputs": [],
   "source": [
    "duplicated_genres = ['hip','hop','hip-hop']\n",
    "genre = 'hiphop'\n",
    "replace_wrong_genres(duplicated_genres,genre)# Устранение неявных дубликатов"
   ]
  },
  {
   "cell_type": "markdown",
   "metadata": {},
   "source": [
    "<div class=\"alert alert-success\">\n",
    "<b>Комментарий ревьюера:</b> Функцию составили и вызвали верно.\n",
    "</div>"
   ]
  },
  {
   "cell_type": "markdown",
   "metadata": {
    "id": "zQKF16_RG15m"
   },
   "source": [
    "Проверьте, что заменили неправильные названия:\n",
    "\n",
    "*   hip\n",
    "*   hop\n",
    "*   hip-hop\n",
    "\n",
    "Выведите отсортированный список уникальных значений столбца `genre`:"
   ]
  },
  {
   "cell_type": "code",
   "execution_count": 17,
   "metadata": {
    "id": "wvixALnFG15m"
   },
   "outputs": [
    {
     "data": {
      "text/plain": [
       "array(['acid', 'acoustic', 'action', 'adult', 'africa', 'afrikaans',\n",
       "       'alternative', 'alternativepunk', 'ambient', 'americana',\n",
       "       'animated', 'anime', 'arabesk', 'arabic', 'arena',\n",
       "       'argentinetango', 'art', 'audiobook', 'author', 'avantgarde',\n",
       "       'axé', 'baile', 'balkan', 'beats', 'bigroom', 'black', 'bluegrass',\n",
       "       'blues', 'bollywood', 'bossa', 'brazilian', 'breakbeat', 'breaks',\n",
       "       'broadway', 'cantautori', 'cantopop', 'canzone', 'caribbean',\n",
       "       'caucasian', 'celtic', 'chamber', 'chanson', 'children', 'chill',\n",
       "       'chinese', 'choral', 'christian', 'christmas', 'classical',\n",
       "       'classicmetal', 'club', 'colombian', 'comedy', 'conjazz',\n",
       "       'contemporary', 'country', 'cuban', 'dance', 'dancehall',\n",
       "       'dancepop', 'dark', 'death', 'deep', 'deutschrock', 'deutschspr',\n",
       "       'dirty', 'disco', 'dnb', 'documentary', 'downbeat', 'downtempo',\n",
       "       'drum', 'dub', 'dubstep', 'eastern', 'easy', 'electronic',\n",
       "       'electropop', 'emo', 'entehno', 'epicmetal', 'estrada', 'ethnic',\n",
       "       'eurofolk', 'european', 'experimental', 'extrememetal', 'fado',\n",
       "       'fairytail', 'film', 'fitness', 'flamenco', 'folk', 'folklore',\n",
       "       'folkmetal', 'folkrock', 'folktronica', 'forró', 'frankreich',\n",
       "       'französisch', 'french', 'funk', 'future', 'gangsta', 'garage',\n",
       "       'german', 'ghazal', 'gitarre', 'glitch', 'gospel', 'gothic',\n",
       "       'grime', 'grunge', 'gypsy', 'handsup', \"hard'n'heavy\", 'hardcore',\n",
       "       'hardstyle', 'hardtechno', 'hiphop', 'historisch', 'holiday',\n",
       "       'horror', 'house', 'hymn', 'idm', 'independent', 'indian', 'indie',\n",
       "       'indipop', 'industrial', 'inspirational', 'instrumental',\n",
       "       'international', 'irish', 'jam', 'japanese', 'jazz', 'jewish',\n",
       "       'jpop', 'jungle', 'k-pop', 'karadeniz', 'karaoke', 'kayokyoku',\n",
       "       'korean', 'laiko', 'latin', 'latino', 'leftfield', 'local',\n",
       "       'lounge', 'loungeelectronic', 'lovers', 'malaysian', 'mandopop',\n",
       "       'marschmusik', 'meditative', 'mediterranean', 'melodic', 'metal',\n",
       "       'metalcore', 'mexican', 'middle', 'minimal', 'miscellaneous',\n",
       "       'modern', 'mood', 'mpb', 'muslim', 'native', 'neoklassik', 'neue',\n",
       "       'new', 'newage', 'newwave', 'nu', 'nujazz', 'numetal', 'oceania',\n",
       "       'old', 'opera', 'orchestral', 'other', 'piano', 'podcasts', 'pop',\n",
       "       'popdance', 'popelectronic', 'popeurodance', 'poprussian', 'post',\n",
       "       'posthardcore', 'postrock', 'power', 'progmetal', 'progressive',\n",
       "       'psychedelic', 'punjabi', 'punk', 'quebecois', 'ragga', 'ram',\n",
       "       'rancheras', 'rap', 'rave', 'reggae', 'reggaeton', 'regional',\n",
       "       'relax', 'religious', 'retro', 'rhythm', 'rnb', 'rnr', 'rock',\n",
       "       'rockabilly', 'rockalternative', 'rockindie', 'rockother',\n",
       "       'romance', 'roots', 'ruspop', 'rusrap', 'rusrock', 'russian',\n",
       "       'salsa', 'samba', 'scenic', 'schlager', 'self', 'sertanejo',\n",
       "       'shanson', 'shoegazing', 'showtunes', 'singer', 'ska', 'skarock',\n",
       "       'slow', 'smooth', 'soft', 'soul', 'soulful', 'sound', 'soundtrack',\n",
       "       'southern', 'specialty', 'speech', 'spiritual', 'sport',\n",
       "       'stonerrock', 'surf', 'swing', 'synthpop', 'synthrock',\n",
       "       'sängerportrait', 'tango', 'tanzorchester', 'taraftar', 'tatar',\n",
       "       'tech', 'techno', 'teen', 'thrash', 'top', 'traditional',\n",
       "       'tradjazz', 'trance', 'tribal', 'trip', 'triphop', 'tropical',\n",
       "       'türk', 'türkçe', 'ukrrock', 'unknown', 'urban', 'uzbek',\n",
       "       'variété', 'vi', 'videogame', 'vocal', 'western', 'world',\n",
       "       'worldbeat', 'ïîï', 'электроника'], dtype=object)"
      ]
     },
     "execution_count": 17,
     "metadata": {},
     "output_type": "execute_result"
    }
   ],
   "source": [
    "df['genre'].sort_values().unique()# Проверка на неявные дубликаты"
   ]
  },
  {
   "cell_type": "markdown",
   "metadata": {},
   "source": [
    "<div class=\"alert alert-warning\">\n",
    "<b>Комментарий ревьюера:</b> В таком списке не очень удобно искать — он разъехался из-за print(). Но видим, что скрытые дубли тоже устранили)\n",
    "</div>\n",
    "<div class=\"alert alert-info\"> \n",
    "<b>Комментарий студента:</b> Убрал print(), заменил метод.\n",
    "</div>"
   ]
  },
  {
   "cell_type": "markdown",
   "metadata": {
    "id": "jz6a9-7HQUDd"
   },
   "source": [
    "**Выводы**\n",
    "\n",
    "Предобработка обнаружила три проблемы в данных:\n",
    "\n",
    "- нарушения в стиле заголовков,\n",
    "- пропущенные значения,\n",
    "- дубликаты — явные и неявные.\n",
    "\n",
    "Вы исправили заголовки, чтобы упростить работу с таблицей. Без дубликатов исследование станет более точным.\n",
    "\n",
    "Пропущенные значения вы заменили на `'unknown'`. Ещё предстоит увидеть, не повредят ли исследованию пропуски в колонке `genre`.\n",
    "\n",
    "Теперь можно перейти к проверке гипотез. "
   ]
  },
  {
   "cell_type": "markdown",
   "metadata": {
    "id": "WttZHXH0SqKk"
   },
   "source": [
    "## Проверка гипотез"
   ]
  },
  {
   "cell_type": "markdown",
   "metadata": {
    "id": "Im936VVi_Zcu"
   },
   "source": [
    "### Сравнение поведения пользователей двух столиц"
   ]
  },
  {
   "cell_type": "markdown",
   "metadata": {
    "id": "nwt_MuaL_Zcu"
   },
   "source": [
    "Первая гипотеза утверждает, что пользователи по-разному слушают музыку в Москве и Санкт-Петербурге. Проверьте это предположение по данным о трёх днях недели — понедельнике, среде и пятнице. Для этого:\n",
    "\n",
    "* Разделите пользователей Москвы и Санкт-Петербурга\n",
    "* Сравните, сколько треков послушала каждая группа пользователей в понедельник, среду и пятницу.\n"
   ]
  },
  {
   "cell_type": "markdown",
   "metadata": {
    "id": "8Dw_YMmT_Zcu"
   },
   "source": [
    "Для тренировки сначала выполните каждый из расчётов по отдельности. \n",
    "\n",
    "Оцените активность пользователей в каждом городе. Сгруппируйте данные по городу и посчитайте прослушивания в каждой группе.\n",
    "\n"
   ]
  },
  {
   "cell_type": "code",
   "execution_count": 18,
   "metadata": {
    "id": "0_Qs96oh_Zcu"
   },
   "outputs": [
    {
     "data": {
      "text/plain": [
       "city\n",
       "Moscow              42741\n",
       "Saint-Petersburg    18512\n",
       "Name: user_id, dtype: int64"
      ]
     },
     "execution_count": 18,
     "metadata": {},
     "output_type": "execute_result"
    }
   ],
   "source": [
    "df.groupby('city')['user_id'].count()# Подсчёт прослушиваний в каждом городе"
   ]
  },
  {
   "cell_type": "markdown",
   "metadata": {},
   "source": [
    "<div class=\"alert alert-danger\">\n",
    "<b>Комментарий ревьюера:</b> \n",
    "</div>"
   ]
  },
  {
   "cell_type": "markdown",
   "metadata": {
    "id": "dzli3w8o_Zcu"
   },
   "source": [
    "В Москве прослушиваний больше, чем в Петербурге. Из этого не следует, что московские пользователи чаще слушают музыку. Просто самих пользователей в Москве больше.\n",
    "\n",
    "Теперь сгруппируйте данные по дню недели и подсчитайте прослушивания в понедельник, среду и пятницу. Учтите, что в данных есть информация только о прослушиваниях только за эти дни.\n"
   ]
  },
  {
   "cell_type": "code",
   "execution_count": 19,
   "metadata": {
    "id": "uZMKjiJz_Zcu"
   },
   "outputs": [
    {
     "data": {
      "text/plain": [
       "day\n",
       "Friday       21840\n",
       "Monday       21354\n",
       "Wednesday    18059\n",
       "Name: user_id, dtype: int64"
      ]
     },
     "execution_count": 19,
     "metadata": {},
     "output_type": "execute_result"
    }
   ],
   "source": [
    "df.groupby('day')['user_id'].count()# Подсчёт прослушиваний в каждый из трёх дней"
   ]
  },
  {
   "cell_type": "markdown",
   "metadata": {},
   "source": [
    "<div class=\"alert alert-danger\">\n",
    "<b>Комментарий ревьюера:</b> И здесь нужно выбрать столбец.\n",
    "</div>\n",
    "<div class=\"alert alert-info\"> \n",
    "<b>Комментарий студента:</b> Убрал display(), выбрал столбец 'user_id'.\n",
    "</div>"
   ]
  },
  {
   "cell_type": "markdown",
   "metadata": {
    "id": "cC2tNrlL_Zcu"
   },
   "source": [
    "В среднем пользователи из двух городов менее активны по средам. Но картина может измениться, если рассмотреть каждый город в отдельности."
   ]
  },
  {
   "cell_type": "markdown",
   "metadata": {
    "id": "POzs8bGa_Zcu"
   },
   "source": [
    "Вы видели, как работает группировка по городу и по дням недели. Теперь напишите функцию, которая объединит два эти расчёта.\n",
    "\n",
    "Создайте функцию `number_tracks()`, которая посчитает прослушивания для заданного дня и города. Ей понадобятся два параметра:\n",
    "* день недели,\n",
    "* название города.\n",
    "\n",
    "В функции сохраните в переменную строки исходной таблицы, у которых значение:\n",
    "  * в колонке `day` равно параметру `day`,\n",
    "  * в колонке `city` равно параметру `city`.\n",
    "\n",
    "Для этого примените последовательную фильтрацию с логической индексацией.\n",
    "\n",
    "Затем посчитайте значения в столбце `user_id` получившейся таблицы. Результат сохраните в новую переменную. Верните эту переменную из функции."
   ]
  },
  {
   "cell_type": "code",
   "execution_count": 20,
   "metadata": {
    "id": "Nz3GdQB1_Zcu"
   },
   "outputs": [
    {
     "data": {
      "text/plain": [
       "[['Moscow', 15740, 11056, 15945], ['Saint-Petersburg', 5614, 7003, 5895]]"
      ]
     },
     "execution_count": 20,
     "metadata": {},
     "output_type": "execute_result"
    }
   ],
   "source": [
    "#def number_tracks(city,day):\n",
    "   #for c in city:\n",
    "        #number_track_city = []\n",
    "        #number_track_city.append(c)\n",
    "        #track_list = df[df['city'] == c]\n",
    "        #for d in day:\n",
    "            #number_track_city.append(track_list[track_list['day'] == d]['user_id'].count())\n",
    "        #number_track_list.append(number_track_city)\n",
    "\n",
    "#Для того чтоб не вводить шесть раз комбинации и значения, попробовал создать функцию со списком, вроде все получилось.            \n",
    "day = ['Monday','Wednesday','Friday']\n",
    "city = ['Moscow','Saint-Petersburg']\n",
    "number_track_list=[]\n",
    "number_track_city=[]\n",
    "\n",
    "#day = ['Monday']\n",
    "#city = ['Saint-Petersburg']\n",
    "#Проверял работоспособность на одном городе и одном дне\n",
    "def number_tracks(city,day):\n",
    "    track_list = df[df['city'] == city]\n",
    "    number_track_city.append(track_list[track_list['day'] == day]['user_id'].count())\n",
    "    \n",
    "    \n",
    "for c in city:\n",
    "    number_track_city.append(c)\n",
    "    for d in day:\n",
    "        number_tracks(c,d)\n",
    "    number_track_list.append(number_track_city)\n",
    "    number_track_city=[]\n",
    "\n",
    "\n",
    "#number_tracks(city,day)\n",
    "number_track_list\n",
    "\n",
    "# <создание функции number_tracks()>\n",
    "# Объявляется функция с двумя параметрами: day, city.\n",
    "# В переменной track_list сохраняются те строки таблицы df, для которых \n",
    "# значение в столбце 'day' равно параметру day и одновременно значение\n",
    "# в столбце 'city' равно параметру city (используйте последовательную фильтрацию\n",
    "# с помощью логической индексации).\n",
    "# В переменной track_list_count сохраняется число значений столбца 'user_id',\n",
    "# рассчитанное методом count() для таблицы track_list.\n",
    "# Функция возвращает число - значение track_list_count.\n",
    "\n",
    "# Функция для подсчёта прослушиваний для конкретного города и дня.\n",
    "# С помощью последовательной фильтрации с логической индексацией она \n",
    "# сначала получит из исходной таблицы строки с нужным днём,\n",
    "# затем из результата отфильтрует строки с нужным городом,\n",
    "# методом count() посчитает количество значений в колонке user_id. \n",
    "# Это количество функция вернёт в качестве результата"
   ]
  },
  {
   "cell_type": "markdown",
   "metadata": {
    "id": "ytf7xFrFJQ2r"
   },
   "source": [
    "Вызовите `number_tracks()` шесть раз, меняя значение параметров — так, чтобы получить данные для каждого города в каждый из трёх дней."
   ]
  },
  {
   "cell_type": "code",
   "execution_count": 21,
   "metadata": {
    "id": "rJcRATNQ_Zcu"
   },
   "outputs": [],
   "source": [
    "# количество прослушиваний в Москве по понедельникам"
   ]
  },
  {
   "cell_type": "code",
   "execution_count": 22,
   "metadata": {
    "id": "hq_ncZ5T_Zcu"
   },
   "outputs": [],
   "source": [
    "# количество прослушиваний в Санкт-Петербурге по понедельникам"
   ]
  },
  {
   "cell_type": "code",
   "execution_count": 23,
   "metadata": {
    "id": "_NTy2VPU_Zcu"
   },
   "outputs": [],
   "source": [
    "# количество прослушиваний в Москве по средам"
   ]
  },
  {
   "cell_type": "code",
   "execution_count": 24,
   "metadata": {
    "id": "j2y3TAwo_Zcu"
   },
   "outputs": [],
   "source": [
    "# количество прослушиваний в Санкт-Петербурге по средам"
   ]
  },
  {
   "cell_type": "code",
   "execution_count": 25,
   "metadata": {
    "id": "vYDw5u_K_Zcu"
   },
   "outputs": [],
   "source": [
    "# количество прослушиваний в Москве по пятницам"
   ]
  },
  {
   "cell_type": "code",
   "execution_count": 26,
   "metadata": {
    "id": "8_yzFtW3_Zcu"
   },
   "outputs": [],
   "source": [
    "# количество прослушиваний в Санкт-Петербурге по пятницам"
   ]
  },
  {
   "cell_type": "markdown",
   "metadata": {
    "id": "7QXffbO-_Zcu"
   },
   "source": [
    "Создайте c помощью конструктора `pd.DataFrame` таблицу, где\n",
    "* названия колонок — `['city', 'monday', 'wednesday', 'friday']`;\n",
    "* данные — результаты, которые вы получили с помощью `number_tracks`."
   ]
  },
  {
   "cell_type": "code",
   "execution_count": 27,
   "metadata": {
    "id": "APAcLpOr_Zcu"
   },
   "outputs": [
    {
     "data": {
      "text/html": [
       "<div>\n",
       "<style scoped>\n",
       "    .dataframe tbody tr th:only-of-type {\n",
       "        vertical-align: middle;\n",
       "    }\n",
       "\n",
       "    .dataframe tbody tr th {\n",
       "        vertical-align: top;\n",
       "    }\n",
       "\n",
       "    .dataframe thead th {\n",
       "        text-align: right;\n",
       "    }\n",
       "</style>\n",
       "<table border=\"1\" class=\"dataframe\">\n",
       "  <thead>\n",
       "    <tr style=\"text-align: right;\">\n",
       "      <th></th>\n",
       "      <th>city</th>\n",
       "      <th>monday</th>\n",
       "      <th>wednesday</th>\n",
       "      <th>friday</th>\n",
       "    </tr>\n",
       "  </thead>\n",
       "  <tbody>\n",
       "    <tr>\n",
       "      <td>0</td>\n",
       "      <td>Moscow</td>\n",
       "      <td>15740</td>\n",
       "      <td>11056</td>\n",
       "      <td>15945</td>\n",
       "    </tr>\n",
       "    <tr>\n",
       "      <td>1</td>\n",
       "      <td>Saint-Petersburg</td>\n",
       "      <td>5614</td>\n",
       "      <td>7003</td>\n",
       "      <td>5895</td>\n",
       "    </tr>\n",
       "  </tbody>\n",
       "</table>\n",
       "</div>"
      ],
      "text/plain": [
       "               city  monday  wednesday  friday\n",
       "0            Moscow   15740      11056   15945\n",
       "1  Saint-Petersburg    5614       7003    5895"
      ]
     },
     "metadata": {},
     "output_type": "display_data"
    }
   ],
   "source": [
    "columns = ['city', 'monday', 'wednesday', 'friday']\n",
    "total = pd.DataFrame(data = number_track_list,columns = columns)\n",
    "display(total)# Таблица с результатами"
   ]
  },
  {
   "cell_type": "markdown",
   "metadata": {},
   "source": [
    "<div class=\"alert alert-success\">\n",
    "<b>Комментарий ревьюера:</b> Неплохой способ избежать повторения кода. Но если нам понадобится оценить один день в одном городе, будет не очень удобно. Можно циклы вынести за пределы функции — получится более универсально. \n",
    "</div>\n",
    "<div class=\"alert alert-info\"> \n",
    "<b>Комментарий студента:</b> Вынес циклы за пределы функции, совершил проверку на одном городе и одном дне. Вывел на экран для проверки.\n",
    "</div>\n"
   ]
  },
  {
   "cell_type": "markdown",
   "metadata": {
    "id": "-EgPIHYu_Zcu"
   },
   "source": [
    "**Выводы**\n",
    "\n",
    "Данные показывают разницу поведения пользователей:\n",
    "\n",
    "- В Москве пик прослушиваний приходится на понедельник и пятницу, а в среду заметен спад.\n",
    "- В Петербурге, наоборот, больше слушают музыку по средам. Активность в понедельник и пятницу здесь почти в равной мере уступает среде.\n",
    "\n",
    "Значит, данные говорят в пользу первой гипотезы."
   ]
  },
  {
   "cell_type": "markdown",
   "metadata": {
    "id": "atZAxtq4_Zcu"
   },
   "source": [
    "### Музыка в начале и в конце недели"
   ]
  },
  {
   "cell_type": "markdown",
   "metadata": {
    "id": "eXrQqXFH_Zcu"
   },
   "source": [
    "Согласно второй гипотезе, утром в понедельник в Москве преобладают одни жанры, а в Петербурге — другие. Так же и вечером пятницы преобладают разные жанры — в зависимости от города."
   ]
  },
  {
   "cell_type": "markdown",
   "metadata": {
    "id": "S8UcW6Hw_Zcu"
   },
   "source": [
    "Сохраните таблицы с данными в две переменные:\n",
    "* по Москве — в `moscow_general`;\n",
    "* по Санкт-Петербургу — в `spb_general`."
   ]
  },
  {
   "cell_type": "code",
   "execution_count": 28,
   "metadata": {
    "id": "qeaFfM_P_Zcu"
   },
   "outputs": [],
   "source": [
    "\n",
    "moscow_general = df[df['city'] == 'Moscow']\n",
    "#display(moscow_general)\n",
    "# получение таблицы moscow_general из тех строк таблицы df, \n",
    "# для которых значение в столбце 'city' равно 'Moscow'\n"
   ]
  },
  {
   "cell_type": "code",
   "execution_count": 29,
   "metadata": {
    "id": "ORaVRKto_Zcu"
   },
   "outputs": [],
   "source": [
    "spb_general = df[df['city'] == 'Saint-Petersburg']\n",
    "#display(spb_general.head(10))\n",
    "# получение таблицы spb_general из тех строк таблицы df,\n",
    "# для которых значение в столбце 'city' равно 'Saint-Petersburg'\n"
   ]
  },
  {
   "cell_type": "markdown",
   "metadata": {
    "id": "MEJV-CX2_Zcu"
   },
   "source": [
    "Создайте функцию `genre_weekday()` с четырьмя параметрами:\n",
    "* таблица (датафрейм) с данными,\n",
    "* день недели,\n",
    "* начальная временная метка в формате 'hh:mm', \n",
    "* последняя временная метка в формате 'hh:mm'.\n",
    "\n",
    "Функция должна вернуть информацию о топ-10 жанров тех треков, которые прослушивали в указанный день, в промежутке между двумя отметками времени."
   ]
  },
  {
   "cell_type": "code",
   "execution_count": 30,
   "metadata": {
    "id": "laJT9BYl_Zcu"
   },
   "outputs": [],
   "source": [
    "def genre_weekday(table, day, time1, time2):\n",
    "    genre_df = table[table['day'] == day]\n",
    "    genre_df = genre_df[genre_df['time'] > time1]\n",
    "    genre_df = genre_df[genre_df['time'] < time2]\n",
    "    genre_df_sorted = genre_df.groupby('genre')['genre'].count().sort_values(ascending=False)\n",
    "    print(genre_df_sorted.head(10))\n",
    "    #genre_df = genre_df.groupby('genre')['genre'].count().sort_values(ascending=False)\n",
    "    #print(genre_df.head(10))\n",
    "\n",
    "# Объявление функции genre_weekday() с параметрами table, day, time1, time2,\n",
    "# которая возвращает информацию о самых популярных жанрах в указанный день в\n",
    "# заданное время:\n",
    "# 1) в переменную genre_df сохраняются те строки переданного датафрейма table, для\n",
    "#    которых одновременно:\n",
    "#    - значение в столбце day равно значению аргумента day\n",
    "#    - значение в столбце time больше значения аргумента time1\n",
    "#    - значение в столбце time меньше значения аргумента time2\n",
    "#    Используйте последовательную фильтрацию с помощью логической индексации.\n",
    "# 2) сгруппировать датафрейм genre_df по столбцу genre, взять один из его\n",
    "#    столбцов и посчитать методом count() количество записей для каждого из\n",
    "#    присутствующих жанров, получившийся Series записать в переменную\n",
    "#    genre_df_count\n",
    "# 3) отсортировать genre_df_count по убыванию встречаемости и сохранить\n",
    "#    в переменную genre_df_sorted\n",
    "# 4) вернуть Series из 10 первых значений genre_df_sorted, это будут топ-10\n",
    "#    популярных жанров (в указанный день, в заданное время)"
   ]
  },
  {
   "cell_type": "markdown",
   "metadata": {},
   "source": [
    "<div class=\"alert alert-danger\">\n",
    "<b>Комментарий ревьюера:</b> Когда ты объявил genre_df, дальше фильтруй именно ее. Сейчас ты смешиваешь два датафрейма.\n",
    "</div>\n",
    "\n",
    "<div class=\"alert alert-info\"> \n",
    "<b>Комментарий студента:</b> Понял ошибку, заменил. \n",
    "</div>"
   ]
  },
  {
   "cell_type": "markdown",
   "metadata": {
    "id": "la2s2_PF_Zcu"
   },
   "source": [
    "Cравните результаты функции `genre_weekday()` для Москвы и Санкт-Петербурга в понедельник утром (с 7:00 до 11:00) и в пятницу вечером (с 17:00 до 23:00):"
   ]
  },
  {
   "cell_type": "code",
   "execution_count": 31,
   "metadata": {
    "id": "yz7itPUQ_Zcu"
   },
   "outputs": [
    {
     "name": "stdout",
     "output_type": "stream",
     "text": [
      "genre\n",
      "pop            781\n",
      "dance          549\n",
      "electronic     480\n",
      "rock           474\n",
      "hiphop         286\n",
      "ruspop         186\n",
      "world          181\n",
      "rusrap         175\n",
      "alternative    164\n",
      "unknown        161\n",
      "Name: genre, dtype: int64\n"
     ]
    }
   ],
   "source": [
    "# вызов функции для утра понедельника в Москве (вместо df — таблица moscow_general)\n",
    "# объекты, хранящие время, являются строками и сравниваются как строки\n",
    "# пример вызова: genre_weekday(moscow_general, 'Monday', '07:00', '11:00')\n",
    "genre_weekday(moscow_general, 'Monday', '07:00', '11:00') "
   ]
  },
  {
   "cell_type": "code",
   "execution_count": 32,
   "metadata": {
    "id": "kwUcHPdy_Zcu"
   },
   "outputs": [
    {
     "name": "stdout",
     "output_type": "stream",
     "text": [
      "genre\n",
      "pop            218\n",
      "dance          182\n",
      "rock           162\n",
      "electronic     147\n",
      "hiphop          80\n",
      "ruspop          64\n",
      "alternative     58\n",
      "rusrap          55\n",
      "jazz            44\n",
      "classical       40\n",
      "Name: genre, dtype: int64\n"
     ]
    }
   ],
   "source": [
    "genre_weekday(spb_general, 'Monday', '07:00', '11:00')\n",
    "# вызов функции для утра понедельника в Петербурге (вместо df — таблица spb_general)"
   ]
  },
  {
   "cell_type": "code",
   "execution_count": 33,
   "metadata": {
    "id": "EzXVRE1o_Zcu"
   },
   "outputs": [
    {
     "name": "stdout",
     "output_type": "stream",
     "text": [
      "genre\n",
      "pop            713\n",
      "rock           517\n",
      "dance          495\n",
      "electronic     482\n",
      "hiphop         273\n",
      "world          208\n",
      "ruspop         170\n",
      "alternative    163\n",
      "classical      163\n",
      "rusrap         142\n",
      "Name: genre, dtype: int64\n"
     ]
    }
   ],
   "source": [
    "genre_weekday(moscow_general, 'Friday', '17:00', '23:00')\n",
    "# вызов функции для вечера пятницы в Москве"
   ]
  },
  {
   "cell_type": "code",
   "execution_count": 34,
   "metadata": {
    "id": "JZaEKu5v_Zcu"
   },
   "outputs": [
    {
     "name": "stdout",
     "output_type": "stream",
     "text": [
      "genre\n",
      "pop            256\n",
      "rock           216\n",
      "electronic     216\n",
      "dance          210\n",
      "hiphop          97\n",
      "alternative     63\n",
      "jazz            61\n",
      "classical       60\n",
      "rusrap          59\n",
      "world           54\n",
      "Name: genre, dtype: int64\n"
     ]
    }
   ],
   "source": [
    "genre_weekday(spb_general, 'Friday', '17:00', '23:00')\n",
    "# вызов функции для вечера пятницы в Петербурге"
   ]
  },
  {
   "cell_type": "markdown",
   "metadata": {},
   "source": [
    "<div class=\"alert alert-success\">\n",
    "<b>Комментарий ревьюера:</b> Предупреждения появились потому, что индексы в table и genre_df не совпадают. Они пропадут, когда ты скорректируешь функцию.\n",
    "</div>"
   ]
  },
  {
   "cell_type": "markdown",
   "metadata": {
    "id": "wrCe4MNX_Zcu"
   },
   "source": [
    "**Выводы**\n",
    "\n",
    "Если сравнить топ-10 жанров в понедельник утром, можно сделать такие выводы:\n",
    "\n",
    "1. В Москве и Петербурге слушают похожую музыку. Единственное отличие — в московский рейтинг вошёл жанр “world”, а в петербургский — джаз и классика.\n",
    "\n",
    "2. В Москве пропущенных значений оказалось так много, что значение `'unknown'` заняло десятое место среди самых популярных жанров. Значит, пропущенные значения занимают существенную долю в данных и угрожают достоверности исследования.\n",
    "\n",
    "Вечер пятницы не меняет эту картину. Некоторые жанры поднимаются немного выше, другие спускаются, но в целом топ-10 остаётся тем же самым.\n",
    "\n",
    "Таким образом, вторая гипотеза подтвердилась лишь частично:\n",
    "* Пользователи слушают похожую музыку в начале недели и в конце.\n",
    "* Разница между Москвой и Петербургом не слишком выражена. В Москве чаще слушают русскую популярную музыку, в Петербурге — джаз.\n",
    "\n",
    "Однако пропуски в данных ставят под сомнение этот результат. В Москве их так много, что рейтинг топ-10 мог бы выглядеть иначе, если бы не утерянные  данные о жанрах."
   ]
  },
  {
   "cell_type": "markdown",
   "metadata": {
    "id": "JolODAqr_Zcu"
   },
   "source": [
    "### Жанровые предпочтения в Москве и Петербурге\n",
    "\n",
    "Гипотеза: Петербург — столица рэпа, музыку этого жанра там слушают чаще, чем в Москве.  А Москва — город контрастов, в котором, тем не менее, преобладает поп-музыка."
   ]
  },
  {
   "cell_type": "markdown",
   "metadata": {
    "id": "DlegSvaT_Zcu"
   },
   "source": [
    "Сгруппируйте таблицу `moscow_general` по жанру и посчитайте прослушивания треков каждого жанра методом `count()`. Затем отсортируйте результат в порядке убывания и сохраните его в таблице `moscow_genres`."
   ]
  },
  {
   "cell_type": "code",
   "execution_count": 35,
   "metadata": {
    "id": "r19lIPke_Zcu"
   },
   "outputs": [],
   "source": [
    "# одной строкой: группировка таблицы moscow_general по столбцу 'genre', \n",
    "# подсчёт числа значений 'genre' в этой группировке методом count(), \n",
    "# сортировка получившегося Series в порядке убывания и сохранение в moscow_genres\n",
    "\n",
    "moscow_genres = moscow_general.groupby('genre')['genre'].count().sort_values(ascending = False)\n"
   ]
  },
  {
   "cell_type": "markdown",
   "metadata": {
    "id": "6kMuomxTiIr8"
   },
   "source": [
    "Выведите на экран первые десять строк `moscow_genres`:"
   ]
  },
  {
   "cell_type": "code",
   "execution_count": 36,
   "metadata": {
    "id": "WhCSooF8_Zcv"
   },
   "outputs": [
    {
     "name": "stdout",
     "output_type": "stream",
     "text": [
      "genre\n",
      "pop            5892\n",
      "dance          4435\n",
      "rock           3965\n",
      "electronic     3786\n",
      "hiphop         2096\n",
      "classical      1616\n",
      "world          1432\n",
      "alternative    1379\n",
      "ruspop         1372\n",
      "rusrap         1161\n",
      "Name: genre, dtype: int64\n"
     ]
    }
   ],
   "source": [
    "print(moscow_genres.head(10))# просмотр первых 10 строк moscow_genres"
   ]
  },
  {
   "cell_type": "markdown",
   "metadata": {
    "id": "cnPG2vnN_Zcv"
   },
   "source": [
    "Теперь повторите то же и для Петербурга.\n",
    "\n",
    "Сгруппируйте таблицу `spb_general` по жанру. Посчитайте прослушивания треков каждого жанра. Результат отсортируйте в порядке убывания и сохраните в таблице `spb_genres`:\n"
   ]
  },
  {
   "cell_type": "code",
   "execution_count": 37,
   "metadata": {
    "id": "gluLIpE7_Zcv"
   },
   "outputs": [],
   "source": [
    "spb_genres = spb_general.groupby('genre')['genre'].count().sort_values(ascending = False)\n",
    "\n",
    "# одной строкой: группировка таблицы spb_general по столбцу 'genre', \n",
    "# подсчёт числа значений 'genre' в этой группировке методом count(), \n",
    "# сортировка получившегося Series в порядке убывания и сохранение в spb_genres"
   ]
  },
  {
   "cell_type": "markdown",
   "metadata": {
    "id": "5Doha_ODgyQ8"
   },
   "source": [
    "Выведите на экран первые десять строк `spb_genres`:"
   ]
  },
  {
   "cell_type": "code",
   "execution_count": 38,
   "metadata": {
    "id": "uaGJHjVU_Zcv"
   },
   "outputs": [
    {
     "name": "stdout",
     "output_type": "stream",
     "text": [
      "genre\n",
      "pop            2431\n",
      "dance          1932\n",
      "rock           1879\n",
      "electronic     1736\n",
      "hiphop          960\n",
      "alternative     649\n",
      "classical       646\n",
      "rusrap          564\n",
      "ruspop          538\n",
      "world           515\n",
      "Name: genre, dtype: int64\n"
     ]
    }
   ],
   "source": [
    "print(spb_genres.head(10))# просмотр первых 10 строк spb_genres"
   ]
  },
  {
   "cell_type": "markdown",
   "metadata": {},
   "source": [
    "<div class=\"alert alert-success\">\n",
    "<b>Комментарий ревьюера:</b> Здесь все верно :)\n",
    "</div>"
   ]
  },
  {
   "cell_type": "markdown",
   "metadata": {
    "id": "RY51YJYu_Zcv"
   },
   "source": [
    "**Выводы**"
   ]
  },
  {
   "cell_type": "markdown",
   "metadata": {
    "id": "nVhnJEm__Zcv"
   },
   "source": [
    "Гипотеза частично подтвердилась:\n",
    "* Поп-музыка — самый популярный жанр в Москве, как и предполагала гипотеза. Более того, в топ-10 жанров встречается близкий жанр — русская популярная музыка.\n",
    "* Вопреки ожиданиям, рэп одинаково популярен в Москве и Петербурге. \n"
   ]
  },
  {
   "cell_type": "markdown",
   "metadata": {
    "id": "ykKQ0N65_Zcv"
   },
   "source": [
    "## Итоги исследования"
   ]
  },
  {
   "cell_type": "markdown",
   "metadata": {
    "id": "tjUwbHb3_Zcv"
   },
   "source": [
    "Вы проверили три гипотезы и установили:\n",
    "\n",
    "1. День недели по-разному влияет на активность пользователей в Москве и Петербурге. \n",
    "\n",
    "Первая гипотеза полностью подтвердилась.\n",
    "\n",
    "2. Музыкальные предпочтения не сильно меняются в течение недели — будь то Москва или Петербург. Небольшие различия заметны в начале недели, по понедельникам:\n",
    "* в Москве слушают музыку жанра “world”,\n",
    "* в Петербурге — джаз и классику.\n",
    "\n",
    "Таким образом, вторая гипотеза подтвердилась лишь отчасти. Этот результат мог оказаться иным, если бы не пропуски в данных.\n",
    "\n",
    "3. Во вкусах пользователей Москвы и Петербурга больше общего чем различий. Вопреки ожиданиям, предпочтения жанров в Петербурге напоминают московские.\n",
    "\n",
    "Третья гипотеза не подтвердилась. Если различия в предпочтениях и существуют, на основной массе пользователей они незаметны.\n",
    "\n",
    "**На практике исследования содержат проверки статистических гипотез.**\n",
    "Из данных одного сервиса не всегда можно сделать вывод о всех жителях города.\n",
    "Проверки статистических гипотез покажут, насколько они достоверны, исходя из имеющихся данных. \n",
    "С методами проверок гипотез вы ещё познакомитесь в следующих темах."
   ]
  },
  {
   "cell_type": "markdown",
   "metadata": {},
   "source": [
    "<div class=\"alert alert-success\">\n",
    "<b>Итоговый комментарий ревьюера:</b> Хорошая работа, базовые методы библиотеки Pandas освоены. Теперь нужно поправить группировки и фунцию для расчтета прослушиваний по жанрам. Мелких замечаний пока тоже многовато, постарайся учесть их тоже, пожалуйста.\n",
    "</div>"
   ]
  },
  {
   "cell_type": "code",
   "execution_count": null,
   "metadata": {},
   "outputs": [],
   "source": []
  }
 ],
 "metadata": {
  "ExecuteTimeLog": [
   {
    "duration": 98,
    "start_time": "2021-10-21T15:45:14.763Z"
   },
   {
    "duration": 95,
    "start_time": "2021-10-21T15:45:22.008Z"
   },
   {
    "duration": 81,
    "start_time": "2021-10-21T15:46:17.377Z"
   },
   {
    "duration": 95,
    "start_time": "2021-10-21T15:46:47.615Z"
   },
   {
    "duration": 103,
    "start_time": "2021-10-21T15:46:55.813Z"
   },
   {
    "duration": 106,
    "start_time": "2021-10-21T15:47:01.800Z"
   },
   {
    "duration": 131,
    "start_time": "2021-10-21T15:48:19.105Z"
   },
   {
    "duration": 356,
    "start_time": "2021-10-21T15:48:28.857Z"
   },
   {
    "duration": 722,
    "start_time": "2021-10-21T15:48:44.402Z"
   },
   {
    "duration": 2011,
    "start_time": "2021-10-21T15:48:46.597Z"
   },
   {
    "duration": 2049,
    "start_time": "2021-10-21T15:49:04.288Z"
   },
   {
    "duration": 2180,
    "start_time": "2021-10-21T15:49:21.206Z"
   },
   {
    "duration": 182,
    "start_time": "2021-10-21T15:50:13.351Z"
   },
   {
    "duration": 4,
    "start_time": "2021-10-21T15:50:18.082Z"
   },
   {
    "duration": 198,
    "start_time": "2021-10-21T15:50:28.786Z"
   },
   {
    "duration": 183,
    "start_time": "2021-10-21T15:50:40.690Z"
   },
   {
    "duration": 17,
    "start_time": "2021-10-21T15:51:03.522Z"
   },
   {
    "duration": 31,
    "start_time": "2021-10-21T15:51:22.614Z"
   },
   {
    "duration": 316,
    "start_time": "2021-10-21T16:03:11.814Z"
   },
   {
    "duration": 94,
    "start_time": "2021-10-21T16:03:29.014Z"
   },
   {
    "duration": 5,
    "start_time": "2021-10-21T16:03:34.398Z"
   },
   {
    "duration": 6,
    "start_time": "2021-10-21T16:03:41.372Z"
   },
   {
    "duration": 4,
    "start_time": "2021-10-21T16:03:47.774Z"
   },
   {
    "duration": 26,
    "start_time": "2021-10-21T16:06:00.456Z"
   },
   {
    "duration": 5,
    "start_time": "2021-10-21T16:06:14.329Z"
   },
   {
    "duration": 29,
    "start_time": "2021-10-21T16:08:05.509Z"
   },
   {
    "duration": 30,
    "start_time": "2021-10-21T16:08:33.104Z"
   },
   {
    "duration": 29,
    "start_time": "2021-10-21T16:08:42.804Z"
   },
   {
    "duration": 30,
    "start_time": "2021-10-21T16:09:00.019Z"
   },
   {
    "duration": 329,
    "start_time": "2021-10-21T16:17:53.250Z"
   },
   {
    "duration": 22,
    "start_time": "2021-10-21T16:18:08.350Z"
   },
   {
    "duration": 29,
    "start_time": "2021-10-21T16:18:29.900Z"
   },
   {
    "duration": 90,
    "start_time": "2021-10-21T16:18:48.527Z"
   },
   {
    "duration": 98,
    "start_time": "2021-10-21T16:20:52.726Z"
   },
   {
    "duration": 70,
    "start_time": "2021-10-21T16:21:11.971Z"
   },
   {
    "duration": 92,
    "start_time": "2021-10-21T16:24:31.324Z"
   },
   {
    "duration": 302,
    "start_time": "2021-10-21T16:24:42.267Z"
   },
   {
    "duration": 296,
    "start_time": "2021-10-21T16:24:54.901Z"
   },
   {
    "duration": 323,
    "start_time": "2021-10-21T16:25:03.714Z"
   },
   {
    "duration": 92,
    "start_time": "2021-10-21T16:27:39.179Z"
   },
   {
    "duration": 10,
    "start_time": "2021-10-21T16:27:52.524Z"
   },
   {
    "duration": 8,
    "start_time": "2021-10-21T16:57:50.158Z"
   },
   {
    "duration": 8,
    "start_time": "2021-10-21T16:58:02.484Z"
   },
   {
    "duration": 7,
    "start_time": "2021-10-21T16:58:11.857Z"
   },
   {
    "duration": 4,
    "start_time": "2021-10-21T16:58:30.979Z"
   },
   {
    "duration": 306,
    "start_time": "2021-10-21T16:58:34.538Z"
   },
   {
    "duration": 13,
    "start_time": "2021-10-21T16:59:00.176Z"
   },
   {
    "duration": 14,
    "start_time": "2021-10-21T16:59:06.794Z"
   },
   {
    "duration": 8,
    "start_time": "2021-10-21T16:59:16.776Z"
   },
   {
    "duration": 343,
    "start_time": "2021-10-21T17:13:41.837Z"
   },
   {
    "duration": 100,
    "start_time": "2021-10-21T17:14:04.361Z"
   },
   {
    "duration": 340,
    "start_time": "2021-10-21T17:14:14.673Z"
   },
   {
    "duration": 6,
    "start_time": "2021-10-21T17:14:36.472Z"
   },
   {
    "duration": 7,
    "start_time": "2021-10-21T17:14:58.575Z"
   },
   {
    "duration": 45,
    "start_time": "2021-10-21T17:15:39.420Z"
   },
   {
    "duration": 47,
    "start_time": "2021-10-21T17:17:39.511Z"
   },
   {
    "duration": 18,
    "start_time": "2021-10-21T17:18:07.037Z"
   },
   {
    "duration": 41,
    "start_time": "2021-10-21T17:18:58.394Z"
   },
   {
    "duration": 472,
    "start_time": "2021-10-21T17:53:34.455Z"
   },
   {
    "duration": 542,
    "start_time": "2021-10-21T17:53:49.703Z"
   },
   {
    "duration": 87,
    "start_time": "2021-10-21T17:54:13.861Z"
   },
   {
    "duration": 62,
    "start_time": "2021-10-21T17:54:56.077Z"
   },
   {
    "duration": 483,
    "start_time": "2021-10-21T18:01:28.064Z"
   },
   {
    "duration": 472,
    "start_time": "2021-10-21T18:02:10.619Z"
   },
   {
    "duration": 517,
    "start_time": "2021-10-21T18:02:36.159Z"
   },
   {
    "duration": 475,
    "start_time": "2021-10-21T18:02:49.613Z"
   },
   {
    "duration": 472,
    "start_time": "2021-10-21T18:02:55.643Z"
   },
   {
    "duration": 438,
    "start_time": "2021-10-21T18:03:11.538Z"
   },
   {
    "duration": 832,
    "start_time": "2021-10-21T18:03:32.566Z"
   },
   {
    "duration": 1224,
    "start_time": "2021-10-21T18:03:47.750Z"
   },
   {
    "duration": 767,
    "start_time": "2021-10-21T18:04:34.693Z"
   },
   {
    "duration": 802,
    "start_time": "2021-10-21T18:04:39.029Z"
   },
   {
    "duration": 1006,
    "start_time": "2021-10-21T18:04:41.917Z"
   },
   {
    "duration": 580,
    "start_time": "2021-10-21T18:05:14.878Z"
   },
   {
    "duration": 692,
    "start_time": "2021-10-21T18:05:44.557Z"
   },
   {
    "duration": 1087,
    "start_time": "2021-10-21T18:06:30.132Z"
   },
   {
    "duration": 1492,
    "start_time": "2021-10-21T18:07:30.560Z"
   },
   {
    "duration": 817,
    "start_time": "2021-10-21T18:08:03.486Z"
   },
   {
    "duration": 1626,
    "start_time": "2021-10-21T18:08:29.349Z"
   },
   {
    "duration": 860,
    "start_time": "2021-10-23T09:45:04.064Z"
   },
   {
    "duration": 199,
    "start_time": "2021-10-23T09:45:04.927Z"
   },
   {
    "duration": 26,
    "start_time": "2021-10-23T09:45:05.130Z"
   },
   {
    "duration": 55,
    "start_time": "2021-10-23T09:45:05.159Z"
   },
   {
    "duration": 28,
    "start_time": "2021-10-23T09:45:05.217Z"
   },
   {
    "duration": 52,
    "start_time": "2021-10-23T09:45:05.248Z"
   },
   {
    "duration": 21,
    "start_time": "2021-10-23T09:45:05.303Z"
   },
   {
    "duration": 54,
    "start_time": "2021-10-23T09:45:05.328Z"
   },
   {
    "duration": 23,
    "start_time": "2021-10-23T09:45:05.385Z"
   },
   {
    "duration": 32,
    "start_time": "2021-10-23T09:45:05.410Z"
   },
   {
    "duration": 102,
    "start_time": "2021-10-23T09:45:05.445Z"
   },
   {
    "duration": 112,
    "start_time": "2021-10-23T09:45:05.550Z"
   },
   {
    "duration": 89,
    "start_time": "2021-10-23T09:45:05.665Z"
   },
   {
    "duration": 8,
    "start_time": "2021-10-23T09:45:05.757Z"
   },
   {
    "duration": 8,
    "start_time": "2021-10-23T09:45:05.768Z"
   },
   {
    "duration": 33,
    "start_time": "2021-10-23T09:45:05.779Z"
   },
   {
    "duration": 23,
    "start_time": "2021-10-23T09:45:05.815Z"
   },
   {
    "duration": 60,
    "start_time": "2021-10-23T09:45:05.840Z"
   },
   {
    "duration": 47,
    "start_time": "2021-10-23T09:45:05.902Z"
   },
   {
    "duration": 89,
    "start_time": "2021-10-23T09:45:05.952Z"
   },
   {
    "duration": 3,
    "start_time": "2021-10-23T09:45:06.043Z"
   },
   {
    "duration": 23,
    "start_time": "2021-10-23T09:45:06.049Z"
   },
   {
    "duration": 25,
    "start_time": "2021-10-23T09:45:06.077Z"
   },
   {
    "duration": 21,
    "start_time": "2021-10-23T09:45:06.106Z"
   },
   {
    "duration": 26,
    "start_time": "2021-10-23T09:45:06.129Z"
   },
   {
    "duration": 31,
    "start_time": "2021-10-23T09:45:06.158Z"
   },
   {
    "duration": 31,
    "start_time": "2021-10-23T09:45:06.192Z"
   },
   {
    "duration": 28,
    "start_time": "2021-10-23T09:45:06.226Z"
   },
   {
    "duration": 35,
    "start_time": "2021-10-23T09:45:06.257Z"
   },
   {
    "duration": 26,
    "start_time": "2021-10-23T09:45:06.295Z"
   },
   {
    "duration": 39,
    "start_time": "2021-10-23T09:45:06.324Z"
   },
   {
    "duration": 31,
    "start_time": "2021-10-23T09:45:06.365Z"
   },
   {
    "duration": 45,
    "start_time": "2021-10-23T09:45:06.398Z"
   },
   {
    "duration": 27,
    "start_time": "2021-10-23T09:45:06.445Z"
   },
   {
    "duration": 29,
    "start_time": "2021-10-23T09:45:06.474Z"
   },
   {
    "duration": 31,
    "start_time": "2021-10-23T09:45:06.505Z"
   },
   {
    "duration": 32,
    "start_time": "2021-10-23T09:45:06.539Z"
   },
   {
    "duration": 37,
    "start_time": "2021-10-23T09:45:06.574Z"
   },
   {
    "duration": 12,
    "start_time": "2021-10-23T09:45:35.273Z"
   },
   {
    "duration": 67,
    "start_time": "2021-10-23T09:46:00.944Z"
   },
   {
    "duration": 15,
    "start_time": "2021-10-23T09:46:20.166Z"
   },
   {
    "duration": 12,
    "start_time": "2021-10-23T09:46:30.636Z"
   },
   {
    "duration": 20,
    "start_time": "2021-10-23T09:46:43.137Z"
   },
   {
    "duration": 18,
    "start_time": "2021-10-23T09:47:34.824Z"
   },
   {
    "duration": 18,
    "start_time": "2021-10-23T09:47:58.461Z"
   },
   {
    "duration": 187,
    "start_time": "2021-10-23T10:09:57.615Z"
   },
   {
    "duration": 492,
    "start_time": "2021-10-23T10:11:03.616Z"
   },
   {
    "duration": -4799,
    "start_time": "2021-10-23T10:14:15.390Z"
   },
   {
    "duration": 21,
    "start_time": "2021-10-23T10:14:14.523Z"
   },
   {
    "duration": 129,
    "start_time": "2021-10-23T10:14:32.034Z"
   },
   {
    "duration": 372,
    "start_time": "2021-10-23T10:14:40.363Z"
   },
   {
    "duration": 19,
    "start_time": "2021-10-23T10:16:28.402Z"
   },
   {
    "duration": 28,
    "start_time": "2021-10-23T10:18:51.897Z"
   },
   {
    "duration": 19,
    "start_time": "2021-10-23T10:19:06.910Z"
   },
   {
    "duration": 177,
    "start_time": "2021-10-23T10:29:30.393Z"
   },
   {
    "duration": 352,
    "start_time": "2021-10-23T10:29:39.970Z"
   },
   {
    "duration": 385,
    "start_time": "2021-10-23T10:30:26.284Z"
   },
   {
    "duration": 361,
    "start_time": "2021-10-23T10:31:40.988Z"
   },
   {
    "duration": 25,
    "start_time": "2021-10-23T10:39:31.230Z"
   },
   {
    "duration": 22,
    "start_time": "2021-10-23T10:41:25.598Z"
   },
   {
    "duration": 4790,
    "start_time": "2021-10-23T10:46:35.560Z"
   },
   {
    "duration": 128,
    "start_time": "2021-10-23T10:47:14.397Z"
   },
   {
    "duration": 121,
    "start_time": "2021-10-23T10:47:24.066Z"
   },
   {
    "duration": 134,
    "start_time": "2021-10-23T10:47:31.804Z"
   },
   {
    "duration": 5197,
    "start_time": "2021-10-23T10:47:45.644Z"
   },
   {
    "duration": 5287,
    "start_time": "2021-10-23T10:48:02.396Z"
   },
   {
    "duration": 4882,
    "start_time": "2021-10-23T10:48:18.345Z"
   },
   {
    "duration": 5042,
    "start_time": "2021-10-23T10:49:13.417Z"
   },
   {
    "duration": 597,
    "start_time": "2021-10-23T10:50:47.869Z"
   },
   {
    "duration": 608,
    "start_time": "2021-10-23T10:51:00.654Z"
   },
   {
    "duration": 610,
    "start_time": "2021-10-23T10:51:34.338Z"
   },
   {
    "duration": 648,
    "start_time": "2021-10-23T10:54:15.625Z"
   },
   {
    "duration": 726,
    "start_time": "2021-10-23T10:55:35.768Z"
   },
   {
    "duration": 373,
    "start_time": "2021-10-23T10:55:53.595Z"
   },
   {
    "duration": 18,
    "start_time": "2021-10-23T10:56:26.661Z"
   },
   {
    "duration": 4,
    "start_time": "2021-10-23T10:56:59.470Z"
   },
   {
    "duration": 232,
    "start_time": "2021-10-23T10:56:59.477Z"
   },
   {
    "duration": 18,
    "start_time": "2021-10-23T10:56:59.713Z"
   },
   {
    "duration": 65,
    "start_time": "2021-10-23T10:56:59.735Z"
   },
   {
    "duration": 4,
    "start_time": "2021-10-23T10:56:59.804Z"
   },
   {
    "duration": 31,
    "start_time": "2021-10-23T10:56:59.811Z"
   },
   {
    "duration": 6,
    "start_time": "2021-10-23T10:56:59.845Z"
   },
   {
    "duration": 66,
    "start_time": "2021-10-23T10:56:59.856Z"
   },
   {
    "duration": 23,
    "start_time": "2021-10-23T10:56:59.925Z"
   },
   {
    "duration": 49,
    "start_time": "2021-10-23T10:56:59.951Z"
   },
   {
    "duration": 97,
    "start_time": "2021-10-23T10:57:00.003Z"
   },
   {
    "duration": 113,
    "start_time": "2021-10-23T10:57:00.103Z"
   },
   {
    "duration": 93,
    "start_time": "2021-10-23T10:57:00.218Z"
   },
   {
    "duration": 8,
    "start_time": "2021-10-23T10:57:00.314Z"
   },
   {
    "duration": 11,
    "start_time": "2021-10-23T10:57:00.325Z"
   },
   {
    "duration": 29,
    "start_time": "2021-10-23T10:57:00.339Z"
   },
   {
    "duration": 28,
    "start_time": "2021-10-23T10:57:00.372Z"
   },
   {
    "duration": 53,
    "start_time": "2021-10-23T10:57:00.402Z"
   },
   {
    "duration": 58,
    "start_time": "2021-10-23T10:57:00.457Z"
   },
   {
    "duration": 65,
    "start_time": "2021-10-23T10:57:00.517Z"
   },
   {
    "duration": 3,
    "start_time": "2021-10-23T10:57:00.584Z"
   },
   {
    "duration": 3,
    "start_time": "2021-10-23T10:57:00.601Z"
   },
   {
    "duration": 13,
    "start_time": "2021-10-23T10:57:00.609Z"
   },
   {
    "duration": 8,
    "start_time": "2021-10-23T10:57:00.625Z"
   },
   {
    "duration": 12,
    "start_time": "2021-10-23T10:57:00.636Z"
   },
   {
    "duration": 11,
    "start_time": "2021-10-23T10:57:00.650Z"
   },
   {
    "duration": 22,
    "start_time": "2021-10-23T10:57:00.663Z"
   },
   {
    "duration": 17,
    "start_time": "2021-10-23T10:57:00.701Z"
   },
   {
    "duration": 33,
    "start_time": "2021-10-23T10:57:00.720Z"
   },
   {
    "duration": 32,
    "start_time": "2021-10-23T10:57:00.755Z"
   },
   {
    "duration": 3,
    "start_time": "2021-10-23T10:57:00.801Z"
   },
   {
    "duration": 13,
    "start_time": "2021-10-23T10:57:00.806Z"
   },
   {
    "duration": 7,
    "start_time": "2021-10-23T10:57:00.822Z"
   },
   {
    "duration": 8,
    "start_time": "2021-10-23T10:57:00.831Z"
   },
   {
    "duration": 16,
    "start_time": "2021-10-23T10:57:00.841Z"
   },
   {
    "duration": 15,
    "start_time": "2021-10-23T10:57:00.859Z"
   },
   {
    "duration": 15,
    "start_time": "2021-10-23T10:57:00.876Z"
   },
   {
    "duration": 14,
    "start_time": "2021-10-23T10:57:00.893Z"
   },
   {
    "duration": 20,
    "start_time": "2021-10-23T10:57:57.750Z"
   },
   {
    "duration": 20,
    "start_time": "2021-10-23T10:58:22.962Z"
   },
   {
    "duration": 22,
    "start_time": "2021-10-23T11:02:12.207Z"
   },
   {
    "duration": 19,
    "start_time": "2021-10-23T11:02:26.448Z"
   },
   {
    "duration": 23,
    "start_time": "2021-10-23T11:02:29.801Z"
   },
   {
    "duration": 488,
    "start_time": "2021-10-23T11:03:16.579Z"
   },
   {
    "duration": 384,
    "start_time": "2021-10-23T11:03:36.368Z"
   },
   {
    "duration": 3,
    "start_time": "2021-10-23T11:03:40.262Z"
   },
   {
    "duration": 208,
    "start_time": "2021-10-23T11:03:40.268Z"
   },
   {
    "duration": 14,
    "start_time": "2021-10-23T11:03:40.479Z"
   },
   {
    "duration": 32,
    "start_time": "2021-10-23T11:03:40.501Z"
   },
   {
    "duration": 4,
    "start_time": "2021-10-23T11:03:40.535Z"
   },
   {
    "duration": 22,
    "start_time": "2021-10-23T11:03:40.542Z"
   },
   {
    "duration": 34,
    "start_time": "2021-10-23T11:03:40.568Z"
   },
   {
    "duration": 31,
    "start_time": "2021-10-23T11:03:40.605Z"
   },
   {
    "duration": 22,
    "start_time": "2021-10-23T11:03:40.639Z"
   },
   {
    "duration": 64,
    "start_time": "2021-10-23T11:03:40.663Z"
   },
   {
    "duration": 93,
    "start_time": "2021-10-23T11:03:40.730Z"
   },
   {
    "duration": 104,
    "start_time": "2021-10-23T11:03:40.826Z"
   },
   {
    "duration": 84,
    "start_time": "2021-10-23T11:03:40.933Z"
   },
   {
    "duration": 10,
    "start_time": "2021-10-23T11:03:41.020Z"
   },
   {
    "duration": 5,
    "start_time": "2021-10-23T11:03:41.032Z"
   },
   {
    "duration": 18,
    "start_time": "2021-10-23T11:03:41.039Z"
   },
   {
    "duration": 42,
    "start_time": "2021-10-23T11:03:41.059Z"
   },
   {
    "duration": 50,
    "start_time": "2021-10-23T11:03:41.103Z"
   },
   {
    "duration": 63,
    "start_time": "2021-10-23T11:03:41.157Z"
   },
   {
    "duration": 61,
    "start_time": "2021-10-23T11:03:41.224Z"
   },
   {
    "duration": 3,
    "start_time": "2021-10-23T11:03:41.301Z"
   },
   {
    "duration": 7,
    "start_time": "2021-10-23T11:03:41.306Z"
   },
   {
    "duration": 9,
    "start_time": "2021-10-23T11:03:41.315Z"
   },
   {
    "duration": 6,
    "start_time": "2021-10-23T11:03:41.326Z"
   },
   {
    "duration": 11,
    "start_time": "2021-10-23T11:03:41.334Z"
   },
   {
    "duration": 6,
    "start_time": "2021-10-23T11:03:41.347Z"
   },
   {
    "duration": 15,
    "start_time": "2021-10-23T11:03:41.355Z"
   },
   {
    "duration": 47,
    "start_time": "2021-10-23T11:03:41.373Z"
   },
   {
    "duration": 33,
    "start_time": "2021-10-23T11:03:41.423Z"
   },
   {
    "duration": 442,
    "start_time": "2021-10-23T11:03:41.459Z"
   },
   {
    "duration": -4745,
    "start_time": "2021-10-23T11:03:46.649Z"
   },
   {
    "duration": -4751,
    "start_time": "2021-10-23T11:03:46.657Z"
   },
   {
    "duration": -4753,
    "start_time": "2021-10-23T11:03:46.660Z"
   },
   {
    "duration": -4756,
    "start_time": "2021-10-23T11:03:46.664Z"
   },
   {
    "duration": -4763,
    "start_time": "2021-10-23T11:03:46.673Z"
   },
   {
    "duration": -4763,
    "start_time": "2021-10-23T11:03:46.675Z"
   },
   {
    "duration": -4768,
    "start_time": "2021-10-23T11:03:46.681Z"
   },
   {
    "duration": -4776,
    "start_time": "2021-10-23T11:03:46.690Z"
   },
   {
    "duration": 424,
    "start_time": "2021-10-23T11:11:45.900Z"
   },
   {
    "duration": 368,
    "start_time": "2021-10-23T11:13:06.322Z"
   },
   {
    "duration": 13,
    "start_time": "2021-10-23T11:13:19.609Z"
   },
   {
    "duration": 11,
    "start_time": "2021-10-23T11:13:43.964Z"
   },
   {
    "duration": 11,
    "start_time": "2021-10-23T11:14:00.360Z"
   },
   {
    "duration": 11,
    "start_time": "2021-10-23T11:17:32.564Z"
   },
   {
    "duration": 369,
    "start_time": "2021-10-23T11:17:53.225Z"
   },
   {
    "duration": 779,
    "start_time": "2021-10-23T11:18:16.543Z"
   },
   {
    "duration": 122,
    "start_time": "2021-10-23T11:20:10.774Z"
   },
   {
    "duration": 727,
    "start_time": "2021-10-23T11:20:15.741Z"
   },
   {
    "duration": 657,
    "start_time": "2021-10-23T11:20:42.584Z"
   },
   {
    "duration": 132,
    "start_time": "2021-10-23T11:21:31.831Z"
   },
   {
    "duration": 136,
    "start_time": "2021-10-23T11:21:50.632Z"
   },
   {
    "duration": 650,
    "start_time": "2021-10-23T11:22:03.906Z"
   },
   {
    "duration": 22,
    "start_time": "2021-10-23T11:22:26.912Z"
   },
   {
    "duration": 21,
    "start_time": "2021-10-23T11:23:54.090Z"
   },
   {
    "duration": 599,
    "start_time": "2021-10-23T11:25:39.915Z"
   },
   {
    "duration": 20,
    "start_time": "2021-10-23T11:28:08.456Z"
   },
   {
    "duration": 21,
    "start_time": "2021-10-23T11:28:13.839Z"
   },
   {
    "duration": 396,
    "start_time": "2021-10-23T11:33:06.198Z"
   },
   {
    "duration": 393,
    "start_time": "2021-10-23T11:34:10.650Z"
   },
   {
    "duration": 124,
    "start_time": "2021-10-23T11:39:07.941Z"
   },
   {
    "duration": 33,
    "start_time": "2021-10-23T11:39:14.756Z"
   },
   {
    "duration": 40,
    "start_time": "2021-10-23T11:39:35.252Z"
   },
   {
    "duration": 374,
    "start_time": "2021-10-23T11:39:55.918Z"
   },
   {
    "duration": 43,
    "start_time": "2021-10-23T11:40:12.910Z"
   },
   {
    "duration": 124,
    "start_time": "2021-10-23T11:52:36.856Z"
   },
   {
    "duration": 16,
    "start_time": "2021-10-23T11:52:57.183Z"
   },
   {
    "duration": 26,
    "start_time": "2021-10-23T11:52:58.127Z"
   },
   {
    "duration": 4,
    "start_time": "2021-10-23T11:54:04.713Z"
   },
   {
    "duration": 128,
    "start_time": "2021-10-23T11:54:07.713Z"
   },
   {
    "duration": 118,
    "start_time": "2021-10-23T11:54:31.211Z"
   },
   {
    "duration": 139,
    "start_time": "2021-10-23T11:54:50.816Z"
   },
   {
    "duration": 120,
    "start_time": "2021-10-23T11:55:05.619Z"
   },
   {
    "duration": 3,
    "start_time": "2021-10-23T11:55:32.395Z"
   },
   {
    "duration": 357,
    "start_time": "2021-10-23T11:56:15.263Z"
   },
   {
    "duration": 4,
    "start_time": "2021-10-23T11:56:24.679Z"
   },
   {
    "duration": 209,
    "start_time": "2021-10-23T11:56:24.686Z"
   },
   {
    "duration": 16,
    "start_time": "2021-10-23T11:56:24.898Z"
   },
   {
    "duration": 40,
    "start_time": "2021-10-23T11:56:24.916Z"
   },
   {
    "duration": 4,
    "start_time": "2021-10-23T11:56:24.959Z"
   },
   {
    "duration": 52,
    "start_time": "2021-10-23T11:56:24.965Z"
   },
   {
    "duration": 5,
    "start_time": "2021-10-23T11:56:25.019Z"
   },
   {
    "duration": 38,
    "start_time": "2021-10-23T11:56:25.029Z"
   },
   {
    "duration": 45,
    "start_time": "2021-10-23T11:56:25.071Z"
   },
   {
    "duration": 30,
    "start_time": "2021-10-23T11:56:25.118Z"
   },
   {
    "duration": 106,
    "start_time": "2021-10-23T11:56:25.151Z"
   },
   {
    "duration": 102,
    "start_time": "2021-10-23T11:56:25.259Z"
   },
   {
    "duration": 88,
    "start_time": "2021-10-23T11:56:25.363Z"
   },
   {
    "duration": 7,
    "start_time": "2021-10-23T11:56:25.454Z"
   },
   {
    "duration": 7,
    "start_time": "2021-10-23T11:56:25.463Z"
   },
   {
    "duration": 34,
    "start_time": "2021-10-23T11:56:25.472Z"
   },
   {
    "duration": 8,
    "start_time": "2021-10-23T11:56:25.508Z"
   },
   {
    "duration": 45,
    "start_time": "2021-10-23T11:56:25.519Z"
   },
   {
    "duration": 72,
    "start_time": "2021-10-23T11:56:25.566Z"
   },
   {
    "duration": 77,
    "start_time": "2021-10-23T11:56:25.641Z"
   },
   {
    "duration": 3,
    "start_time": "2021-10-23T11:56:25.721Z"
   },
   {
    "duration": 10,
    "start_time": "2021-10-23T11:56:25.726Z"
   },
   {
    "duration": 4,
    "start_time": "2021-10-23T11:56:25.741Z"
   },
   {
    "duration": 9,
    "start_time": "2021-10-23T11:56:25.748Z"
   },
   {
    "duration": 6,
    "start_time": "2021-10-23T11:56:25.760Z"
   },
   {
    "duration": 6,
    "start_time": "2021-10-23T11:56:25.768Z"
   },
   {
    "duration": 34,
    "start_time": "2021-10-23T11:56:25.776Z"
   },
   {
    "duration": 19,
    "start_time": "2021-10-23T11:56:25.813Z"
   },
   {
    "duration": 65,
    "start_time": "2021-10-23T11:56:25.835Z"
   },
   {
    "duration": 5,
    "start_time": "2021-10-23T11:56:25.903Z"
   },
   {
    "duration": 12,
    "start_time": "2021-10-23T11:56:25.910Z"
   },
   {
    "duration": 10,
    "start_time": "2021-10-23T11:56:25.924Z"
   },
   {
    "duration": 10,
    "start_time": "2021-10-23T11:56:25.936Z"
   },
   {
    "duration": 9,
    "start_time": "2021-10-23T11:56:25.948Z"
   },
   {
    "duration": 350,
    "start_time": "2021-10-23T11:56:25.960Z"
   },
   {
    "duration": -25,
    "start_time": "2021-10-23T11:56:26.337Z"
   },
   {
    "duration": -39,
    "start_time": "2021-10-23T11:56:26.353Z"
   },
   {
    "duration": -52,
    "start_time": "2021-10-23T11:56:26.367Z"
   },
   {
    "duration": 31,
    "start_time": "2021-10-23T11:57:04.669Z"
   },
   {
    "duration": 359,
    "start_time": "2021-10-23T11:57:10.067Z"
   },
   {
    "duration": 4,
    "start_time": "2021-10-23T11:57:21.398Z"
   },
   {
    "duration": 113,
    "start_time": "2021-10-23T11:57:42.660Z"
   },
   {
    "duration": 11,
    "start_time": "2021-10-23T11:57:48.408Z"
   },
   {
    "duration": 13,
    "start_time": "2021-10-23T11:58:04.454Z"
   },
   {
    "duration": 14,
    "start_time": "2021-10-23T11:59:01.697Z"
   },
   {
    "duration": 15,
    "start_time": "2021-10-23T11:59:17.121Z"
   },
   {
    "duration": 373,
    "start_time": "2021-10-23T11:59:30.297Z"
   },
   {
    "duration": 19,
    "start_time": "2021-10-23T11:59:41.908Z"
   },
   {
    "duration": 13,
    "start_time": "2021-10-23T11:59:56.685Z"
   },
   {
    "duration": 12,
    "start_time": "2021-10-23T12:00:07.884Z"
   },
   {
    "duration": 356,
    "start_time": "2021-10-23T12:02:35.942Z"
   },
   {
    "duration": 362,
    "start_time": "2021-10-23T12:03:01.402Z"
   },
   {
    "duration": 356,
    "start_time": "2021-10-23T12:03:13.944Z"
   },
   {
    "duration": 11,
    "start_time": "2021-10-23T12:04:15.340Z"
   },
   {
    "duration": 6,
    "start_time": "2021-10-23T12:04:41.841Z"
   },
   {
    "duration": 350,
    "start_time": "2021-10-23T12:06:08.884Z"
   },
   {
    "duration": 385,
    "start_time": "2021-10-23T12:06:20.642Z"
   },
   {
    "duration": 363,
    "start_time": "2021-10-23T12:06:36.604Z"
   },
   {
    "duration": 8,
    "start_time": "2021-10-23T12:06:49.768Z"
   },
   {
    "duration": 8,
    "start_time": "2021-10-23T12:07:39.949Z"
   },
   {
    "duration": 7,
    "start_time": "2021-10-23T12:08:10.404Z"
   },
   {
    "duration": 6,
    "start_time": "2021-10-23T12:09:24.382Z"
   },
   {
    "duration": 25,
    "start_time": "2021-10-23T12:09:35.420Z"
   },
   {
    "duration": 23,
    "start_time": "2021-10-23T12:12:08.216Z"
   },
   {
    "duration": 6,
    "start_time": "2021-10-23T12:16:17.589Z"
   },
   {
    "duration": 6,
    "start_time": "2021-10-23T12:16:20.083Z"
   },
   {
    "duration": 35,
    "start_time": "2021-10-23T12:19:55.754Z"
   },
   {
    "duration": 154,
    "start_time": "2021-10-23T12:20:22.956Z"
   },
   {
    "duration": 5,
    "start_time": "2021-10-23T12:20:29.212Z"
   },
   {
    "duration": 31,
    "start_time": "2021-10-23T12:20:31.366Z"
   },
   {
    "duration": 20,
    "start_time": "2021-10-23T12:22:51.877Z"
   },
   {
    "duration": 61,
    "start_time": "2021-10-23T12:24:19.589Z"
   },
   {
    "duration": 12,
    "start_time": "2021-10-23T12:24:22.574Z"
   },
   {
    "duration": 30,
    "start_time": "2021-10-23T12:26:30.674Z"
   },
   {
    "duration": 19,
    "start_time": "2021-10-23T12:26:33.842Z"
   },
   {
    "duration": 20,
    "start_time": "2021-10-23T12:26:39.865Z"
   },
   {
    "duration": 6,
    "start_time": "2021-10-23T12:27:41.249Z"
   },
   {
    "duration": 31,
    "start_time": "2021-10-23T12:27:45.019Z"
   },
   {
    "duration": 24,
    "start_time": "2021-10-23T12:27:47.409Z"
   },
   {
    "duration": 31,
    "start_time": "2021-10-23T12:27:49.426Z"
   },
   {
    "duration": 23,
    "start_time": "2021-10-23T12:27:51.390Z"
   },
   {
    "duration": 4,
    "start_time": "2021-10-23T12:29:21.105Z"
   },
   {
    "duration": 215,
    "start_time": "2021-10-23T12:29:21.112Z"
   },
   {
    "duration": 17,
    "start_time": "2021-10-23T12:29:21.330Z"
   },
   {
    "duration": 58,
    "start_time": "2021-10-23T12:29:21.350Z"
   },
   {
    "duration": 8,
    "start_time": "2021-10-23T12:29:21.411Z"
   },
   {
    "duration": 30,
    "start_time": "2021-10-23T12:29:21.422Z"
   },
   {
    "duration": 5,
    "start_time": "2021-10-23T12:29:21.455Z"
   },
   {
    "duration": 36,
    "start_time": "2021-10-23T12:29:21.464Z"
   },
   {
    "duration": 23,
    "start_time": "2021-10-23T12:29:21.504Z"
   },
   {
    "duration": 31,
    "start_time": "2021-10-23T12:29:21.529Z"
   },
   {
    "duration": 91,
    "start_time": "2021-10-23T12:29:21.562Z"
   },
   {
    "duration": 98,
    "start_time": "2021-10-23T12:29:21.655Z"
   },
   {
    "duration": 83,
    "start_time": "2021-10-23T12:29:21.756Z"
   },
   {
    "duration": 8,
    "start_time": "2021-10-23T12:29:21.841Z"
   },
   {
    "duration": 5,
    "start_time": "2021-10-23T12:29:21.852Z"
   },
   {
    "duration": 18,
    "start_time": "2021-10-23T12:29:21.859Z"
   },
   {
    "duration": 10,
    "start_time": "2021-10-23T12:29:21.879Z"
   },
   {
    "duration": 50,
    "start_time": "2021-10-23T12:29:21.892Z"
   },
   {
    "duration": 43,
    "start_time": "2021-10-23T12:29:21.944Z"
   },
   {
    "duration": 65,
    "start_time": "2021-10-23T12:29:21.990Z"
   },
   {
    "duration": 3,
    "start_time": "2021-10-23T12:29:22.057Z"
   },
   {
    "duration": 8,
    "start_time": "2021-10-23T12:29:22.062Z"
   },
   {
    "duration": 5,
    "start_time": "2021-10-23T12:29:22.074Z"
   },
   {
    "duration": 5,
    "start_time": "2021-10-23T12:29:22.082Z"
   },
   {
    "duration": 6,
    "start_time": "2021-10-23T12:29:22.089Z"
   },
   {
    "duration": 9,
    "start_time": "2021-10-23T12:29:22.097Z"
   },
   {
    "duration": 16,
    "start_time": "2021-10-23T12:29:22.108Z"
   },
   {
    "duration": 32,
    "start_time": "2021-10-23T12:29:22.127Z"
   },
   {
    "duration": 27,
    "start_time": "2021-10-23T12:29:22.161Z"
   },
   {
    "duration": 6,
    "start_time": "2021-10-23T12:29:22.190Z"
   },
   {
    "duration": 41,
    "start_time": "2021-10-23T12:29:22.198Z"
   },
   {
    "duration": 20,
    "start_time": "2021-10-23T12:29:22.242Z"
   },
   {
    "duration": 29,
    "start_time": "2021-10-23T12:29:22.264Z"
   },
   {
    "duration": 19,
    "start_time": "2021-10-23T12:29:22.295Z"
   },
   {
    "duration": 13,
    "start_time": "2021-10-23T12:29:22.316Z"
   },
   {
    "duration": 5,
    "start_time": "2021-10-23T12:29:22.331Z"
   },
   {
    "duration": 12,
    "start_time": "2021-10-23T12:29:22.338Z"
   },
   {
    "duration": 6,
    "start_time": "2021-10-23T12:29:22.353Z"
   },
   {
    "duration": 18,
    "start_time": "2021-10-23T12:29:58.360Z"
   },
   {
    "duration": 13,
    "start_time": "2021-10-23T12:30:01.656Z"
   },
   {
    "duration": 16,
    "start_time": "2021-10-23T12:31:33.067Z"
   },
   {
    "duration": 48,
    "start_time": "2021-10-23T12:31:43.920Z"
   },
   {
    "duration": 820,
    "start_time": "2021-10-24T12:05:09.182Z"
   },
   {
    "duration": 186,
    "start_time": "2021-10-24T12:05:10.004Z"
   },
   {
    "duration": 32,
    "start_time": "2021-10-24T12:05:10.193Z"
   },
   {
    "duration": 33,
    "start_time": "2021-10-24T12:05:10.228Z"
   },
   {
    "duration": 4,
    "start_time": "2021-10-24T12:05:10.264Z"
   },
   {
    "duration": 58,
    "start_time": "2021-10-24T12:05:10.271Z"
   },
   {
    "duration": 18,
    "start_time": "2021-10-24T12:05:10.332Z"
   },
   {
    "duration": 43,
    "start_time": "2021-10-24T12:05:10.354Z"
   },
   {
    "duration": 22,
    "start_time": "2021-10-24T12:05:10.400Z"
   },
   {
    "duration": 32,
    "start_time": "2021-10-24T12:05:10.425Z"
   },
   {
    "duration": 114,
    "start_time": "2021-10-24T12:05:10.460Z"
   },
   {
    "duration": 123,
    "start_time": "2021-10-24T12:05:10.577Z"
   },
   {
    "duration": 86,
    "start_time": "2021-10-24T12:05:10.702Z"
   },
   {
    "duration": 8,
    "start_time": "2021-10-24T12:05:10.801Z"
   },
   {
    "duration": 9,
    "start_time": "2021-10-24T12:05:10.811Z"
   },
   {
    "duration": 16,
    "start_time": "2021-10-24T12:05:10.823Z"
   },
   {
    "duration": 10,
    "start_time": "2021-10-24T12:05:10.842Z"
   },
   {
    "duration": 79,
    "start_time": "2021-10-24T12:05:10.854Z"
   },
   {
    "duration": 44,
    "start_time": "2021-10-24T12:05:10.935Z"
   },
   {
    "duration": 61,
    "start_time": "2021-10-24T12:05:11.000Z"
   },
   {
    "duration": 3,
    "start_time": "2021-10-24T12:05:11.064Z"
   },
   {
    "duration": 27,
    "start_time": "2021-10-24T12:05:11.070Z"
   },
   {
    "duration": 22,
    "start_time": "2021-10-24T12:05:11.102Z"
   },
   {
    "duration": 38,
    "start_time": "2021-10-24T12:05:11.127Z"
   },
   {
    "duration": 13,
    "start_time": "2021-10-24T12:05:11.168Z"
   },
   {
    "duration": 21,
    "start_time": "2021-10-24T12:05:11.184Z"
   },
   {
    "duration": 28,
    "start_time": "2021-10-24T12:05:11.207Z"
   },
   {
    "duration": 37,
    "start_time": "2021-10-24T12:05:11.238Z"
   },
   {
    "duration": 26,
    "start_time": "2021-10-24T12:05:11.278Z"
   },
   {
    "duration": 15,
    "start_time": "2021-10-24T12:05:11.306Z"
   },
   {
    "duration": 72,
    "start_time": "2021-10-24T12:05:11.324Z"
   },
   {
    "duration": 21,
    "start_time": "2021-10-24T12:05:11.399Z"
   },
   {
    "duration": 39,
    "start_time": "2021-10-24T12:05:11.423Z"
   },
   {
    "duration": 58,
    "start_time": "2021-10-24T12:05:11.465Z"
   },
   {
    "duration": 13,
    "start_time": "2021-10-24T12:05:11.526Z"
   },
   {
    "duration": 7,
    "start_time": "2021-10-24T12:05:11.542Z"
   },
   {
    "duration": 11,
    "start_time": "2021-10-24T12:05:11.552Z"
   },
   {
    "duration": 6,
    "start_time": "2021-10-24T12:05:11.602Z"
   },
   {
    "duration": 14,
    "start_time": "2021-10-24T12:08:36.540Z"
   },
   {
    "duration": 288,
    "start_time": "2021-10-24T16:29:56.528Z"
   },
   {
    "duration": 221,
    "start_time": "2021-10-24T16:31:08.768Z"
   },
   {
    "duration": 230,
    "start_time": "2021-10-24T16:31:20.487Z"
   },
   {
    "duration": 751,
    "start_time": "2021-10-24T16:31:36.070Z"
   },
   {
    "duration": 185,
    "start_time": "2021-10-24T16:31:36.824Z"
   },
   {
    "duration": 26,
    "start_time": "2021-10-24T16:31:37.012Z"
   },
   {
    "duration": 46,
    "start_time": "2021-10-24T16:31:37.040Z"
   },
   {
    "duration": 5,
    "start_time": "2021-10-24T16:31:37.088Z"
   },
   {
    "duration": 33,
    "start_time": "2021-10-24T16:31:37.096Z"
   },
   {
    "duration": 35,
    "start_time": "2021-10-24T16:31:37.133Z"
   },
   {
    "duration": 32,
    "start_time": "2021-10-24T16:31:37.170Z"
   },
   {
    "duration": 22,
    "start_time": "2021-10-24T16:31:37.207Z"
   },
   {
    "duration": 58,
    "start_time": "2021-10-24T16:31:37.232Z"
   },
   {
    "duration": 97,
    "start_time": "2021-10-24T16:31:37.293Z"
   },
   {
    "duration": 104,
    "start_time": "2021-10-24T16:31:37.393Z"
   },
   {
    "duration": 84,
    "start_time": "2021-10-24T16:31:37.500Z"
   },
   {
    "duration": 8,
    "start_time": "2021-10-24T16:31:37.587Z"
   },
   {
    "duration": 5,
    "start_time": "2021-10-24T16:31:37.598Z"
   },
   {
    "duration": 18,
    "start_time": "2021-10-24T16:31:37.605Z"
   },
   {
    "duration": 50,
    "start_time": "2021-10-24T16:31:37.626Z"
   },
   {
    "duration": 44,
    "start_time": "2021-10-24T16:31:37.679Z"
   },
   {
    "duration": 66,
    "start_time": "2021-10-24T16:31:37.726Z"
   },
   {
    "duration": 76,
    "start_time": "2021-10-24T16:31:37.794Z"
   },
   {
    "duration": 3,
    "start_time": "2021-10-24T16:31:37.873Z"
   },
   {
    "duration": 15,
    "start_time": "2021-10-24T16:31:37.878Z"
   },
   {
    "duration": 10,
    "start_time": "2021-10-24T16:31:37.896Z"
   },
   {
    "duration": 10,
    "start_time": "2021-10-24T16:31:37.908Z"
   },
   {
    "duration": 15,
    "start_time": "2021-10-24T16:31:37.920Z"
   },
   {
    "duration": 6,
    "start_time": "2021-10-24T16:31:37.938Z"
   },
   {
    "duration": 26,
    "start_time": "2021-10-24T16:31:37.949Z"
   },
   {
    "duration": 19,
    "start_time": "2021-10-24T16:31:37.978Z"
   },
   {
    "duration": 13,
    "start_time": "2021-10-24T16:31:38.000Z"
   },
   {
    "duration": 6,
    "start_time": "2021-10-24T16:31:38.015Z"
   },
   {
    "duration": 65,
    "start_time": "2021-10-24T16:31:38.024Z"
   },
   {
    "duration": 22,
    "start_time": "2021-10-24T16:31:38.091Z"
   },
   {
    "duration": 62,
    "start_time": "2021-10-24T16:31:38.115Z"
   },
   {
    "duration": 20,
    "start_time": "2021-10-24T16:31:38.179Z"
   },
   {
    "duration": 12,
    "start_time": "2021-10-24T16:31:38.201Z"
   },
   {
    "duration": 6,
    "start_time": "2021-10-24T16:31:38.215Z"
   },
   {
    "duration": 46,
    "start_time": "2021-10-24T16:31:38.223Z"
   },
   {
    "duration": 12,
    "start_time": "2021-10-24T16:31:38.271Z"
   },
   {
    "duration": 13,
    "start_time": "2021-10-24T16:33:07.008Z"
   },
   {
    "duration": 8,
    "start_time": "2021-10-24T16:33:23.295Z"
   },
   {
    "duration": 83,
    "start_time": "2021-10-24T16:36:13.976Z"
   },
   {
    "duration": 16,
    "start_time": "2021-10-24T16:36:17.888Z"
   },
   {
    "duration": 6,
    "start_time": "2021-10-24T16:37:28.803Z"
   },
   {
    "duration": 5,
    "start_time": "2021-10-24T16:37:53.272Z"
   },
   {
    "duration": 30,
    "start_time": "2021-10-24T16:38:21.697Z"
   },
   {
    "duration": 31,
    "start_time": "2021-10-24T16:38:31.617Z"
   },
   {
    "duration": 83,
    "start_time": "2021-10-24T16:38:47.987Z"
   },
   {
    "duration": 87,
    "start_time": "2021-10-24T16:39:39.221Z"
   },
   {
    "duration": 74,
    "start_time": "2021-10-24T16:39:44.628Z"
   },
   {
    "duration": 73,
    "start_time": "2021-10-24T16:40:54.563Z"
   },
   {
    "duration": 78,
    "start_time": "2021-10-24T16:41:49.975Z"
   },
   {
    "duration": 16,
    "start_time": "2021-10-24T16:41:55.426Z"
   },
   {
    "duration": 17,
    "start_time": "2021-10-24T16:42:40.831Z"
   },
   {
    "duration": 77,
    "start_time": "2021-10-24T16:52:28.219Z"
   },
   {
    "duration": 192,
    "start_time": "2021-10-24T17:04:24.299Z"
   },
   {
    "duration": 184,
    "start_time": "2021-10-24T17:04:38.304Z"
   },
   {
    "duration": 196,
    "start_time": "2021-10-24T17:04:45.148Z"
   },
   {
    "duration": 171,
    "start_time": "2021-10-24T17:05:09.448Z"
   },
   {
    "duration": 116,
    "start_time": "2021-10-24T17:05:30.391Z"
   },
   {
    "duration": 115,
    "start_time": "2021-10-24T17:06:03.888Z"
   },
   {
    "duration": 107,
    "start_time": "2021-10-24T17:06:54.455Z"
   },
   {
    "duration": 760,
    "start_time": "2021-10-24T17:08:48.245Z"
   },
   {
    "duration": 192,
    "start_time": "2021-10-24T17:08:49.008Z"
   },
   {
    "duration": 25,
    "start_time": "2021-10-24T17:08:49.203Z"
   },
   {
    "duration": 59,
    "start_time": "2021-10-24T17:08:49.231Z"
   },
   {
    "duration": 6,
    "start_time": "2021-10-24T17:08:49.292Z"
   },
   {
    "duration": 30,
    "start_time": "2021-10-24T17:08:49.300Z"
   },
   {
    "duration": 36,
    "start_time": "2021-10-24T17:08:49.333Z"
   },
   {
    "duration": 41,
    "start_time": "2021-10-24T17:08:49.373Z"
   },
   {
    "duration": 49,
    "start_time": "2021-10-24T17:08:49.418Z"
   },
   {
    "duration": 31,
    "start_time": "2021-10-24T17:08:49.470Z"
   },
   {
    "duration": 118,
    "start_time": "2021-10-24T17:08:49.504Z"
   },
   {
    "duration": 133,
    "start_time": "2021-10-24T17:08:49.624Z"
   },
   {
    "duration": 87,
    "start_time": "2021-10-24T17:08:49.759Z"
   },
   {
    "duration": 68,
    "start_time": "2021-10-24T17:08:49.849Z"
   },
   {
    "duration": 4,
    "start_time": "2021-10-24T17:08:49.920Z"
   },
   {
    "duration": 49,
    "start_time": "2021-10-24T17:08:49.927Z"
   },
   {
    "duration": 60,
    "start_time": "2021-10-24T17:08:49.979Z"
   },
   {
    "duration": 38,
    "start_time": "2021-10-24T17:08:50.041Z"
   },
   {
    "duration": 16,
    "start_time": "2021-10-24T17:08:50.082Z"
   },
   {
    "duration": 354,
    "start_time": "2021-10-24T17:08:50.100Z"
   },
   {
    "duration": -2387,
    "start_time": "2021-10-24T17:08:52.845Z"
   },
   {
    "duration": -2391,
    "start_time": "2021-10-24T17:08:52.850Z"
   },
   {
    "duration": -2399,
    "start_time": "2021-10-24T17:08:52.860Z"
   },
   {
    "duration": -2403,
    "start_time": "2021-10-24T17:08:52.866Z"
   },
   {
    "duration": -2407,
    "start_time": "2021-10-24T17:08:52.871Z"
   },
   {
    "duration": -2410,
    "start_time": "2021-10-24T17:08:52.876Z"
   },
   {
    "duration": -2414,
    "start_time": "2021-10-24T17:08:52.881Z"
   },
   {
    "duration": -2417,
    "start_time": "2021-10-24T17:08:52.886Z"
   },
   {
    "duration": -2422,
    "start_time": "2021-10-24T17:08:52.892Z"
   },
   {
    "duration": -2427,
    "start_time": "2021-10-24T17:08:52.898Z"
   },
   {
    "duration": -2429,
    "start_time": "2021-10-24T17:08:52.902Z"
   },
   {
    "duration": -2434,
    "start_time": "2021-10-24T17:08:52.908Z"
   },
   {
    "duration": -2436,
    "start_time": "2021-10-24T17:08:52.912Z"
   },
   {
    "duration": -2440,
    "start_time": "2021-10-24T17:08:52.917Z"
   },
   {
    "duration": -2450,
    "start_time": "2021-10-24T17:08:52.928Z"
   },
   {
    "duration": -2453,
    "start_time": "2021-10-24T17:08:52.933Z"
   },
   {
    "duration": -2456,
    "start_time": "2021-10-24T17:08:52.937Z"
   },
   {
    "duration": -2461,
    "start_time": "2021-10-24T17:08:52.943Z"
   },
   {
    "duration": 274,
    "start_time": "2021-10-24T17:10:07.199Z"
   },
   {
    "duration": 464,
    "start_time": "2021-10-24T17:10:20.331Z"
   },
   {
    "duration": 269,
    "start_time": "2021-10-24T17:10:35.939Z"
   },
   {
    "duration": 647,
    "start_time": "2021-10-24T17:10:56.804Z"
   },
   {
    "duration": 127,
    "start_time": "2021-10-24T17:11:26.589Z"
   },
   {
    "duration": 126,
    "start_time": "2021-10-24T17:12:11.432Z"
   },
   {
    "duration": 30,
    "start_time": "2021-10-24T17:12:50.253Z"
   },
   {
    "duration": 123,
    "start_time": "2021-10-24T17:13:26.291Z"
   },
   {
    "duration": 809,
    "start_time": "2021-10-24T17:15:36.147Z"
   },
   {
    "duration": 218,
    "start_time": "2021-10-24T17:15:36.959Z"
   },
   {
    "duration": 28,
    "start_time": "2021-10-24T17:15:37.181Z"
   },
   {
    "duration": 63,
    "start_time": "2021-10-24T17:15:37.212Z"
   },
   {
    "duration": 6,
    "start_time": "2021-10-24T17:15:37.278Z"
   },
   {
    "duration": 34,
    "start_time": "2021-10-24T17:15:37.286Z"
   },
   {
    "duration": 15,
    "start_time": "2021-10-24T17:15:37.322Z"
   },
   {
    "duration": 46,
    "start_time": "2021-10-24T17:15:37.341Z"
   },
   {
    "duration": 25,
    "start_time": "2021-10-24T17:15:37.390Z"
   },
   {
    "duration": 66,
    "start_time": "2021-10-24T17:15:37.417Z"
   },
   {
    "duration": 111,
    "start_time": "2021-10-24T17:15:37.488Z"
   },
   {
    "duration": 121,
    "start_time": "2021-10-24T17:15:37.602Z"
   },
   {
    "duration": 94,
    "start_time": "2021-10-24T17:15:37.725Z"
   },
   {
    "duration": 81,
    "start_time": "2021-10-24T17:15:37.821Z"
   },
   {
    "duration": 4,
    "start_time": "2021-10-24T17:15:37.905Z"
   },
   {
    "duration": 35,
    "start_time": "2021-10-24T17:15:37.912Z"
   },
   {
    "duration": 81,
    "start_time": "2021-10-24T17:15:37.949Z"
   },
   {
    "duration": 16,
    "start_time": "2021-10-24T17:15:38.032Z"
   },
   {
    "duration": 30,
    "start_time": "2021-10-24T17:15:38.050Z"
   },
   {
    "duration": 359,
    "start_time": "2021-10-24T17:15:38.083Z"
   },
   {
    "duration": -2401,
    "start_time": "2021-10-24T17:15:40.847Z"
   },
   {
    "duration": -2410,
    "start_time": "2021-10-24T17:15:40.857Z"
   },
   {
    "duration": -2419,
    "start_time": "2021-10-24T17:15:40.867Z"
   },
   {
    "duration": -2422,
    "start_time": "2021-10-24T17:15:40.872Z"
   },
   {
    "duration": -2426,
    "start_time": "2021-10-24T17:15:40.877Z"
   },
   {
    "duration": -2429,
    "start_time": "2021-10-24T17:15:40.882Z"
   },
   {
    "duration": -2432,
    "start_time": "2021-10-24T17:15:40.886Z"
   },
   {
    "duration": -2435,
    "start_time": "2021-10-24T17:15:40.890Z"
   },
   {
    "duration": -2437,
    "start_time": "2021-10-24T17:15:40.894Z"
   },
   {
    "duration": -2438,
    "start_time": "2021-10-24T17:15:40.897Z"
   },
   {
    "duration": -2442,
    "start_time": "2021-10-24T17:15:40.902Z"
   },
   {
    "duration": -2460,
    "start_time": "2021-10-24T17:15:40.921Z"
   },
   {
    "duration": -2471,
    "start_time": "2021-10-24T17:15:40.934Z"
   },
   {
    "duration": -2483,
    "start_time": "2021-10-24T17:15:40.947Z"
   },
   {
    "duration": -2490,
    "start_time": "2021-10-24T17:15:40.961Z"
   },
   {
    "duration": -2490,
    "start_time": "2021-10-24T17:15:40.968Z"
   },
   {
    "duration": -2502,
    "start_time": "2021-10-24T17:15:40.982Z"
   },
   {
    "duration": -2517,
    "start_time": "2021-10-24T17:15:40.998Z"
   },
   {
    "duration": 277,
    "start_time": "2021-10-24T17:17:03.523Z"
   },
   {
    "duration": 1218,
    "start_time": "2021-10-24T17:17:13.846Z"
   },
   {
    "duration": 226,
    "start_time": "2021-10-24T17:17:26.422Z"
   },
   {
    "duration": 123,
    "start_time": "2021-10-24T17:17:35.219Z"
   },
   {
    "duration": 4,
    "start_time": "2021-10-24T17:17:46.183Z"
   },
   {
    "duration": 231,
    "start_time": "2021-10-24T17:17:46.191Z"
   },
   {
    "duration": 16,
    "start_time": "2021-10-24T17:17:46.426Z"
   },
   {
    "duration": 55,
    "start_time": "2021-10-24T17:17:46.445Z"
   },
   {
    "duration": 8,
    "start_time": "2021-10-24T17:17:46.502Z"
   },
   {
    "duration": 25,
    "start_time": "2021-10-24T17:17:46.512Z"
   },
   {
    "duration": 35,
    "start_time": "2021-10-24T17:17:46.539Z"
   },
   {
    "duration": 36,
    "start_time": "2021-10-24T17:17:46.577Z"
   },
   {
    "duration": 59,
    "start_time": "2021-10-24T17:17:46.617Z"
   },
   {
    "duration": 36,
    "start_time": "2021-10-24T17:17:46.680Z"
   },
   {
    "duration": 129,
    "start_time": "2021-10-24T17:17:46.719Z"
   },
   {
    "duration": 119,
    "start_time": "2021-10-24T17:17:46.850Z"
   },
   {
    "duration": 98,
    "start_time": "2021-10-24T17:17:46.972Z"
   },
   {
    "duration": 66,
    "start_time": "2021-10-24T17:17:47.073Z"
   },
   {
    "duration": 29,
    "start_time": "2021-10-24T17:17:47.142Z"
   },
   {
    "duration": 23,
    "start_time": "2021-10-24T17:17:47.175Z"
   },
   {
    "duration": 84,
    "start_time": "2021-10-24T17:17:47.201Z"
   },
   {
    "duration": 16,
    "start_time": "2021-10-24T17:17:47.288Z"
   },
   {
    "duration": 16,
    "start_time": "2021-10-24T17:17:47.307Z"
   },
   {
    "duration": 160,
    "start_time": "2021-10-24T17:17:47.326Z"
   },
   {
    "duration": 4,
    "start_time": "2021-10-24T17:17:47.489Z"
   },
   {
    "duration": 12,
    "start_time": "2021-10-24T17:17:47.497Z"
   },
   {
    "duration": 7,
    "start_time": "2021-10-24T17:17:47.512Z"
   },
   {
    "duration": 13,
    "start_time": "2021-10-24T17:17:47.522Z"
   },
   {
    "duration": 12,
    "start_time": "2021-10-24T17:17:47.537Z"
   },
   {
    "duration": 18,
    "start_time": "2021-10-24T17:17:47.569Z"
   },
   {
    "duration": 21,
    "start_time": "2021-10-24T17:17:47.592Z"
   },
   {
    "duration": 17,
    "start_time": "2021-10-24T17:17:47.616Z"
   },
   {
    "duration": 13,
    "start_time": "2021-10-24T17:17:47.636Z"
   },
   {
    "duration": 24,
    "start_time": "2021-10-24T17:17:47.653Z"
   },
   {
    "duration": 40,
    "start_time": "2021-10-24T17:17:47.680Z"
   },
   {
    "duration": 21,
    "start_time": "2021-10-24T17:17:47.723Z"
   },
   {
    "duration": 35,
    "start_time": "2021-10-24T17:17:47.768Z"
   },
   {
    "duration": 20,
    "start_time": "2021-10-24T17:17:47.806Z"
   },
   {
    "duration": 53,
    "start_time": "2021-10-24T17:17:47.829Z"
   },
   {
    "duration": 6,
    "start_time": "2021-10-24T17:17:47.884Z"
   },
   {
    "duration": 14,
    "start_time": "2021-10-24T17:17:47.892Z"
   },
   {
    "duration": 10,
    "start_time": "2021-10-24T17:17:47.909Z"
   },
   {
    "duration": 5,
    "start_time": "2021-10-24T17:19:11.001Z"
   },
   {
    "duration": 32,
    "start_time": "2021-10-24T17:19:15.890Z"
   },
   {
    "duration": 22,
    "start_time": "2021-10-24T17:19:17.811Z"
   },
   {
    "duration": 34,
    "start_time": "2021-10-24T17:19:23.769Z"
   },
   {
    "duration": 19,
    "start_time": "2021-10-24T17:19:25.517Z"
   },
   {
    "duration": 6,
    "start_time": "2021-10-24T17:22:51.008Z"
   },
   {
    "duration": 26,
    "start_time": "2021-10-24T17:22:53.176Z"
   },
   {
    "duration": 6,
    "start_time": "2021-10-24T17:23:04.979Z"
   },
   {
    "duration": 4,
    "start_time": "2021-10-24T17:23:23.658Z"
   },
   {
    "duration": 254,
    "start_time": "2021-10-24T17:23:23.665Z"
   },
   {
    "duration": 16,
    "start_time": "2021-10-24T17:23:23.922Z"
   },
   {
    "duration": 59,
    "start_time": "2021-10-24T17:23:23.941Z"
   },
   {
    "duration": 6,
    "start_time": "2021-10-24T17:23:24.002Z"
   },
   {
    "duration": 26,
    "start_time": "2021-10-24T17:23:24.011Z"
   },
   {
    "duration": 4,
    "start_time": "2021-10-24T17:23:24.040Z"
   },
   {
    "duration": 37,
    "start_time": "2021-10-24T17:23:24.068Z"
   },
   {
    "duration": 27,
    "start_time": "2021-10-24T17:23:24.109Z"
   },
   {
    "duration": 60,
    "start_time": "2021-10-24T17:23:24.140Z"
   },
   {
    "duration": 112,
    "start_time": "2021-10-24T17:23:24.203Z"
   },
   {
    "duration": 127,
    "start_time": "2021-10-24T17:23:24.317Z"
   },
   {
    "duration": 102,
    "start_time": "2021-10-24T17:23:24.446Z"
   },
   {
    "duration": 77,
    "start_time": "2021-10-24T17:23:24.550Z"
   },
   {
    "duration": 5,
    "start_time": "2021-10-24T17:23:24.629Z"
   },
   {
    "duration": 56,
    "start_time": "2021-10-24T17:23:24.637Z"
   },
   {
    "duration": 62,
    "start_time": "2021-10-24T17:23:24.695Z"
   },
   {
    "duration": 15,
    "start_time": "2021-10-24T17:23:24.759Z"
   },
   {
    "duration": 18,
    "start_time": "2021-10-24T17:23:24.777Z"
   },
   {
    "duration": 145,
    "start_time": "2021-10-24T17:23:24.798Z"
   },
   {
    "duration": 3,
    "start_time": "2021-10-24T17:23:24.945Z"
   },
   {
    "duration": 16,
    "start_time": "2021-10-24T17:23:24.951Z"
   },
   {
    "duration": 21,
    "start_time": "2021-10-24T17:23:24.970Z"
   },
   {
    "duration": 13,
    "start_time": "2021-10-24T17:23:24.994Z"
   },
   {
    "duration": 10,
    "start_time": "2021-10-24T17:23:25.009Z"
   },
   {
    "duration": 15,
    "start_time": "2021-10-24T17:23:25.021Z"
   },
   {
    "duration": 31,
    "start_time": "2021-10-24T17:23:25.043Z"
   },
   {
    "duration": 20,
    "start_time": "2021-10-24T17:23:25.077Z"
   },
   {
    "duration": 14,
    "start_time": "2021-10-24T17:23:25.099Z"
   },
   {
    "duration": 6,
    "start_time": "2021-10-24T17:23:25.116Z"
   },
   {
    "duration": 55,
    "start_time": "2021-10-24T17:23:25.125Z"
   },
   {
    "duration": 25,
    "start_time": "2021-10-24T17:23:25.182Z"
   },
   {
    "duration": 27,
    "start_time": "2021-10-24T17:23:25.210Z"
   },
   {
    "duration": 48,
    "start_time": "2021-10-24T17:23:25.240Z"
   },
   {
    "duration": 13,
    "start_time": "2021-10-24T17:23:25.291Z"
   },
   {
    "duration": 8,
    "start_time": "2021-10-24T17:23:25.307Z"
   },
   {
    "duration": 16,
    "start_time": "2021-10-24T17:23:25.318Z"
   },
   {
    "duration": 33,
    "start_time": "2021-10-24T17:23:25.336Z"
   },
   {
    "duration": 5,
    "start_time": "2021-10-24T17:26:22.687Z"
   },
   {
    "duration": 30,
    "start_time": "2021-10-24T17:26:25.145Z"
   },
   {
    "duration": 16,
    "start_time": "2021-10-24T17:26:27.207Z"
   },
   {
    "duration": 23,
    "start_time": "2021-10-24T17:26:27.539Z"
   },
   {
    "duration": 15,
    "start_time": "2021-10-24T17:26:33.305Z"
   },
   {
    "duration": 24,
    "start_time": "2021-10-24T17:31:08.355Z"
   },
   {
    "duration": 15,
    "start_time": "2021-10-24T17:31:16.305Z"
   },
   {
    "duration": 866,
    "start_time": "2021-10-24T17:31:44.071Z"
   },
   {
    "duration": 219,
    "start_time": "2021-10-24T17:31:44.940Z"
   },
   {
    "duration": 35,
    "start_time": "2021-10-24T17:31:45.162Z"
   },
   {
    "duration": 78,
    "start_time": "2021-10-24T17:31:45.201Z"
   },
   {
    "duration": 8,
    "start_time": "2021-10-24T17:31:45.282Z"
   },
   {
    "duration": 33,
    "start_time": "2021-10-24T17:31:45.293Z"
   },
   {
    "duration": 48,
    "start_time": "2021-10-24T17:31:45.329Z"
   },
   {
    "duration": 39,
    "start_time": "2021-10-24T17:31:45.383Z"
   },
   {
    "duration": 58,
    "start_time": "2021-10-24T17:31:45.425Z"
   },
   {
    "duration": 33,
    "start_time": "2021-10-24T17:31:45.486Z"
   },
   {
    "duration": 121,
    "start_time": "2021-10-24T17:31:45.522Z"
   },
   {
    "duration": 138,
    "start_time": "2021-10-24T17:31:45.646Z"
   },
   {
    "duration": 97,
    "start_time": "2021-10-24T17:31:45.787Z"
   },
   {
    "duration": 84,
    "start_time": "2021-10-24T17:31:45.887Z"
   },
   {
    "duration": 5,
    "start_time": "2021-10-24T17:31:45.975Z"
   },
   {
    "duration": 17,
    "start_time": "2021-10-24T17:31:45.984Z"
   },
   {
    "duration": 109,
    "start_time": "2021-10-24T17:31:46.004Z"
   },
   {
    "duration": 18,
    "start_time": "2021-10-24T17:31:46.115Z"
   },
   {
    "duration": 56,
    "start_time": "2021-10-24T17:31:46.135Z"
   },
   {
    "duration": 140,
    "start_time": "2021-10-24T17:31:46.194Z"
   },
   {
    "duration": 2,
    "start_time": "2021-10-24T17:31:46.337Z"
   },
   {
    "duration": 7,
    "start_time": "2021-10-24T17:31:46.342Z"
   },
   {
    "duration": 4,
    "start_time": "2021-10-24T17:31:46.371Z"
   },
   {
    "duration": 8,
    "start_time": "2021-10-24T17:31:46.379Z"
   },
   {
    "duration": 9,
    "start_time": "2021-10-24T17:31:46.390Z"
   },
   {
    "duration": 22,
    "start_time": "2021-10-24T17:31:46.402Z"
   },
   {
    "duration": 14,
    "start_time": "2021-10-24T17:31:46.427Z"
   },
   {
    "duration": 28,
    "start_time": "2021-10-24T17:31:46.472Z"
   },
   {
    "duration": 13,
    "start_time": "2021-10-24T17:31:46.503Z"
   },
   {
    "duration": 6,
    "start_time": "2021-10-24T17:31:46.518Z"
   },
   {
    "duration": 73,
    "start_time": "2021-10-24T17:31:46.527Z"
   },
   {
    "duration": 19,
    "start_time": "2021-10-24T17:31:46.603Z"
   },
   {
    "duration": 69,
    "start_time": "2021-10-24T17:31:46.625Z"
   },
   {
    "duration": 16,
    "start_time": "2021-10-24T17:31:46.697Z"
   },
   {
    "duration": 11,
    "start_time": "2021-10-24T17:31:46.716Z"
   },
   {
    "duration": 5,
    "start_time": "2021-10-24T17:31:46.730Z"
   },
   {
    "duration": 17,
    "start_time": "2021-10-24T17:31:46.773Z"
   },
   {
    "duration": 8,
    "start_time": "2021-10-24T17:31:46.792Z"
   }
  ],
  "colab": {
   "collapsed_sections": [
    "E0vqbgi9ay0H",
    "VUC88oWjTJw2"
   ],
   "name": "yandex_music_project_2021.2.ipynb",
   "provenance": []
  },
  "kernelspec": {
   "display_name": "Python 3",
   "language": "python",
   "name": "python3"
  },
  "language_info": {
   "codemirror_mode": {
    "name": "ipython",
    "version": 3
   },
   "file_extension": ".py",
   "mimetype": "text/x-python",
   "name": "python",
   "nbconvert_exporter": "python",
   "pygments_lexer": "ipython3",
   "version": "3.7.8"
  },
  "toc": {
   "base_numbering": 1,
   "nav_menu": {},
   "number_sections": true,
   "sideBar": true,
   "skip_h1_title": true,
   "title_cell": "Table of Contents",
   "title_sidebar": "Contents",
   "toc_cell": false,
   "toc_position": {},
   "toc_section_display": true,
   "toc_window_display": true
  }
 },
 "nbformat": 4,
 "nbformat_minor": 1
}
